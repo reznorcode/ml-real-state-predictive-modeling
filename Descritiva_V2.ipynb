{
  "cells": [
    {
      "cell_type": "markdown",
      "id": "8a126c10",
      "metadata": {
        "id": "8a126c10"
      },
      "source": [
        "<center><h3>Projeto Tera - Precificação de imóveis em Teresina</h3></center>\n",
        "\n",
        "A precificação de um imóvel é um dos principais critérios a ser levado em consideração na hora da compra de um imóvel, seja ele para moradia ou para investimento, portanto quem está vendendo precisa analisar bem ao formatar o preço já que isso influencia bastante a quantidade de pessoas que terão interesse pelo imóvel e, ou mesmo qual será a linha de crédito utilizada, consequentemente, as oportunidades de iniciar uma negociação. A mesma lógica é aplicada para preços de aluguéis.\n",
        "\n",
        "Nosso objeto de pesquisa foram os imóveis da cidade de Teresina, localizada ao Nordeste do Brasil. A cidade não tem praia, poucas opções turísticas, mas terrenos tão caros quanto de cidades maiores como Fortaleza e Salvador. Por isso decidimos entender mais o cenário geral e fazer análises de dados para responder às seguintes perguntas:\n",
        "\n",
        "1. Como é a distribuição de preços de imóveis a venda na cidade?\n",
        "2. Quais são as zonas mais caras e mais baratas?\n",
        "**3. Quais características mais influenciam no preço no dataset e por bairro?**\n",
        "4. Como filtrar imóveis que atendam as necessidades de uma pessoa que deseja comprar para moradia?\n",
        "\n",
        "Nossa abordagem foi dividida nas seguintes etapas:\n",
        "\n",
        "* **Obtendo dados :** usando Python, consegui extrair dados de apartamentos alugados de alguns sites holandeses.\n",
        "* **Limpeza de dados:** geralmente é a parte mais longa de qualquer processo de análise de dados. Nesse caso, era importante limpar os dados para lidar adequadamente com os formatos de dados, remover valores discrepantes etc.\n",
        "* **EDA:** algumas análises de Análise Exploratória de Dados para visualizar e entender melhor nossos dados.\n",
        "* **Análise Preditiva :** tentaremos prever preços de aluguel usando um modelo treinado com nosso conjunto de dados.\n",
        "* **Engenharia de recursos :** nesta etapa, vamos brincar um pouco com o conjunto de dados e adicionar mais recursos para tornar nosso modelo mais preciso.\n",
        "\n"
      ]
    },
    {
      "cell_type": "markdown",
      "id": "45733a94",
      "metadata": {
        "id": "45733a94"
      },
      "source": [
        "#  Imports"
      ]
    },
    {
      "cell_type": "code",
      "execution_count": 1,
      "id": "99f48456",
      "metadata": {
        "scrolled": true,
        "id": "99f48456",
        "outputId": "9e743168-034b-4360-f110-6b85a39c623d",
        "colab": {
          "base_uri": "https://localhost:8080/"
        }
      },
      "outputs": [
        {
          "output_type": "stream",
          "name": "stdout",
          "text": [
            "Looking in indexes: https://pypi.org/simple, https://us-python.pkg.dev/colab-wheels/public/simple/\n",
            "Requirement already satisfied: yellowbrick in /usr/local/lib/python3.7/dist-packages (1.5)\n",
            "Requirement already satisfied: numpy>=1.16.0 in /usr/local/lib/python3.7/dist-packages (from yellowbrick) (1.21.6)\n",
            "Requirement already satisfied: matplotlib!=3.0.0,>=2.0.2 in /usr/local/lib/python3.7/dist-packages (from yellowbrick) (3.2.2)\n",
            "Requirement already satisfied: scikit-learn>=1.0.0 in /usr/local/lib/python3.7/dist-packages (from yellowbrick) (1.0.2)\n",
            "Requirement already satisfied: scipy>=1.0.0 in /usr/local/lib/python3.7/dist-packages (from yellowbrick) (1.7.3)\n",
            "Requirement already satisfied: cycler>=0.10.0 in /usr/local/lib/python3.7/dist-packages (from yellowbrick) (0.11.0)\n",
            "Requirement already satisfied: kiwisolver>=1.0.1 in /usr/local/lib/python3.7/dist-packages (from matplotlib!=3.0.0,>=2.0.2->yellowbrick) (1.4.4)\n",
            "Requirement already satisfied: python-dateutil>=2.1 in /usr/local/lib/python3.7/dist-packages (from matplotlib!=3.0.0,>=2.0.2->yellowbrick) (2.8.2)\n",
            "Requirement already satisfied: pyparsing!=2.0.4,!=2.1.2,!=2.1.6,>=2.0.1 in /usr/local/lib/python3.7/dist-packages (from matplotlib!=3.0.0,>=2.0.2->yellowbrick) (3.0.9)\n",
            "Requirement already satisfied: typing-extensions in /usr/local/lib/python3.7/dist-packages (from kiwisolver>=1.0.1->matplotlib!=3.0.0,>=2.0.2->yellowbrick) (4.1.1)\n",
            "Requirement already satisfied: six>=1.5 in /usr/local/lib/python3.7/dist-packages (from python-dateutil>=2.1->matplotlib!=3.0.0,>=2.0.2->yellowbrick) (1.15.0)\n",
            "Requirement already satisfied: threadpoolctl>=2.0.0 in /usr/local/lib/python3.7/dist-packages (from scikit-learn>=1.0.0->yellowbrick) (3.1.0)\n",
            "Requirement already satisfied: joblib>=0.11 in /usr/local/lib/python3.7/dist-packages (from scikit-learn>=1.0.0->yellowbrick) (1.1.0)\n"
          ]
        }
      ],
      "source": [
        "! pip install yellowbrick\n",
        "\n",
        "import math\n",
        "import numpy as np\n",
        "import pandas as pd\n",
        "import random\n",
        "import warnings\n",
        "\n",
        "import re\n",
        "\n",
        "import pickle\n",
        "\n",
        "\n",
        "from matplotlib import pyplot as plt\n",
        "import plotly.express as px\n",
        "import seaborn as sns\n",
        "\n",
        "# preprocessing\n",
        "from sklearn.preprocessing import LabelEncoder\n",
        "\n",
        "from sklearn.model_selection import train_test_split\n",
        "\n",
        "from yellowbrick.features import Rank1D\n",
        "\n",
        "#modelling\n",
        "from sklearn import ensemble as en\n",
        "\n",
        "\n",
        "\n",
        "from IPython.display import display\n",
        "pd.options.display.max_columns = None\n",
        "\n",
        "warnings.filterwarnings( 'ignore' )"
      ]
    },
    {
      "cell_type": "markdown",
      "id": "bb35114a",
      "metadata": {
        "id": "bb35114a"
      },
      "source": [
        "## 0. Helper Functions"
      ]
    },
    {
      "cell_type": "markdown",
      "id": "284aa19b",
      "metadata": {
        "id": "284aa19b"
      },
      "source": [
        "#  1. Loading data\n",
        "Estamos usando o dataset em salvo em csv que esta salvo no GitHUb. Para isso tivemos que deixar o repositorio publico. Desse modo todos irao ter acesso a base de dados consolidada."
      ]
    },
    {
      "cell_type": "code",
      "execution_count": 2,
      "id": "e621e536",
      "metadata": {
        "id": "e621e536"
      },
      "outputs": [],
      "source": [
        "from traitlets.traitlets import Unicode\n",
        "df_raw = pd.read_csv('https://raw.githubusercontent.com/reznorcode/ml-real-state-predictive-modeling/main/consolidadoV3.csv')"
      ]
    },
    {
      "cell_type": "markdown",
      "source": [
        "Olhando a \"cara\" do dataset. Caso queiram ver mais linhas e so informar entre parenteses a quantidade de linhas que deseja visualizar.\n",
        "\n",
        "Observamos aqui que as colunas Quarto, Banheiros e Vagas em alhgumas linhas informa que ha \"5 ou mais\". teremos que tratar essas colunas mais a frente. Tambem ha algumas colunas com valores NaN\n"
      ],
      "metadata": {
        "id": "JaguxCNNgYjF"
      },
      "id": "JaguxCNNgYjF"
    },
    {
      "cell_type": "code",
      "execution_count": 59,
      "id": "e63bf92a",
      "metadata": {
        "id": "e63bf92a",
        "outputId": "e23704f1-3575-443c-897b-2e600c2c9950",
        "colab": {
          "base_uri": "https://localhost:8080/",
          "height": 206
        }
      },
      "outputs": [
        {
          "output_type": "execute_result",
          "data": {
            "text/plain": [
              "      Categoria Area construida      Preço Quartos  Banheiros Vagas  \\\n",
              "0  Apartamentos           210m²  1100000.0       3          4     4   \n",
              "1  Apartamentos            50m²   115000.0       2          1     1   \n",
              "2         Casas           210m²  1450000.0       4  5 ou mais     4   \n",
              "3         Casas           140m²   690000.0       4          4     2   \n",
              "4         Casas            66m²   110000.0       2          2     1   \n",
              "\n",
              "           Bairro  \n",
              "0          Fátima  \n",
              "1  Vale do Gavião  \n",
              "2          Gurupi  \n",
              "3     Zoobotânico  \n",
              "4             NaN  "
            ],
            "text/html": [
              "\n",
              "  <div id=\"df-b2fc332d-051e-4061-8b38-804e05e5b182\">\n",
              "    <div class=\"colab-df-container\">\n",
              "      <div>\n",
              "<style scoped>\n",
              "    .dataframe tbody tr th:only-of-type {\n",
              "        vertical-align: middle;\n",
              "    }\n",
              "\n",
              "    .dataframe tbody tr th {\n",
              "        vertical-align: top;\n",
              "    }\n",
              "\n",
              "    .dataframe thead th {\n",
              "        text-align: right;\n",
              "    }\n",
              "</style>\n",
              "<table border=\"1\" class=\"dataframe\">\n",
              "  <thead>\n",
              "    <tr style=\"text-align: right;\">\n",
              "      <th></th>\n",
              "      <th>Categoria</th>\n",
              "      <th>Area construida</th>\n",
              "      <th>Preço</th>\n",
              "      <th>Quartos</th>\n",
              "      <th>Banheiros</th>\n",
              "      <th>Vagas</th>\n",
              "      <th>Bairro</th>\n",
              "    </tr>\n",
              "  </thead>\n",
              "  <tbody>\n",
              "    <tr>\n",
              "      <th>0</th>\n",
              "      <td>Apartamentos</td>\n",
              "      <td>210m²</td>\n",
              "      <td>1100000.0</td>\n",
              "      <td>3</td>\n",
              "      <td>4</td>\n",
              "      <td>4</td>\n",
              "      <td>Fátima</td>\n",
              "    </tr>\n",
              "    <tr>\n",
              "      <th>1</th>\n",
              "      <td>Apartamentos</td>\n",
              "      <td>50m²</td>\n",
              "      <td>115000.0</td>\n",
              "      <td>2</td>\n",
              "      <td>1</td>\n",
              "      <td>1</td>\n",
              "      <td>Vale do Gavião</td>\n",
              "    </tr>\n",
              "    <tr>\n",
              "      <th>2</th>\n",
              "      <td>Casas</td>\n",
              "      <td>210m²</td>\n",
              "      <td>1450000.0</td>\n",
              "      <td>4</td>\n",
              "      <td>5 ou mais</td>\n",
              "      <td>4</td>\n",
              "      <td>Gurupi</td>\n",
              "    </tr>\n",
              "    <tr>\n",
              "      <th>3</th>\n",
              "      <td>Casas</td>\n",
              "      <td>140m²</td>\n",
              "      <td>690000.0</td>\n",
              "      <td>4</td>\n",
              "      <td>4</td>\n",
              "      <td>2</td>\n",
              "      <td>Zoobotânico</td>\n",
              "    </tr>\n",
              "    <tr>\n",
              "      <th>4</th>\n",
              "      <td>Casas</td>\n",
              "      <td>66m²</td>\n",
              "      <td>110000.0</td>\n",
              "      <td>2</td>\n",
              "      <td>2</td>\n",
              "      <td>1</td>\n",
              "      <td>NaN</td>\n",
              "    </tr>\n",
              "  </tbody>\n",
              "</table>\n",
              "</div>\n",
              "      <button class=\"colab-df-convert\" onclick=\"convertToInteractive('df-b2fc332d-051e-4061-8b38-804e05e5b182')\"\n",
              "              title=\"Convert this dataframe to an interactive table.\"\n",
              "              style=\"display:none;\">\n",
              "        \n",
              "  <svg xmlns=\"http://www.w3.org/2000/svg\" height=\"24px\"viewBox=\"0 0 24 24\"\n",
              "       width=\"24px\">\n",
              "    <path d=\"M0 0h24v24H0V0z\" fill=\"none\"/>\n",
              "    <path d=\"M18.56 5.44l.94 2.06.94-2.06 2.06-.94-2.06-.94-.94-2.06-.94 2.06-2.06.94zm-11 1L8.5 8.5l.94-2.06 2.06-.94-2.06-.94L8.5 2.5l-.94 2.06-2.06.94zm10 10l.94 2.06.94-2.06 2.06-.94-2.06-.94-.94-2.06-.94 2.06-2.06.94z\"/><path d=\"M17.41 7.96l-1.37-1.37c-.4-.4-.92-.59-1.43-.59-.52 0-1.04.2-1.43.59L10.3 9.45l-7.72 7.72c-.78.78-.78 2.05 0 2.83L4 21.41c.39.39.9.59 1.41.59.51 0 1.02-.2 1.41-.59l7.78-7.78 2.81-2.81c.8-.78.8-2.07 0-2.86zM5.41 20L4 18.59l7.72-7.72 1.47 1.35L5.41 20z\"/>\n",
              "  </svg>\n",
              "      </button>\n",
              "      \n",
              "  <style>\n",
              "    .colab-df-container {\n",
              "      display:flex;\n",
              "      flex-wrap:wrap;\n",
              "      gap: 12px;\n",
              "    }\n",
              "\n",
              "    .colab-df-convert {\n",
              "      background-color: #E8F0FE;\n",
              "      border: none;\n",
              "      border-radius: 50%;\n",
              "      cursor: pointer;\n",
              "      display: none;\n",
              "      fill: #1967D2;\n",
              "      height: 32px;\n",
              "      padding: 0 0 0 0;\n",
              "      width: 32px;\n",
              "    }\n",
              "\n",
              "    .colab-df-convert:hover {\n",
              "      background-color: #E2EBFA;\n",
              "      box-shadow: 0px 1px 2px rgba(60, 64, 67, 0.3), 0px 1px 3px 1px rgba(60, 64, 67, 0.15);\n",
              "      fill: #174EA6;\n",
              "    }\n",
              "\n",
              "    [theme=dark] .colab-df-convert {\n",
              "      background-color: #3B4455;\n",
              "      fill: #D2E3FC;\n",
              "    }\n",
              "\n",
              "    [theme=dark] .colab-df-convert:hover {\n",
              "      background-color: #434B5C;\n",
              "      box-shadow: 0px 1px 3px 1px rgba(0, 0, 0, 0.15);\n",
              "      filter: drop-shadow(0px 1px 2px rgba(0, 0, 0, 0.3));\n",
              "      fill: #FFFFFF;\n",
              "    }\n",
              "  </style>\n",
              "\n",
              "      <script>\n",
              "        const buttonEl =\n",
              "          document.querySelector('#df-b2fc332d-051e-4061-8b38-804e05e5b182 button.colab-df-convert');\n",
              "        buttonEl.style.display =\n",
              "          google.colab.kernel.accessAllowed ? 'block' : 'none';\n",
              "\n",
              "        async function convertToInteractive(key) {\n",
              "          const element = document.querySelector('#df-b2fc332d-051e-4061-8b38-804e05e5b182');\n",
              "          const dataTable =\n",
              "            await google.colab.kernel.invokeFunction('convertToInteractive',\n",
              "                                                     [key], {});\n",
              "          if (!dataTable) return;\n",
              "\n",
              "          const docLinkHtml = 'Like what you see? Visit the ' +\n",
              "            '<a target=\"_blank\" href=https://colab.research.google.com/notebooks/data_table.ipynb>data table notebook</a>'\n",
              "            + ' to learn more about interactive tables.';\n",
              "          element.innerHTML = '';\n",
              "          dataTable['output_type'] = 'display_data';\n",
              "          await google.colab.output.renderOutput(dataTable, element);\n",
              "          const docLink = document.createElement('div');\n",
              "          docLink.innerHTML = docLinkHtml;\n",
              "          element.appendChild(docLink);\n",
              "        }\n",
              "      </script>\n",
              "    </div>\n",
              "  </div>\n",
              "  "
            ]
          },
          "metadata": {},
          "execution_count": 59
        }
      ],
      "source": [
        "df_raw.head()"
      ]
    },
    {
      "cell_type": "markdown",
      "source": [
        "#Primeira Inspeção no Datasdet"
      ],
      "metadata": {
        "id": "j3axRXWlmvGk"
      },
      "id": "j3axRXWlmvGk"
    },
    {
      "cell_type": "markdown",
      "source": [
        " ### Feature \"Categoria\""
      ],
      "metadata": {
        "id": "w0rXMN8uncBE"
      },
      "id": "w0rXMN8uncBE"
    },
    {
      "cell_type": "code",
      "source": [
        "unicos_valores = df_raw.Categoria.unique() \n",
        "numero_valores = df_raw.Categoria.nunique()\n",
        "print(unicos_valores,'\\n',numero_valores)"
      ],
      "metadata": {
        "colab": {
          "base_uri": "https://localhost:8080/"
        },
        "id": "EEozb2ftk99p",
        "outputId": "c2c72bd2-cafa-4d38-8ca5-0badbb3a77a7"
      },
      "id": "EEozb2ftk99p",
      "execution_count": 52,
      "outputs": [
        {
          "output_type": "stream",
          "name": "stdout",
          "text": [
            "['Apartamentos' 'Casas'] \n",
            " 2\n"
          ]
        }
      ]
    },
    {
      "cell_type": "markdown",
      "source": [
        "###Feature \"Area Contruida\""
      ],
      "metadata": {
        "id": "9WjiMXuen_JU"
      },
      "id": "9WjiMXuen_JU"
    },
    {
      "cell_type": "code",
      "source": [
        "unicos_valores = df_raw[\"Area construida\"].unique() \n",
        "numero_valores = df_raw[\"Area construida\"].nunique()\n",
        "print(unicos_valores,'\\n',numero_valores)"
      ],
      "metadata": {
        "colab": {
          "base_uri": "https://localhost:8080/"
        },
        "id": "lnTb5IVCmm0C",
        "outputId": "3b428200-3cb4-4099-af2c-4ebbc5583de1"
      },
      "id": "lnTb5IVCmm0C",
      "execution_count": 51,
      "outputs": [
        {
          "output_type": "stream",
          "name": "stdout",
          "text": [
            "['210m²' '50m²' '140m²' '66m²' '260m²' '227m²' '174m²' '304m²' '192m²'\n",
            " '170m²' '47m²' '55m²' '422m²' '360m²' '110m²' '544m²' '64m²' '85m²'\n",
            " '303m²' '89m²' '73m²' '142m²' '100m²' '218m²' '180m²' '56m²' '58m²'\n",
            " '67m²' '216m²' '48m²' '46m²' '200m²' '74m²' '107m²' '75m²' '90m²' '224m²'\n",
            " '115m²' '79m²' '80m²' '65m²' '60m²' '160m²' '71m²' '69m²' '351m²' '105m²'\n",
            " '61m²' '270m²' '250m²' '380m²' '135m²' '51m²' '83m²' '76m²' '233m²'\n",
            " '130m²' '82m²' '280m²' '68m²' '72m²' '600m²' '10m²' '77m²' '350m²' '62m²'\n",
            " '45m²' '59m²' '106m²' '41m²' '128m²' '202m²' '141m²' '119m²' '189m²'\n",
            " '49m²' '92m²' '177m²' '124m²' '255m²' '101m²' '244m²' '187m²' '127m²'\n",
            " '205m²' '118m²' '217m²' '800m²' '209m²' '182m²' '122m²' '86m²' '134m²'\n",
            " '96m²' '240m²' '276m²' '70m²' '158m²' '98m²' '260000m²' '237m²' '78m²'\n",
            " '370m²' '104m²' '99m²' '220m²' '120m²' '228m²' '138m²' '311m²' '63m²'\n",
            " '441m²' '81m²' '38m²' '190m²' '54m²' '196m²' '168m²' '151m²' '88m²'\n",
            " '550m²' '206m²' '175m²' '161m²' '243m²' '300m²' '153m²' '40m²' '215m²'\n",
            " '294m²' '315m²' '43m²' '42m²' '150m²' '225m²' '575m²' '230m²' '450m²'\n",
            " '22m²' '123m²' '102m²' '52m²' '136m²' '900m²' '272m²' '57m²' '93m²'\n",
            " '430m²' '390m²' '181m²' '328m²' '97m²' '400m²' '32m²' '223m²' '405m²'\n",
            " '186m²' '343m²' '203m²' '125m²' '198m²' '176m²' '113m²' '91m²' '149m²'\n",
            " '108m²' '1020m²' '117m²' '253m²' '159m²' '156m²' '440m²' '780m²' '145m²'\n",
            " '21m²' '296m²' '333m²' '94m²' '53m²' '103m²' '342m²' '5 ou mais' '809m²'\n",
            " '155m²' '520m²' '480m²' '287m²' '267m²' '166m²' '167m²' '236m²' '172m²'\n",
            " '375m²' '320m²' '384m²' '245m²' '491m²' '137m²' '284m²' '358m²' '322m²'\n",
            " '226m²' '396m²' '246m²' '542m²' '95m²' '178m²' '235m²' '500m²' '126m²'\n",
            " '261m²' '165m²' '1000m²' '173m²' '5511m²' '207m²' '316m²' '179m²' '222m²'\n",
            " '239m²' '650m²' '258m²' '308m²' '464m²' '36m²' '129m²' '148m²' '367m²'\n",
            " '162m²' '750m²' '231m²' '139m²' '133m²' '414m²' '264m²' '84m²' '428m²'\n",
            " '374m²' '44m²' '789m²' '213m²' '372m²' '132m²' '341m²' '675m²' '567m²'\n",
            " '163m²' '408m²' '1250m²' '193m²' '152m²' '277m²' '1200m²' '143m²' '37m²'\n",
            " '429m²' '183m²' '229m²' '402m²' '352m²' '415m²' '460m²' '24m²' '146m²'\n",
            " '169m²' '283m²' '266m²' '144m²' '184m²' '387m²' '1080m²' '580m²' '147m²'\n",
            " '393m²' '369m²' '424m²' '188m²' '39m²' '438m²' '319m²' '379m²' '448m²'\n",
            " '290m²' '1012m²' '116m²' '87m²' '279m²' '31m²' '329m²' '34m²' '131m²'\n",
            " '288m²' '302m²' '22000m²' '340m²' '191m²' '254m²' '355m²' '20m²' '1680m²'\n",
            " '219m²' '157m²' '251m²' '553m²' '331m²' '262m²' '195m²' '330m²' '208m²'\n",
            " '154m²' '232m²' '630m²' '199m²' '27m²' '365m²' '114m²' '112m²' '1611m²'\n",
            " '281m²' '275m²' '318m²' '338m²' '293m²' 'Área murada' '560m²' '347m²'\n",
            " '668m²' '345m²' '442m²' '812m²' '6935m²' '1900m²' '498m²' '30m²' '185m²'\n",
            " '653m²'] \n",
            " 336\n"
          ]
        }
      ]
    },
    {
      "cell_type": "markdown",
      "source": [
        "###Feature \"Preço\""
      ],
      "metadata": {
        "id": "Mn3Fx5UJpvCq"
      },
      "id": "Mn3Fx5UJpvCq"
    },
    {
      "cell_type": "code",
      "source": [
        "unicos_valores = df_raw.Preço.unique() \n",
        "numero_valores = df_raw.Preço.nunique()\n",
        "print(unicos_valores,'\\n',numero_valores)"
      ],
      "metadata": {
        "colab": {
          "base_uri": "https://localhost:8080/"
        },
        "id": "IR4b4-yMqMcy",
        "outputId": "3d93f380-d199-49b6-9661-c9cba0d1999c"
      },
      "id": "IR4b4-yMqMcy",
      "execution_count": 71,
      "outputs": [
        {
          "output_type": "stream",
          "name": "stdout",
          "text": [
            "[1.100000e+06 1.150000e+05 1.450000e+06 6.900000e+05 1.100000e+05\n",
            " 7.950000e+05 2.300000e+06 6.000000e+05 8.200000e+05 1.350000e+05\n",
            " 3.200460e+05 7.000000e+05 9.600000e+05 2.000000e+05 1.300000e+06\n",
            " 3.900000e+05 6.500000e+05 2.757000e+06 1.199000e+05 2.540000e+05\n",
            " 9.900000e+05 3.100000e+05 7.500000e+05 1.480000e+06 2.540540e+05\n",
            " 2.134900e+05 2.200000e+05 5.300000e+05 2.800000e+05 3.000000e+05\n",
            " 4.100000e+05 1.300000e+05 4.500000e+05 3.600000e+05 5.786100e+05\n",
            " 5.350000e+05 2.900000e+05 4.600000e+05 1.800000e+06 3.500000e+05\n",
            " 7.350000e+05 7.600000e+05 2.150000e+05 5.170000e+05 6.800000e+05\n",
            " 0.000000e+00 1.150000e+06 8.500000e+05 3.800000e+05 1.800000e+05\n",
            " 3.400000e+05 1.790000e+05 5.500000e+05 6.300000e+05 1.850000e+05\n",
            " 7.700000e+05 4.140000e+05 5.600000e+05 3.980000e+05 3.700000e+05\n",
            " 4.200000e+05 3.150000e+05 1.990000e+05 3.399920e+05 1.000000e+06\n",
            " 1.200000e+06 1.400000e+05 1.270000e+06 1.900000e+06 2.400000e+05\n",
            " 9.500000e+05 4.000000e+05 1.500000e+05 1.500000e+04 4.499000e+05\n",
            " 4.378000e+05 1.650000e+06 2.600000e+05 8.300000e+05 2.450000e+05\n",
            " 6.610000e+05 2.500000e+05 2.000000e+06 1.210000e+06 6.242480e+05\n",
            " 2.300000e+07 3.450000e+05 3.550000e+05 1.700000e+05 1.174400e+06\n",
            " 8.780000e+05 1.960000e+05 3.000000e+06 1.600000e+06 9.800000e+05\n",
            " 5.985350e+05 1.900000e+05 5.620000e+05 6.600000e+05 2.219210e+05\n",
            " 3.300000e+05 4.591000e+05 2.050000e+05 2.700000e+05 7.800000e+05\n",
            " 7.200000e+05 4.449000e+05 4.150000e+05 9.400000e+05 1.250000e+06\n",
            " 4.981000e+05 1.600000e+05 9.000000e+04 1.650000e+05 3.295000e+05\n",
            " 3.280000e+05 4.380000e+05 1.025172e+06 1.750000e+06 1.159400e+06\n",
            " 3.500000e+06 1.299000e+05 1.207000e+06 1.450000e+05 1.381826e+06\n",
            " 6.280000e+05 2.073600e+05 4.350000e+05 5.040000e+05 2.300000e+05\n",
            " 4.726000e+05 4.800000e+05 1.805000e+05 2.885000e+05 1.575000e+05\n",
            " 5.800000e+05 8.900000e+05 1.657000e+06 5.000000e+05 2.250000e+05\n",
            " 1.550000e+05 5.893250e+05 3.819570e+05 4.850000e+05 3.528000e+05\n",
            " 1.400000e+06 3.250000e+05 1.760000e+06 2.100000e+05 8.000000e+05\n",
            " 7.300000e+05 3.750000e+05 9.771390e+05 2.152510e+05 2.750000e+05\n",
            " 4.900000e+05 1.649900e+05 2.600000e+06 3.500000e+04 2.185000e+06\n",
            " 1.250000e+05 2.040000e+05 2.950000e+06 3.200000e+05 1.950000e+05\n",
            " 8.000000e+04 1.000000e+05 2.980000e+06 5.400000e+05 1.750000e+05\n",
            " 4.300000e+05 1.500000e+06 8.870000e+05 1.280000e+06 6.225000e+05\n",
            " 4.322750e+05 1.200000e+05 2.590000e+05 2.500000e+06 1.380000e+06\n",
            " 9.000000e+05 5.960000e+05 5.900000e+05 6.070000e+05 3.516300e+04\n",
            " 4.927000e+05 3.543780e+05 3.850000e+05 5.612020e+05 1.939000e+05\n",
            " 2.880000e+05 7.990000e+05 1.950000e+06 3.200000e+06 9.950000e+05\n",
            " 1.191000e+06 6.000000e+04 4.400000e+05 2.100000e+06 4.000000e+04\n",
            " 2.550000e+05 1.550000e+06 1.320000e+06 3.110000e+05 5.615110e+05\n",
            " 3.062000e+05 5.590000e+05 4.950000e+05 3.870000e+05 3.470000e+05\n",
            " 3.548000e+05 3.050000e+05 2.260000e+05 5.649900e+05 6.700000e+05\n",
            " 5.700000e+05 2.990000e+05 1.154000e+06 6.200000e+05 4.681000e+05\n",
            " 3.260000e+05 7.900000e+05 2.650000e+05 1.690000e+05 7.560000e+05\n",
            " 5.629900e+05 2.480000e+05 2.700000e+06 7.000000e+04 1.115066e+06\n",
            " 2.746000e+05 5.343000e+05 2.200000e+06 3.439020e+05          nan\n",
            " 1.050000e+06 3.100000e+06 4.700000e+05 8.600000e+05 1.299000e+06\n",
            " 8.700000e+05 3.950000e+05 9.300000e+05 3.328440e+05 2.918600e+04\n",
            " 2.751810e+05 1.490000e+06 2.170600e+04 1.380000e+05 6.400000e+05\n",
            " 3.202300e+04 2.400000e+06 1.190000e+06 4.949400e+05 1.359199e+06\n",
            " 4.680000e+05 2.800000e+06 2.507000e+06 2.850000e+05 2.950000e+05\n",
            " 2.542240e+05 4.580000e+05 5.000000e+04 1.048029e+06 3.368900e+05\n",
            " 6.499900e+05 2.781000e+05 2.394770e+05 4.390000e+05 2.479400e+06\n",
            " 1.700000e+06 3.574160e+05 8.070000e+05 2.163000e+06 2.780000e+05\n",
            " 2.333800e+04 9.311640e+05 7.400000e+05 3.270000e+05 2.350000e+05\n",
            " 5.909900e+05 3.600000e+06 4.235000e+05 3.472710e+05 1.050000e+05\n",
            " 3.434700e+04 2.117000e+05 5.500000e+04 1.885540e+05 5.100000e+05\n",
            " 1.229000e+05 3.590000e+05 2.545000e+06 5.870000e+05 9.030000e+05\n",
            " 1.699000e+05 3.540000e+05 1.280000e+05 2.390000e+05 2.722000e+05\n",
            " 3.749000e+05 1.595000e+06 5.750000e+05 5.800000e+06 3.650000e+05\n",
            " 3.531540e+05 3.192450e+05 1.211282e+06 2.890000e+05 8.800000e+05\n",
            " 4.437800e+05 3.276440e+05 1.854900e+05 1.356730e+05 1.260000e+06\n",
            " 1.350000e+06 7.500000e+04 2.330000e+05 2.750000e+06 5.290000e+05\n",
            " 2.045958e+06 1.653110e+05 5.200000e+05 2.976000e+05 3.350000e+05\n",
            " 8.450000e+05 1.470000e+05 5.763040e+05 2.945400e+04 2.721000e+05\n",
            " 6.870000e+05 2.722690e+05 9.870000e+05 9.200000e+05 1.395000e+06\n",
            " 3.510200e+04 4.151650e+05 2.896650e+05 2.670000e+05 4.900000e+06\n",
            " 2.540530e+05 2.110000e+05 1.139000e+06 2.966900e+05 2.790000e+05\n",
            " 5.571800e+05 2.250000e+06 2.080000e+05 2.990000e+06 2.900000e+06\n",
            " 2.588650e+05 2.960230e+05 2.233200e+06 2.843020e+05 4.104330e+05\n",
            " 3.000000e+03 3.555000e+05 9.500000e+04 1.640000e+05 1.599000e+05\n",
            " 3.672600e+04 5.990000e+05 1.137479e+06 2.599000e+05 3.577500e+04\n",
            " 1.370650e+05 1.570000e+05 2.692960e+05 2.257200e+04 3.164610e+05\n",
            " 2.599900e+05 3.071200e+04 3.230900e+04 1.689850e+05 1.978000e+05\n",
            " 1.039530e+06 2.163425e+06 2.650000e+06 3.236390e+05 2.000000e+04\n",
            " 3.115000e+05 1.780000e+06 9.246700e+05 3.700000e+06 6.339990e+05\n",
            " 4.828000e+05 2.123000e+05 2.506720e+05 3.030000e+05 3.380000e+05\n",
            " 2.402110e+05 3.780000e+04 2.300000e+04 2.728350e+05 4.253600e+05\n",
            " 1.214042e+06 2.094900e+05 4.890000e+05 3.541550e+05 4.191080e+05\n",
            " 1.630000e+05 3.300000e+06 3.215000e+05 3.177900e+04 4.750000e+05\n",
            " 6.500000e+04 2.699000e+05 2.500000e+04 1.340000e+05 2.280000e+05\n",
            " 4.742600e+05 5.800000e+04 3.661450e+05 1.912240e+05 4.000000e+06\n",
            " 3.500000e+01 2.446950e+05 3.790000e+05 5.270000e+05 2.686000e+05\n",
            " 2.640000e+05 2.414100e+06 2.881000e+05 3.108600e+04 9.700000e+05\n",
            " 6.950000e+05 2.121900e+06 3.360000e+05 4.050000e+05 4.160000e+05\n",
            " 6.858460e+05 4.780000e+05 3.867320e+05 4.030000e+05 1.161659e+06\n",
            " 8.900000e+04 7.490000e+05 4.250000e+05 1.179945e+06 3.609900e+05\n",
            " 2.486000e+04 3.665000e+05 1.620000e+05 4.115000e+05 2.010000e+05\n",
            " 5.490000e+05 2.594000e+05 2.093300e+05 3.090000e+05 1.170000e+06\n",
            " 2.719000e+05 2.700700e+04 2.980000e+05 2.280150e+05 6.170000e+05\n",
            " 6.100000e+05 8.500000e+01 2.417520e+05 2.820000e+05 7.650000e+05\n",
            " 1.180000e+06 1.342650e+05 1.297000e+05 1.260000e+05 1.339000e+05\n",
            " 1.349000e+05 1.390000e+05 1.191744e+06] \n",
            " 467\n"
          ]
        }
      ]
    },
    {
      "cell_type": "markdown",
      "source": [
        "###Feature \"Quartos\""
      ],
      "metadata": {
        "id": "_M2UldaArIW5"
      },
      "id": "_M2UldaArIW5"
    },
    {
      "cell_type": "code",
      "source": [
        "unicos_valores = df_raw.Quartos.unique() \n",
        "numero_valores = df_raw.Quartos.nunique()\n",
        "print(unicos_valores,'\\n',numero_valores)"
      ],
      "metadata": {
        "colab": {
          "base_uri": "https://localhost:8080/"
        },
        "id": "1QBUFR9irtUG",
        "outputId": "c74374e8-34af-43ed-c737-cca751d7e256"
      },
      "id": "1QBUFR9irtUG",
      "execution_count": 48,
      "outputs": [
        {
          "output_type": "stream",
          "name": "stdout",
          "text": [
            "['3' '2' '4' '5 ou mais' '1' nan '0'] \n",
            " 6\n"
          ]
        }
      ]
    },
    {
      "cell_type": "markdown",
      "source": [
        "###Feature \"Banheiros\""
      ],
      "metadata": {
        "id": "mRZ6OAmLrRA7"
      },
      "id": "mRZ6OAmLrRA7"
    },
    {
      "cell_type": "code",
      "source": [
        "unicos_valores = df_raw.Banheiros.unique() \n",
        "numero_valores = df_raw.Banheiros.nunique()\n",
        "print(unicos_valores,'\\n',numero_valores)"
      ],
      "metadata": {
        "colab": {
          "base_uri": "https://localhost:8080/"
        },
        "id": "my_MhCeXrzdp",
        "outputId": "b67972f3-92be-4944-bb4c-36db8b725655"
      },
      "id": "my_MhCeXrzdp",
      "execution_count": 49,
      "outputs": [
        {
          "output_type": "stream",
          "name": "stdout",
          "text": [
            "['4' '1' '5 ou mais' '2' '3' nan] \n",
            " 5\n"
          ]
        }
      ]
    },
    {
      "cell_type": "markdown",
      "source": [
        "###Feature \"Vagas\""
      ],
      "metadata": {
        "id": "3jnYmEOqrUp5"
      },
      "id": "3jnYmEOqrUp5"
    },
    {
      "cell_type": "code",
      "source": [
        "unicos_valores = df_raw.Vagas.unique() \n",
        "numero_valores = df_raw.Vagas.nunique()\n",
        "print(unicos_valores,'\\n',numero_valores)"
      ],
      "metadata": {
        "colab": {
          "base_uri": "https://localhost:8080/"
        },
        "id": "wFJYS62vsrv4",
        "outputId": "5ec423df-f5bb-4103-9272-b5b07b69bfc9"
      },
      "id": "wFJYS62vsrv4",
      "execution_count": 53,
      "outputs": [
        {
          "output_type": "stream",
          "name": "stdout",
          "text": [
            "['4' '1' '2' '3' '5 ou mais' nan '0' 'Uruguai' 'Santa Isabel' 'Cristo Rei'\n",
            " 'Morros' 'Gurupi' 'Jóquei' 'São João' 'Horto' 'Ininga' 'Fátima'\n",
            " 'Vale Quem Tem' 'São Cristóvão' 'Itararé' 'Aeroporto' 'São Pedro'\n",
            " 'Satélite' 'Socopo' 'Memorare' 'Colorado' 'Centro' 'Porto do Centro'\n",
            " 'Ilhotas' 'Cidade Jardim' 'Samapi' 'Morada do Sol' 'Piçarra'\n",
            " 'Santa Maria' 'Tabajaras' 'Macaúba' 'Vale do Gavião' 'Água Mineral'\n",
            " 'Campestre' 'Cabral' 'Saci' 'Pirajá' 'Acarape' 'Mocambinho'\n",
            " 'Novo Uruguai' 'Recanto das Palmeiras' 'Noivos' 'Zoobotânico' 'Planalto'\n",
            " 'Pedra Mole' 'Área de serviço'] \n",
            " 50\n"
          ]
        }
      ]
    },
    {
      "cell_type": "markdown",
      "source": [
        "###Feature \"Bairro\""
      ],
      "metadata": {
        "id": "a2AAj6_KrdcP"
      },
      "id": "a2AAj6_KrdcP"
    },
    {
      "cell_type": "code",
      "source": [
        "unicos_valores = df_raw.Bairro.unique() \n",
        "numero_valores = df_raw.Bairro.nunique()\n",
        "print(unicos_valores,'\\n',numero_valores)"
      ],
      "metadata": {
        "colab": {
          "base_uri": "https://localhost:8080/"
        },
        "id": "k8vmtnP-tilU",
        "outputId": "b32fc0fe-8130-412c-f34b-af72479fda0d"
      },
      "id": "k8vmtnP-tilU",
      "execution_count": 60,
      "outputs": [
        {
          "output_type": "stream",
          "name": "stdout",
          "text": [
            "['Fátima' 'Vale do Gavião' 'Gurupi' 'Zoobotânico' nan 'Santa Lia' 'Jóquei'\n",
            " 'Santa Isabel' 'Frei Serafim' 'Cidade Nova' 'Primavera' 'Real Copagri'\n",
            " 'Memorare' 'Triunfo' 'Uruguai' 'São João' 'Ininga' 'São Cristóvão'\n",
            " 'Cristo Rei' 'Morros' 'Mocambinho' 'Ilhotas' 'Piçarreira' 'Rodoviária'\n",
            " 'Aeroporto' 'Santa Luzia' 'Horto' 'Centro' 'Parque Ideal' 'Aroeiras'\n",
            " 'Vale Quem Tem' 'Noivos' 'Novo Horizonte' 'Lourival Parente' 'Campestre'\n",
            " 'Morada do Sol' 'Porto do Centro' 'Bom Princípio' 'São Sebastião'\n",
            " 'Colorado' 'São Pedro' 'Cabral' 'Recanto das Palmeiras' 'Socopo'\n",
            " 'Monte Castelo' 'Todos os Santos' 'Nossa Senhora das Graças'\n",
            " 'Parque Piauí' 'Marquês' 'Angelim' 'Tabajaras' 'Saci' 'Itararé'\n",
            " 'Santa Maria' 'Morro da Esperança' 'Cidade Jardim' 'Samapi'\n",
            " 'Três Andares' 'Parque São João' 'Novo Uruguai' 'Planalto' 'Porenquanto'\n",
            " 'Núcleo Urbano Fazenda Real' 'Nova Brasília' 'Morada Nova'\n",
            " 'Parque Brasil' 'Esplanada' 'Verde Lar' 'Pedra Mole' 'Pedra Miúda'\n",
            " 'Renascença' 'Buenos Aires' 'João XXIII' 'Bela Vista' 'Santa Rosa'\n",
            " 'Piçarra' 'Tabuleta' 'Vermelha' 'Comprida' 'Livramento' 'Santa Cruz'\n",
            " 'Alto Alegre' 'Tancredo Neves' 'Satélite' 'Promorar' 'Acarape' 'Mafuá'\n",
            " 'Portal da Alegria' 'Sabiazal' 'Matinha' 'Vila Operária' 'Parque Sul'\n",
            " 'Parque Poti' 'Verdecap' 'Macaúba' 'Frei Higino' 'Extrema' 'Catarina'\n",
            " 'Parque Alvorada' 'Reis Veloso' 'Jacinta Andrade' 'Santo Antônio'\n",
            " 'Boa Esperança' 'Matadouro'] \n",
            " 103\n"
          ]
        }
      ]
    },
    {
      "cell_type": "markdown",
      "source": [
        "##**Considerações após inspeção superficial das features:**\n",
        "\n",
        "###**Feature \"Categoria\"**- Apenas 2 valores diferentes foram detectados: \"Apartamentos\" e \"Casas\", posteriormente analisaremos a necessidade de melhor segmentação dos dados com possibilidade de adição de novas categorias como \"Terrenos\"\n",
        "\n",
        "###**Feature \"Area construida\"** - Alguns registros chamam atenção e serão melhor analisados para detecção de possíveis inconsistências ex.: \"260000m²\" o que parece ser um valor irrealista para área construída. 'Área murada' e \"5 ou mais\" também aparecem, prováveis erros de inputação dos dados e que obrigatoriamente deverão ser tratados.\n",
        "\n",
        "###**Feature \"Preço\"** - A priori destacamos \"nan\" presente nos dados bem como valores abaixo da média de preço praticado no setor. Necessitaremos de uma análise mais aprofundada posteriormente.\n",
        "\n",
        "###**Feature \"Quartos\"** - \"5 ou mais\" e \"nan\" precisam de tratamento para manutenção da consistência dos dados.\n",
        "\n",
        "###**Feature \"Baheiros\"** - \"5 ou mais\" e \"nan\" precisam de tratamento para manutenção da consistência dos dados.\n",
        "\n",
        "###**Feature \"Vagas\"** - Dados seriamente comprometidos com inputação de nomes de bairros no campo \"Vagas\", como medidas visando atenuação do problema revisaremos o script de coleta do dados e executaremos uma estratégia de reordenação do dados nas colunas corretas.\n",
        "\n",
        "###**Feature \"Bairros\"** - Aparentemente nenhuma ocorrência problemática."
      ],
      "metadata": {
        "id": "r6_igjudtk1p"
      },
      "id": "r6_igjudtk1p"
    },
    {
      "cell_type": "markdown",
      "id": "d789b642",
      "metadata": {
        "id": "d789b642"
      },
      "source": [
        "# 2. Data Description"
      ]
    },
    {
      "cell_type": "code",
      "execution_count": null,
      "id": "9abf23e3",
      "metadata": {
        "id": "9abf23e3",
        "outputId": "4f21e021-8611-42da-99b6-68c477957e9f",
        "colab": {
          "base_uri": "https://localhost:8080/"
        }
      },
      "outputs": [
        {
          "output_type": "stream",
          "name": "stdout",
          "text": [
            "<class 'pandas.core.frame.DataFrame'>\n",
            "RangeIndex: 2921 entries, 0 to 2920\n",
            "Data columns (total 7 columns):\n",
            " #   Column           Non-Null Count  Dtype  \n",
            "---  ------           --------------  -----  \n",
            " 0   Categoria        2921 non-null   object \n",
            " 1   Area construida  2921 non-null   object \n",
            " 2   Preço            2683 non-null   float64\n",
            " 3   Quartos          2919 non-null   object \n",
            " 4   Banheiros        2919 non-null   object \n",
            " 5   Vagas            2828 non-null   object \n",
            " 6   Bairro           2679 non-null   object \n",
            "dtypes: float64(1), object(6)\n",
            "memory usage: 159.9+ KB\n"
          ]
        }
      ],
      "source": [
        "df_raw.info()"
      ]
    },
    {
      "cell_type": "markdown",
      "id": "40f2de27",
      "metadata": {
        "id": "40f2de27"
      },
      "source": [
        "## 2.1 NA\n",
        "\n",
        "Precisamos decidir o que faremos principalmente com as linhas que nao tem preco e bairro. Temos que observar se a diferenca de valor entre os bairros sao muito elevadas para entao ver como preencheremos essas celulas."
      ]
    },
    {
      "cell_type": "code",
      "execution_count": null,
      "id": "bd5adb83",
      "metadata": {
        "id": "bd5adb83",
        "outputId": "e8b682c8-7a9f-4fb4-d626-76861a058a64",
        "colab": {
          "base_uri": "https://localhost:8080/"
        }
      },
      "outputs": [
        {
          "output_type": "execute_result",
          "data": {
            "text/plain": [
              "Categoria          0.000000\n",
              "Area construida    0.000000\n",
              "Preço              8.147895\n",
              "Quartos            0.068470\n",
              "Banheiros          0.068470\n",
              "Vagas              3.183841\n",
              "Bairro             8.284834\n",
              "dtype: float64"
            ]
          },
          "metadata": {},
          "execution_count": 89
        }
      ],
      "source": [
        "df_raw.isna().mean()*100"
      ]
    },
    {
      "cell_type": "markdown",
      "source": [],
      "metadata": {
        "id": "z1F-knuPnLwF"
      },
      "id": "z1F-knuPnLwF"
    },
    {
      "cell_type": "code",
      "source": [
        "df_raw.isnull().mean()*100"
      ],
      "metadata": {
        "colab": {
          "base_uri": "https://localhost:8080/"
        },
        "id": "Pn7i-4hs-YXJ",
        "outputId": "7a833833-064d-4020-a496-99318e8d885d"
      },
      "id": "Pn7i-4hs-YXJ",
      "execution_count": null,
      "outputs": [
        {
          "output_type": "execute_result",
          "data": {
            "text/plain": [
              "Categoria          0.000000\n",
              "Area construida    0.000000\n",
              "Preço              8.147895\n",
              "Quartos            0.068470\n",
              "Banheiros          0.068470\n",
              "Vagas              3.183841\n",
              "Bairro             8.284834\n",
              "dtype: float64"
            ]
          },
          "metadata": {},
          "execution_count": 55
        }
      ]
    },
    {
      "cell_type": "code",
      "execution_count": null,
      "id": "9418e903",
      "metadata": {
        "id": "9418e903",
        "outputId": "3fa905e3-4b52-4666-d371-514b18745208",
        "colab": {
          "base_uri": "https://localhost:8080/"
        }
      },
      "outputs": [
        {
          "output_type": "stream",
          "name": "stdout",
          "text": [
            "Temos 2921 imoveis em nosso dataset\n",
            "Temos por enquanto 7 caracteristicas desses imoveis\n"
          ]
        }
      ],
      "source": [
        "print( 'Temos {} imoveis em nosso dataset'.format( df_raw.shape[0] ) )\n",
        "print( 'Temos por enquanto {} caracteristicas desses imoveis'.format( df_raw.shape[1] ) )"
      ]
    },
    {
      "cell_type": "markdown",
      "id": "f42d4255",
      "metadata": {
        "id": "f42d4255"
      },
      "source": [
        "## 2.2 Check for misplaced values/ rearrange"
      ]
    },
    {
      "cell_type": "code",
      "execution_count": null,
      "id": "3edca9ac",
      "metadata": {
        "id": "3edca9ac"
      },
      "outputs": [],
      "source": [
        "df = df_raw"
      ]
    },
    {
      "cell_type": "code",
      "execution_count": null,
      "id": "c534d83c",
      "metadata": {
        "id": "c534d83c"
      },
      "outputs": [],
      "source": [
        "# Rearrumando o Bairro que estava em coluna errada, replace Vagas pela mais comum\n",
        "df.loc[df.Vagas == 'Morros', 'Bairro' ] = 'Morros'\n",
        "\n",
        "\n",
        "df.loc[df.Vagas == 'Ininga', 'Bairro' ] = 'Ininga'\n",
        "df.loc[df.Vagas == 'Uruguai', 'Bairro' ] = 'Uruguai'\n",
        "df.loc[df.Vagas == 'São Cristóvão', 'Bairro' ] = 'São Cristóvão'\n",
        "df.loc[df.Vagas == 'Fátima', 'Bairro' ] = 'Fátima'\n",
        "df.loc[df.Vagas == 'Horto', 'Bairro' ] = 'Horto'\n",
        "df.loc[df.Vagas == 'Gurupi', 'Bairro' ] = 'Gurupi'\n",
        "df.loc[df.Vagas == 'Vale Quem Tem', 'Bairro' ] = 'Vale Quem Tem'\n",
        "df.loc[df.Vagas == 'São João', 'Bairro' ] = 'São João'\n",
        "df.loc[df.Vagas == 'Jóquei', 'Bairro' ] = 'Jóquei'\n",
        "df.loc[df.Vagas == 'Santa Isabel', 'Bairro' ] = 'Santa Isabel'\n",
        "df.loc[df.Vagas == 'Itararé', 'Bairro' ] = 'Itararé'\n",
        "df.loc[df.Vagas == 'Ilhotas', 'Bairro' ] = 'Ilhotas'\n",
        "df.loc[df.Vagas == 'Cristo Rei', 'Bairro' ] = 'Cristo Rei'\n",
        "df.loc[df.Vagas == 'Recanto das Palmeiras', 'Bairro' ] = 'Recanto das Palmeiras'\n",
        "df.loc[df.Vagas == 'Macaúba', 'Bairro' ] = 'Macaúba'\n",
        "df.loc[df.Vagas == 'Tabajaras', 'Bairro' ] = 'Tabajaras'\n",
        "df.loc[df.Vagas == 'Santa Maria', 'Bairro' ] = 'Santa Maria'\n",
        "df.loc[df.Vagas == 'Piçarra', 'Bairro' ] = 'Piçarra'\n",
        "df.loc[df.Vagas == 'Samapi', 'Bairro' ] = 'Samapi'\n",
        "df.loc[df.Vagas == 'Saci', 'Bairro' ] = 'Saci'\n",
        "df.loc[df.Vagas == 'Noivos', 'Bairro' ] = 'Noivos'\n",
        "df.loc[df.Vagas == 'Satélite', 'Bairro' ] = 'Satélite'\n",
        "df.loc[df.Vagas == 'Cabral', 'Bairro' ] = 'Cabral'\n",
        "df.loc[df.Vagas == 'Novo Uruguai', 'Bairro' ] = 'Novo Uruguai'\n",
        "df.loc[df.Vagas == 'Zoobotânico', 'Bairro' ] = 'Zoobotânico'\n",
        "df.loc[df.Vagas == 'Mocambinho', 'Bairro' ] = 'Mocambinho'\n",
        "df.loc[df.Vagas == 'Planalto', 'Bairro' ] = 'Planalto'\n",
        "df.loc[df.Vagas == 'Acarape', 'Bairro' ] = 'Acarape'\n",
        "df.loc[df.Vagas == 'Pirajá', 'Bairro' ] = 'Pirajá'\n",
        "df.loc[df.Vagas == 'Pedra Mole', 'Bairro' ] = 'Pedra Mole'\n",
        "df.loc[df.Vagas == 'Centro', 'Bairro' ] = 'Centro'\n",
        "df.loc[df.Vagas == 'Campestre', 'Bairro' ] = 'Campestre'\n",
        "df.loc[df.Vagas == 'Água Mineral', 'Bairro' ] = 'Água Mineral'\n",
        "df.loc[df.Vagas == 'Vale do Gavião', 'Bairro' ] = 'Vale do Gavião'\n",
        "df.loc[df.Vagas == 'Morada do Sol', 'Bairro' ] = 'Morada do Sol'\n",
        "df.loc[df.Vagas == 'Cidade Jardim', 'Bairro' ] = 'Cidade Jardim'\n",
        "df.loc[df.Vagas == 'Porto do Centro', 'Bairro' ] = 'Porto do Centro'\n",
        "df.loc[df.Vagas == 'Colorado', 'Bairro' ] = 'Colorado'\n",
        "df.loc[df.Vagas == 'Memorare', 'Bairro' ] = 'Memorare'\n",
        "df.loc[df.Vagas == 'São Pedro', 'Bairro' ] = 'São Pedro'\n",
        "df.loc[df.Vagas == 'Aeroporto', 'Bairro' ] = 'Aeroporto'\n",
        "\n",
        "\n",
        "\n",
        "# 5 ou mais \n",
        "df.loc[df.Vagas == '5 ou mais', 'Vagas' ] = 5\n",
        "\n"
      ]
    },
    {
      "cell_type": "code",
      "execution_count": null,
      "id": "c72990a6",
      "metadata": {
        "id": "c72990a6"
      },
      "outputs": [],
      "source": [
        "# Vagas as que estavam como o Bairro mudar para as mais comuns/moda\n",
        "df['Vagas'] = df.Vagas.apply(lambda x: x if type(x) == float else\n",
        "                                     x if x == 5 else\n",
        "                               int(x) if x.isnumeric()  \n",
        "                               else df.Vagas.value_counts().index[0]             \n",
        "                  )\n",
        "\n",
        "# Fillna Vagas - Mais COmun\n",
        "df.Vagas.fillna(df.Vagas.value_counts().index[0], inplace=True)\n"
      ]
    },
    {
      "cell_type": "code",
      "execution_count": null,
      "id": "28d62ef1",
      "metadata": {
        "id": "28d62ef1",
        "outputId": "0c3fcc0a-920c-4a84-9f7b-30e61600ac2f",
        "colab": {
          "base_uri": "https://localhost:8080/"
        }
      },
      "outputs": [
        {
          "output_type": "execute_result",
          "data": {
            "text/plain": [
              "3            0.492977\n",
              "4            0.226105\n",
              "2            0.224392\n",
              "5 ou mais    0.036999\n",
              "1            0.019185\n",
              "0            0.000343\n",
              "Name: Quartos, dtype: float64"
            ]
          },
          "metadata": {},
          "execution_count": 94
        }
      ],
      "source": [
        "df.Quartos.value_counts(normalize=True)"
      ]
    },
    {
      "cell_type": "code",
      "source": [],
      "metadata": {
        "id": "1xAfH4kvBIMH"
      },
      "id": "1xAfH4kvBIMH",
      "execution_count": null,
      "outputs": []
    },
    {
      "cell_type": "markdown",
      "source": [
        "Explorar qual a variaç˜ao dos imoveis descritos com 5 ou mais quartos e banheiros"
      ],
      "metadata": {
        "id": "MFi28TFnBG9l"
      },
      "id": "MFi28TFnBG9l"
    },
    {
      "cell_type": "code",
      "execution_count": null,
      "id": "880b6d19",
      "metadata": {
        "id": "880b6d19"
      },
      "outputs": [],
      "source": [
        "# Quartos 5 ou mais  == 5\n",
        "df.loc[df.Quartos == '5 ou mais', 'Quartos' ] = 5\n",
        "df.loc[df.Banheiros == '5 ou mais', 'Banheiros' ] = 5\n",
        "\n",
        "# Quarto == 0 , moda\n",
        "df.loc[df.Quartos == 0, 'Quartos' ] = df.Quartos.value_counts().index[0]\n"
      ]
    },
    {
      "cell_type": "code",
      "execution_count": null,
      "id": "01bfa039",
      "metadata": {
        "id": "01bfa039",
        "outputId": "a57b64ec-c849-41a2-8389-ad98a6a88082",
        "colab": {
          "base_uri": "https://localhost:8080/"
        }
      },
      "outputs": [
        {
          "output_type": "execute_result",
          "data": {
            "text/plain": [
              "3    0.492977\n",
              "4    0.226105\n",
              "2    0.224392\n",
              "5    0.036999\n",
              "1    0.019185\n",
              "0    0.000343\n",
              "Name: Quartos, dtype: float64"
            ]
          },
          "metadata": {},
          "execution_count": 96
        }
      ],
      "source": [
        "df.Quartos.value_counts(normalize=True)"
      ]
    },
    {
      "cell_type": "markdown",
      "id": "11d1da26",
      "metadata": {
        "id": "11d1da26"
      },
      "source": [
        "### 2.3 Fill NA"
      ]
    },
    {
      "cell_type": "code",
      "execution_count": null,
      "id": "fe4f906f",
      "metadata": {
        "id": "fe4f906f"
      },
      "outputs": [],
      "source": [
        "# Replace NA pela MODA ( Mais comum) -\n",
        "df.Quartos.fillna(df.Quartos.value_counts().index[0], inplace=True)\n",
        "df.Banheiros.fillna(df.Banheiros.value_counts().index[0], inplace=True)"
      ]
    },
    {
      "cell_type": "markdown",
      "id": "88b2b5e7",
      "metadata": {
        "id": "88b2b5e7"
      },
      "source": [
        "### 2.4 Data replace"
      ]
    },
    {
      "cell_type": "code",
      "execution_count": null,
      "id": "b6f58927",
      "metadata": {
        "id": "b6f58927"
      },
      "outputs": [],
      "source": [
        "# Removendo o m2 de Area Construída\n",
        "regex = '\\d+'\n",
        "df['Area construida'] = df['Area construida'].apply(lambda x: re.match( regex, x ).group(0) if re.match( regex, x ) else x)\n",
        "\n",
        "# Area construida está area murada == 0\n",
        "df.loc[df['Area construida'] == 'Área murada', 'Area construida'] = 0"
      ]
    },
    {
      "cell_type": "code",
      "source": [
        "(df_raw['Area construida'] == 0).value_counts()"
      ],
      "metadata": {
        "colab": {
          "base_uri": "https://localhost:8080/"
        },
        "id": "y-iY8aI9C78S",
        "outputId": "08eb719b-84e6-44b2-bc1c-286831be1e62"
      },
      "id": "y-iY8aI9C78S",
      "execution_count": null,
      "outputs": [
        {
          "output_type": "execute_result",
          "data": {
            "text/plain": [
              "False    2920\n",
              "True        1\n",
              "Name: Area construida, dtype: int64"
            ]
          },
          "metadata": {},
          "execution_count": 99
        }
      ]
    },
    {
      "cell_type": "code",
      "source": [],
      "metadata": {
        "id": "qzaWtf7FExmo"
      },
      "id": "qzaWtf7FExmo",
      "execution_count": null,
      "outputs": []
    },
    {
      "cell_type": "markdown",
      "source": [
        "#Criar funcao para excluir dados inconsistente com a realidade."
      ],
      "metadata": {
        "id": "NRhKasHfKHAv"
      },
      "id": "NRhKasHfKHAv"
    },
    {
      "cell_type": "markdown",
      "id": "28cafb4e",
      "metadata": {
        "id": "28cafb4e"
      },
      "source": [
        "### 2.5 Change dtypes"
      ]
    },
    {
      "cell_type": "code",
      "execution_count": null,
      "id": "348e6907",
      "metadata": {
        "scrolled": true,
        "id": "348e6907"
      },
      "outputs": [],
      "source": [
        "# Mudar dtype \n",
        "df['Vagas'] = df.Vagas.astype(int)\n",
        "df['Banheiros'] = df.Banheiros.astype(int)\n",
        "df['Quartos'] = df.Quartos.astype(int)\n",
        "df['Area construida'] = df['Area construida'].astype(float)\n",
        "\n",
        "\n",
        "df['Preço'] = df['Preço'].astype(float)\n",
        "\n",
        "# convertendo os dados para categóricos\n",
        "for c in df.select_dtypes(include=['object']):\n",
        "    df[c] = df[c].astype('category')\n",
        "    \n",
        "\n"
      ]
    },
    {
      "cell_type": "markdown",
      "source": [],
      "metadata": {
        "id": "oD6P0cK0K5WF"
      },
      "id": "oD6P0cK0K5WF"
    },
    {
      "cell_type": "markdown",
      "id": "b20631d3",
      "metadata": {
        "id": "b20631d3"
      },
      "source": [
        "###  2.6 Descriptive Statistics"
      ]
    },
    {
      "cell_type": "markdown",
      "source": [
        "\n",
        "\n",
        "#Next: Criar coluna de metro quadrado dividindo o preco pela area construida\n",
        "\n"
      ],
      "metadata": {
        "id": "ZEIUYZEDK5ZU"
      },
      "id": "ZEIUYZEDK5ZU"
    },
    {
      "cell_type": "markdown",
      "id": "78f84705",
      "metadata": {
        "id": "78f84705"
      },
      "source": [
        "###### 2.6.1 Numerical Attributes"
      ]
    },
    {
      "cell_type": "markdown",
      "source": [
        "#Next: Para as celulas de preco faltante agrupar por bairro e numero de quartos e usar a media. "
      ],
      "metadata": {
        "id": "i1u49-RhMTVj"
      },
      "id": "i1u49-RhMTVj"
    },
    {
      "cell_type": "code",
      "execution_count": null,
      "id": "637192a5",
      "metadata": {
        "id": "637192a5",
        "outputId": "b6ae9494-288a-4aac-dcd7-3cc4d16dca40",
        "colab": {
          "base_uri": "https://localhost:8080/",
          "height": 206
        }
      },
      "outputs": [
        {
          "output_type": "execute_result",
          "data": {
            "text/plain": [
              "                  count       mean        std  min       25%       50%  \\\n",
              "Area construida  2921.0     253.02    4829.30  0.0      68.0     103.0   \n",
              "Preço            2683.0  679296.30  776984.72  0.0  254139.0  435000.0   \n",
              "Quartos          2921.0       3.04       0.82  0.0       3.0       3.0   \n",
              "Banheiros        2921.0       2.62       1.33  1.0       2.0       2.0   \n",
              "Vagas            2921.0       2.13       1.15  0.0       1.0       2.0   \n",
              "\n",
              "                      75%        95%        99%         max  \n",
              "Area construida     200.0      400.0      800.0    260000.0  \n",
              "Preço            850000.0  2000000.0  3018000.0  23000000.0  \n",
              "Quartos               4.0        4.0        5.0         5.0  \n",
              "Banheiros             4.0        5.0        5.0         5.0  \n",
              "Vagas                 2.0        5.0        5.0         5.0  "
            ],
            "text/html": [
              "\n",
              "  <div id=\"df-53da30b9-d6a4-4ff8-850e-bce473e8d298\">\n",
              "    <div class=\"colab-df-container\">\n",
              "      <div>\n",
              "<style scoped>\n",
              "    .dataframe tbody tr th:only-of-type {\n",
              "        vertical-align: middle;\n",
              "    }\n",
              "\n",
              "    .dataframe tbody tr th {\n",
              "        vertical-align: top;\n",
              "    }\n",
              "\n",
              "    .dataframe thead th {\n",
              "        text-align: right;\n",
              "    }\n",
              "</style>\n",
              "<table border=\"1\" class=\"dataframe\">\n",
              "  <thead>\n",
              "    <tr style=\"text-align: right;\">\n",
              "      <th></th>\n",
              "      <th>count</th>\n",
              "      <th>mean</th>\n",
              "      <th>std</th>\n",
              "      <th>min</th>\n",
              "      <th>25%</th>\n",
              "      <th>50%</th>\n",
              "      <th>75%</th>\n",
              "      <th>95%</th>\n",
              "      <th>99%</th>\n",
              "      <th>max</th>\n",
              "    </tr>\n",
              "  </thead>\n",
              "  <tbody>\n",
              "    <tr>\n",
              "      <th>Area construida</th>\n",
              "      <td>2921.0</td>\n",
              "      <td>253.02</td>\n",
              "      <td>4829.30</td>\n",
              "      <td>0.0</td>\n",
              "      <td>68.0</td>\n",
              "      <td>103.0</td>\n",
              "      <td>200.0</td>\n",
              "      <td>400.0</td>\n",
              "      <td>800.0</td>\n",
              "      <td>260000.0</td>\n",
              "    </tr>\n",
              "    <tr>\n",
              "      <th>Preço</th>\n",
              "      <td>2683.0</td>\n",
              "      <td>679296.30</td>\n",
              "      <td>776984.72</td>\n",
              "      <td>0.0</td>\n",
              "      <td>254139.0</td>\n",
              "      <td>435000.0</td>\n",
              "      <td>850000.0</td>\n",
              "      <td>2000000.0</td>\n",
              "      <td>3018000.0</td>\n",
              "      <td>23000000.0</td>\n",
              "    </tr>\n",
              "    <tr>\n",
              "      <th>Quartos</th>\n",
              "      <td>2921.0</td>\n",
              "      <td>3.04</td>\n",
              "      <td>0.82</td>\n",
              "      <td>0.0</td>\n",
              "      <td>3.0</td>\n",
              "      <td>3.0</td>\n",
              "      <td>4.0</td>\n",
              "      <td>4.0</td>\n",
              "      <td>5.0</td>\n",
              "      <td>5.0</td>\n",
              "    </tr>\n",
              "    <tr>\n",
              "      <th>Banheiros</th>\n",
              "      <td>2921.0</td>\n",
              "      <td>2.62</td>\n",
              "      <td>1.33</td>\n",
              "      <td>1.0</td>\n",
              "      <td>2.0</td>\n",
              "      <td>2.0</td>\n",
              "      <td>4.0</td>\n",
              "      <td>5.0</td>\n",
              "      <td>5.0</td>\n",
              "      <td>5.0</td>\n",
              "    </tr>\n",
              "    <tr>\n",
              "      <th>Vagas</th>\n",
              "      <td>2921.0</td>\n",
              "      <td>2.13</td>\n",
              "      <td>1.15</td>\n",
              "      <td>0.0</td>\n",
              "      <td>1.0</td>\n",
              "      <td>2.0</td>\n",
              "      <td>2.0</td>\n",
              "      <td>5.0</td>\n",
              "      <td>5.0</td>\n",
              "      <td>5.0</td>\n",
              "    </tr>\n",
              "  </tbody>\n",
              "</table>\n",
              "</div>\n",
              "      <button class=\"colab-df-convert\" onclick=\"convertToInteractive('df-53da30b9-d6a4-4ff8-850e-bce473e8d298')\"\n",
              "              title=\"Convert this dataframe to an interactive table.\"\n",
              "              style=\"display:none;\">\n",
              "        \n",
              "  <svg xmlns=\"http://www.w3.org/2000/svg\" height=\"24px\"viewBox=\"0 0 24 24\"\n",
              "       width=\"24px\">\n",
              "    <path d=\"M0 0h24v24H0V0z\" fill=\"none\"/>\n",
              "    <path d=\"M18.56 5.44l.94 2.06.94-2.06 2.06-.94-2.06-.94-.94-2.06-.94 2.06-2.06.94zm-11 1L8.5 8.5l.94-2.06 2.06-.94-2.06-.94L8.5 2.5l-.94 2.06-2.06.94zm10 10l.94 2.06.94-2.06 2.06-.94-2.06-.94-.94-2.06-.94 2.06-2.06.94z\"/><path d=\"M17.41 7.96l-1.37-1.37c-.4-.4-.92-.59-1.43-.59-.52 0-1.04.2-1.43.59L10.3 9.45l-7.72 7.72c-.78.78-.78 2.05 0 2.83L4 21.41c.39.39.9.59 1.41.59.51 0 1.02-.2 1.41-.59l7.78-7.78 2.81-2.81c.8-.78.8-2.07 0-2.86zM5.41 20L4 18.59l7.72-7.72 1.47 1.35L5.41 20z\"/>\n",
              "  </svg>\n",
              "      </button>\n",
              "      \n",
              "  <style>\n",
              "    .colab-df-container {\n",
              "      display:flex;\n",
              "      flex-wrap:wrap;\n",
              "      gap: 12px;\n",
              "    }\n",
              "\n",
              "    .colab-df-convert {\n",
              "      background-color: #E8F0FE;\n",
              "      border: none;\n",
              "      border-radius: 50%;\n",
              "      cursor: pointer;\n",
              "      display: none;\n",
              "      fill: #1967D2;\n",
              "      height: 32px;\n",
              "      padding: 0 0 0 0;\n",
              "      width: 32px;\n",
              "    }\n",
              "\n",
              "    .colab-df-convert:hover {\n",
              "      background-color: #E2EBFA;\n",
              "      box-shadow: 0px 1px 2px rgba(60, 64, 67, 0.3), 0px 1px 3px 1px rgba(60, 64, 67, 0.15);\n",
              "      fill: #174EA6;\n",
              "    }\n",
              "\n",
              "    [theme=dark] .colab-df-convert {\n",
              "      background-color: #3B4455;\n",
              "      fill: #D2E3FC;\n",
              "    }\n",
              "\n",
              "    [theme=dark] .colab-df-convert:hover {\n",
              "      background-color: #434B5C;\n",
              "      box-shadow: 0px 1px 3px 1px rgba(0, 0, 0, 0.15);\n",
              "      filter: drop-shadow(0px 1px 2px rgba(0, 0, 0, 0.3));\n",
              "      fill: #FFFFFF;\n",
              "    }\n",
              "  </style>\n",
              "\n",
              "      <script>\n",
              "        const buttonEl =\n",
              "          document.querySelector('#df-53da30b9-d6a4-4ff8-850e-bce473e8d298 button.colab-df-convert');\n",
              "        buttonEl.style.display =\n",
              "          google.colab.kernel.accessAllowed ? 'block' : 'none';\n",
              "\n",
              "        async function convertToInteractive(key) {\n",
              "          const element = document.querySelector('#df-53da30b9-d6a4-4ff8-850e-bce473e8d298');\n",
              "          const dataTable =\n",
              "            await google.colab.kernel.invokeFunction('convertToInteractive',\n",
              "                                                     [key], {});\n",
              "          if (!dataTable) return;\n",
              "\n",
              "          const docLinkHtml = 'Like what you see? Visit the ' +\n",
              "            '<a target=\"_blank\" href=https://colab.research.google.com/notebooks/data_table.ipynb>data table notebook</a>'\n",
              "            + ' to learn more about interactive tables.';\n",
              "          element.innerHTML = '';\n",
              "          dataTable['output_type'] = 'display_data';\n",
              "          await google.colab.output.renderOutput(dataTable, element);\n",
              "          const docLink = document.createElement('div');\n",
              "          docLink.innerHTML = docLinkHtml;\n",
              "          element.appendChild(docLink);\n",
              "        }\n",
              "      </script>\n",
              "    </div>\n",
              "  </div>\n",
              "  "
            ]
          },
          "metadata": {},
          "execution_count": 101
        }
      ],
      "source": [
        "df.describe(percentiles = [.25, .5, .75, .95, .99]).round(2).T"
      ]
    },
    {
      "cell_type": "markdown",
      "id": "46c378af",
      "metadata": {
        "id": "46c378af"
      },
      "source": [
        "- Preço e área construída com muita diferença do máximo - filtrar? outlier?\n",
        "- Area construida igual a zero ´e um Terreno ou devemos excluir por ser um erro?\n",
        "- Area construida igual a duzentos e sessenta mil ´e um sitio ou um erro que devemos excluir?\n",
        "- O que devemos fazer com os precos que estao igual a zero, lembrando que eles representam 8%?\n",
        "\n",
        "Para analise de preco de imoveis e interessante sabermos o valor do metro quadrado de cada imovel. Isso pode ser util mais na frente.\n",
        "\n",
        " \n"
      ]
    },
    {
      "cell_type": "markdown",
      "source": [
        "#Inserindo coluna preco_por_metro"
      ],
      "metadata": {
        "id": "v8Yf6MwTZJGH"
      },
      "id": "v8Yf6MwTZJGH"
    },
    {
      "cell_type": "code",
      "source": [
        "df['preco_por_metro'] = round(df['Preço']/df['Area construida'])\n",
        "\n",
        "df.head()"
      ],
      "metadata": {
        "colab": {
          "base_uri": "https://localhost:8080/",
          "height": 206
        },
        "id": "RDDIHpUrZTCj",
        "outputId": "730e2324-1729-4b4a-9aba-c26b4e58e163"
      },
      "id": "RDDIHpUrZTCj",
      "execution_count": null,
      "outputs": [
        {
          "output_type": "execute_result",
          "data": {
            "text/plain": [
              "      Categoria  Area construida      Preço  Quartos  Banheiros  Vagas  \\\n",
              "0  Apartamentos            210.0  1100000.0        3          4      4   \n",
              "1  Apartamentos             50.0   115000.0        2          1      1   \n",
              "2         Casas            210.0  1450000.0        4          5      4   \n",
              "3         Casas            140.0   690000.0        4          4      2   \n",
              "4         Casas             66.0   110000.0        2          2      1   \n",
              "\n",
              "           Bairro  preco_por_metro  \n",
              "0          Fátima           5238.0  \n",
              "1  Vale do Gavião           2300.0  \n",
              "2          Gurupi           6905.0  \n",
              "3     Zoobotânico           4929.0  \n",
              "4             NaN           1667.0  "
            ],
            "text/html": [
              "\n",
              "  <div id=\"df-951acf2d-8d67-4cb7-910d-eb889410154d\">\n",
              "    <div class=\"colab-df-container\">\n",
              "      <div>\n",
              "<style scoped>\n",
              "    .dataframe tbody tr th:only-of-type {\n",
              "        vertical-align: middle;\n",
              "    }\n",
              "\n",
              "    .dataframe tbody tr th {\n",
              "        vertical-align: top;\n",
              "    }\n",
              "\n",
              "    .dataframe thead th {\n",
              "        text-align: right;\n",
              "    }\n",
              "</style>\n",
              "<table border=\"1\" class=\"dataframe\">\n",
              "  <thead>\n",
              "    <tr style=\"text-align: right;\">\n",
              "      <th></th>\n",
              "      <th>Categoria</th>\n",
              "      <th>Area construida</th>\n",
              "      <th>Preço</th>\n",
              "      <th>Quartos</th>\n",
              "      <th>Banheiros</th>\n",
              "      <th>Vagas</th>\n",
              "      <th>Bairro</th>\n",
              "      <th>preco_por_metro</th>\n",
              "    </tr>\n",
              "  </thead>\n",
              "  <tbody>\n",
              "    <tr>\n",
              "      <th>0</th>\n",
              "      <td>Apartamentos</td>\n",
              "      <td>210.0</td>\n",
              "      <td>1100000.0</td>\n",
              "      <td>3</td>\n",
              "      <td>4</td>\n",
              "      <td>4</td>\n",
              "      <td>Fátima</td>\n",
              "      <td>5238.0</td>\n",
              "    </tr>\n",
              "    <tr>\n",
              "      <th>1</th>\n",
              "      <td>Apartamentos</td>\n",
              "      <td>50.0</td>\n",
              "      <td>115000.0</td>\n",
              "      <td>2</td>\n",
              "      <td>1</td>\n",
              "      <td>1</td>\n",
              "      <td>Vale do Gavião</td>\n",
              "      <td>2300.0</td>\n",
              "    </tr>\n",
              "    <tr>\n",
              "      <th>2</th>\n",
              "      <td>Casas</td>\n",
              "      <td>210.0</td>\n",
              "      <td>1450000.0</td>\n",
              "      <td>4</td>\n",
              "      <td>5</td>\n",
              "      <td>4</td>\n",
              "      <td>Gurupi</td>\n",
              "      <td>6905.0</td>\n",
              "    </tr>\n",
              "    <tr>\n",
              "      <th>3</th>\n",
              "      <td>Casas</td>\n",
              "      <td>140.0</td>\n",
              "      <td>690000.0</td>\n",
              "      <td>4</td>\n",
              "      <td>4</td>\n",
              "      <td>2</td>\n",
              "      <td>Zoobotânico</td>\n",
              "      <td>4929.0</td>\n",
              "    </tr>\n",
              "    <tr>\n",
              "      <th>4</th>\n",
              "      <td>Casas</td>\n",
              "      <td>66.0</td>\n",
              "      <td>110000.0</td>\n",
              "      <td>2</td>\n",
              "      <td>2</td>\n",
              "      <td>1</td>\n",
              "      <td>NaN</td>\n",
              "      <td>1667.0</td>\n",
              "    </tr>\n",
              "  </tbody>\n",
              "</table>\n",
              "</div>\n",
              "      <button class=\"colab-df-convert\" onclick=\"convertToInteractive('df-951acf2d-8d67-4cb7-910d-eb889410154d')\"\n",
              "              title=\"Convert this dataframe to an interactive table.\"\n",
              "              style=\"display:none;\">\n",
              "        \n",
              "  <svg xmlns=\"http://www.w3.org/2000/svg\" height=\"24px\"viewBox=\"0 0 24 24\"\n",
              "       width=\"24px\">\n",
              "    <path d=\"M0 0h24v24H0V0z\" fill=\"none\"/>\n",
              "    <path d=\"M18.56 5.44l.94 2.06.94-2.06 2.06-.94-2.06-.94-.94-2.06-.94 2.06-2.06.94zm-11 1L8.5 8.5l.94-2.06 2.06-.94-2.06-.94L8.5 2.5l-.94 2.06-2.06.94zm10 10l.94 2.06.94-2.06 2.06-.94-2.06-.94-.94-2.06-.94 2.06-2.06.94z\"/><path d=\"M17.41 7.96l-1.37-1.37c-.4-.4-.92-.59-1.43-.59-.52 0-1.04.2-1.43.59L10.3 9.45l-7.72 7.72c-.78.78-.78 2.05 0 2.83L4 21.41c.39.39.9.59 1.41.59.51 0 1.02-.2 1.41-.59l7.78-7.78 2.81-2.81c.8-.78.8-2.07 0-2.86zM5.41 20L4 18.59l7.72-7.72 1.47 1.35L5.41 20z\"/>\n",
              "  </svg>\n",
              "      </button>\n",
              "      \n",
              "  <style>\n",
              "    .colab-df-container {\n",
              "      display:flex;\n",
              "      flex-wrap:wrap;\n",
              "      gap: 12px;\n",
              "    }\n",
              "\n",
              "    .colab-df-convert {\n",
              "      background-color: #E8F0FE;\n",
              "      border: none;\n",
              "      border-radius: 50%;\n",
              "      cursor: pointer;\n",
              "      display: none;\n",
              "      fill: #1967D2;\n",
              "      height: 32px;\n",
              "      padding: 0 0 0 0;\n",
              "      width: 32px;\n",
              "    }\n",
              "\n",
              "    .colab-df-convert:hover {\n",
              "      background-color: #E2EBFA;\n",
              "      box-shadow: 0px 1px 2px rgba(60, 64, 67, 0.3), 0px 1px 3px 1px rgba(60, 64, 67, 0.15);\n",
              "      fill: #174EA6;\n",
              "    }\n",
              "\n",
              "    [theme=dark] .colab-df-convert {\n",
              "      background-color: #3B4455;\n",
              "      fill: #D2E3FC;\n",
              "    }\n",
              "\n",
              "    [theme=dark] .colab-df-convert:hover {\n",
              "      background-color: #434B5C;\n",
              "      box-shadow: 0px 1px 3px 1px rgba(0, 0, 0, 0.15);\n",
              "      filter: drop-shadow(0px 1px 2px rgba(0, 0, 0, 0.3));\n",
              "      fill: #FFFFFF;\n",
              "    }\n",
              "  </style>\n",
              "\n",
              "      <script>\n",
              "        const buttonEl =\n",
              "          document.querySelector('#df-951acf2d-8d67-4cb7-910d-eb889410154d button.colab-df-convert');\n",
              "        buttonEl.style.display =\n",
              "          google.colab.kernel.accessAllowed ? 'block' : 'none';\n",
              "\n",
              "        async function convertToInteractive(key) {\n",
              "          const element = document.querySelector('#df-951acf2d-8d67-4cb7-910d-eb889410154d');\n",
              "          const dataTable =\n",
              "            await google.colab.kernel.invokeFunction('convertToInteractive',\n",
              "                                                     [key], {});\n",
              "          if (!dataTable) return;\n",
              "\n",
              "          const docLinkHtml = 'Like what you see? Visit the ' +\n",
              "            '<a target=\"_blank\" href=https://colab.research.google.com/notebooks/data_table.ipynb>data table notebook</a>'\n",
              "            + ' to learn more about interactive tables.';\n",
              "          element.innerHTML = '';\n",
              "          dataTable['output_type'] = 'display_data';\n",
              "          await google.colab.output.renderOutput(dataTable, element);\n",
              "          const docLink = document.createElement('div');\n",
              "          docLink.innerHTML = docLinkHtml;\n",
              "          element.appendChild(docLink);\n",
              "        }\n",
              "      </script>\n",
              "    </div>\n",
              "  </div>\n",
              "  "
            ]
          },
          "metadata": {},
          "execution_count": 102
        }
      ]
    },
    {
      "cell_type": "markdown",
      "source": [
        "- Dados Categoricos: Categoria, Bairro\n",
        "- Dados Discretos: Quartos, Banheiros, Vagas\n",
        "- Daods Continuos: Area construida, Preco, Preco por metro"
      ],
      "metadata": {
        "id": "iLkBknsUgdha"
      },
      "id": "iLkBknsUgdha"
    },
    {
      "cell_type": "markdown",
      "source": [
        "#Inserindo coluna Zona"
      ],
      "metadata": {
        "id": "ze5PXkhOkyd8"
      },
      "id": "ze5PXkhOkyd8"
    },
    {
      "cell_type": "code",
      "source": [
        "\n",
        "Leste = ['Jóquei', 'Jockey', 'Fátima', 'Horto', 'São Cristóvão', 'Ininga', \n",
        "'Santa Isabel', 'Morada do Sol', 'Noivos', 'Morros', 'Campestre', 'Pedra Mole', \n",
        "'Cidade Jardim', 'Novo Uruguai', 'Piçarreira', 'Planalto', 'Porto do Centro', \n",
        "'Samapi', 'Santa Lia', 'Satélite', 'Socopó', 'Tabajaras', 'Uruguai', \n",
        "'Vale do Gavião', 'Vale Quem Tem', 'Verde Lar', 'Árvores Verdes', 'São João', \n",
        "'Zoobotânico', 'Recanto das Palmeiras']\n",
        "\n",
        "\n",
        "    \n",
        "Sudeste = ['Beira Rio', 'Bom Princípio', 'Colorado', 'Comprida', 'Extrema', \n",
        "'Flor do Campo', 'Gurupi', 'Itararé', 'Livramento', 'Novo Horizonte', \n",
        "'Parque Ideal', 'Parque Poti', 'Redonda', 'Renascença', 'São Raimundo', \n",
        "'São Sebastião', 'Tancredo Neves', 'Todos os Santos', 'Verde Cap']\n",
        "\n",
        "Sul = ['Angelim', 'Angélica', 'Areias', 'Bela Vista', 'Brasilar', 'Catarina', \n",
        "'Cidade Nova', 'Cristo Rei', 'Distrito Industrial', 'Esplanada',\n",
        "'Lourival Parente', 'Macaúba', 'Monte Castelo', 'Morada Nova', 'Parque Jacinta', \n",
        "'Parque Juliana', 'Parque Piauí', 'Parque São João', 'Parque Sul', 'Pedra Miúda', \n",
        "'Pio XII', 'Portal Da Alegria', 'Promorar', 'Redenção', 'Saci', 'Santa Cruz',\n",
        "'Santa Luzia', 'Santo Antônio', 'São Lourenço', 'São Pedro', 'Tabuleta', \n",
        "'Três Andares', 'Triunfo', 'Vermelha', 'Nossa Senhora Das Graças']\n",
        "\n",
        "Norte = ['Aroeiras', 'Acarape', 'Aeroporto', 'Água Mineral', 'Alegre'\n",
        "'Alto Alegre', 'Parque Alvorada', 'Bom Jesus', 'Buenos Aires', 'Cidade Industrial', \n",
        "'Embrapa', 'Itaperu', 'Parque Brasil', 'Mafrense', 'Mafuá', 'Matadouro', 'Memorare', \n",
        "'Monte Verde', 'Mocambinho', 'Morro da Esperança', 'Nova Brasília', 'Olarias'\n",
        "'Poti Velho', 'Primavera', 'Real Copagre', 'Santa Maria da Codipe', 'Santa Rosa', \n",
        "'São Joaquim', 'Chapadinha', 'Jacinta Andrade', 'Pirajá', 'Vila São Francisco']\n",
        "\n",
        "Centro = ['Cabral', 'Centro Norte', 'Centro Sul', 'Porenquanto', 'Vila Operária', \n",
        "'Matinha', 'Ilhotas', 'Frei Serafim', 'Marquês', 'Piçarra']\n",
        "\n",
        "\n"
      ],
      "metadata": {
        "id": "O071kccAk8X4"
      },
      "id": "O071kccAk8X4",
      "execution_count": null,
      "outputs": []
    },
    {
      "cell_type": "code",
      "source": [
        "df_zona = df"
      ],
      "metadata": {
        "id": "SgkRHc8uZNCC"
      },
      "id": "SgkRHc8uZNCC",
      "execution_count": null,
      "outputs": []
    },
    {
      "cell_type": "code",
      "source": [
        "df_zona['Zona'] = ' '\n",
        "df_zona['Bairro']\n",
        "\n"
      ],
      "metadata": {
        "id": "A--qGt6WZMsn",
        "colab": {
          "base_uri": "https://localhost:8080/",
          "height": 35
        },
        "outputId": "893994ab-46fb-4850-b048-8fd9a548f136"
      },
      "id": "A--qGt6WZMsn",
      "execution_count": null,
      "outputs": [
        {
          "output_type": "execute_result",
          "data": {
            "text/plain": [
              "'Fátima'"
            ],
            "application/vnd.google.colaboratory.intrinsic+json": {
              "type": "string"
            }
          },
          "metadata": {},
          "execution_count": 82
        }
      ]
    },
    {
      "cell_type": "code",
      "source": [
        "\n"
      ],
      "metadata": {
        "id": "W__7KMcOl21Q"
      },
      "id": "W__7KMcOl21Q",
      "execution_count": null,
      "outputs": []
    },
    {
      "cell_type": "code",
      "execution_count": null,
      "id": "854e2a0d",
      "metadata": {
        "id": "854e2a0d",
        "outputId": "8248afb2-d81b-406e-9226-5e8658898200",
        "colab": {
          "base_uri": "https://localhost:8080/",
          "height": 365
        }
      },
      "outputs": [
        {
          "output_type": "display_data",
          "data": {
            "text/plain": [
              "<Figure size 360x360 with 1 Axes>"
            ],
            "image/png": "[encoded data removed]"
          },
          "metadata": {}
        }
      ],
      "source": [
        "sns.displot(df['Preço']);"
      ]
    },
    {
      "cell_type": "code",
      "execution_count": null,
      "id": "2f357118",
      "metadata": {
        "id": "2f357118",
        "outputId": "415f1165-b83d-41e9-a7dd-42a0256b7ce7",
        "colab": {
          "base_uri": "https://localhost:8080/",
          "height": 362
        }
      },
      "outputs": [
        {
          "output_type": "display_data",
          "data": {
            "text/plain": [
              "<Figure size 576x396 with 6 Axes>"
            ],
            "image/png": "[encoded data removed]"
          },
          "metadata": {}
        }
      ],
      "source": [
        "\n",
        "df.hist(bins = 25);"
      ]
    },
    {
      "cell_type": "markdown",
      "id": "4544ea75",
      "metadata": {
        "id": "4544ea75"
      },
      "source": [
        "#### 2.6.2 Categorical Attributes"
      ]
    },
    {
      "cell_type": "code",
      "execution_count": null,
      "id": "ccf1a63c",
      "metadata": {
        "id": "ccf1a63c",
        "outputId": "818d3f4e-4b53-4180-891b-412821f04235",
        "colab": {
          "base_uri": "https://localhost:8080/",
          "height": 112
        }
      },
      "outputs": [
        {
          "output_type": "execute_result",
          "data": {
            "text/plain": [
              "          count unique           top  freq\n",
              "Categoria  2921      2  Apartamentos  1682\n",
              "Bairro     2838    105        Jóquei   241"
            ],
            "text/html": [
              "\n",
              "  <div id=\"df-6798b8ee-79ac-489a-840a-c6a8796c4cd4\">\n",
              "    <div class=\"colab-df-container\">\n",
              "      <div>\n",
              "<style scoped>\n",
              "    .dataframe tbody tr th:only-of-type {\n",
              "        vertical-align: middle;\n",
              "    }\n",
              "\n",
              "    .dataframe tbody tr th {\n",
              "        vertical-align: top;\n",
              "    }\n",
              "\n",
              "    .dataframe thead th {\n",
              "        text-align: right;\n",
              "    }\n",
              "</style>\n",
              "<table border=\"1\" class=\"dataframe\">\n",
              "  <thead>\n",
              "    <tr style=\"text-align: right;\">\n",
              "      <th></th>\n",
              "      <th>count</th>\n",
              "      <th>unique</th>\n",
              "      <th>top</th>\n",
              "      <th>freq</th>\n",
              "    </tr>\n",
              "  </thead>\n",
              "  <tbody>\n",
              "    <tr>\n",
              "      <th>Categoria</th>\n",
              "      <td>2921</td>\n",
              "      <td>2</td>\n",
              "      <td>Apartamentos</td>\n",
              "      <td>1682</td>\n",
              "    </tr>\n",
              "    <tr>\n",
              "      <th>Bairro</th>\n",
              "      <td>2838</td>\n",
              "      <td>105</td>\n",
              "      <td>Jóquei</td>\n",
              "      <td>241</td>\n",
              "    </tr>\n",
              "  </tbody>\n",
              "</table>\n",
              "</div>\n",
              "      <button class=\"colab-df-convert\" onclick=\"convertToInteractive('df-6798b8ee-79ac-489a-840a-c6a8796c4cd4')\"\n",
              "              title=\"Convert this dataframe to an interactive table.\"\n",
              "              style=\"display:none;\">\n",
              "        \n",
              "  <svg xmlns=\"http://www.w3.org/2000/svg\" height=\"24px\"viewBox=\"0 0 24 24\"\n",
              "       width=\"24px\">\n",
              "    <path d=\"M0 0h24v24H0V0z\" fill=\"none\"/>\n",
              "    <path d=\"M18.56 5.44l.94 2.06.94-2.06 2.06-.94-2.06-.94-.94-2.06-.94 2.06-2.06.94zm-11 1L8.5 8.5l.94-2.06 2.06-.94-2.06-.94L8.5 2.5l-.94 2.06-2.06.94zm10 10l.94 2.06.94-2.06 2.06-.94-2.06-.94-.94-2.06-.94 2.06-2.06.94z\"/><path d=\"M17.41 7.96l-1.37-1.37c-.4-.4-.92-.59-1.43-.59-.52 0-1.04.2-1.43.59L10.3 9.45l-7.72 7.72c-.78.78-.78 2.05 0 2.83L4 21.41c.39.39.9.59 1.41.59.51 0 1.02-.2 1.41-.59l7.78-7.78 2.81-2.81c.8-.78.8-2.07 0-2.86zM5.41 20L4 18.59l7.72-7.72 1.47 1.35L5.41 20z\"/>\n",
              "  </svg>\n",
              "      </button>\n",
              "      \n",
              "  <style>\n",
              "    .colab-df-container {\n",
              "      display:flex;\n",
              "      flex-wrap:wrap;\n",
              "      gap: 12px;\n",
              "    }\n",
              "\n",
              "    .colab-df-convert {\n",
              "      background-color: #E8F0FE;\n",
              "      border: none;\n",
              "      border-radius: 50%;\n",
              "      cursor: pointer;\n",
              "      display: none;\n",
              "      fill: #1967D2;\n",
              "      height: 32px;\n",
              "      padding: 0 0 0 0;\n",
              "      width: 32px;\n",
              "    }\n",
              "\n",
              "    .colab-df-convert:hover {\n",
              "      background-color: #E2EBFA;\n",
              "      box-shadow: 0px 1px 2px rgba(60, 64, 67, 0.3), 0px 1px 3px 1px rgba(60, 64, 67, 0.15);\n",
              "      fill: #174EA6;\n",
              "    }\n",
              "\n",
              "    [theme=dark] .colab-df-convert {\n",
              "      background-color: #3B4455;\n",
              "      fill: #D2E3FC;\n",
              "    }\n",
              "\n",
              "    [theme=dark] .colab-df-convert:hover {\n",
              "      background-color: #434B5C;\n",
              "      box-shadow: 0px 1px 3px 1px rgba(0, 0, 0, 0.15);\n",
              "      filter: drop-shadow(0px 1px 2px rgba(0, 0, 0, 0.3));\n",
              "      fill: #FFFFFF;\n",
              "    }\n",
              "  </style>\n",
              "\n",
              "      <script>\n",
              "        const buttonEl =\n",
              "          document.querySelector('#df-6798b8ee-79ac-489a-840a-c6a8796c4cd4 button.colab-df-convert');\n",
              "        buttonEl.style.display =\n",
              "          google.colab.kernel.accessAllowed ? 'block' : 'none';\n",
              "\n",
              "        async function convertToInteractive(key) {\n",
              "          const element = document.querySelector('#df-6798b8ee-79ac-489a-840a-c6a8796c4cd4');\n",
              "          const dataTable =\n",
              "            await google.colab.kernel.invokeFunction('convertToInteractive',\n",
              "                                                     [key], {});\n",
              "          if (!dataTable) return;\n",
              "\n",
              "          const docLinkHtml = 'Like what you see? Visit the ' +\n",
              "            '<a target=\"_blank\" href=https://colab.research.google.com/notebooks/data_table.ipynb>data table notebook</a>'\n",
              "            + ' to learn more about interactive tables.';\n",
              "          element.innerHTML = '';\n",
              "          dataTable['output_type'] = 'display_data';\n",
              "          await google.colab.output.renderOutput(dataTable, element);\n",
              "          const docLink = document.createElement('div');\n",
              "          docLink.innerHTML = docLinkHtml;\n",
              "          element.appendChild(docLink);\n",
              "        }\n",
              "      </script>\n",
              "    </div>\n",
              "  </div>\n",
              "  "
            ]
          },
          "metadata": {},
          "execution_count": 145
        }
      ],
      "source": [
        "df.describe(include= 'category').T\n"
      ]
    },
    {
      "cell_type": "code",
      "execution_count": null,
      "id": "b5d329a9",
      "metadata": {
        "cell_style": "split",
        "id": "b5d329a9",
        "outputId": "11200db6-4410-43e3-f8d3-c9c8e969b564",
        "colab": {
          "base_uri": "https://localhost:8080/"
        }
      },
      "outputs": [
        {
          "output_type": "execute_result",
          "data": {
            "text/plain": [
              "Apartamentos    0.57583\n",
              "Casas           0.42417\n",
              "Name: Categoria, dtype: float64"
            ]
          },
          "metadata": {},
          "execution_count": 32
        }
      ],
      "source": [
        "# Percentual de cada Categoria\n",
        "df.Categoria.value_counts(normalize=True)"
      ]
    },
    {
      "cell_type": "code",
      "execution_count": null,
      "id": "7f12deba",
      "metadata": {
        "cell_style": "split",
        "id": "7f12deba",
        "outputId": "bf8293d1-b667-4ce9-be5b-3661548e25cf",
        "colab": {
          "base_uri": "https://localhost:8080/"
        }
      },
      "outputs": [
        {
          "output_type": "execute_result",
          "data": {
            "text/plain": [
              "Jóquei           0.084919\n",
              "Uruguai          0.081395\n",
              "Fátima           0.063425\n",
              "Ininga           0.061311\n",
              "Morros           0.058844\n",
              "Gurupi           0.055673\n",
              "Santa Isabel     0.050035\n",
              "São Cristóvão    0.047569\n",
              "Horto            0.045455\n",
              "Vale Quem Tem    0.027484\n",
              "Name: Bairro, dtype: float64"
            ]
          },
          "metadata": {},
          "execution_count": 33
        }
      ],
      "source": [
        "# Percentual nos 10 primeiros bairros\n",
        "df.Bairro.value_counts(normalize=True)[:10]"
      ]
    },
    {
      "cell_type": "code",
      "execution_count": null,
      "id": "3c1a5139",
      "metadata": {
        "id": "3c1a5139",
        "outputId": "4a6b64dd-e60f-47fa-eb68-bf1252146ac2",
        "colab": {
          "base_uri": "https://localhost:8080/",
          "height": 399
        }
      },
      "outputs": [
        {
          "output_type": "display_data",
          "data": {
            "text/plain": [
              "<Figure size 1008x432 with 1 Axes>"
            ],
            "image/png": "[encoded data removed]"
          },
          "metadata": {}
        }
      ],
      "source": [
        "fig = plt.subplots(figsize = (14,6))\n",
        "\n",
        "sns.boxplot( x='Categoria', y='Preço', data=df );\n"
      ]
    },
    {
      "cell_type": "code",
      "execution_count": null,
      "id": "3b43fb7e",
      "metadata": {
        "id": "3b43fb7e",
        "outputId": "4e57d439-3a5f-4850-e0b3-883bcb493bad",
        "colab": {
          "base_uri": "https://localhost:8080/",
          "height": 850
        }
      },
      "outputs": [
        {
          "output_type": "display_data",
          "data": {
            "text/plain": [
              "<Figure size 1440x864 with 1 Axes>"
            ],
            "image/png": "[encoded data removed]"
          },
          "metadata": {}
        }
      ],
      "source": [
        "fig = plt.subplots(figsize = (20,12))\n",
        "sns.countplot(x ='Bairro', hue= 'Categoria',data = df );\n",
        "plt.title(\" Quantidade de casas e apartamentos por Bairro\")\n",
        "plt.xticks(rotation=90);"
      ]
    },
    {
      "cell_type": "markdown",
      "id": "69ac7a83",
      "metadata": {
        "id": "69ac7a83"
      },
      "source": [
        "## 3. Feature Engineering"
      ]
    },
    {
      "cell_type": "code",
      "execution_count": null,
      "id": "96055088",
      "metadata": {
        "id": "96055088"
      },
      "outputs": [],
      "source": [
        "df1 = df"
      ]
    },
    {
      "cell_type": "markdown",
      "id": "653c77c5",
      "metadata": {
        "id": "653c77c5"
      },
      "source": [
        "### 3.1 Mapa Mental de Hipótese"
      ]
    },
    {
      "cell_type": "code",
      "execution_count": null,
      "id": "488253dd",
      "metadata": {
        "id": "488253dd"
      },
      "outputs": [],
      "source": [
        "# TODO Imagem"
      ]
    },
    {
      "cell_type": "markdown",
      "id": "b79f32d3",
      "metadata": {
        "id": "b79f32d3"
      },
      "source": [
        "#### 3.2 Criação de Hipoteses"
      ]
    },
    {
      "cell_type": "markdown",
      "id": "2985aac2",
      "metadata": {
        "id": "2985aac2"
      },
      "source": [
        "- Bairros mais centrais, os imóveis são mais caros?\n",
        "- Preços de imóveis  variam de dependendo do bairro\n",
        "- Quanto mais quartos, mais caro o imóvel?\n",
        "- Quanto mais banheiros, mais caro o imóvel?\n",
        "- Casas são mais caras que apartamentos?\n",
        "- Quanto maior a área construída, maior o preço?\n",
        "- TODO"
      ]
    },
    {
      "cell_type": "markdown",
      "id": "7e78b2fd",
      "metadata": {
        "id": "7e78b2fd"
      },
      "source": [
        "### 3.3 Feature Enginnering"
      ]
    },
    {
      "cell_type": "code",
      "execution_count": null,
      "id": "c1b52017",
      "metadata": {
        "id": "c1b52017"
      },
      "outputs": [],
      "source": [
        "# TODO"
      ]
    },
    {
      "cell_type": "code",
      "execution_count": null,
      "id": "58bf6d76",
      "metadata": {
        "id": "58bf6d76"
      },
      "outputs": [],
      "source": [
        " \n",
        "df1['QuartosporAreaConstruida'] = df1['Quartos'] / df1['Area construida']\n",
        "df1['LogAreadivBanheiro'] = np.log(df1['Banheiros'] / df1['Area construida'])\n",
        "\n",
        "# Log das áreas\n",
        "df1['LogAreaConstruida'] = np.log1p(df1['Area construida'])"
      ]
    },
    {
      "cell_type": "markdown",
      "id": "7ab146a0",
      "metadata": {
        "id": "7ab146a0"
      },
      "source": [
        "### 2.5 Filter variables"
      ]
    },
    {
      "cell_type": "code",
      "execution_count": null,
      "id": "dc79fd31",
      "metadata": {
        "id": "dc79fd31"
      },
      "outputs": [],
      "source": [
        "# Filtra valores preco e area construida com base na statistica\n",
        "df1 = df1[df.Preço < 1000000][df1['Area construida'] < 800]"
      ]
    },
    {
      "cell_type": "markdown",
      "id": "a51a3022",
      "metadata": {
        "id": "a51a3022"
      },
      "source": [
        "# 3. Análise Exploratória de Dados EDA"
      ]
    },
    {
      "cell_type": "markdown",
      "id": "ca043d78",
      "metadata": {
        "id": "ca043d78"
      },
      "source": [
        "### 3.1 Análise Univariada"
      ]
    },
    {
      "cell_type": "code",
      "execution_count": null,
      "id": "156287c7",
      "metadata": {
        "id": "156287c7"
      },
      "outputs": [],
      "source": [
        "# TODO"
      ]
    },
    {
      "cell_type": "markdown",
      "id": "f54003d6",
      "metadata": {
        "id": "f54003d6"
      },
      "source": [
        "### 3.2 Análise Bivariada"
      ]
    },
    {
      "cell_type": "code",
      "execution_count": null,
      "id": "7f5ebbb3",
      "metadata": {
        "scrolled": true,
        "id": "7f5ebbb3",
        "outputId": "cc9633f7-7240-4909-d85a-fb5dbb3f787e",
        "colab": {
          "base_uri": "https://localhost:8080/",
          "height": 922
        }
      },
      "outputs": [
        {
          "output_type": "display_data",
          "data": {
            "text/plain": [
              "<Figure size 1440x1152 with 2 Axes>"
            ],
            "image/png": "[encoded data removed]"
          },
          "metadata": {}
        }
      ],
      "source": [
        "num = df1.select_dtypes( include=['int32', 'float64'] )\n",
        "\n",
        "fig = plt.subplots(figsize = (20,16))\n",
        "\n",
        "correlation = num.corr( method='pearson' )\n",
        "sns.heatmap( correlation, annot=True );\n",
        "plt.show();"
      ]
    },
    {
      "cell_type": "code",
      "execution_count": null,
      "id": "e8cc799a",
      "metadata": {
        "id": "e8cc799a",
        "outputId": "bfe9b835-cb84-4f6d-a264-ac2c66193971",
        "colab": {
          "base_uri": "https://localhost:8080/",
          "height": 1000
        }
      },
      "outputs": [
        {
          "output_type": "stream",
          "name": "stdout",
          "text": [
            "CATEGORIA\n"
          ]
        },
        {
          "output_type": "display_data",
          "data": {
            "text/html": [
              "<html>\n",
              "<head><meta charset=\"utf-8\" /></head>\n",
              "<body>\n",
              "    <div>            <script src=\"https://cdnjs.cloudflare.com/ajax/libs/mathjax/2.7.5/MathJax.js?config=TeX-AMS-MML_SVG\"></script><script type=\"text/javascript\">if (window.MathJax) {MathJax.Hub.Config({SVG: {font: \"STIX-Web\"}});}</script>                <script type=\"text/javascript\">window.PlotlyConfig = {MathJaxConfig: 'local'};</script>\n",
              "        <script src=\"https://cdn.plot.ly/plotly-2.8.3.min.js\"></script>                <div id=\"d5535db9-b028-4d7f-85a9-ee214d485dbd\" class=\"plotly-graph-div\" style=\"height:525px; width:100%;\"></div>            <script type=\"text/javascript\">                                    window.PLOTLYENV=window.PLOTLYENV || {};                                    if (document.getElementById(\"d5535db9-b028-4d7f-85a9-ee214d485dbd\")) {                    Plotly.newPlot(                        \"d5535db9-b028-4d7f-85a9-ee214d485dbd\",                        [{\"alignmentgroup\":\"True\",\"bingroup\":\"x\",\"hovertemplate\":\"Categoria=%{x}<br>count=%{y}<extra></extra>\",\"legendgroup\":\"Apartamentos\",\"marker\":{\"color\":\"#636efa\",\"pattern\":{\"shape\":\"\"}},\"name\":\"Apartamentos\",\"offsetgroup\":\"Apartamentos\",\"orientation\":\"v\",\"showlegend\":true,\"x\":[\"Apartamentos\",\"Apartamentos\",\"Apartamentos\",\"Apartamentos\",\"Apartamentos\",\"Apartamentos\",\"Apartamentos\",\"Apartamentos\",\"Apartamentos\",\"Apartamentos\",\"Apartamentos\",\"Apartamentos\",\"Apartamentos\",\"Apartamentos\",\"Apartamentos\",\"Apartamentos\",\"Apartamentos\",\"Apartamentos\",\"Apartamentos\",\"Apartamentos\",\"Apartamentos\",\"Apartamentos\",\"Apartamentos\",\"Apartamentos\",\"Apartamentos\",\"Apartamentos\",\"Apartamentos\",\"Apartamentos\",\"Apartamentos\",\"Apartamentos\",\"Apartamentos\",\"Apartamentos\",\"Apartamentos\",\"Apartamentos\",\"Apartamentos\",\"Apartamentos\",\"Apartamentos\",\"Apartamentos\",\"Apartamentos\",\"Apartamentos\",\"Apartamentos\",\"Apartamentos\",\"Apartamentos\",\"Apartamentos\",\"Apartamentos\",\"Apartamentos\",\"Apartamentos\",\"Apartamentos\",\"Apartamentos\",\"Apartamentos\",\"Apartamentos\",\"Apartamentos\",\"Apartamentos\",\"Apartamentos\",\"Apartamentos\",\"Apartamentos\",\"Apartamentos\",\"Apartamentos\",\"Apartamentos\",\"Apartamentos\",\"Apartamentos\",\"Apartamentos\",\"Apartamentos\",\"Apartamentos\",\"Apartamentos\",\"Apartamentos\",\"Apartamentos\",\"Apartamentos\",\"Apartamentos\",\"Apartamentos\",\"Apartamentos\",\"Apartamentos\",\"Apartamentos\",\"Apartamentos\",\"Apartamentos\",\"Apartamentos\",\"Apartamentos\",\"Apartamentos\",\"Apartamentos\",\"Apartamentos\",\"Apartamentos\",\"Apartamentos\",\"Apartamentos\",\"Apartamentos\",\"Apartamentos\",\"Apartamentos\",\"Apartamentos\",\"Apartamentos\",\"Apartamentos\",\"Apartamentos\",\"Apartamentos\",\"Apartamentos\",\"Apartamentos\",\"Apartamentos\",\"Apartamentos\",\"Apartamentos\",\"Apartamentos\",\"Apartamentos\",\"Apartamentos\",\"Apartamentos\",\"Apartamentos\",\"Apartamentos\",\"Apartamentos\",\"Apartamentos\",\"Apartamentos\",\"Apartamentos\",\"Apartamentos\",\"Apartamentos\",\"Apartamentos\",\"Apartamentos\",\"Apartamentos\",\"Apartamentos\",\"Apartamentos\",\"Apartamentos\",\"Apartamentos\",\"Apartamentos\",\"Apartamentos\",\"Apartamentos\",\"Apartamentos\",\"Apartamentos\",\"Apartamentos\",\"Apartamentos\",\"Apartamentos\",\"Apartamentos\",\"Apartamentos\",\"Apartamentos\",\"Apartamentos\",\"Apartamentos\",\"Apartamentos\",\"Apartamentos\",\"Apartamentos\",\"Apartamentos\",\"Apartamentos\",\"Apartamentos\",\"Apartamentos\",\"Apartamentos\",\"Apartamentos\",\"Apartamentos\",\"Apartamentos\",\"Apartamentos\",\"Apartamentos\",\"Apartamentos\",\"Apartamentos\",\"Apartamentos\",\"Apartamentos\",\"Apartamentos\",\"Apartamentos\",\"Apartamentos\",\"Apartamentos\",\"Apartamentos\",\"Apartamentos\",\"Apartamentos\",\"Apartamentos\",\"Apartamentos\",\"Apartamentos\",\"Apartamentos\",\"Apartamentos\",\"Apartamentos\",\"Apartamentos\",\"Apartamentos\",\"Apartamentos\",\"Apartamentos\",\"Apartamentos\",\"Apartamentos\",\"Apartamentos\",\"Apartamentos\",\"Apartamentos\",\"Apartamentos\",\"Apartamentos\",\"Apartamentos\",\"Apartamentos\",\"Apartamentos\",\"Apartamentos\",\"Apartamentos\",\"Apartamentos\",\"Apartamentos\",\"Apartamentos\",\"Apartamentos\",\"Apartamentos\",\"Apartamentos\",\"Apartamentos\",\"Apartamentos\",\"Apartamentos\",\"Apartamentos\",\"Apartamentos\",\"Apartamentos\",\"Apartamentos\",\"Apartamentos\",\"Apartamentos\",\"Apartamentos\",\"Apartamentos\",\"Apartamentos\",\"Apartamentos\",\"Apartamentos\",\"Apartamentos\",\"Apartamentos\",\"Apartamentos\",\"Apartamentos\",\"Apartamentos\",\"Apartamentos\",\"Apartamentos\",\"Apartamentos\",\"Apartamentos\",\"Apartamentos\",\"Apartamentos\",\"Apartamentos\",\"Apartamentos\",\"Apartamentos\",\"Apartamentos\",\"Apartamentos\",\"Apartamentos\",\"Apartamentos\",\"Apartamentos\",\"Apartamentos\",\"Apartamentos\",\"Apartamentos\",\"Apartamentos\",\"Apartamentos\",\"Apartamentos\",\"Apartamentos\",\"Apartamentos\",\"Apartamentos\",\"Apartamentos\",\"Apartamentos\",\"Apartamentos\",\"Apartamentos\",\"Apartamentos\",\"Apartamentos\",\"Apartamentos\",\"Apartamentos\",\"Apartamentos\",\"Apartamentos\",\"Apartamentos\",\"Apartamentos\",\"Apartamentos\",\"Apartamentos\",\"Apartamentos\",\"Apartamentos\",\"Apartamentos\",\"Apartamentos\",\"Apartamentos\",\"Apartamentos\",\"Apartamentos\",\"Apartamentos\",\"Apartamentos\",\"Apartamentos\",\"Apartamentos\",\"Apartamentos\",\"Apartamentos\",\"Apartamentos\",\"Apartamentos\",\"Apartamentos\",\"Apartamentos\",\"Apartamentos\",\"Apartamentos\",\"Apartamentos\",\"Apartamentos\",\"Apartamentos\",\"Apartamentos\",\"Apartamentos\",\"Apartamentos\",\"Apartamentos\",\"Apartamentos\",\"Apartamentos\",\"Apartamentos\",\"Apartamentos\",\"Apartamentos\",\"Apartamentos\",\"Apartamentos\",\"Apartamentos\",\"Apartamentos\",\"Apartamentos\",\"Apartamentos\",\"Apartamentos\",\"Apartamentos\",\"Apartamentos\",\"Apartamentos\",\"Apartamentos\",\"Apartamentos\",\"Apartamentos\",\"Apartamentos\",\"Apartamentos\",\"Apartamentos\",\"Apartamentos\",\"Apartamentos\",\"Apartamentos\",\"Apartamentos\",\"Apartamentos\",\"Apartamentos\",\"Apartamentos\",\"Apartamentos\",\"Apartamentos\",\"Apartamentos\",\"Apartamentos\",\"Apartamentos\",\"Apartamentos\",\"Apartamentos\",\"Apartamentos\",\"Apartamentos\",\"Apartamentos\",\"Apartamentos\",\"Apartamentos\",\"Apartamentos\",\"Apartamentos\",\"Apartamentos\",\"Apartamentos\",\"Apartamentos\",\"Apartamentos\",\"Apartamentos\",\"Apartamentos\",\"Apartamentos\",\"Apartamentos\",\"Apartamentos\",\"Apartamentos\",\"Apartamentos\",\"Apartamentos\",\"Apartamentos\",\"Apartamentos\",\"Apartamentos\",\"Apartamentos\",\"Apartamentos\",\"Apartamentos\",\"Apartamentos\",\"Apartamentos\",\"Apartamentos\",\"Apartamentos\",\"Apartamentos\",\"Apartamentos\",\"Apartamentos\",\"Apartamentos\",\"Apartamentos\",\"Apartamentos\",\"Apartamentos\",\"Apartamentos\",\"Apartamentos\",\"Apartamentos\",\"Apartamentos\",\"Apartamentos\",\"Apartamentos\",\"Apartamentos\",\"Apartamentos\",\"Apartamentos\",\"Apartamentos\",\"Apartamentos\",\"Apartamentos\",\"Apartamentos\",\"Apartamentos\",\"Apartamentos\",\"Apartamentos\",\"Apartamentos\",\"Apartamentos\",\"Apartamentos\",\"Apartamentos\",\"Apartamentos\",\"Apartamentos\",\"Apartamentos\",\"Apartamentos\",\"Apartamentos\",\"Apartamentos\",\"Apartamentos\",\"Apartamentos\",\"Apartamentos\",\"Apartamentos\",\"Apartamentos\",\"Apartamentos\",\"Apartamentos\",\"Apartamentos\",\"Apartamentos\",\"Apartamentos\",\"Apartamentos\",\"Apartamentos\",\"Apartamentos\",\"Apartamentos\",\"Apartamentos\",\"Apartamentos\",\"Apartamentos\",\"Apartamentos\",\"Apartamentos\",\"Apartamentos\",\"Apartamentos\",\"Apartamentos\",\"Apartamentos\",\"Apartamentos\",\"Apartamentos\",\"Apartamentos\",\"Apartamentos\",\"Apartamentos\",\"Apartamentos\",\"Apartamentos\",\"Apartamentos\",\"Apartamentos\",\"Apartamentos\",\"Apartamentos\",\"Apartamentos\",\"Apartamentos\",\"Apartamentos\",\"Apartamentos\",\"Apartamentos\",\"Apartamentos\",\"Apartamentos\",\"Apartamentos\",\"Apartamentos\",\"Apartamentos\",\"Apartamentos\",\"Apartamentos\",\"Apartamentos\",\"Apartamentos\",\"Apartamentos\",\"Apartamentos\",\"Apartamentos\",\"Apartamentos\",\"Apartamentos\",\"Apartamentos\",\"Apartamentos\",\"Apartamentos\",\"Apartamentos\",\"Apartamentos\",\"Apartamentos\",\"Apartamentos\",\"Apartamentos\",\"Apartamentos\",\"Apartamentos\",\"Apartamentos\",\"Apartamentos\",\"Apartamentos\",\"Apartamentos\",\"Apartamentos\",\"Apartamentos\",\"Apartamentos\",\"Apartamentos\",\"Apartamentos\",\"Apartamentos\",\"Apartamentos\",\"Apartamentos\",\"Apartamentos\",\"Apartamentos\",\"Apartamentos\",\"Apartamentos\",\"Apartamentos\",\"Apartamentos\",\"Apartamentos\",\"Apartamentos\",\"Apartamentos\",\"Apartamentos\",\"Apartamentos\",\"Apartamentos\",\"Apartamentos\",\"Apartamentos\",\"Apartamentos\",\"Apartamentos\",\"Apartamentos\",\"Apartamentos\",\"Apartamentos\",\"Apartamentos\",\"Apartamentos\",\"Apartamentos\",\"Apartamentos\",\"Apartamentos\",\"Apartamentos\",\"Apartamentos\",\"Apartamentos\",\"Apartamentos\",\"Apartamentos\",\"Apartamentos\",\"Apartamentos\",\"Apartamentos\",\"Apartamentos\",\"Apartamentos\",\"Apartamentos\",\"Apartamentos\",\"Apartamentos\",\"Apartamentos\",\"Apartamentos\",\"Apartamentos\",\"Apartamentos\",\"Apartamentos\",\"Apartamentos\",\"Apartamentos\",\"Apartamentos\",\"Apartamentos\",\"Apartamentos\",\"Apartamentos\",\"Apartamentos\",\"Apartamentos\",\"Apartamentos\",\"Apartamentos\",\"Apartamentos\",\"Apartamentos\",\"Apartamentos\",\"Apartamentos\",\"Apartamentos\",\"Apartamentos\",\"Apartamentos\",\"Apartamentos\",\"Apartamentos\",\"Apartamentos\",\"Apartamentos\",\"Apartamentos\",\"Apartamentos\",\"Apartamentos\",\"Apartamentos\",\"Apartamentos\",\"Apartamentos\",\"Apartamentos\",\"Apartamentos\",\"Apartamentos\",\"Apartamentos\",\"Apartamentos\",\"Apartamentos\",\"Apartamentos\",\"Apartamentos\",\"Apartamentos\",\"Apartamentos\",\"Apartamentos\",\"Apartamentos\",\"Apartamentos\",\"Apartamentos\",\"Apartamentos\",\"Apartamentos\",\"Apartamentos\",\"Apartamentos\",\"Apartamentos\",\"Apartamentos\",\"Apartamentos\",\"Apartamentos\",\"Apartamentos\",\"Apartamentos\",\"Apartamentos\",\"Apartamentos\",\"Apartamentos\",\"Apartamentos\",\"Apartamentos\",\"Apartamentos\",\"Apartamentos\",\"Apartamentos\",\"Apartamentos\",\"Apartamentos\",\"Apartamentos\",\"Apartamentos\",\"Apartamentos\",\"Apartamentos\",\"Apartamentos\",\"Apartamentos\",\"Apartamentos\",\"Apartamentos\",\"Apartamentos\",\"Apartamentos\",\"Apartamentos\",\"Apartamentos\",\"Apartamentos\",\"Apartamentos\",\"Apartamentos\",\"Apartamentos\",\"Apartamentos\",\"Apartamentos\",\"Apartamentos\",\"Apartamentos\",\"Apartamentos\",\"Apartamentos\",\"Apartamentos\",\"Apartamentos\",\"Apartamentos\",\"Apartamentos\",\"Apartamentos\",\"Apartamentos\",\"Apartamentos\",\"Apartamentos\",\"Apartamentos\",\"Apartamentos\",\"Apartamentos\",\"Apartamentos\",\"Apartamentos\",\"Apartamentos\",\"Apartamentos\",\"Apartamentos\",\"Apartamentos\",\"Apartamentos\",\"Apartamentos\",\"Apartamentos\",\"Apartamentos\",\"Apartamentos\",\"Apartamentos\",\"Apartamentos\",\"Apartamentos\",\"Apartamentos\",\"Apartamentos\",\"Apartamentos\",\"Apartamentos\",\"Apartamentos\",\"Apartamentos\",\"Apartamentos\",\"Apartamentos\",\"Apartamentos\",\"Apartamentos\",\"Apartamentos\",\"Apartamentos\",\"Apartamentos\",\"Apartamentos\",\"Apartamentos\",\"Apartamentos\",\"Apartamentos\",\"Apartamentos\",\"Apartamentos\",\"Apartamentos\",\"Apartamentos\",\"Apartamentos\",\"Apartamentos\",\"Apartamentos\",\"Apartamentos\",\"Apartamentos\",\"Apartamentos\",\"Apartamentos\",\"Apartamentos\",\"Apartamentos\",\"Apartamentos\",\"Apartamentos\",\"Apartamentos\",\"Apartamentos\",\"Apartamentos\",\"Apartamentos\",\"Apartamentos\",\"Apartamentos\",\"Apartamentos\",\"Apartamentos\",\"Apartamentos\",\"Apartamentos\",\"Apartamentos\",\"Apartamentos\",\"Apartamentos\",\"Apartamentos\",\"Apartamentos\",\"Apartamentos\",\"Apartamentos\",\"Apartamentos\",\"Apartamentos\",\"Apartamentos\",\"Apartamentos\",\"Apartamentos\",\"Apartamentos\",\"Apartamentos\",\"Apartamentos\",\"Apartamentos\",\"Apartamentos\",\"Apartamentos\",\"Apartamentos\",\"Apartamentos\",\"Apartamentos\",\"Apartamentos\",\"Apartamentos\",\"Apartamentos\",\"Apartamentos\",\"Apartamentos\",\"Apartamentos\",\"Apartamentos\",\"Apartamentos\",\"Apartamentos\",\"Apartamentos\",\"Apartamentos\",\"Apartamentos\",\"Apartamentos\",\"Apartamentos\",\"Apartamentos\",\"Apartamentos\",\"Apartamentos\",\"Apartamentos\",\"Apartamentos\",\"Apartamentos\",\"Apartamentos\",\"Apartamentos\",\"Apartamentos\",\"Apartamentos\",\"Apartamentos\",\"Apartamentos\",\"Apartamentos\",\"Apartamentos\",\"Apartamentos\",\"Apartamentos\",\"Apartamentos\",\"Apartamentos\",\"Apartamentos\",\"Apartamentos\",\"Apartamentos\",\"Apartamentos\",\"Apartamentos\",\"Apartamentos\",\"Apartamentos\",\"Apartamentos\",\"Apartamentos\",\"Apartamentos\",\"Apartamentos\",\"Apartamentos\",\"Apartamentos\",\"Apartamentos\",\"Apartamentos\",\"Apartamentos\",\"Apartamentos\",\"Apartamentos\",\"Apartamentos\",\"Apartamentos\",\"Apartamentos\",\"Apartamentos\",\"Apartamentos\",\"Apartamentos\",\"Apartamentos\",\"Apartamentos\",\"Apartamentos\",\"Apartamentos\",\"Apartamentos\",\"Apartamentos\",\"Apartamentos\",\"Apartamentos\",\"Apartamentos\",\"Apartamentos\",\"Apartamentos\",\"Apartamentos\",\"Apartamentos\",\"Apartamentos\",\"Apartamentos\",\"Apartamentos\",\"Apartamentos\",\"Apartamentos\",\"Apartamentos\",\"Apartamentos\",\"Apartamentos\",\"Apartamentos\",\"Apartamentos\",\"Apartamentos\",\"Apartamentos\",\"Apartamentos\",\"Apartamentos\",\"Apartamentos\",\"Apartamentos\",\"Apartamentos\",\"Apartamentos\",\"Apartamentos\",\"Apartamentos\",\"Apartamentos\",\"Apartamentos\",\"Apartamentos\",\"Apartamentos\",\"Apartamentos\",\"Apartamentos\",\"Apartamentos\",\"Apartamentos\",\"Apartamentos\",\"Apartamentos\",\"Apartamentos\",\"Apartamentos\",\"Apartamentos\",\"Apartamentos\",\"Apartamentos\",\"Apartamentos\",\"Apartamentos\",\"Apartamentos\",\"Apartamentos\",\"Apartamentos\",\"Apartamentos\",\"Apartamentos\",\"Apartamentos\",\"Apartamentos\",\"Apartamentos\",\"Apartamentos\",\"Apartamentos\",\"Apartamentos\",\"Apartamentos\",\"Apartamentos\",\"Apartamentos\",\"Apartamentos\",\"Apartamentos\",\"Apartamentos\",\"Apartamentos\",\"Apartamentos\",\"Apartamentos\",\"Apartamentos\",\"Apartamentos\",\"Apartamentos\",\"Apartamentos\",\"Apartamentos\",\"Apartamentos\",\"Apartamentos\",\"Apartamentos\",\"Apartamentos\",\"Apartamentos\",\"Apartamentos\",\"Apartamentos\",\"Apartamentos\",\"Apartamentos\",\"Apartamentos\",\"Apartamentos\",\"Apartamentos\",\"Apartamentos\",\"Apartamentos\",\"Apartamentos\",\"Apartamentos\",\"Apartamentos\",\"Apartamentos\",\"Apartamentos\",\"Apartamentos\",\"Apartamentos\",\"Apartamentos\",\"Apartamentos\",\"Apartamentos\",\"Apartamentos\",\"Apartamentos\",\"Apartamentos\",\"Apartamentos\",\"Apartamentos\",\"Apartamentos\",\"Apartamentos\",\"Apartamentos\",\"Apartamentos\",\"Apartamentos\",\"Apartamentos\",\"Apartamentos\",\"Apartamentos\",\"Apartamentos\",\"Apartamentos\",\"Apartamentos\",\"Apartamentos\",\"Apartamentos\",\"Apartamentos\",\"Apartamentos\",\"Apartamentos\",\"Apartamentos\",\"Apartamentos\",\"Apartamentos\",\"Apartamentos\",\"Apartamentos\",\"Apartamentos\",\"Apartamentos\",\"Apartamentos\",\"Apartamentos\",\"Apartamentos\",\"Apartamentos\",\"Apartamentos\",\"Apartamentos\",\"Apartamentos\",\"Apartamentos\",\"Apartamentos\",\"Apartamentos\",\"Apartamentos\",\"Apartamentos\",\"Apartamentos\",\"Apartamentos\",\"Apartamentos\",\"Apartamentos\",\"Apartamentos\",\"Apartamentos\",\"Apartamentos\",\"Apartamentos\",\"Apartamentos\",\"Apartamentos\",\"Apartamentos\",\"Apartamentos\",\"Apartamentos\",\"Apartamentos\",\"Apartamentos\",\"Apartamentos\",\"Apartamentos\",\"Apartamentos\",\"Apartamentos\",\"Apartamentos\",\"Apartamentos\",\"Apartamentos\",\"Apartamentos\",\"Apartamentos\",\"Apartamentos\",\"Apartamentos\",\"Apartamentos\",\"Apartamentos\",\"Apartamentos\",\"Apartamentos\",\"Apartamentos\",\"Apartamentos\",\"Apartamentos\",\"Apartamentos\",\"Apartamentos\",\"Apartamentos\",\"Apartamentos\",\"Apartamentos\",\"Apartamentos\",\"Apartamentos\",\"Apartamentos\",\"Apartamentos\",\"Apartamentos\",\"Apartamentos\",\"Apartamentos\",\"Apartamentos\",\"Apartamentos\",\"Apartamentos\",\"Apartamentos\",\"Apartamentos\",\"Apartamentos\",\"Apartamentos\",\"Apartamentos\",\"Apartamentos\",\"Apartamentos\",\"Apartamentos\",\"Apartamentos\",\"Apartamentos\",\"Apartamentos\",\"Apartamentos\",\"Apartamentos\",\"Apartamentos\",\"Apartamentos\",\"Apartamentos\",\"Apartamentos\",\"Apartamentos\",\"Apartamentos\",\"Apartamentos\",\"Apartamentos\",\"Apartamentos\",\"Apartamentos\",\"Apartamentos\",\"Apartamentos\",\"Apartamentos\",\"Apartamentos\",\"Apartamentos\",\"Apartamentos\",\"Apartamentos\",\"Apartamentos\",\"Apartamentos\",\"Apartamentos\",\"Apartamentos\",\"Apartamentos\",\"Apartamentos\",\"Apartamentos\",\"Apartamentos\",\"Apartamentos\",\"Apartamentos\",\"Apartamentos\",\"Apartamentos\",\"Apartamentos\",\"Apartamentos\",\"Apartamentos\",\"Apartamentos\",\"Apartamentos\",\"Apartamentos\",\"Apartamentos\",\"Apartamentos\",\"Apartamentos\",\"Apartamentos\",\"Apartamentos\",\"Apartamentos\",\"Apartamentos\",\"Apartamentos\",\"Apartamentos\",\"Apartamentos\",\"Apartamentos\",\"Apartamentos\",\"Apartamentos\",\"Apartamentos\",\"Apartamentos\",\"Apartamentos\",\"Apartamentos\",\"Apartamentos\",\"Apartamentos\",\"Apartamentos\",\"Apartamentos\",\"Apartamentos\",\"Apartamentos\",\"Apartamentos\",\"Apartamentos\",\"Apartamentos\",\"Apartamentos\",\"Apartamentos\",\"Apartamentos\",\"Apartamentos\",\"Apartamentos\",\"Apartamentos\",\"Apartamentos\",\"Apartamentos\",\"Apartamentos\",\"Apartamentos\",\"Apartamentos\",\"Apartamentos\",\"Apartamentos\",\"Apartamentos\",\"Apartamentos\",\"Apartamentos\",\"Apartamentos\",\"Apartamentos\",\"Apartamentos\",\"Apartamentos\",\"Apartamentos\",\"Apartamentos\",\"Apartamentos\",\"Apartamentos\",\"Apartamentos\",\"Apartamentos\",\"Apartamentos\",\"Apartamentos\",\"Apartamentos\",\"Apartamentos\",\"Apartamentos\",\"Apartamentos\",\"Apartamentos\",\"Apartamentos\",\"Apartamentos\",\"Apartamentos\",\"Apartamentos\",\"Apartamentos\",\"Apartamentos\",\"Apartamentos\",\"Apartamentos\",\"Apartamentos\",\"Apartamentos\",\"Apartamentos\",\"Apartamentos\",\"Apartamentos\",\"Apartamentos\",\"Apartamentos\",\"Apartamentos\",\"Apartamentos\",\"Apartamentos\",\"Apartamentos\",\"Apartamentos\",\"Apartamentos\",\"Apartamentos\",\"Apartamentos\",\"Apartamentos\",\"Apartamentos\",\"Apartamentos\",\"Apartamentos\",\"Apartamentos\",\"Apartamentos\",\"Apartamentos\",\"Apartamentos\",\"Apartamentos\",\"Apartamentos\",\"Apartamentos\",\"Apartamentos\",\"Apartamentos\",\"Apartamentos\",\"Apartamentos\",\"Apartamentos\",\"Apartamentos\",\"Apartamentos\",\"Apartamentos\",\"Apartamentos\",\"Apartamentos\",\"Apartamentos\",\"Apartamentos\",\"Apartamentos\",\"Apartamentos\",\"Apartamentos\",\"Apartamentos\",\"Apartamentos\",\"Apartamentos\",\"Apartamentos\",\"Apartamentos\",\"Apartamentos\",\"Apartamentos\",\"Apartamentos\",\"Apartamentos\",\"Apartamentos\",\"Apartamentos\",\"Apartamentos\",\"Apartamentos\",\"Apartamentos\",\"Apartamentos\",\"Apartamentos\",\"Apartamentos\",\"Apartamentos\",\"Apartamentos\",\"Apartamentos\",\"Apartamentos\",\"Apartamentos\",\"Apartamentos\",\"Apartamentos\",\"Apartamentos\",\"Apartamentos\",\"Apartamentos\",\"Apartamentos\",\"Apartamentos\",\"Apartamentos\",\"Apartamentos\",\"Apartamentos\",\"Apartamentos\",\"Apartamentos\",\"Apartamentos\",\"Apartamentos\",\"Apartamentos\",\"Apartamentos\",\"Apartamentos\",\"Apartamentos\",\"Apartamentos\",\"Apartamentos\",\"Apartamentos\",\"Apartamentos\",\"Apartamentos\",\"Apartamentos\",\"Apartamentos\",\"Apartamentos\",\"Apartamentos\",\"Apartamentos\",\"Apartamentos\",\"Apartamentos\",\"Apartamentos\",\"Apartamentos\",\"Apartamentos\",\"Apartamentos\",\"Apartamentos\",\"Apartamentos\",\"Apartamentos\",\"Apartamentos\",\"Apartamentos\",\"Apartamentos\",\"Apartamentos\",\"Apartamentos\",\"Apartamentos\",\"Apartamentos\",\"Apartamentos\",\"Apartamentos\",\"Apartamentos\",\"Apartamentos\",\"Apartamentos\",\"Apartamentos\",\"Apartamentos\",\"Apartamentos\",\"Apartamentos\",\"Apartamentos\",\"Apartamentos\",\"Apartamentos\",\"Apartamentos\",\"Apartamentos\",\"Apartamentos\",\"Apartamentos\",\"Apartamentos\",\"Apartamentos\",\"Apartamentos\",\"Apartamentos\",\"Apartamentos\",\"Apartamentos\",\"Apartamentos\",\"Apartamentos\",\"Apartamentos\",\"Apartamentos\",\"Apartamentos\",\"Apartamentos\",\"Apartamentos\",\"Apartamentos\",\"Apartamentos\",\"Apartamentos\",\"Apartamentos\",\"Apartamentos\",\"Apartamentos\",\"Apartamentos\",\"Apartamentos\",\"Apartamentos\",\"Apartamentos\",\"Apartamentos\",\"Apartamentos\",\"Apartamentos\",\"Apartamentos\",\"Apartamentos\",\"Apartamentos\",\"Apartamentos\",\"Apartamentos\",\"Apartamentos\",\"Apartamentos\",\"Apartamentos\",\"Apartamentos\",\"Apartamentos\",\"Apartamentos\",\"Apartamentos\",\"Apartamentos\",\"Apartamentos\",\"Apartamentos\",\"Apartamentos\",\"Apartamentos\",\"Apartamentos\",\"Apartamentos\",\"Apartamentos\",\"Apartamentos\",\"Apartamentos\",\"Apartamentos\",\"Apartamentos\",\"Apartamentos\",\"Apartamentos\",\"Apartamentos\",\"Apartamentos\",\"Apartamentos\",\"Apartamentos\",\"Apartamentos\",\"Apartamentos\",\"Apartamentos\",\"Apartamentos\",\"Apartamentos\",\"Apartamentos\",\"Apartamentos\",\"Apartamentos\",\"Apartamentos\",\"Apartamentos\",\"Apartamentos\",\"Apartamentos\",\"Apartamentos\",\"Apartamentos\",\"Apartamentos\",\"Apartamentos\",\"Apartamentos\",\"Apartamentos\",\"Apartamentos\",\"Apartamentos\",\"Apartamentos\",\"Apartamentos\",\"Apartamentos\",\"Apartamentos\",\"Apartamentos\",\"Apartamentos\",\"Apartamentos\",\"Apartamentos\",\"Apartamentos\",\"Apartamentos\",\"Apartamentos\",\"Apartamentos\",\"Apartamentos\",\"Apartamentos\",\"Apartamentos\",\"Apartamentos\",\"Apartamentos\",\"Apartamentos\",\"Apartamentos\",\"Apartamentos\",\"Apartamentos\",\"Apartamentos\",\"Apartamentos\",\"Apartamentos\",\"Apartamentos\",\"Apartamentos\",\"Apartamentos\",\"Apartamentos\",\"Apartamentos\",\"Apartamentos\",\"Apartamentos\",\"Apartamentos\",\"Apartamentos\",\"Apartamentos\",\"Apartamentos\",\"Apartamentos\",\"Apartamentos\",\"Apartamentos\",\"Apartamentos\",\"Apartamentos\",\"Apartamentos\",\"Apartamentos\",\"Apartamentos\",\"Apartamentos\",\"Apartamentos\",\"Apartamentos\",\"Apartamentos\",\"Apartamentos\",\"Apartamentos\",\"Apartamentos\",\"Apartamentos\",\"Apartamentos\",\"Apartamentos\",\"Apartamentos\",\"Apartamentos\",\"Apartamentos\",\"Apartamentos\",\"Apartamentos\",\"Apartamentos\",\"Apartamentos\",\"Apartamentos\",\"Apartamentos\",\"Apartamentos\",\"Apartamentos\",\"Apartamentos\",\"Apartamentos\",\"Apartamentos\",\"Apartamentos\",\"Apartamentos\",\"Apartamentos\",\"Apartamentos\",\"Apartamentos\",\"Apartamentos\",\"Apartamentos\",\"Apartamentos\",\"Apartamentos\",\"Apartamentos\",\"Apartamentos\",\"Apartamentos\",\"Apartamentos\",\"Apartamentos\",\"Apartamentos\",\"Apartamentos\",\"Apartamentos\",\"Apartamentos\",\"Apartamentos\",\"Apartamentos\",\"Apartamentos\",\"Apartamentos\",\"Apartamentos\",\"Apartamentos\",\"Apartamentos\",\"Apartamentos\",\"Apartamentos\",\"Apartamentos\",\"Apartamentos\",\"Apartamentos\",\"Apartamentos\",\"Apartamentos\",\"Apartamentos\",\"Apartamentos\",\"Apartamentos\",\"Apartamentos\",\"Apartamentos\",\"Apartamentos\",\"Apartamentos\",\"Apartamentos\",\"Apartamentos\",\"Apartamentos\",\"Apartamentos\",\"Apartamentos\",\"Apartamentos\",\"Apartamentos\",\"Apartamentos\",\"Apartamentos\",\"Apartamentos\",\"Apartamentos\",\"Apartamentos\",\"Apartamentos\",\"Apartamentos\",\"Apartamentos\",\"Apartamentos\"],\"xaxis\":\"x\",\"yaxis\":\"y\",\"type\":\"histogram\"},{\"alignmentgroup\":\"True\",\"bingroup\":\"x\",\"hovertemplate\":\"Categoria=%{x}<br>count=%{y}<extra></extra>\",\"legendgroup\":\"Casas\",\"marker\":{\"color\":\"#EF553B\",\"pattern\":{\"shape\":\"\"}},\"name\":\"Casas\",\"offsetgroup\":\"Casas\",\"orientation\":\"v\",\"showlegend\":true,\"x\":[\"Casas\",\"Casas\",\"Casas\",\"Casas\",\"Casas\",\"Casas\",\"Casas\",\"Casas\",\"Casas\",\"Casas\",\"Casas\",\"Casas\",\"Casas\",\"Casas\",\"Casas\",\"Casas\",\"Casas\",\"Casas\",\"Casas\",\"Casas\",\"Casas\",\"Casas\",\"Casas\",\"Casas\",\"Casas\",\"Casas\",\"Casas\",\"Casas\",\"Casas\",\"Casas\",\"Casas\",\"Casas\",\"Casas\",\"Casas\",\"Casas\",\"Casas\",\"Casas\",\"Casas\",\"Casas\",\"Casas\",\"Casas\",\"Casas\",\"Casas\",\"Casas\",\"Casas\",\"Casas\",\"Casas\",\"Casas\",\"Casas\",\"Casas\",\"Casas\",\"Casas\",\"Casas\",\"Casas\",\"Casas\",\"Casas\",\"Casas\",\"Casas\",\"Casas\",\"Casas\",\"Casas\",\"Casas\",\"Casas\",\"Casas\",\"Casas\",\"Casas\",\"Casas\",\"Casas\",\"Casas\",\"Casas\",\"Casas\",\"Casas\",\"Casas\",\"Casas\",\"Casas\",\"Casas\",\"Casas\",\"Casas\",\"Casas\",\"Casas\",\"Casas\",\"Casas\",\"Casas\",\"Casas\",\"Casas\",\"Casas\",\"Casas\",\"Casas\",\"Casas\",\"Casas\",\"Casas\",\"Casas\",\"Casas\",\"Casas\",\"Casas\",\"Casas\",\"Casas\",\"Casas\",\"Casas\",\"Casas\",\"Casas\",\"Casas\",\"Casas\",\"Casas\",\"Casas\",\"Casas\",\"Casas\",\"Casas\",\"Casas\",\"Casas\",\"Casas\",\"Casas\",\"Casas\",\"Casas\",\"Casas\",\"Casas\",\"Casas\",\"Casas\",\"Casas\",\"Casas\",\"Casas\",\"Casas\",\"Casas\",\"Casas\",\"Casas\",\"Casas\",\"Casas\",\"Casas\",\"Casas\",\"Casas\",\"Casas\",\"Casas\",\"Casas\",\"Casas\",\"Casas\",\"Casas\",\"Casas\",\"Casas\",\"Casas\",\"Casas\",\"Casas\",\"Casas\",\"Casas\",\"Casas\",\"Casas\",\"Casas\",\"Casas\",\"Casas\",\"Casas\",\"Casas\",\"Casas\",\"Casas\",\"Casas\",\"Casas\",\"Casas\",\"Casas\",\"Casas\",\"Casas\",\"Casas\",\"Casas\",\"Casas\",\"Casas\",\"Casas\",\"Casas\",\"Casas\",\"Casas\",\"Casas\",\"Casas\",\"Casas\",\"Casas\",\"Casas\",\"Casas\",\"Casas\",\"Casas\",\"Casas\",\"Casas\",\"Casas\",\"Casas\",\"Casas\",\"Casas\",\"Casas\",\"Casas\",\"Casas\",\"Casas\",\"Casas\",\"Casas\",\"Casas\",\"Casas\",\"Casas\",\"Casas\",\"Casas\",\"Casas\",\"Casas\",\"Casas\",\"Casas\",\"Casas\",\"Casas\",\"Casas\",\"Casas\",\"Casas\",\"Casas\",\"Casas\",\"Casas\",\"Casas\",\"Casas\",\"Casas\",\"Casas\",\"Casas\",\"Casas\",\"Casas\",\"Casas\",\"Casas\",\"Casas\",\"Casas\",\"Casas\",\"Casas\",\"Casas\",\"Casas\",\"Casas\",\"Casas\",\"Casas\",\"Casas\",\"Casas\",\"Casas\",\"Casas\",\"Casas\",\"Casas\",\"Casas\",\"Casas\",\"Casas\",\"Casas\",\"Casas\",\"Casas\",\"Casas\",\"Casas\",\"Casas\",\"Casas\",\"Casas\",\"Casas\",\"Casas\",\"Casas\",\"Casas\",\"Casas\",\"Casas\",\"Casas\",\"Casas\",\"Casas\",\"Casas\",\"Casas\",\"Casas\",\"Casas\",\"Casas\",\"Casas\",\"Casas\",\"Casas\",\"Casas\",\"Casas\",\"Casas\",\"Casas\",\"Casas\",\"Casas\",\"Casas\",\"Casas\",\"Casas\",\"Casas\",\"Casas\",\"Casas\",\"Casas\",\"Casas\",\"Casas\",\"Casas\",\"Casas\",\"Casas\",\"Casas\",\"Casas\",\"Casas\",\"Casas\",\"Casas\",\"Casas\",\"Casas\",\"Casas\",\"Casas\",\"Casas\",\"Casas\",\"Casas\",\"Casas\",\"Casas\",\"Casas\",\"Casas\",\"Casas\",\"Casas\",\"Casas\",\"Casas\",\"Casas\",\"Casas\",\"Casas\",\"Casas\",\"Casas\",\"Casas\",\"Casas\",\"Casas\",\"Casas\",\"Casas\",\"Casas\",\"Casas\",\"Casas\",\"Casas\",\"Casas\",\"Casas\",\"Casas\",\"Casas\",\"Casas\",\"Casas\",\"Casas\",\"Casas\",\"Casas\",\"Casas\",\"Casas\",\"Casas\",\"Casas\",\"Casas\",\"Casas\",\"Casas\",\"Casas\",\"Casas\",\"Casas\",\"Casas\",\"Casas\",\"Casas\",\"Casas\",\"Casas\",\"Casas\",\"Casas\",\"Casas\",\"Casas\",\"Casas\",\"Casas\",\"Casas\",\"Casas\",\"Casas\",\"Casas\",\"Casas\",\"Casas\",\"Casas\",\"Casas\",\"Casas\",\"Casas\",\"Casas\",\"Casas\",\"Casas\",\"Casas\",\"Casas\",\"Casas\",\"Casas\",\"Casas\",\"Casas\",\"Casas\",\"Casas\",\"Casas\",\"Casas\",\"Casas\",\"Casas\",\"Casas\",\"Casas\",\"Casas\",\"Casas\",\"Casas\",\"Casas\",\"Casas\",\"Casas\",\"Casas\",\"Casas\",\"Casas\",\"Casas\",\"Casas\",\"Casas\",\"Casas\",\"Casas\",\"Casas\",\"Casas\",\"Casas\",\"Casas\",\"Casas\",\"Casas\",\"Casas\",\"Casas\",\"Casas\",\"Casas\",\"Casas\",\"Casas\",\"Casas\",\"Casas\",\"Casas\",\"Casas\",\"Casas\",\"Casas\",\"Casas\",\"Casas\",\"Casas\",\"Casas\",\"Casas\",\"Casas\",\"Casas\",\"Casas\",\"Casas\",\"Casas\",\"Casas\",\"Casas\",\"Casas\",\"Casas\",\"Casas\",\"Casas\",\"Casas\",\"Casas\",\"Casas\",\"Casas\",\"Casas\",\"Casas\",\"Casas\",\"Casas\",\"Casas\",\"Casas\",\"Casas\",\"Casas\",\"Casas\",\"Casas\",\"Casas\",\"Casas\",\"Casas\",\"Casas\",\"Casas\",\"Casas\",\"Casas\",\"Casas\",\"Casas\",\"Casas\",\"Casas\",\"Casas\",\"Casas\",\"Casas\",\"Casas\",\"Casas\",\"Casas\",\"Casas\",\"Casas\",\"Casas\",\"Casas\",\"Casas\",\"Casas\",\"Casas\",\"Casas\",\"Casas\",\"Casas\",\"Casas\",\"Casas\",\"Casas\",\"Casas\",\"Casas\",\"Casas\",\"Casas\",\"Casas\",\"Casas\",\"Casas\",\"Casas\",\"Casas\",\"Casas\",\"Casas\",\"Casas\",\"Casas\",\"Casas\",\"Casas\",\"Casas\",\"Casas\",\"Casas\",\"Casas\",\"Casas\",\"Casas\",\"Casas\",\"Casas\",\"Casas\",\"Casas\",\"Casas\",\"Casas\",\"Casas\",\"Casas\",\"Casas\",\"Casas\",\"Casas\",\"Casas\",\"Casas\",\"Casas\",\"Casas\",\"Casas\",\"Casas\",\"Casas\",\"Casas\",\"Casas\",\"Casas\",\"Casas\",\"Casas\",\"Casas\",\"Casas\",\"Casas\",\"Casas\",\"Casas\",\"Casas\",\"Casas\",\"Casas\",\"Casas\",\"Casas\",\"Casas\",\"Casas\",\"Casas\",\"Casas\",\"Casas\",\"Casas\",\"Casas\",\"Casas\",\"Casas\",\"Casas\",\"Casas\",\"Casas\",\"Casas\",\"Casas\",\"Casas\",\"Casas\",\"Casas\",\"Casas\",\"Casas\",\"Casas\",\"Casas\",\"Casas\",\"Casas\",\"Casas\",\"Casas\",\"Casas\",\"Casas\",\"Casas\",\"Casas\",\"Casas\",\"Casas\",\"Casas\",\"Casas\",\"Casas\",\"Casas\",\"Casas\",\"Casas\",\"Casas\",\"Casas\",\"Casas\",\"Casas\",\"Casas\",\"Casas\",\"Casas\",\"Casas\",\"Casas\",\"Casas\",\"Casas\",\"Casas\",\"Casas\",\"Casas\",\"Casas\",\"Casas\",\"Casas\",\"Casas\",\"Casas\",\"Casas\",\"Casas\",\"Casas\",\"Casas\",\"Casas\",\"Casas\",\"Casas\",\"Casas\",\"Casas\",\"Casas\",\"Casas\",\"Casas\",\"Casas\",\"Casas\",\"Casas\",\"Casas\",\"Casas\",\"Casas\",\"Casas\",\"Casas\",\"Casas\",\"Casas\",\"Casas\",\"Casas\",\"Casas\",\"Casas\",\"Casas\",\"Casas\",\"Casas\",\"Casas\",\"Casas\",\"Casas\",\"Casas\",\"Casas\",\"Casas\",\"Casas\",\"Casas\",\"Casas\",\"Casas\",\"Casas\",\"Casas\",\"Casas\",\"Casas\",\"Casas\",\"Casas\",\"Casas\",\"Casas\",\"Casas\",\"Casas\",\"Casas\",\"Casas\",\"Casas\",\"Casas\",\"Casas\",\"Casas\",\"Casas\",\"Casas\",\"Casas\",\"Casas\",\"Casas\",\"Casas\",\"Casas\",\"Casas\",\"Casas\",\"Casas\",\"Casas\",\"Casas\",\"Casas\",\"Casas\",\"Casas\",\"Casas\",\"Casas\",\"Casas\",\"Casas\",\"Casas\",\"Casas\",\"Casas\",\"Casas\",\"Casas\",\"Casas\",\"Casas\",\"Casas\",\"Casas\",\"Casas\",\"Casas\",\"Casas\",\"Casas\",\"Casas\",\"Casas\",\"Casas\",\"Casas\",\"Casas\",\"Casas\",\"Casas\",\"Casas\",\"Casas\",\"Casas\",\"Casas\",\"Casas\",\"Casas\",\"Casas\",\"Casas\",\"Casas\",\"Casas\",\"Casas\",\"Casas\",\"Casas\",\"Casas\",\"Casas\",\"Casas\",\"Casas\",\"Casas\",\"Casas\",\"Casas\",\"Casas\",\"Casas\",\"Casas\",\"Casas\",\"Casas\",\"Casas\",\"Casas\",\"Casas\",\"Casas\",\"Casas\",\"Casas\",\"Casas\",\"Casas\",\"Casas\",\"Casas\",\"Casas\",\"Casas\",\"Casas\",\"Casas\",\"Casas\",\"Casas\",\"Casas\",\"Casas\",\"Casas\",\"Casas\",\"Casas\",\"Casas\",\"Casas\",\"Casas\",\"Casas\",\"Casas\",\"Casas\",\"Casas\",\"Casas\",\"Casas\",\"Casas\",\"Casas\",\"Casas\",\"Casas\",\"Casas\",\"Casas\",\"Casas\",\"Casas\",\"Casas\",\"Casas\",\"Casas\",\"Casas\",\"Casas\",\"Casas\",\"Casas\",\"Casas\",\"Casas\",\"Casas\",\"Casas\",\"Casas\",\"Casas\",\"Casas\",\"Casas\",\"Casas\",\"Casas\",\"Casas\",\"Casas\",\"Casas\",\"Casas\",\"Casas\",\"Casas\",\"Casas\",\"Casas\",\"Casas\",\"Casas\",\"Casas\",\"Casas\",\"Casas\",\"Casas\",\"Casas\",\"Casas\",\"Casas\",\"Casas\",\"Casas\",\"Casas\",\"Casas\",\"Casas\",\"Casas\",\"Casas\",\"Casas\",\"Casas\",\"Casas\",\"Casas\",\"Casas\",\"Casas\",\"Casas\",\"Casas\",\"Casas\",\"Casas\",\"Casas\",\"Casas\",\"Casas\",\"Casas\",\"Casas\",\"Casas\",\"Casas\",\"Casas\",\"Casas\",\"Casas\",\"Casas\",\"Casas\",\"Casas\",\"Casas\",\"Casas\",\"Casas\",\"Casas\",\"Casas\",\"Casas\",\"Casas\",\"Casas\",\"Casas\",\"Casas\",\"Casas\",\"Casas\",\"Casas\",\"Casas\",\"Casas\",\"Casas\",\"Casas\",\"Casas\",\"Casas\",\"Casas\",\"Casas\",\"Casas\",\"Casas\",\"Casas\",\"Casas\",\"Casas\",\"Casas\",\"Casas\",\"Casas\",\"Casas\",\"Casas\",\"Casas\",\"Casas\",\"Casas\",\"Casas\",\"Casas\",\"Casas\",\"Casas\",\"Casas\",\"Casas\",\"Casas\",\"Casas\",\"Casas\",\"Casas\",\"Casas\",\"Casas\",\"Casas\",\"Casas\",\"Casas\",\"Casas\",\"Casas\"],\"xaxis\":\"x\",\"yaxis\":\"y\",\"type\":\"histogram\"}],                        {\"template\":{\"data\":{\"bar\":[{\"error_x\":{\"color\":\"#2a3f5f\"},\"error_y\":{\"color\":\"#2a3f5f\"},\"marker\":{\"line\":{\"color\":\"#E5ECF6\",\"width\":0.5},\"pattern\":{\"fillmode\":\"overlay\",\"size\":10,\"solidity\":0.2}},\"type\":\"bar\"}],\"barpolar\":[{\"marker\":{\"line\":{\"color\":\"#E5ECF6\",\"width\":0.5},\"pattern\":{\"fillmode\":\"overlay\",\"size\":10,\"solidity\":0.2}},\"type\":\"barpolar\"}],\"carpet\":[{\"aaxis\":{\"endlinecolor\":\"#2a3f5f\",\"gridcolor\":\"white\",\"linecolor\":\"white\",\"minorgridcolor\":\"white\",\"startlinecolor\":\"#2a3f5f\"},\"baxis\":{\"endlinecolor\":\"#2a3f5f\",\"gridcolor\":\"white\",\"linecolor\":\"white\",\"minorgridcolor\":\"white\",\"startlinecolor\":\"#2a3f5f\"},\"type\":\"carpet\"}],\"choropleth\":[{\"colorbar\":{\"outlinewidth\":0,\"ticks\":\"\"},\"type\":\"choropleth\"}],\"contour\":[{\"colorbar\":{\"outlinewidth\":0,\"ticks\":\"\"},\"colorscale\":[[0.0,\"#0d0887\"],[0.1111111111111111,\"#46039f\"],[0.2222222222222222,\"#7201a8\"],[0.3333333333333333,\"#9c179e\"],[0.4444444444444444,\"#bd3786\"],[0.5555555555555556,\"#d8576b\"],[0.6666666666666666,\"#ed7953\"],[0.7777777777777778,\"#fb9f3a\"],[0.8888888888888888,\"#fdca26\"],[1.0,\"#f0f921\"]],\"type\":\"contour\"}],\"contourcarpet\":[{\"colorbar\":{\"outlinewidth\":0,\"ticks\":\"\"},\"type\":\"contourcarpet\"}],\"heatmap\":[{\"colorbar\":{\"outlinewidth\":0,\"ticks\":\"\"},\"colorscale\":[[0.0,\"#0d0887\"],[0.1111111111111111,\"#46039f\"],[0.2222222222222222,\"#7201a8\"],[0.3333333333333333,\"#9c179e\"],[0.4444444444444444,\"#bd3786\"],[0.5555555555555556,\"#d8576b\"],[0.6666666666666666,\"#ed7953\"],[0.7777777777777778,\"#fb9f3a\"],[0.8888888888888888,\"#fdca26\"],[1.0,\"#f0f921\"]],\"type\":\"heatmap\"}],\"heatmapgl\":[{\"colorbar\":{\"outlinewidth\":0,\"ticks\":\"\"},\"colorscale\":[[0.0,\"#0d0887\"],[0.1111111111111111,\"#46039f\"],[0.2222222222222222,\"#7201a8\"],[0.3333333333333333,\"#9c179e\"],[0.4444444444444444,\"#bd3786\"],[0.5555555555555556,\"#d8576b\"],[0.6666666666666666,\"#ed7953\"],[0.7777777777777778,\"#fb9f3a\"],[0.8888888888888888,\"#fdca26\"],[1.0,\"#f0f921\"]],\"type\":\"heatmapgl\"}],\"histogram\":[{\"marker\":{\"pattern\":{\"fillmode\":\"overlay\",\"size\":10,\"solidity\":0.2}},\"type\":\"histogram\"}],\"histogram2d\":[{\"colorbar\":{\"outlinewidth\":0,\"ticks\":\"\"},\"colorscale\":[[0.0,\"#0d0887\"],[0.1111111111111111,\"#46039f\"],[0.2222222222222222,\"#7201a8\"],[0.3333333333333333,\"#9c179e\"],[0.4444444444444444,\"#bd3786\"],[0.5555555555555556,\"#d8576b\"],[0.6666666666666666,\"#ed7953\"],[0.7777777777777778,\"#fb9f3a\"],[0.8888888888888888,\"#fdca26\"],[1.0,\"#f0f921\"]],\"type\":\"histogram2d\"}],\"histogram2dcontour\":[{\"colorbar\":{\"outlinewidth\":0,\"ticks\":\"\"},\"colorscale\":[[0.0,\"#0d0887\"],[0.1111111111111111,\"#46039f\"],[0.2222222222222222,\"#7201a8\"],[0.3333333333333333,\"#9c179e\"],[0.4444444444444444,\"#bd3786\"],[0.5555555555555556,\"#d8576b\"],[0.6666666666666666,\"#ed7953\"],[0.7777777777777778,\"#fb9f3a\"],[0.8888888888888888,\"#fdca26\"],[1.0,\"#f0f921\"]],\"type\":\"histogram2dcontour\"}],\"mesh3d\":[{\"colorbar\":{\"outlinewidth\":0,\"ticks\":\"\"},\"type\":\"mesh3d\"}],\"parcoords\":[{\"line\":{\"colorbar\":{\"outlinewidth\":0,\"ticks\":\"\"}},\"type\":\"parcoords\"}],\"pie\":[{\"automargin\":true,\"type\":\"pie\"}],\"scatter\":[{\"marker\":{\"colorbar\":{\"outlinewidth\":0,\"ticks\":\"\"}},\"type\":\"scatter\"}],\"scatter3d\":[{\"line\":{\"colorbar\":{\"outlinewidth\":0,\"ticks\":\"\"}},\"marker\":{\"colorbar\":{\"outlinewidth\":0,\"ticks\":\"\"}},\"type\":\"scatter3d\"}],\"scattercarpet\":[{\"marker\":{\"colorbar\":{\"outlinewidth\":0,\"ticks\":\"\"}},\"type\":\"scattercarpet\"}],\"scattergeo\":[{\"marker\":{\"colorbar\":{\"outlinewidth\":0,\"ticks\":\"\"}},\"type\":\"scattergeo\"}],\"scattergl\":[{\"marker\":{\"colorbar\":{\"outlinewidth\":0,\"ticks\":\"\"}},\"type\":\"scattergl\"}],\"scattermapbox\":[{\"marker\":{\"colorbar\":{\"outlinewidth\":0,\"ticks\":\"\"}},\"type\":\"scattermapbox\"}],\"scatterpolar\":[{\"marker\":{\"colorbar\":{\"outlinewidth\":0,\"ticks\":\"\"}},\"type\":\"scatterpolar\"}],\"scatterpolargl\":[{\"marker\":{\"colorbar\":{\"outlinewidth\":0,\"ticks\":\"\"}},\"type\":\"scatterpolargl\"}],\"scatterternary\":[{\"marker\":{\"colorbar\":{\"outlinewidth\":0,\"ticks\":\"\"}},\"type\":\"scatterternary\"}],\"surface\":[{\"colorbar\":{\"outlinewidth\":0,\"ticks\":\"\"},\"colorscale\":[[0.0,\"#0d0887\"],[0.1111111111111111,\"#46039f\"],[0.2222222222222222,\"#7201a8\"],[0.3333333333333333,\"#9c179e\"],[0.4444444444444444,\"#bd3786\"],[0.5555555555555556,\"#d8576b\"],[0.6666666666666666,\"#ed7953\"],[0.7777777777777778,\"#fb9f3a\"],[0.8888888888888888,\"#fdca26\"],[1.0,\"#f0f921\"]],\"type\":\"surface\"}],\"table\":[{\"cells\":{\"fill\":{\"color\":\"#EBF0F8\"},\"line\":{\"color\":\"white\"}},\"header\":{\"fill\":{\"color\":\"#C8D4E3\"},\"line\":{\"color\":\"white\"}},\"type\":\"table\"}]},\"layout\":{\"annotationdefaults\":{\"arrowcolor\":\"#2a3f5f\",\"arrowhead\":0,\"arrowwidth\":1},\"autotypenumbers\":\"strict\",\"coloraxis\":{\"colorbar\":{\"outlinewidth\":0,\"ticks\":\"\"}},\"colorscale\":{\"diverging\":[[0,\"#8e0152\"],[0.1,\"#c51b7d\"],[0.2,\"#de77ae\"],[0.3,\"#f1b6da\"],[0.4,\"#fde0ef\"],[0.5,\"#f7f7f7\"],[0.6,\"#e6f5d0\"],[0.7,\"#b8e186\"],[0.8,\"#7fbc41\"],[0.9,\"#4d9221\"],[1,\"#276419\"]],\"sequential\":[[0.0,\"#0d0887\"],[0.1111111111111111,\"#46039f\"],[0.2222222222222222,\"#7201a8\"],[0.3333333333333333,\"#9c179e\"],[0.4444444444444444,\"#bd3786\"],[0.5555555555555556,\"#d8576b\"],[0.6666666666666666,\"#ed7953\"],[0.7777777777777778,\"#fb9f3a\"],[0.8888888888888888,\"#fdca26\"],[1.0,\"#f0f921\"]],\"sequentialminus\":[[0.0,\"#0d0887\"],[0.1111111111111111,\"#46039f\"],[0.2222222222222222,\"#7201a8\"],[0.3333333333333333,\"#9c179e\"],[0.4444444444444444,\"#bd3786\"],[0.5555555555555556,\"#d8576b\"],[0.6666666666666666,\"#ed7953\"],[0.7777777777777778,\"#fb9f3a\"],[0.8888888888888888,\"#fdca26\"],[1.0,\"#f0f921\"]]},\"colorway\":[\"#636efa\",\"#EF553B\",\"#00cc96\",\"#ab63fa\",\"#FFA15A\",\"#19d3f3\",\"#FF6692\",\"#B6E880\",\"#FF97FF\",\"#FECB52\"],\"font\":{\"color\":\"#2a3f5f\"},\"geo\":{\"bgcolor\":\"white\",\"lakecolor\":\"white\",\"landcolor\":\"#E5ECF6\",\"showlakes\":true,\"showland\":true,\"subunitcolor\":\"white\"},\"hoverlabel\":{\"align\":\"left\"},\"hovermode\":\"closest\",\"mapbox\":{\"style\":\"light\"},\"paper_bgcolor\":\"white\",\"plot_bgcolor\":\"#E5ECF6\",\"polar\":{\"angularaxis\":{\"gridcolor\":\"white\",\"linecolor\":\"white\",\"ticks\":\"\"},\"bgcolor\":\"#E5ECF6\",\"radialaxis\":{\"gridcolor\":\"white\",\"linecolor\":\"white\",\"ticks\":\"\"}},\"scene\":{\"xaxis\":{\"backgroundcolor\":\"#E5ECF6\",\"gridcolor\":\"white\",\"gridwidth\":2,\"linecolor\":\"white\",\"showbackground\":true,\"ticks\":\"\",\"zerolinecolor\":\"white\"},\"yaxis\":{\"backgroundcolor\":\"#E5ECF6\",\"gridcolor\":\"white\",\"gridwidth\":2,\"linecolor\":\"white\",\"showbackground\":true,\"ticks\":\"\",\"zerolinecolor\":\"white\"},\"zaxis\":{\"backgroundcolor\":\"#E5ECF6\",\"gridcolor\":\"white\",\"gridwidth\":2,\"linecolor\":\"white\",\"showbackground\":true,\"ticks\":\"\",\"zerolinecolor\":\"white\"}},\"shapedefaults\":{\"line\":{\"color\":\"#2a3f5f\"}},\"ternary\":{\"aaxis\":{\"gridcolor\":\"white\",\"linecolor\":\"white\",\"ticks\":\"\"},\"baxis\":{\"gridcolor\":\"white\",\"linecolor\":\"white\",\"ticks\":\"\"},\"bgcolor\":\"#E5ECF6\",\"caxis\":{\"gridcolor\":\"white\",\"linecolor\":\"white\",\"ticks\":\"\"}},\"title\":{\"x\":0.05},\"xaxis\":{\"automargin\":true,\"gridcolor\":\"white\",\"linecolor\":\"white\",\"ticks\":\"\",\"title\":{\"standoff\":15},\"zerolinecolor\":\"white\",\"zerolinewidth\":2},\"yaxis\":{\"automargin\":true,\"gridcolor\":\"white\",\"linecolor\":\"white\",\"ticks\":\"\",\"title\":{\"standoff\":15},\"zerolinecolor\":\"white\",\"zerolinewidth\":2}}},\"xaxis\":{\"anchor\":\"y\",\"domain\":[0.0,1.0],\"title\":{\"text\":\"Categoria\"},\"categoryorder\":\"array\",\"categoryarray\":[\"Apartamentos\",\"Casas\"]},\"yaxis\":{\"anchor\":\"x\",\"domain\":[0.0,1.0],\"title\":{\"text\":\"count\"}},\"legend\":{\"title\":{\"text\":\"Categoria\"},\"tracegroupgap\":0},\"margin\":{\"t\":60},\"barmode\":\"relative\"},                        {\"responsive\": true}                    ).then(function(){\n",
              "                            \n",
              "var gd = document.getElementById('d5535db9-b028-4d7f-85a9-ee214d485dbd');\n",
              "var x = new MutationObserver(function (mutations, observer) {{\n",
              "        var display = window.getComputedStyle(gd).display;\n",
              "        if (!display || display === 'none') {{\n",
              "            console.log([gd, 'removed!']);\n",
              "            Plotly.purge(gd);\n",
              "            observer.disconnect();\n",
              "        }}\n",
              "}});\n",
              "\n",
              "// Listen for the removal of the full notebook cells\n",
              "var notebookContainer = gd.closest('#notebook-container');\n",
              "if (notebookContainer) {{\n",
              "    x.observe(notebookContainer, {childList: true});\n",
              "}}\n",
              "\n",
              "// Listen for the clearing of the current output cell\n",
              "var outputEl = gd.closest('.output');\n",
              "if (outputEl) {{\n",
              "    x.observe(outputEl, {childList: true});\n",
              "}}\n",
              "\n",
              "                        })                };                            </script>        </div>\n",
              "</body>\n",
              "</html>"
            ]
          },
          "metadata": {}
        },
        {
          "output_type": "stream",
          "name": "stdout",
          "text": [
            "AREA CONSTRUIDA\n"
          ]
        },
        {
          "output_type": "display_data",
          "data": {
            "text/html": [
              "<html>\n",
              "<head><meta charset=\"utf-8\" /></head>\n",
              "<body>\n",
              "    <div>            <script src=\"https://cdnjs.cloudflare.com/ajax/libs/mathjax/2.7.5/MathJax.js?config=TeX-AMS-MML_SVG\"></script><script type=\"text/javascript\">if (window.MathJax) {MathJax.Hub.Config({SVG: {font: \"STIX-Web\"}});}</script>                <script type=\"text/javascript\">window.PlotlyConfig = {MathJaxConfig: 'local'};</script>\n",
              "        <script src=\"https://cdn.plot.ly/plotly-2.8.3.min.js\"></script>                <div id=\"2186cc1e-be1b-4d18-98ae-b2850d1480c6\" class=\"plotly-graph-div\" style=\"height:525px; width:100%;\"></div>            <script type=\"text/javascript\">                                    window.PLOTLYENV=window.PLOTLYENV || {};                                    if (document.getElementById(\"2186cc1e-be1b-4d18-98ae-b2850d1480c6\")) {                    Plotly.newPlot(                        \"2186cc1e-be1b-4d18-98ae-b2850d1480c6\",                        [{\"alignmentgroup\":\"True\",\"bingroup\":\"x\",\"hovertemplate\":\"Categoria=Apartamentos<br>Area construida=%{x}<br>count=%{y}<extra></extra>\",\"legendgroup\":\"Apartamentos\",\"marker\":{\"color\":\"#636efa\",\"pattern\":{\"shape\":\"\"}},\"name\":\"Apartamentos\",\"offsetgroup\":\"Apartamentos\",\"orientation\":\"v\",\"showlegend\":true,\"x\":[50.0,192.0,47.0,55.0,64.0,85.0,89.0,73.0,100.0,56.0,47.0,58.0,50.0,66.0,67.0,67.0,48.0,46.0,74.0,85.0,75.0,90.0,75.0,79.0,80.0,65.0,115.0,60.0,100.0,71.0,69.0,61.0,64.0,64.0,51.0,83.0,76.0,60.0,130.0,82.0,68.0,80.0,72.0,56.0,77.0,105.0,75.0,66.0,62.0,45.0,59.0,67.0,106.0,41.0,67.0,72.0,77.0,119.0,89.0,67.0,82.0,58.0,49.0,62.0,67.0,80.0,92.0,92.0,75.0,64.0,124.0,105.0,101.0,59.0,77.0,74.0,48.0,118.0,119.0,64.0,50.0,77.0,49.0,69.0,50.0,66.0,86.0,56.0,96.0,60.0,96.0,77.0,50.0,62.0,66.0,62.0,70.0,68.0,80.0,77.0,78.0,104.0,99.0,49.0,56.0,62.0,62.0,90.0,74.0,59.0,75.0,77.0,41.0,49.0,46.0,56.0,46.0,63.0,60.0,77.0,70.0,50.0,187.0,78.0,50.0,74.0,81.0,90.0,67.0,50.0,107.0,38.0,190.0,54.0,69.0,49.0,76.0,38.0,69.0,75.0,64.0,76.0,196.0,56.0,60.0,71.0,47.0,48.0,45.0,68.0,72.0,130.0,73.0,64.0,77.0,69.0,81.0,161.0,45.0,76.0,110.0,79.0,50.0,49.0,68.0,60.0,78.0,51.0,40.0,49.0,59.0,64.0,72.0,48.0,65.0,60.0,43.0,42.0,150.0,107.0,77.0,60.0,90.0,67.0,50.0,107.0,62.0,50.0,77.0,49.0,69.0,50.0,66.0,86.0,56.0,96.0,60.0,96.0,77.0,50.0,62.0,66.0,62.0,70.0,68.0,80.0,77.0,73.0,64.0,77.0,69.0,81.0,161.0,59.0,75.0,77.0,41.0,49.0,46.0,56.0,46.0,63.0,60.0,77.0,70.0,50.0,187.0,65.0,60.0,43.0,42.0,150.0,107.0,77.0,60.0,42.0,68.0,68.0,74.0,38.0,190.0,54.0,69.0,49.0,76.0,38.0,69.0,75.0,64.0,76.0,196.0,56.0,60.0,71.0,47.0,48.0,45.0,71.0,124.0,92.0,123.0,102.0,80.0,105.0,67.0,52.0,68.0,45.0,76.0,110.0,79.0,50.0,49.0,68.0,60.0,78.0,51.0,40.0,49.0,47.0,57.0,70.0,74.0,104.0,50.0,64.0,86.0,46.0,97.0,65.0,107.0,55.0,48.0,77.0,78.0,68.0,73.0,130.0,59.0,58.0,78.0,60.0,43.0,60.0,99.0,67.0,77.0,76.0,74.0,32.0,64.0,59.0,54.0,74.0,45.0,46.0,52.0,68.0,76.0,75.0,125.0,50.0,62.0,79.0,98.0,75.0,190.0,70.0,77.0,46.0,72.0,65.0,76.0,57.0,77.0,118.0,66.0,104.0,64.0,190.0,60.0,60.0,105.0,60.0,59.0,62.0,47.0,73.0,50.0,86.0,127.0,91.0,48.0,100.0,90.0,69.0,108.0,78.0,70.0,80.0,47.0,60.0,130.0,107.0,42.0,145.0,86.0,75.0,65.0,21.0,55.0,93.0,49.0,60.0,106.0,94.0,53.0,55.0,103.0,76.0,74.0,62.0,94.0,50.0,78.0,67.0,66.0,100.0,49.0,74.0,86.0,59.0,97.0,57.0,74.0,52.0,72.0,48.0,55.0,90.0,55.0,59.0,59.0,86.0,42.0,70.0,49.0,92.0,56.0,38.0,59.0,70.0,101.0,72.0,72.0,67.0,49.0,77.0,76.0,190.0,190.0,60.0,160.0,74.0,126.0,62.0,77.0,51.0,42.0,80.0,78.0,80.0,51.0,69.0,48.0,97.0,62.0,45.0,46.0,83.0,69.0,80.0,81.0,58.0,74.0,90.0,50.0,78.0,50.0,60.0,78.0,67.0,62.0,59.0,67.0,105.0,107.0,74.0,59.0,62.0,60.0,80.0,56.0,62.0,161.0,56.0,77.0,81.0,66.0,78.0,62.0,65.0,70.0,74.0,119.0,190.0,107.0,62.0,190.0,92.0,65.0,60.0,76.0,60.0,118.0,55.0,82.0,59.0,190.0,63.0,106.0,51.0,58.0,67.0,83.0,68.0,65.0,45.0,50.0,86.0,102.0,64.0,71.0,77.0,45.0,76.0,92.0,100.0,70.0,68.0,55.0,81.0,51.0,65.0,250.0,48.0,75.0,65.0,97.0,50.0,72.0,60.0,190.0,74.0,74.0,89.0,120.0,54.0,78.0,60.0,113.0,84.0,80.0,63.0,65.0,46.0,47.0,40.0,75.0,45.0,65.0,73.0,77.0,65.0,65.0,51.0,49.0,44.0,46.0,76.0,58.0,46.0,75.0,65.0,160.0,51.0,75.0,73.0,100.0,106.0,99.0,48.0,69.0,59.0,69.0,41.0,71.0,55.0,59.0,76.0,76.0,60.0,76.0,133.0,64.0,77.0,50.0,88.0,85.0,75.0,119.0,69.0,67.0,65.0,45.0,74.0,73.0,76.0,74.0,47.0,105.0,67.0,48.0,45.0,80.0,92.0,172.0,89.0,50.0,80.0,115.0,59.0,62.0,73.0,46.0,32.0,64.0,52.0,47.0,67.0,69.0,80.0,37.0,50.0,74.0,65.0,46.0,151.0,126.0,67.0,103.0,50.0,145.0,55.0,66.0,59.0,77.0,48.0,73.0,70.0,73.0,119.0,85.0,74.0,64.0,84.0,71.0,84.0,137.0,65.0,80.0,60.0,72.0,75.0,182.0,32.0,66.0,110.0,60.0,55.0,46.0,79.0,75.0,79.0,60.0,60.0,74.0,72.0,62.0,75.0,66.0,67.0,59.0,60.0,70.0,62.0,56.0,82.0,45.0,55.0,77.0,80.0,106.0,72.0,105.0,105.0,77.0,110.0,60.0,190.0,60.0,58.0,55.0,82.0,132.0,58.0,44.0,75.0,130.0,52.0,85.0,85.0,80.0,130.0,86.0,64.0,99.0,119.0,102.0,81.0,107.0,32.0,74.0,63.0,196.0,84.0,75.0,48.0,60.0,162.0,76.0,47.0,70.0,56.0,47.0,53.0,48.0,77.0,69.0,118.0,39.0,55.0,65.0,78.0,61.0,68.0,45.0,92.0,53.0,60.0,130.0,58.0,47.0,70.0,67.0,64.0,47.0,49.0,130.0,68.0,53.0,70.0,64.0,77.0,75.0,73.0,68.0,85.0,77.0,75.0,80.0,168.0,47.0,72.0,119.0,103.0,62.0,77.0,80.0,125.0,48.0,72.0,76.0,65.0,110.0,59.0,180.0,60.0,151.0,70.0,52.0,60.0,107.0,67.0,74.0,107.0,124.0,74.0,137.0,108.0,75.0,48.0,58.0,49.0,62.0,70.0,78.0,60.0,79.0,75.0,69.0,55.0,102.0,77.0,300.0,119.0,70.0,116.0,55.0,55.0,48.0,77.0,108.0,105.0,60.0,32.0,43.0,64.0,80.0,31.0,74.0,57.0,45.0,60.0,78.0,68.0,106.0,49.0,69.0,65.0,66.0,117.0,50.0,67.0,89.0,119.0,90.0,59.0,80.0,102.0,50.0,77.0,81.0,62.0,72.0,56.0,86.0,50.0,56.0,56.0,34.0,58.0,103.0,77.0,45.0,137.0,75.0,32.0,60.0,74.0,75.0,107.0,110.0,77.0,107.0,75.0,66.0,174.0,59.0,70.0,77.0,110.0,191.0,130.0,46.0,69.0,76.0,84.0,52.0,61.0,60.0,55.0,71.0,85.0,86.0,105.0,130.0,80.0,82.0,75.0,72.0,77.0,90.0,62.0,106.0,72.0,64.0,66.0,106.0,89.0,50.0,85.0,45.0,68.0,55.0,81.0,74.0,59.0,47.0,60.0,119.0,71.0,104.0,47.0,75.0,86.0,50.0,45.0,100.0,120.0,70.0,48.0,71.0,60.0,48.0,78.0,80.0,60.0,110.0,81.0,85.0,132.0,79.0,85.0,75.0,77.0,60.0,65.0,56.0,68.0,50.0,62.0,77.0,106.0,145.0,85.0,56.0,48.0,140.0,68.0,74.0,78.0,52.0,65.0,65.0,225.0,200.0,47.0,70.0,72.0,58.0,49.0,62.0,123.0,60.0,60.0,85.0,137.0,119.0,78.0,78.0,65.0,60.0,74.0,77.0,56.0,61.0,68.0,86.0,78.0,80.0,80.0,70.0,56.0,120.0,59.0,55.0,49.0,48.0,50.0,59.0,80.0,49.0,80.0,85.0,70.0,63.0,78.0,65.0,180.0,60.0,103.0,86.0,69.0,46.0,48.0,96.0,60.0,66.0,75.0,56.0,67.0,66.0,74.0,66.0,89.0,60.0,71.0,94.0,45.0,50.0,82.0,72.0,70.0,64.0,77.0,48.0,74.0,85.0,70.0,48.0,48.0,43.0,154.0,48.0,70.0,96.0,50.0,124.0,71.0,74.0,166.0,105.0,77.0,220.0,220.0,87.0,91.0,50.0,85.0,48.0,77.0,49.0,99.0,73.0,60.0,59.0,77.0,155.0,65.0,52.0,45.0,150.0,68.0,58.0,86.0,74.0,45.0,59.0,49.0,58.0,46.0,57.0,77.0,70.0,51.0,65.0,48.0,45.0,70.0,92.0,110.0,66.0,102.0,59.0,64.0,85.0,56.0,74.0,66.0,66.0,66.0,55.0,107.0,79.0,130.0,80.0,60.0,85.0,80.0,59.0,59.0,56.0,46.0,48.0,48.0,58.0,104.0,106.0,85.0,58.0,99.0,51.0,86.0,56.0,56.0,74.0,66.0,67.0,56.0,56.0,83.0,86.0,112.0,68.0,63.0,62.0,49.0,208.0,77.0,40.0,115.0,40.0,77.0,101.0,64.0,62.0,124.0,105.0,77.0,60.0,74.0,105.0,77.0,56.0,67.0,60.0,74.0,152.0,74.0,77.0,76.0,47.0,107.0,72.0,78.0,47.0,64.0,78.0,55.0,68.0,49.0,58.0,119.0,77.0,108.0,59.0,99.0,106.0,40.0,40.0,70.0,107.0,74.0,62.0,124.0,101.0,32.0,60.0,107.0,74.0,67.0,72.0,137.0,74.0,77.0,68.0,47.0,46.0,61.0,77.0,45.0,50.0,77.0,72.0,62.0,59.0,128.0,99.0,66.0,89.0,45.0,81.0,102.0,60.0,60.0,48.0,99.0,59.0,119.0,110.0,80.0,78.0,83.0,89.0,56.0,72.0,62.0,72.0,155.0,57.0,107.0,107.0,162.0,64.0,98.0,91.0,77.0,64.0,75.0,60.0,45.0,59.0,90.0,119.0,74.0,72.0,97.0,98.0,55.0,101.0,84.0,105.0,98.0,73.0,51.0,59.0,49.0,40.0,45.0,145.0,52.0,81.0,80.0,62.0,190.0,70.0,56.0,101.0,75.0,94.0,61.0,105.0,145.0,87.0,77.0,69.0,48.0,78.0,107.0,69.0,45.0,89.0,106.0,75.0,70.0,105.0,62.0,59.0,77.0,75.0,107.0,82.0,130.0,60.0,72.0,86.0,75.0,77.0,130.0,56.0,80.0,30.0,66.0,59.0,65.0,46.0,70.0,170.0,64.0,124.0,80.0,174.0,86.0,80.0,74.0,60.0,50.0,75.0,86.0,130.0,82.0,80.0,105.0,46.0,60.0,46.0,82.0,46.0,61.0,52.0,46.0,75.0,105.0,49.0,67.0,48.0,75.0,105.0,77.0,72.0,77.0,196.0,77.0,90.0,75.0],\"xaxis\":\"x\",\"yaxis\":\"y\",\"type\":\"histogram\"},{\"alignmentgroup\":\"True\",\"bingroup\":\"x\",\"hovertemplate\":\"Categoria=Casas<br>Area construida=%{x}<br>count=%{y}<extra></extra>\",\"legendgroup\":\"Casas\",\"marker\":{\"color\":\"#EF553B\",\"pattern\":{\"shape\":\"\"}},\"name\":\"Casas\",\"offsetgroup\":\"Casas\",\"orientation\":\"v\",\"showlegend\":true,\"x\":[140.0,66.0,260.0,174.0,170.0,422.0,360.0,110.0,142.0,218.0,200.0,107.0,115.0,160.0,351.0,105.0,270.0,380.0,135.0,200.0,303.0,233.0,90.0,233.0,600.0,10.0,350.0,189.0,100.0,100.0,75.0,72.0,130.0,90.0,59.0,217.0,182.0,122.0,134.0,240.0,276.0,158.0,98.0,370.0,220.0,120.0,200.0,100.0,90.0,89.0,138.0,130.0,100.0,441.0,120.0,99.0,140.0,240.0,160.0,240.0,200.0,200.0,69.0,151.0,107.0,220.0,88.0,77.0,175.0,180.0,243.0,180.0,300.0,65.0,150.0,140.0,240.0,160.0,240.0,200.0,217.0,182.0,122.0,134.0,240.0,276.0,158.0,98.0,220.0,88.0,77.0,175.0,180.0,110.0,150.0,100.0,90.0,89.0,138.0,130.0,100.0,441.0,150.0,230.0,450.0,200.0,200.0,200.0,69.0,151.0,107.0,22.0,220.0,120.0,104.0,200.0,243.0,180.0,300.0,65.0,272.0,250.0,120.0,89.0,63.0,69.0,93.0,390.0,181.0,105.0,100.0,68.0,170.0,230.0,66.0,70.0,67.0,136.0,80.0,160.0,130.0,170.0,57.0,175.0,250.0,200.0,90.0,250.0,223.0,186.0,85.0,140.0,60.0,360.0,400.0,100.0,203.0,10.0,218.0,77.0,140.0,225.0,350.0,200.0,76.0,64.0,250.0,150.0,198.0,300.0,88.0,260.0,176.0,120.0,200.0,113.0,130.0,160.0,99.0,110.0,196.0,130.0,149.0,58.0,120.0,70.0,90.0,243.0,243.0,113.0,117.0,99.0,253.0,280.0,90.0,156.0,100.0,296.0,100.0,192.0,140.0,300.0,180.0,311.0,110.0,76.0,200.0,150.0,384.0,137.0,137.0,220.0,137.0,226.0,200.0,396.0,125.0,200.0,48.0,160.0,65.0,287.0,70.0,287.0,100.0,75.0,95.0,65.0,178.0,100.0,55.0,200.0,200.0,200.0,200.0,180.0,56.0,182.0,240.0,182.0,240.0,175.0,500.0,105.0,80.0,480.0,200.0,159.0,100.0,173.0,110.0,76.0,200.0,107.0,105.0,233.0,400.0,151.0,207.0,140.0,400.0,120.0,150.0,135.0,179.0,113.0,176.0,215.0,258.0,76.0,151.0,120.0,92.0,464.0,56.0,99.0,36.0,129.0,200.0,148.0,103.0,300.0,128.0,162.0,104.0,60.0,63.0,120.0,180.0,89.0,173.0,250.0,88.0,209.0,231.0,139.0,77.0,100.0,200.0,156.0,90.0,133.0,67.0,300.0,390.0,210.0,322.0,600.0,105.0,99.0,414.0,162.0,120.0,186.0,129.0,93.0,140.0,200.0,200.0,186.0,222.0,428.0,240.0,52.0,450.0,160.0,160.0,500.0,150.0,115.0,253.0,200.0,160.0,60.0,300.0,62.0,105.0,300.0,300.0,789.0,100.0,132.0,180.0,230.0,89.0,77.0,200.0,567.0,163.0,408.0,89.0,396.0,400.0,250.0,200.0,300.0,200.0,315.0,200.0,500.0,200.0,390.0,209.0,300.0,193.0,400.0,152.0,277.0,143.0,384.0,76.0,250.0,200.0,429.0,170.0,200.0,160.0,352.0,72.0,103.0,58.0,150.0,70.0,161.0,135.0,61.0,186.0,100.0,110.0,130.0,287.0,200.0,200.0,287.0,186.0,100.0,200.0,200.0,24.0,175.0,390.0,370.0,387.0,200.0,40.0,580.0,69.0,145.0,124.0,280.0,160.0,200.0,147.0,64.0,186.0,130.0,393.0,130.0,160.0,220.0,61.0,369.0,166.0,190.0,180.0,147.0,390.0,188.0,65.0,160.0,151.0,260.0,98.0,77.0,174.0,93.0,130.0,200.0,60.0,60.0,200.0,107.0,250.0,220.0,120.0,130.0,134.0,120.0,319.0,186.0,90.0,160.0,150.0,98.0,450.0,250.0,300.0,46.0,74.0,152.0,200.0,200.0,200.0,180.0,152.0,240.0,60.0,175.0,182.0,104.0,200.0,244.0,151.0,77.0,169.0,200.0,240.0,170.0,200.0,70.0,60.0,95.0,120.0,200.0,156.0,200.0,103.0,57.0,200.0,200.0,226.0,99.0,150.0,280.0,186.0,69.0,120.0,152.0,200.0,175.0,169.0,87.0,287.0,200.0,180.0,76.0,102.0,174.0,69.0,104.0,10.0,106.0,56.0,92.0,180.0,70.0,300.0,40.0,303.0,122.0,400.0,95.0,160.0,500.0,400.0,68.0,350.0,266.0,102.0,144.0,65.0,105.0,77.0,288.0,186.0,130.0,99.0,77.0,93.0,180.0,180.0,250.0,160.0,160.0,145.0,226.0,170.0,160.0,137.0,200.0,226.0,113.0,137.0,107.0,287.0,136.0,287.0,230.0,200.0,137.0,182.0,190.0,124.0,110.0,140.0,75.0,134.0,60.0,77.0,135.0,103.0,200.0,120.0,169.0,180.0,70.0,140.0,65.0,400.0,100.0,134.0,200.0,219.0,160.0,160.0,110.0,70.0,300.0,40.0,157.0,250.0,150.0,99.0,251.0,102.0,176.0,103.0,146.0,180.0,63.0,151.0,200.0,76.0,200.0,132.0,60.0,400.0,130.0,200.0,136.0,182.0,145.0,102.0,303.0,68.0,143.0,180.0,88.0,200.0,180.0,67.0,250.0,350.0,300.0,61.0,240.0,170.0,232.0,210.0,150.0,226.0,630.0,199.0,225.0,27.0,170.0,151.0,160.0,120.0,500.0,180.0,143.0,141.0,137.0,258.0,120.0,260.0,280.0,114.0,99.0,132.0,187.0,300.0,66.0,182.0,76.0,76.0,76.0,76.0,151.0,180.0,200.0,55.0,200.0,233.0,92.0,355.0,88.0,400.0,58.0,160.0,182.0,160.0,65.0,200.0,240.0,151.0,287.0,200.0,200.0,180.0,226.0,180.0,180.0,480.0,300.0,160.0,100.0,328.0,40.0,200.0,24.0,103.0,76.0,225.0,200.0,169.0,380.0,103.0,175.0,131.0,90.0,281.0,182.0,123.0,70.0,224.0,200.0,240.0,99.0,180.0,87.0,50.0,182.0,98.0,34.0,275.0,110.0,318.0,180.0,190.0,237.0,180.0,300.0,106.0,120.0,70.0,200.0,55.0,140.0,130.0,220.0,100.0,226.0,250.0,76.0,97.0,390.0,137.0,76.0,76.0,76.0,76.0,200.0,230.0,287.0,76.0,169.0,146.0,225.0,200.0,200.0,103.0,250.0,380.0,560.0,347.0,287.0,140.0,200.0,668.0,76.0,157.0,226.0,196.0,200.0,181.0,345.0,190.0,130.0,134.0,112.0,77.0,112.0,135.0,110.0,107.0,227.0,132.0,58.0,52.0,223.0,146.0,303.0,300.0,146.0,88.0,186.0,68.0,100.0,300.0,70.0,174.0,99.0,70.0,390.0,100.0,100.0,182.0,76.0,498.0,151.0,185.0,145.0,350.0,61.0,98.0,195.0,120.0,160.0,200.0,160.0,100.0,93.0,103.0,175.0,200.0,165.0,104.0,63.0,61.0,61.0,145.0,30.0,152.0,224.0,160.0,60.0,175.0,156.0,390.0,120.0,152.0,30.0,225.0,167.0,169.0,157.0],\"xaxis\":\"x\",\"yaxis\":\"y\",\"type\":\"histogram\"}],                        {\"template\":{\"data\":{\"bar\":[{\"error_x\":{\"color\":\"#2a3f5f\"},\"error_y\":{\"color\":\"#2a3f5f\"},\"marker\":{\"line\":{\"color\":\"#E5ECF6\",\"width\":0.5},\"pattern\":{\"fillmode\":\"overlay\",\"size\":10,\"solidity\":0.2}},\"type\":\"bar\"}],\"barpolar\":[{\"marker\":{\"line\":{\"color\":\"#E5ECF6\",\"width\":0.5},\"pattern\":{\"fillmode\":\"overlay\",\"size\":10,\"solidity\":0.2}},\"type\":\"barpolar\"}],\"carpet\":[{\"aaxis\":{\"endlinecolor\":\"#2a3f5f\",\"gridcolor\":\"white\",\"linecolor\":\"white\",\"minorgridcolor\":\"white\",\"startlinecolor\":\"#2a3f5f\"},\"baxis\":{\"endlinecolor\":\"#2a3f5f\",\"gridcolor\":\"white\",\"linecolor\":\"white\",\"minorgridcolor\":\"white\",\"startlinecolor\":\"#2a3f5f\"},\"type\":\"carpet\"}],\"choropleth\":[{\"colorbar\":{\"outlinewidth\":0,\"ticks\":\"\"},\"type\":\"choropleth\"}],\"contour\":[{\"colorbar\":{\"outlinewidth\":0,\"ticks\":\"\"},\"colorscale\":[[0.0,\"#0d0887\"],[0.1111111111111111,\"#46039f\"],[0.2222222222222222,\"#7201a8\"],[0.3333333333333333,\"#9c179e\"],[0.4444444444444444,\"#bd3786\"],[0.5555555555555556,\"#d8576b\"],[0.6666666666666666,\"#ed7953\"],[0.7777777777777778,\"#fb9f3a\"],[0.8888888888888888,\"#fdca26\"],[1.0,\"#f0f921\"]],\"type\":\"contour\"}],\"contourcarpet\":[{\"colorbar\":{\"outlinewidth\":0,\"ticks\":\"\"},\"type\":\"contourcarpet\"}],\"heatmap\":[{\"colorbar\":{\"outlinewidth\":0,\"ticks\":\"\"},\"colorscale\":[[0.0,\"#0d0887\"],[0.1111111111111111,\"#46039f\"],[0.2222222222222222,\"#7201a8\"],[0.3333333333333333,\"#9c179e\"],[0.4444444444444444,\"#bd3786\"],[0.5555555555555556,\"#d8576b\"],[0.6666666666666666,\"#ed7953\"],[0.7777777777777778,\"#fb9f3a\"],[0.8888888888888888,\"#fdca26\"],[1.0,\"#f0f921\"]],\"type\":\"heatmap\"}],\"heatmapgl\":[{\"colorbar\":{\"outlinewidth\":0,\"ticks\":\"\"},\"colorscale\":[[0.0,\"#0d0887\"],[0.1111111111111111,\"#46039f\"],[0.2222222222222222,\"#7201a8\"],[0.3333333333333333,\"#9c179e\"],[0.4444444444444444,\"#bd3786\"],[0.5555555555555556,\"#d8576b\"],[0.6666666666666666,\"#ed7953\"],[0.7777777777777778,\"#fb9f3a\"],[0.8888888888888888,\"#fdca26\"],[1.0,\"#f0f921\"]],\"type\":\"heatmapgl\"}],\"histogram\":[{\"marker\":{\"pattern\":{\"fillmode\":\"overlay\",\"size\":10,\"solidity\":0.2}},\"type\":\"histogram\"}],\"histogram2d\":[{\"colorbar\":{\"outlinewidth\":0,\"ticks\":\"\"},\"colorscale\":[[0.0,\"#0d0887\"],[0.1111111111111111,\"#46039f\"],[0.2222222222222222,\"#7201a8\"],[0.3333333333333333,\"#9c179e\"],[0.4444444444444444,\"#bd3786\"],[0.5555555555555556,\"#d8576b\"],[0.6666666666666666,\"#ed7953\"],[0.7777777777777778,\"#fb9f3a\"],[0.8888888888888888,\"#fdca26\"],[1.0,\"#f0f921\"]],\"type\":\"histogram2d\"}],\"histogram2dcontour\":[{\"colorbar\":{\"outlinewidth\":0,\"ticks\":\"\"},\"colorscale\":[[0.0,\"#0d0887\"],[0.1111111111111111,\"#46039f\"],[0.2222222222222222,\"#7201a8\"],[0.3333333333333333,\"#9c179e\"],[0.4444444444444444,\"#bd3786\"],[0.5555555555555556,\"#d8576b\"],[0.6666666666666666,\"#ed7953\"],[0.7777777777777778,\"#fb9f3a\"],[0.8888888888888888,\"#fdca26\"],[1.0,\"#f0f921\"]],\"type\":\"histogram2dcontour\"}],\"mesh3d\":[{\"colorbar\":{\"outlinewidth\":0,\"ticks\":\"\"},\"type\":\"mesh3d\"}],\"parcoords\":[{\"line\":{\"colorbar\":{\"outlinewidth\":0,\"ticks\":\"\"}},\"type\":\"parcoords\"}],\"pie\":[{\"automargin\":true,\"type\":\"pie\"}],\"scatter\":[{\"marker\":{\"colorbar\":{\"outlinewidth\":0,\"ticks\":\"\"}},\"type\":\"scatter\"}],\"scatter3d\":[{\"line\":{\"colorbar\":{\"outlinewidth\":0,\"ticks\":\"\"}},\"marker\":{\"colorbar\":{\"outlinewidth\":0,\"ticks\":\"\"}},\"type\":\"scatter3d\"}],\"scattercarpet\":[{\"marker\":{\"colorbar\":{\"outlinewidth\":0,\"ticks\":\"\"}},\"type\":\"scattercarpet\"}],\"scattergeo\":[{\"marker\":{\"colorbar\":{\"outlinewidth\":0,\"ticks\":\"\"}},\"type\":\"scattergeo\"}],\"scattergl\":[{\"marker\":{\"colorbar\":{\"outlinewidth\":0,\"ticks\":\"\"}},\"type\":\"scattergl\"}],\"scattermapbox\":[{\"marker\":{\"colorbar\":{\"outlinewidth\":0,\"ticks\":\"\"}},\"type\":\"scattermapbox\"}],\"scatterpolar\":[{\"marker\":{\"colorbar\":{\"outlinewidth\":0,\"ticks\":\"\"}},\"type\":\"scatterpolar\"}],\"scatterpolargl\":[{\"marker\":{\"colorbar\":{\"outlinewidth\":0,\"ticks\":\"\"}},\"type\":\"scatterpolargl\"}],\"scatterternary\":[{\"marker\":{\"colorbar\":{\"outlinewidth\":0,\"ticks\":\"\"}},\"type\":\"scatterternary\"}],\"surface\":[{\"colorbar\":{\"outlinewidth\":0,\"ticks\":\"\"},\"colorscale\":[[0.0,\"#0d0887\"],[0.1111111111111111,\"#46039f\"],[0.2222222222222222,\"#7201a8\"],[0.3333333333333333,\"#9c179e\"],[0.4444444444444444,\"#bd3786\"],[0.5555555555555556,\"#d8576b\"],[0.6666666666666666,\"#ed7953\"],[0.7777777777777778,\"#fb9f3a\"],[0.8888888888888888,\"#fdca26\"],[1.0,\"#f0f921\"]],\"type\":\"surface\"}],\"table\":[{\"cells\":{\"fill\":{\"color\":\"#EBF0F8\"},\"line\":{\"color\":\"white\"}},\"header\":{\"fill\":{\"color\":\"#C8D4E3\"},\"line\":{\"color\":\"white\"}},\"type\":\"table\"}]},\"layout\":{\"annotationdefaults\":{\"arrowcolor\":\"#2a3f5f\",\"arrowhead\":0,\"arrowwidth\":1},\"autotypenumbers\":\"strict\",\"coloraxis\":{\"colorbar\":{\"outlinewidth\":0,\"ticks\":\"\"}},\"colorscale\":{\"diverging\":[[0,\"#8e0152\"],[0.1,\"#c51b7d\"],[0.2,\"#de77ae\"],[0.3,\"#f1b6da\"],[0.4,\"#fde0ef\"],[0.5,\"#f7f7f7\"],[0.6,\"#e6f5d0\"],[0.7,\"#b8e186\"],[0.8,\"#7fbc41\"],[0.9,\"#4d9221\"],[1,\"#276419\"]],\"sequential\":[[0.0,\"#0d0887\"],[0.1111111111111111,\"#46039f\"],[0.2222222222222222,\"#7201a8\"],[0.3333333333333333,\"#9c179e\"],[0.4444444444444444,\"#bd3786\"],[0.5555555555555556,\"#d8576b\"],[0.6666666666666666,\"#ed7953\"],[0.7777777777777778,\"#fb9f3a\"],[0.8888888888888888,\"#fdca26\"],[1.0,\"#f0f921\"]],\"sequentialminus\":[[0.0,\"#0d0887\"],[0.1111111111111111,\"#46039f\"],[0.2222222222222222,\"#7201a8\"],[0.3333333333333333,\"#9c179e\"],[0.4444444444444444,\"#bd3786\"],[0.5555555555555556,\"#d8576b\"],[0.6666666666666666,\"#ed7953\"],[0.7777777777777778,\"#fb9f3a\"],[0.8888888888888888,\"#fdca26\"],[1.0,\"#f0f921\"]]},\"colorway\":[\"#636efa\",\"#EF553B\",\"#00cc96\",\"#ab63fa\",\"#FFA15A\",\"#19d3f3\",\"#FF6692\",\"#B6E880\",\"#FF97FF\",\"#FECB52\"],\"font\":{\"color\":\"#2a3f5f\"},\"geo\":{\"bgcolor\":\"white\",\"lakecolor\":\"white\",\"landcolor\":\"#E5ECF6\",\"showlakes\":true,\"showland\":true,\"subunitcolor\":\"white\"},\"hoverlabel\":{\"align\":\"left\"},\"hovermode\":\"closest\",\"mapbox\":{\"style\":\"light\"},\"paper_bgcolor\":\"white\",\"plot_bgcolor\":\"#E5ECF6\",\"polar\":{\"angularaxis\":{\"gridcolor\":\"white\",\"linecolor\":\"white\",\"ticks\":\"\"},\"bgcolor\":\"#E5ECF6\",\"radialaxis\":{\"gridcolor\":\"white\",\"linecolor\":\"white\",\"ticks\":\"\"}},\"scene\":{\"xaxis\":{\"backgroundcolor\":\"#E5ECF6\",\"gridcolor\":\"white\",\"gridwidth\":2,\"linecolor\":\"white\",\"showbackground\":true,\"ticks\":\"\",\"zerolinecolor\":\"white\"},\"yaxis\":{\"backgroundcolor\":\"#E5ECF6\",\"gridcolor\":\"white\",\"gridwidth\":2,\"linecolor\":\"white\",\"showbackground\":true,\"ticks\":\"\",\"zerolinecolor\":\"white\"},\"zaxis\":{\"backgroundcolor\":\"#E5ECF6\",\"gridcolor\":\"white\",\"gridwidth\":2,\"linecolor\":\"white\",\"showbackground\":true,\"ticks\":\"\",\"zerolinecolor\":\"white\"}},\"shapedefaults\":{\"line\":{\"color\":\"#2a3f5f\"}},\"ternary\":{\"aaxis\":{\"gridcolor\":\"white\",\"linecolor\":\"white\",\"ticks\":\"\"},\"baxis\":{\"gridcolor\":\"white\",\"linecolor\":\"white\",\"ticks\":\"\"},\"bgcolor\":\"#E5ECF6\",\"caxis\":{\"gridcolor\":\"white\",\"linecolor\":\"white\",\"ticks\":\"\"}},\"title\":{\"x\":0.05},\"xaxis\":{\"automargin\":true,\"gridcolor\":\"white\",\"linecolor\":\"white\",\"ticks\":\"\",\"title\":{\"standoff\":15},\"zerolinecolor\":\"white\",\"zerolinewidth\":2},\"yaxis\":{\"automargin\":true,\"gridcolor\":\"white\",\"linecolor\":\"white\",\"ticks\":\"\",\"title\":{\"standoff\":15},\"zerolinecolor\":\"white\",\"zerolinewidth\":2}}},\"xaxis\":{\"anchor\":\"y\",\"domain\":[0.0,1.0],\"title\":{\"text\":\"Area construida\"}},\"yaxis\":{\"anchor\":\"x\",\"domain\":[0.0,1.0],\"title\":{\"text\":\"count\"}},\"legend\":{\"title\":{\"text\":\"Categoria\"},\"tracegroupgap\":0},\"margin\":{\"t\":60},\"barmode\":\"relative\"},                        {\"responsive\": true}                    ).then(function(){\n",
              "                            \n",
              "var gd = document.getElementById('2186cc1e-be1b-4d18-98ae-b2850d1480c6');\n",
              "var x = new MutationObserver(function (mutations, observer) {{\n",
              "        var display = window.getComputedStyle(gd).display;\n",
              "        if (!display || display === 'none') {{\n",
              "            console.log([gd, 'removed!']);\n",
              "            Plotly.purge(gd);\n",
              "            observer.disconnect();\n",
              "        }}\n",
              "}});\n",
              "\n",
              "// Listen for the removal of the full notebook cells\n",
              "var notebookContainer = gd.closest('#notebook-container');\n",
              "if (notebookContainer) {{\n",
              "    x.observe(notebookContainer, {childList: true});\n",
              "}}\n",
              "\n",
              "// Listen for the clearing of the current output cell\n",
              "var outputEl = gd.closest('.output');\n",
              "if (outputEl) {{\n",
              "    x.observe(outputEl, {childList: true});\n",
              "}}\n",
              "\n",
              "                        })                };                            </script>        </div>\n",
              "</body>\n",
              "</html>"
            ]
          },
          "metadata": {}
        },
        {
          "output_type": "stream",
          "name": "stdout",
          "text": [
            "PREÇO\n"
          ]
        },
        {
          "output_type": "display_data",
          "data": {
            "text/html": [
              "<html>\n",
              "<head><meta charset=\"utf-8\" /></head>\n",
              "<body>\n",
              "    <div>            <script src=\"https://cdnjs.cloudflare.com/ajax/libs/mathjax/2.7.5/MathJax.js?config=TeX-AMS-MML_SVG\"></script><script type=\"text/javascript\">if (window.MathJax) {MathJax.Hub.Config({SVG: {font: \"STIX-Web\"}});}</script>                <script type=\"text/javascript\">window.PlotlyConfig = {MathJaxConfig: 'local'};</script>\n",
              "        <script src=\"https://cdn.plot.ly/plotly-2.8.3.min.js\"></script>                <div id=\"d3af32fb-506d-48b2-9783-743adcfcd2ca\" class=\"plotly-graph-div\" style=\"height:525px; width:100%;\"></div>            <script type=\"text/javascript\">                                    window.PLOTLYENV=window.PLOTLYENV || {};                                    if (document.getElementById(\"d3af32fb-506d-48b2-9783-743adcfcd2ca\")) {                    Plotly.newPlot(                        \"d3af32fb-506d-48b2-9783-743adcfcd2ca\",                        [{\"alignmentgroup\":\"True\",\"bingroup\":\"x\",\"hovertemplate\":\"Categoria=Apartamentos<br>Pre\\u00e7o=%{x}<br>count=%{y}<extra></extra>\",\"legendgroup\":\"Apartamentos\",\"marker\":{\"color\":\"#636efa\",\"pattern\":{\"shape\":\"\"}},\"name\":\"Apartamentos\",\"offsetgroup\":\"Apartamentos\",\"orientation\":\"v\",\"showlegend\":true,\"x\":[115000.0,820000.0,135000.0,320046.0,390000.0,650000.0,119900.0,254000.0,310000.0,254054.0,213490.0,220000.0,530000.0,280000.0,300000.0,410000.0,130000.0,130000.0,360000.0,535000.0,290000.0,460000.0,350000.0,735000.0,760000.0,220000.0,215000.0,517000.0,0.0,220000.0,450000.0,300000.0,180000.0,180000.0,179000.0,630000.0,280000.0,185000.0,770000.0,630000.0,280000.0,560000.0,398000.0,180000.0,370000.0,650000.0,420000.0,315000.0,340000.0,199000.0,220000.0,300000.0,850000.0,339992.0,140000.0,460000.0,240000.0,950000.0,350000.0,300000.0,630000.0,150000.0,15000.0,300000.0,300000.0,260000.0,830000.0,830000.0,245000.0,370000.0,690000.0,750000.0,370000.0,624248.0,345000.0,355000.0,170000.0,878000.0,950000.0,370000.0,196000.0,300000.0,150000.0,450000.0,450000.0,190000.0,562000.0,221921.0,290000.0,300000.0,330000.0,459100.0,170000.0,205000.0,360000.0,270000.0,390000.0,185000.0,220000.0,415000.0,498100.0,770000.0,160000.0,90000.0,165000.0,180000.0,329500.0,240000.0,345000.0,160000.0,328000.0,270000.0,190000.0,160000.0,180000.0,329500.0,129900.0,330000.0,280000.0,330000.0,350000.0,145000.0,700000.0,498100.0,207360.0,504000.0,230000.0,472600.0,280000.0,110000.0,480000.0,180500.0,850000.0,288500.0,240000.0,130000.0,630000.0,157500.0,220000.0,230000.0,300000.0,580000.0,890000.0,225000.0,240000.0,390000.0,130000.0,160000.0,200000.0,381957.0,280000.0,450000.0,400000.0,300000.0,325000.0,210000.0,240000.0,800000.0,145000.0,375000.0,977139.0,290000.0,215251.0,130000.0,280000.0,275000.0,490000.0,220000.0,130000.0,150000.0,350000.0,350000.0,398000.0,164990.0,190000.0,280000.0,35000.0,180000.0,130000.0,890000.0,360000.0,125000.0,472600.0,280000.0,110000.0,480000.0,204000.0,196000.0,300000.0,150000.0,450000.0,450000.0,190000.0,562000.0,221921.0,290000.0,300000.0,330000.0,459100.0,170000.0,205000.0,360000.0,270000.0,390000.0,185000.0,220000.0,415000.0,400000.0,300000.0,325000.0,210000.0,240000.0,800000.0,160000.0,328000.0,270000.0,190000.0,160000.0,180000.0,329500.0,129900.0,330000.0,280000.0,330000.0,350000.0,145000.0,700000.0,190000.0,280000.0,35000.0,180000.0,130000.0,890000.0,360000.0,125000.0,140000.0,320000.0,195000.0,200000.0,180500.0,850000.0,288500.0,240000.0,130000.0,630000.0,157500.0,220000.0,230000.0,300000.0,580000.0,890000.0,225000.0,240000.0,390000.0,130000.0,160000.0,200000.0,490000.0,690000.0,560000.0,100000.0,250000.0,540000.0,750000.0,450000.0,175000.0,430000.0,145000.0,375000.0,977139.0,290000.0,215251.0,130000.0,280000.0,275000.0,490000.0,220000.0,130000.0,150000.0,130000.0,170000.0,280000.0,410000.0,760000.0,160000.0,220000.0,596000.0,115000.0,590000.0,300000.0,960000.0,155000.0,150000.0,350000.0,492700.0,354378.0,150000.0,680000.0,561202.0,125000.0,498100.0,300000.0,160000.0,200000.0,250000.0,260000.0,240000.0,650000.0,355000.0,288000.0,200000.0,215000.0,220000.0,440000.0,40000.0,130000.0,288000.0,290000.0,450000.0,370000.0,650000.0,150000.0,561511.0,750000.0,310000.0,480000.0,850000.0,380000.0,330000.0,140000.0,390000.0,175000.0,387000.0,347000.0,345000.0,750000.0,354800.0,290000.0,400000.0,760000.0,155000.0,300000.0,750000.0,230000.0,226000.0,315000.0,140000.0,270000.0,135000.0,564990.0,650000.0,670000.0,140000.0,299000.0,468100.0,326000.0,790000.0,265000.0,380000.0,700000.0,165000.0,150000.0,770000.0,550000.0,185000.0,756000.0,562990.0,290000.0,230000.0,248000.0,160000.0,580000.0,160000.0,220000.0,890000.0,540000.0,300000.0,230000.0,490000.0,490000.0,220000.0,329500.0,250000.0,245000.0,534300.0,343902.0,315000.0,260000.0,125000.0,470000.0,562990.0,350000.0,210000.0,320000.0,220000.0,175000.0,375000.0,160000.0,220000.0,230000.0,210000.0,332844.0,230000.0,225000.0,130000.0,300000.0,140000.0,444900.0,275181.0,175000.0,165000.0,200000.0,350000.0,390000.0,350000.0,300000.0,138000.0,390000.0,630000.0,850000.0,850000.0,210000.0,494940.0,470000.0,750000.0,350000.0,280000.0,220000.0,145000.0,720000.0,468000.0,240000.0,120000.0,280000.0,170000.0,270000.0,285000.0,135000.0,155000.0,250000.0,295000.0,700000.0,440000.0,254224.0,290000.0,458000.0,245000.0,534300.0,240000.0,300000.0,460000.0,310000.0,250000.0,185000.0,280000.0,650000.0,860000.0,355000.0,325000.0,200000.0,336890.0,560000.0,145000.0,278100.0,800000.0,239477.0,439000.0,220000.0,357416.0,200000.0,230000.0,255000.0,300000.0,440000.0,600000.0,850000.0,931164.0,190000.0,850000.0,740000.0,410000.0,327000.0,370000.0,235000.0,590990.0,240000.0,300000.0,230000.0,850000.0,347271.0,750000.0,211700.0,130000.0,185000.0,630000.0,255000.0,250000.0,188554.0,150000.0,562990.0,240000.0,230000.0,260000.0,280000.0,135000.0,370000.0,220000.0,550000.0,280000.0,320000.0,300000.0,310000.0,200000.0,140000.0,200000.0,160000.0,355000.0,190000.0,270000.0,135000.0,390000.0,260000.0,850000.0,470000.0,215000.0,260000.0,587000.0,170000.0,460000.0,320000.0,280000.0,903000.0,240000.0,180000.0,220000.0,130000.0,110000.0,115000.0,240000.0,120000.0,410000.0,220000.0,260000.0,350000.0,265000.0,180000.0,150000.0,128000.0,120000.0,239000.0,272200.0,130000.0,374900.0,230000.0,690000.0,450000.0,290000.0,450000.0,575000.0,850000.0,220000.0,140000.0,230000.0,230000.0,365000.0,353154.0,319245.0,165000.0,226000.0,430000.0,570000.0,239000.0,390000.0,780000.0,170000.0,250000.0,160000.0,450000.0,300000.0,330000.0,600000.0,190000.0,280000.0,185000.0,130000.0,295000.0,300000.0,350000.0,220000.0,130000.0,700000.0,450000.0,135000.0,170000.0,770000.0,260000.0,670000.0,180000.0,160000.0,260000.0,265000.0,327644.0,300000.0,180000.0,130000.0,288000.0,280000.0,220000.0,140000.0,420000.0,310000.0,250000.0,185490.0,140000.0,440000.0,300000.0,135673.0,340000.0,720000.0,290000.0,300000.0,110000.0,800000.0,250000.0,260000.0,350000.0,270000.0,140000.0,230000.0,170000.0,390000.0,600000.0,529000.0,470000.0,390000.0,520000.0,370000.0,380000.0,900000.0,210000.0,750000.0,340000.0,380000.0,435000.0,980000.0,297600.0,335000.0,290000.0,200000.0,147000.0,140000.0,735000.0,435000.0,735000.0,200000.0,280000.0,450000.0,398000.0,275000.0,290000.0,315000.0,240000.0,576304.0,185000.0,330000.0,340000.0,272100.0,650000.0,199000.0,160000.0,370000.0,560000.0,850000.0,460000.0,687000.0,650000.0,250000.0,290000.0,250000.0,850000.0,340000.0,272269.0,230000.0,700000.0,830000.0,155000.0,110000.0,420000.0,920000.0,150000.0,535000.0,460000.0,750000.0,770000.0,562990.0,180000.0,280000.0,950000.0,750000.0,730000.0,550000.0,288000.0,500000.0,267000.0,280000.0,220000.0,470000.0,190000.0,285000.0,700000.0,370000.0,140000.0,280000.0,254053.0,211000.0,296690.0,145000.0,395000.0,290000.0,950000.0,208000.0,180000.0,220000.0,498100.0,410000.0,230000.0,135000.0,600000.0,258865.0,300000.0,330000.0,296023.0,140000.0,490000.0,215000.0,270000.0,165000.0,284302.0,700000.0,290000.0,290000.0,410433.0,180000.0,390000.0,355500.0,395000.0,250000.0,720000.0,250000.0,164000.0,560000.0,540000.0,159900.0,420000.0,400000.0,620000.0,340000.0,390000.0,700000.0,650000.0,150000.0,210000.0,285000.0,330000.0,240000.0,200000.0,800000.0,300000.0,740000.0,290000.0,250000.0,230000.0,760000.0,225000.0,470000.0,900000.0,690000.0,355000.0,900000.0,800000.0,420000.0,259900.0,220000.0,160000.0,340000.0,270000.0,160000.0,300000.0,735000.0,504000.0,365000.0,160000.0,550000.0,190000.0,270000.0,950000.0,380000.0,630000.0,230000.0,220000.0,137065.0,345000.0,650000.0,750000.0,340000.0,297600.0,140000.0,330000.0,750000.0,157000.0,355000.0,269296.0,210000.0,316461.0,220000.0,259990.0,820000.0,160000.0,200000.0,250000.0,315000.0,180000.0,135000.0,420000.0,350000.0,600000.0,370000.0,220000.0,560000.0,270000.0,130000.0,240000.0,730000.0,290000.0,460000.0,80000.0,564990.0,168985.0,225000.0,175000.0,197800.0,185000.0,620000.0,320000.0,110000.0,500000.0,350000.0,288000.0,300000.0,495000.0,260000.0,860000.0,450000.0,160000.0,900000.0,270000.0,280000.0,950000.0,311500.0,300000.0,340000.0,550000.0,980000.0,924670.0,170000.0,250000.0,220000.0,270000.0,160000.0,195000.0,350000.0,220000.0,195000.0,460000.0,562990.0,650000.0,770000.0,560000.0,650000.0,420000.0,398000.0,370000.0,482800.0,340000.0,850000.0,460000.0,390000.0,280000.0,870000.0,350000.0,212300.0,630000.0,199000.0,360000.0,200000.0,730000.0,470000.0,226000.0,150000.0,250672.0,950000.0,490000.0,680000.0,125000.0,330000.0,562990.0,225000.0,145000.0,780000.0,620000.0,338000.0,150000.0,240211.0,340000.0,260000.0,320000.0,750000.0,285000.0,290000.0,730000.0,535000.0,830000.0,735000.0,460000.0,290000.0,370000.0,450000.0,310000.0,230000.0,270000.0,130000.0,435000.0,250000.0,890000.0,750000.0,535000.0,272835.0,165000.0,990000.0,425360.0,360000.0,485000.0,303000.0,165000.0,195000.0,500000.0,850000.0,130000.0,450000.0,350000.0,250000.0,209490.0,230000.0,100000.0,280000.0,370000.0,460000.0,900000.0,950000.0,489000.0,485000.0,330000.0,340000.0,355000.0,390000.0,354155.0,250000.0,185000.0,564990.0,190000.0,560000.0,430000.0,100000.0,163000.0,190000.0,321500.0,40000.0,160000.0,125000.0,147000.0,330000.0,475000.0,65000.0,500000.0,580000.0,490000.0,230000.0,150000.0,220000.0,960000.0,300000.0,850000.0,562990.0,270000.0,134000.0,145000.0,450000.0,220000.0,315000.0,310000.0,228000.0,140000.0,275000.0,360000.0,260000.0,564990.0,210000.0,490000.0,580000.0,50000.0,140000.0,460000.0,390000.0,366145.0,390000.0,320000.0,191224.0,440000.0,490000.0,300000.0,160000.0,135000.0,150000.0,270000.0,150000.0,220000.0,550000.0,244695.0,690000.0,379000.0,355000.0,900000.0,780000.0,390000.0,950000.0,950000.0,527000.0,560000.0,180000.0,580000.0,120000.0,300000.0,145000.0,450000.0,390000.0,230000.0,226000.0,650000.0,400000.0,300000.0,160000.0,210000.0,850000.0,360000.0,268600.0,900000.0,210000.0,130000.0,230000.0,190000.0,195000.0,135000.0,264000.0,230000.0,325000.0,230000.0,250000.0,185000.0,130000.0,485000.0,235000.0,640000.0,220000.0,420000.0,110000.0,220000.0,535000.0,288100.0,355000.0,315000.0,315000.0,315000.0,140000.0,550000.0,735000.0,280000.0,560000.0,275000.0,535000.0,265000.0,215000.0,330000.0,280000.0,135000.0,165000.0,140000.0,150000.0,695000.0,820000.0,320000.0,510000.0,240000.0,250000.0,562990.0,288100.0,288100.0,355000.0,315000.0,360000.0,288100.0,288100.0,650000.0,480000.0,130000.0,250000.0,270000.0,380000.0,170000.0,850000.0,300000.0,130000.0,230000.0,150000.0,360000.0,370000.0,380000.0,435000.0,690000.0,750000.0,345000.0,230000.0,355000.0,750000.0,345000.0,288100.0,285000.0,200000.0,355000.0,800000.0,300000.0,150000.0,336000.0,125000.0,760000.0,390000.0,416000.0,180000.0,380000.0,478000.0,230000.0,386732.0,135000.0,250000.0,749000.0,425000.0,680000.0,350000.0,250000.0,780000.0,180000.0,180000.0,750000.0,860000.0,495000.0,435000.0,690000.0,370000.0,297600.0,340000.0,760000.0,355000.0,225000.0,360990.0,900000.0,470000.0,370000.0,230000.0,170000.0,150000.0,280000.0,366500.0,130000.0,162000.0,360000.0,460000.0,290000.0,220000.0,530000.0,250000.0,315000.0,350000.0,199000.0,730000.0,250000.0,285000.0,200000.0,130000.0,200000.0,279000.0,630000.0,290000.0,750000.0,350000.0,495000.0,350000.0,288100.0,460000.0,290000.0,375000.0,400000.0,201000.0,860000.0,760000.0,850000.0,380000.0,250000.0,640000.0,345000.0,390000.0,215000.0,200000.0,199000.0,220000.0,370000.0,950000.0,415000.0,390000.0,560000.0,570000.0,170000.0,370000.0,380000.0,750000.0,570000.0,259400.0,209330.0,309000.0,170000.0,110000.0,170000.0,750000.0,298000.0,700000.0,520000.0,435000.0,850000.0,320000.0,228015.0,617000.0,235000.0,320000.0,165000.0,650000.0,750000.0,610000.0,300000.0,180000.0,130000.0,230000.0,720000.0,250000.0,199000.0,350000.0,850000.0,330000.0,475000.0,650000.0,290000.0,220000.0,370000.0,420000.0,680000.0,650000.0,770000.0,200000.0,398000.0,562990.0,290000.0,240000.0,320000.0,241752.0,420000.0,150000.0,315000.0,350000.0,165000.0,125000.0,475000.0,750000.0,390000.0,690000.0,240000.0,950000.0,275000.0,560000.0,430000.0,200000.0,150000.0,200000.0,230000.0,770000.0,650000.0,520000.0,700000.0,140000.0,280000.0,126000.0,630000.0,133900.0,212300.0,200000.0,134900.0,360000.0,650000.0,140000.0,410000.0,170000.0,420000.0,650000.0,350000.0,398000.0,280000.0,920000.0,265000.0,250000.0,290000.0],\"xaxis\":\"x\",\"yaxis\":\"y\",\"type\":\"histogram\"},{\"alignmentgroup\":\"True\",\"bingroup\":\"x\",\"hovertemplate\":\"Categoria=Casas<br>Pre\\u00e7o=%{x}<br>count=%{y}<extra></extra>\",\"legendgroup\":\"Casas\",\"marker\":{\"color\":\"#EF553B\",\"pattern\":{\"shape\":\"\"}},\"name\":\"Casas\",\"offsetgroup\":\"Casas\",\"orientation\":\"v\",\"showlegend\":true,\"x\":[690000.0,110000.0,795000.0,600000.0,600000.0,700000.0,960000.0,200000.0,990000.0,750000.0,450000.0,578610.0,280000.0,680000.0,850000.0,380000.0,750000.0,600000.0,340000.0,550000.0,850000.0,960000.0,414000.0,960000.0,680000.0,850000.0,850000.0,400000.0,449900.0,437800.0,110000.0,240000.0,661000.0,250000.0,240000.0,750000.0,980000.0,598535.0,660000.0,780000.0,720000.0,680000.0,444900.0,550000.0,750000.0,330000.0,600000.0,650000.0,400000.0,438000.0,720000.0,560000.0,420000.0,200000.0,628000.0,435000.0,750000.0,600000.0,380000.0,770000.0,250000.0,500000.0,155000.0,780000.0,589325.0,485000.0,420000.0,352800.0,890000.0,730000.0,780000.0,250000.0,350000.0,250000.0,200000.0,750000.0,600000.0,380000.0,770000.0,450000.0,750000.0,980000.0,598535.0,660000.0,780000.0,720000.0,680000.0,444900.0,485000.0,420000.0,352800.0,890000.0,730000.0,400000.0,650000.0,650000.0,400000.0,438000.0,720000.0,560000.0,420000.0,200000.0,200000.0,340000.0,600000.0,820000.0,250000.0,500000.0,155000.0,780000.0,589325.0,80000.0,850000.0,290000.0,260000.0,500000.0,780000.0,250000.0,350000.0,250000.0,887000.0,165000.0,622500.0,432275.0,120000.0,160000.0,259000.0,900000.0,400000.0,315000.0,444900.0,160000.0,607000.0,485000.0,270000.0,120000.0,35163.0,350000.0,290000.0,385000.0,330000.0,550000.0,193900.0,890000.0,800000.0,480000.0,330000.0,500000.0,799000.0,995000.0,120000.0,350000.0,60000.0,600000.0,900000.0,380000.0,255000.0,220000.0,800000.0,311000.0,690000.0,500000.0,550000.0,650000.0,306200.0,250000.0,800000.0,559000.0,495000.0,600000.0,225000.0,850000.0,495000.0,315000.0,140000.0,305000.0,330000.0,160000.0,550000.0,200000.0,570000.0,330000.0,390000.0,260000.0,620000.0,350000.0,330000.0,780000.0,750000.0,390000.0,250000.0,180000.0,650000.0,550000.0,169000.0,280000.0,444900.0,950000.0,449900.0,650000.0,690000.0,70000.0,750000.0,700000.0,280000.0,274600.0,550000.0,350000.0,380000.0,460000.0,860000.0,280000.0,860000.0,750000.0,870000.0,450000.0,395000.0,930000.0,135000.0,200000.0,29186.0,850000.0,190000.0,850000.0,437800.0,150000.0,250000.0,190000.0,495000.0,385000.0,21706.0,850000.0,640000.0,850000.0,650000.0,750000.0,32023.0,980000.0,750000.0,980000.0,750000.0,890000.0,550000.0,500000.0,170000.0,600000.0,375000.0,330000.0,600000.0,630000.0,280000.0,274600.0,550000.0,589325.0,400000.0,720000.0,50000.0,750000.0,380000.0,800000.0,480000.0,850000.0,390000.0,240000.0,649990.0,215000.0,780000.0,450000.0,750000.0,274600.0,807000.0,485000.0,278000.0,950000.0,23338.0,190000.0,35000.0,450000.0,190000.0,900000.0,290000.0,900000.0,423500.0,850000.0,530000.0,105000.0,34347.0,620000.0,900000.0,250000.0,330000.0,55000.0,115000.0,570000.0,600000.0,650000.0,670000.0,180000.0,140000.0,600000.0,500000.0,300000.0,510000.0,170000.0,850000.0,122900.0,200000.0,750000.0,330000.0,170000.0,850000.0,650000.0,250000.0,850000.0,395000.0,359000.0,750000.0,600000.0,850000.0,600000.0,700000.0,960000.0,230000.0,169900.0,800000.0,680000.0,680000.0,280000.0,330000.0,354000.0,350000.0,200000.0,280000.0,200000.0,230000.0,190000.0,315000.0,450000.0,550000.0,900000.0,169000.0,550000.0,740000.0,260000.0,180000.0,289000.0,200000.0,570000.0,250000.0,880000.0,443780.0,800000.0,600000.0,250000.0,350000.0,180000.0,180000.0,460000.0,180000.0,450000.0,400000.0,500000.0,0.0,450000.0,700000.0,630000.0,780000.0,880000.0,400000.0,450000.0,420000.0,300000.0,190000.0,500000.0,450000.0,590000.0,310000.0,680000.0,240000.0,290000.0,169900.0,75000.0,233000.0,350000.0,700000.0,165311.0,995000.0,600000.0,550000.0,661000.0,850000.0,180000.0,390000.0,850000.0,995000.0,400000.0,590000.0,120000.0,80000.0,890000.0,720000.0,845000.0,820000.0,120000.0,40000.0,700000.0,29454.0,700000.0,900000.0,450000.0,750000.0,590000.0,900000.0,70000.0,900000.0,330000.0,700000.0,330000.0,590000.0,700000.0,160000.0,950000.0,800000.0,350000.0,987000.0,900000.0,400000.0,310000.0,35102.0,680000.0,780000.0,750000.0,415165.0,289665.0,900000.0,270000.0,330000.0,279000.0,170000.0,130000.0,350000.0,557180.0,600000.0,630000.0,580000.0,330000.0,750000.0,250000.0,400000.0,995000.0,330000.0,670000.0,600000.0,275000.0,800000.0,570000.0,3000.0,180000.0,95000.0,800000.0,850000.0,850000.0,700000.0,780000.0,800000.0,750000.0,170000.0,890000.0,980000.0,490000.0,500000.0,480000.0,750000.0,311000.0,550000.0,590000.0,750000.0,600000.0,870000.0,36726.0,470000.0,190000.0,599000.0,590000.0,390000.0,300000.0,620000.0,196000.0,850000.0,590000.0,750000.0,180000.0,330000.0,700000.0,995000.0,35775.0,398000.0,800000.0,850000.0,890000.0,430000.0,414000.0,850000.0,590000.0,950000.0,290000.0,170000.0,900000.0,22572.0,450000.0,210000.0,350000.0,30712.0,270000.0,250000.0,300000.0,930000.0,170000.0,850000.0,529000.0,950000.0,170000.0,600000.0,130000.0,600000.0,32309.0,880000.0,600000.0,240000.0,289000.0,165000.0,315000.0,311000.0,250000.0,995000.0,330000.0,380000.0,323639.0,359000.0,995000.0,280000.0,570000.0,385000.0,750000.0,690000.0,750000.0,495000.0,385000.0,860000.0,870000.0,750000.0,390000.0,860000.0,633999.0,850000.0,950000.0,850000.0,750000.0,870000.0,860000.0,987000.0,390000.0,410000.0,390000.0,300000.0,150000.0,780000.0,160000.0,303000.0,420000.0,290000.0,590000.0,240000.0,430000.0,770000.0,280000.0,380000.0,180000.0,780000.0,150000.0,750000.0,930000.0,650000.0,240000.0,680000.0,550000.0,240000.0,250000.0,90000.0,419108.0,820000.0,380000.0,650000.0,150000.0,315000.0,650000.0,530000.0,390000.0,500000.0,31779.0,740000.0,400000.0,269900.0,380000.0,25000.0,140000.0,650000.0,661000.0,410000.0,280000.0,980000.0,700000.0,474260.0,850000.0,58000.0,400000.0,490000.0,420000.0,700000.0,800000.0,335000.0,800000.0,550000.0,35.0,330000.0,750000.0,495000.0,700000.0,600000.0,560000.0,570000.0,650000.0,550000.0,400000.0,40000.0,275000.0,750000.0,180000.0,100000.0,950000.0,900000.0,480000.0,310000.0,320000.0,750000.0,240000.0,800000.0,480000.0,460000.0,420000.0,550000.0,700000.0,160000.0,35163.0,980000.0,290000.0,290000.0,290000.0,290000.0,750000.0,500000.0,590000.0,31086.0,210000.0,970000.0,444900.0,680000.0,420000.0,550000.0,260000.0,680000.0,980000.0,300000.0,165000.0,850000.0,750000.0,750000.0,850000.0,850000.0,870000.0,470000.0,750000.0,770000.0,470000.0,350000.0,350000.0,680000.0,439000.0,160000.0,125000.0,165000.0,230000.0,290000.0,290000.0,500000.0,590000.0,430000.0,650000.0,620000.0,890000.0,405000.0,330000.0,980000.0,980000.0,685846.0,370000.0,780000.0,870000.0,750000.0,380000.0,650000.0,403000.0,89000.0,987000.0,220000.0,280000.0,230000.0,390000.0,970000.0,500000.0,325000.0,850000.0,650000.0,140000.0,345000.0,620000.0,200000.0,650000.0,24860.0,235000.0,380000.0,650000.0,600000.0,750000.0,799000.0,290000.0,411500.0,550000.0,860000.0,290000.0,290000.0,290000.0,290000.0,870000.0,650000.0,850000.0,290000.0,430000.0,390000.0,500000.0,590000.0,590000.0,620000.0,420000.0,650000.0,220000.0,780000.0,850000.0,700000.0,870000.0,930000.0,290000.0,330000.0,750000.0,570000.0,380000.0,400000.0,650000.0,325000.0,190000.0,600000.0,549000.0,280000.0,390000.0,650000.0,330000.0,589325.0,750000.0,271900.0,27007.0,180000.0,850000.0,160000.0,850000.0,58000.0,390000.0,160000.0,850000.0,350000.0,250000.0,85.0,290000.0,600000.0,130000.0,550000.0,850000.0,310000.0,400000.0,980000.0,282000.0,765000.0,780000.0,850000.0,550000.0,950000.0,130000.0,275000.0,700000.0,250000.0,500000.0,500000.0,630000.0,670000.0,289000.0,620000.0,890000.0,350000.0,520000.0,550000.0,35000.0,134265.0,129700.0,680000.0,40000.0,800000.0,800000.0,700000.0,139000.0,890000.0,750000.0,900000.0,398000.0,780000.0,20000.0,500000.0,580000.0,430000.0,780000.0],\"xaxis\":\"x\",\"yaxis\":\"y\",\"type\":\"histogram\"}],                        {\"template\":{\"data\":{\"bar\":[{\"error_x\":{\"color\":\"#2a3f5f\"},\"error_y\":{\"color\":\"#2a3f5f\"},\"marker\":{\"line\":{\"color\":\"#E5ECF6\",\"width\":0.5},\"pattern\":{\"fillmode\":\"overlay\",\"size\":10,\"solidity\":0.2}},\"type\":\"bar\"}],\"barpolar\":[{\"marker\":{\"line\":{\"color\":\"#E5ECF6\",\"width\":0.5},\"pattern\":{\"fillmode\":\"overlay\",\"size\":10,\"solidity\":0.2}},\"type\":\"barpolar\"}],\"carpet\":[{\"aaxis\":{\"endlinecolor\":\"#2a3f5f\",\"gridcolor\":\"white\",\"linecolor\":\"white\",\"minorgridcolor\":\"white\",\"startlinecolor\":\"#2a3f5f\"},\"baxis\":{\"endlinecolor\":\"#2a3f5f\",\"gridcolor\":\"white\",\"linecolor\":\"white\",\"minorgridcolor\":\"white\",\"startlinecolor\":\"#2a3f5f\"},\"type\":\"carpet\"}],\"choropleth\":[{\"colorbar\":{\"outlinewidth\":0,\"ticks\":\"\"},\"type\":\"choropleth\"}],\"contour\":[{\"colorbar\":{\"outlinewidth\":0,\"ticks\":\"\"},\"colorscale\":[[0.0,\"#0d0887\"],[0.1111111111111111,\"#46039f\"],[0.2222222222222222,\"#7201a8\"],[0.3333333333333333,\"#9c179e\"],[0.4444444444444444,\"#bd3786\"],[0.5555555555555556,\"#d8576b\"],[0.6666666666666666,\"#ed7953\"],[0.7777777777777778,\"#fb9f3a\"],[0.8888888888888888,\"#fdca26\"],[1.0,\"#f0f921\"]],\"type\":\"contour\"}],\"contourcarpet\":[{\"colorbar\":{\"outlinewidth\":0,\"ticks\":\"\"},\"type\":\"contourcarpet\"}],\"heatmap\":[{\"colorbar\":{\"outlinewidth\":0,\"ticks\":\"\"},\"colorscale\":[[0.0,\"#0d0887\"],[0.1111111111111111,\"#46039f\"],[0.2222222222222222,\"#7201a8\"],[0.3333333333333333,\"#9c179e\"],[0.4444444444444444,\"#bd3786\"],[0.5555555555555556,\"#d8576b\"],[0.6666666666666666,\"#ed7953\"],[0.7777777777777778,\"#fb9f3a\"],[0.8888888888888888,\"#fdca26\"],[1.0,\"#f0f921\"]],\"type\":\"heatmap\"}],\"heatmapgl\":[{\"colorbar\":{\"outlinewidth\":0,\"ticks\":\"\"},\"colorscale\":[[0.0,\"#0d0887\"],[0.1111111111111111,\"#46039f\"],[0.2222222222222222,\"#7201a8\"],[0.3333333333333333,\"#9c179e\"],[0.4444444444444444,\"#bd3786\"],[0.5555555555555556,\"#d8576b\"],[0.6666666666666666,\"#ed7953\"],[0.7777777777777778,\"#fb9f3a\"],[0.8888888888888888,\"#fdca26\"],[1.0,\"#f0f921\"]],\"type\":\"heatmapgl\"}],\"histogram\":[{\"marker\":{\"pattern\":{\"fillmode\":\"overlay\",\"size\":10,\"solidity\":0.2}},\"type\":\"histogram\"}],\"histogram2d\":[{\"colorbar\":{\"outlinewidth\":0,\"ticks\":\"\"},\"colorscale\":[[0.0,\"#0d0887\"],[0.1111111111111111,\"#46039f\"],[0.2222222222222222,\"#7201a8\"],[0.3333333333333333,\"#9c179e\"],[0.4444444444444444,\"#bd3786\"],[0.5555555555555556,\"#d8576b\"],[0.6666666666666666,\"#ed7953\"],[0.7777777777777778,\"#fb9f3a\"],[0.8888888888888888,\"#fdca26\"],[1.0,\"#f0f921\"]],\"type\":\"histogram2d\"}],\"histogram2dcontour\":[{\"colorbar\":{\"outlinewidth\":0,\"ticks\":\"\"},\"colorscale\":[[0.0,\"#0d0887\"],[0.1111111111111111,\"#46039f\"],[0.2222222222222222,\"#7201a8\"],[0.3333333333333333,\"#9c179e\"],[0.4444444444444444,\"#bd3786\"],[0.5555555555555556,\"#d8576b\"],[0.6666666666666666,\"#ed7953\"],[0.7777777777777778,\"#fb9f3a\"],[0.8888888888888888,\"#fdca26\"],[1.0,\"#f0f921\"]],\"type\":\"histogram2dcontour\"}],\"mesh3d\":[{\"colorbar\":{\"outlinewidth\":0,\"ticks\":\"\"},\"type\":\"mesh3d\"}],\"parcoords\":[{\"line\":{\"colorbar\":{\"outlinewidth\":0,\"ticks\":\"\"}},\"type\":\"parcoords\"}],\"pie\":[{\"automargin\":true,\"type\":\"pie\"}],\"scatter\":[{\"marker\":{\"colorbar\":{\"outlinewidth\":0,\"ticks\":\"\"}},\"type\":\"scatter\"}],\"scatter3d\":[{\"line\":{\"colorbar\":{\"outlinewidth\":0,\"ticks\":\"\"}},\"marker\":{\"colorbar\":{\"outlinewidth\":0,\"ticks\":\"\"}},\"type\":\"scatter3d\"}],\"scattercarpet\":[{\"marker\":{\"colorbar\":{\"outlinewidth\":0,\"ticks\":\"\"}},\"type\":\"scattercarpet\"}],\"scattergeo\":[{\"marker\":{\"colorbar\":{\"outlinewidth\":0,\"ticks\":\"\"}},\"type\":\"scattergeo\"}],\"scattergl\":[{\"marker\":{\"colorbar\":{\"outlinewidth\":0,\"ticks\":\"\"}},\"type\":\"scattergl\"}],\"scattermapbox\":[{\"marker\":{\"colorbar\":{\"outlinewidth\":0,\"ticks\":\"\"}},\"type\":\"scattermapbox\"}],\"scatterpolar\":[{\"marker\":{\"colorbar\":{\"outlinewidth\":0,\"ticks\":\"\"}},\"type\":\"scatterpolar\"}],\"scatterpolargl\":[{\"marker\":{\"colorbar\":{\"outlinewidth\":0,\"ticks\":\"\"}},\"type\":\"scatterpolargl\"}],\"scatterternary\":[{\"marker\":{\"colorbar\":{\"outlinewidth\":0,\"ticks\":\"\"}},\"type\":\"scatterternary\"}],\"surface\":[{\"colorbar\":{\"outlinewidth\":0,\"ticks\":\"\"},\"colorscale\":[[0.0,\"#0d0887\"],[0.1111111111111111,\"#46039f\"],[0.2222222222222222,\"#7201a8\"],[0.3333333333333333,\"#9c179e\"],[0.4444444444444444,\"#bd3786\"],[0.5555555555555556,\"#d8576b\"],[0.6666666666666666,\"#ed7953\"],[0.7777777777777778,\"#fb9f3a\"],[0.8888888888888888,\"#fdca26\"],[1.0,\"#f0f921\"]],\"type\":\"surface\"}],\"table\":[{\"cells\":{\"fill\":{\"color\":\"#EBF0F8\"},\"line\":{\"color\":\"white\"}},\"header\":{\"fill\":{\"color\":\"#C8D4E3\"},\"line\":{\"color\":\"white\"}},\"type\":\"table\"}]},\"layout\":{\"annotationdefaults\":{\"arrowcolor\":\"#2a3f5f\",\"arrowhead\":0,\"arrowwidth\":1},\"autotypenumbers\":\"strict\",\"coloraxis\":{\"colorbar\":{\"outlinewidth\":0,\"ticks\":\"\"}},\"colorscale\":{\"diverging\":[[0,\"#8e0152\"],[0.1,\"#c51b7d\"],[0.2,\"#de77ae\"],[0.3,\"#f1b6da\"],[0.4,\"#fde0ef\"],[0.5,\"#f7f7f7\"],[0.6,\"#e6f5d0\"],[0.7,\"#b8e186\"],[0.8,\"#7fbc41\"],[0.9,\"#4d9221\"],[1,\"#276419\"]],\"sequential\":[[0.0,\"#0d0887\"],[0.1111111111111111,\"#46039f\"],[0.2222222222222222,\"#7201a8\"],[0.3333333333333333,\"#9c179e\"],[0.4444444444444444,\"#bd3786\"],[0.5555555555555556,\"#d8576b\"],[0.6666666666666666,\"#ed7953\"],[0.7777777777777778,\"#fb9f3a\"],[0.8888888888888888,\"#fdca26\"],[1.0,\"#f0f921\"]],\"sequentialminus\":[[0.0,\"#0d0887\"],[0.1111111111111111,\"#46039f\"],[0.2222222222222222,\"#7201a8\"],[0.3333333333333333,\"#9c179e\"],[0.4444444444444444,\"#bd3786\"],[0.5555555555555556,\"#d8576b\"],[0.6666666666666666,\"#ed7953\"],[0.7777777777777778,\"#fb9f3a\"],[0.8888888888888888,\"#fdca26\"],[1.0,\"#f0f921\"]]},\"colorway\":[\"#636efa\",\"#EF553B\",\"#00cc96\",\"#ab63fa\",\"#FFA15A\",\"#19d3f3\",\"#FF6692\",\"#B6E880\",\"#FF97FF\",\"#FECB52\"],\"font\":{\"color\":\"#2a3f5f\"},\"geo\":{\"bgcolor\":\"white\",\"lakecolor\":\"white\",\"landcolor\":\"#E5ECF6\",\"showlakes\":true,\"showland\":true,\"subunitcolor\":\"white\"},\"hoverlabel\":{\"align\":\"left\"},\"hovermode\":\"closest\",\"mapbox\":{\"style\":\"light\"},\"paper_bgcolor\":\"white\",\"plot_bgcolor\":\"#E5ECF6\",\"polar\":{\"angularaxis\":{\"gridcolor\":\"white\",\"linecolor\":\"white\",\"ticks\":\"\"},\"bgcolor\":\"#E5ECF6\",\"radialaxis\":{\"gridcolor\":\"white\",\"linecolor\":\"white\",\"ticks\":\"\"}},\"scene\":{\"xaxis\":{\"backgroundcolor\":\"#E5ECF6\",\"gridcolor\":\"white\",\"gridwidth\":2,\"linecolor\":\"white\",\"showbackground\":true,\"ticks\":\"\",\"zerolinecolor\":\"white\"},\"yaxis\":{\"backgroundcolor\":\"#E5ECF6\",\"gridcolor\":\"white\",\"gridwidth\":2,\"linecolor\":\"white\",\"showbackground\":true,\"ticks\":\"\",\"zerolinecolor\":\"white\"},\"zaxis\":{\"backgroundcolor\":\"#E5ECF6\",\"gridcolor\":\"white\",\"gridwidth\":2,\"linecolor\":\"white\",\"showbackground\":true,\"ticks\":\"\",\"zerolinecolor\":\"white\"}},\"shapedefaults\":{\"line\":{\"color\":\"#2a3f5f\"}},\"ternary\":{\"aaxis\":{\"gridcolor\":\"white\",\"linecolor\":\"white\",\"ticks\":\"\"},\"baxis\":{\"gridcolor\":\"white\",\"linecolor\":\"white\",\"ticks\":\"\"},\"bgcolor\":\"#E5ECF6\",\"caxis\":{\"gridcolor\":\"white\",\"linecolor\":\"white\",\"ticks\":\"\"}},\"title\":{\"x\":0.05},\"xaxis\":{\"automargin\":true,\"gridcolor\":\"white\",\"linecolor\":\"white\",\"ticks\":\"\",\"title\":{\"standoff\":15},\"zerolinecolor\":\"white\",\"zerolinewidth\":2},\"yaxis\":{\"automargin\":true,\"gridcolor\":\"white\",\"linecolor\":\"white\",\"ticks\":\"\",\"title\":{\"standoff\":15},\"zerolinecolor\":\"white\",\"zerolinewidth\":2}}},\"xaxis\":{\"anchor\":\"y\",\"domain\":[0.0,1.0],\"title\":{\"text\":\"Pre\\u00e7o\"}},\"yaxis\":{\"anchor\":\"x\",\"domain\":[0.0,1.0],\"title\":{\"text\":\"count\"}},\"legend\":{\"title\":{\"text\":\"Categoria\"},\"tracegroupgap\":0},\"margin\":{\"t\":60},\"barmode\":\"relative\"},                        {\"responsive\": true}                    ).then(function(){\n",
              "                            \n",
              "var gd = document.getElementById('d3af32fb-506d-48b2-9783-743adcfcd2ca');\n",
              "var x = new MutationObserver(function (mutations, observer) {{\n",
              "        var display = window.getComputedStyle(gd).display;\n",
              "        if (!display || display === 'none') {{\n",
              "            console.log([gd, 'removed!']);\n",
              "            Plotly.purge(gd);\n",
              "            observer.disconnect();\n",
              "        }}\n",
              "}});\n",
              "\n",
              "// Listen for the removal of the full notebook cells\n",
              "var notebookContainer = gd.closest('#notebook-container');\n",
              "if (notebookContainer) {{\n",
              "    x.observe(notebookContainer, {childList: true});\n",
              "}}\n",
              "\n",
              "// Listen for the clearing of the current output cell\n",
              "var outputEl = gd.closest('.output');\n",
              "if (outputEl) {{\n",
              "    x.observe(outputEl, {childList: true});\n",
              "}}\n",
              "\n",
              "                        })                };                            </script>        </div>\n",
              "</body>\n",
              "</html>"
            ]
          },
          "metadata": {}
        },
        {
          "output_type": "stream",
          "name": "stdout",
          "text": [
            "QUARTOS\n"
          ]
        },
        {
          "output_type": "display_data",
          "data": {
            "text/html": [
              "<html>\n",
              "<head><meta charset=\"utf-8\" /></head>\n",
              "<body>\n",
              "    <div>            <script src=\"https://cdnjs.cloudflare.com/ajax/libs/mathjax/2.7.5/MathJax.js?config=TeX-AMS-MML_SVG\"></script><script type=\"text/javascript\">if (window.MathJax) {MathJax.Hub.Config({SVG: {font: \"STIX-Web\"}});}</script>                <script type=\"text/javascript\">window.PlotlyConfig = {MathJaxConfig: 'local'};</script>\n",
              "        <script src=\"https://cdn.plot.ly/plotly-2.8.3.min.js\"></script>                <div id=\"5d40dd9f-095c-4d40-acbe-995a99e3c632\" class=\"plotly-graph-div\" style=\"height:525px; width:100%;\"></div>            <script type=\"text/javascript\">                                    window.PLOTLYENV=window.PLOTLYENV || {};                                    if (document.getElementById(\"5d40dd9f-095c-4d40-acbe-995a99e3c632\")) {                    Plotly.newPlot(                        \"5d40dd9f-095c-4d40-acbe-995a99e3c632\",                        [{\"alignmentgroup\":\"True\",\"bingroup\":\"x\",\"hovertemplate\":\"Categoria=Apartamentos<br>Quartos=%{x}<br>count=%{y}<extra></extra>\",\"legendgroup\":\"Apartamentos\",\"marker\":{\"color\":\"#636efa\",\"pattern\":{\"shape\":\"\"}},\"name\":\"Apartamentos\",\"offsetgroup\":\"Apartamentos\",\"orientation\":\"v\",\"showlegend\":true,\"x\":[2,3,2,2,2,3,4,3,3,2,2,2,3,3,3,2,2,2,3,3,3,3,3,2,3,3,3,1,3,2,3,2,3,3,2,2,3,3,3,3,3,3,3,3,2,3,3,3,3,2,3,3,3,1,3,2,3,3,3,3,3,2,2,3,3,3,3,3,3,3,3,3,2,1,3,3,2,3,3,3,2,3,2,3,3,2,3,2,3,2,3,3,1,3,3,3,1,3,3,3,3,3,2,2,2,3,3,3,3,2,3,3,2,2,2,2,2,3,2,3,3,2,4,3,2,3,3,3,3,1,3,2,3,2,3,2,3,2,2,3,3,3,4,2,2,3,2,2,2,3,3,3,3,3,3,3,3,3,2,3,3,3,2,2,3,2,3,2,2,2,2,2,3,2,3,2,2,2,2,3,3,2,3,3,1,3,3,2,3,2,3,3,2,3,2,3,2,3,3,1,3,3,3,1,3,3,3,3,3,3,3,3,3,2,3,3,2,2,2,2,2,3,2,3,3,2,4,3,2,2,2,2,3,3,2,2,3,3,3,2,3,2,3,2,3,2,2,3,3,3,4,2,2,3,2,2,2,3,3,3,4,4,3,3,2,2,3,2,3,3,3,2,2,3,2,3,2,2,2,2,3,3,3,3,2,2,3,2,3,3,3,2,2,3,3,3,1,2,1,2,3,2,2,3,3,3,3,3,3,1,3,2,2,3,2,2,2,3,3,3,3,2,1,3,3,3,3,3,3,2,3,1,2,2,3,3,3,3,3,2,2,2,3,2,3,3,2,3,2,3,3,3,2,3,3,3,3,3,3,3,2,3,3,3,2,3,3,3,3,2,2,3,2,2,3,3,2,2,3,3,3,3,3,2,3,3,3,4,2,3,3,2,2,2,3,2,3,2,2,3,2,3,3,3,2,2,2,3,2,2,2,3,3,3,3,2,2,2,3,3,3,2,2,3,3,2,3,2,2,3,3,3,2,3,2,3,3,2,2,3,3,2,3,3,3,3,2,3,2,2,3,3,3,3,3,3,3,3,2,3,2,3,3,3,3,2,2,3,3,3,3,3,3,3,4,3,3,2,3,3,1,3,3,3,3,2,3,2,3,3,3,2,2,2,2,3,3,2,2,3,4,2,3,3,2,3,2,4,2,3,1,2,2,2,3,2,3,3,2,2,3,3,3,2,3,3,3,1,3,3,3,1,3,3,2,2,2,2,3,2,1,3,3,3,3,2,2,2,2,1,2,2,3,3,3,1,3,3,3,3,2,2,3,3,3,1,3,2,3,3,2,2,1,3,3,3,2,3,3,2,3,3,3,3,2,3,3,3,3,2,3,3,2,2,2,3,3,3,2,3,3,3,3,3,2,1,3,2,2,3,3,3,2,2,3,3,2,3,3,2,3,2,3,2,3,2,3,2,3,3,3,3,3,2,3,2,3,3,3,3,3,2,3,3,4,1,3,3,3,2,2,2,3,2,3,2,3,3,3,3,3,3,1,3,3,3,2,3,2,2,2,3,3,2,3,3,3,3,2,3,2,2,2,3,3,2,2,3,3,2,3,3,3,3,3,3,3,3,2,3,3,1,3,3,3,2,2,2,2,3,3,2,2,2,2,2,2,3,3,3,2,2,3,3,1,3,2,3,2,2,3,2,2,3,2,3,2,2,3,3,2,3,3,2,3,3,2,3,3,3,3,3,2,3,3,3,3,2,3,3,2,3,3,3,4,2,3,2,3,3,2,2,4,2,2,1,3,3,3,3,3,2,1,3,3,3,2,2,2,3,3,2,3,3,3,3,3,3,2,2,2,3,4,3,2,2,2,3,3,1,3,2,2,3,2,3,3,2,3,2,3,4,2,3,4,4,2,3,3,3,2,3,3,3,2,2,3,2,2,3,1,1,3,2,2,2,2,1,2,2,3,3,3,3,3,3,3,4,3,2,3,3,4,3,2,3,2,3,2,2,2,2,2,3,3,3,3,3,3,3,3,2,3,3,3,2,3,3,3,3,2,3,2,3,2,3,2,3,2,3,3,3,4,2,3,3,2,2,3,3,3,2,3,2,2,3,3,2,3,3,3,3,2,3,3,2,3,3,2,3,2,2,3,3,3,3,2,2,4,3,3,3,2,3,3,3,3,2,3,3,3,2,3,4,2,3,3,3,3,3,3,3,2,3,2,3,3,3,3,3,3,3,2,2,3,3,2,2,2,2,2,3,2,3,3,3,2,3,3,4,2,3,3,3,2,2,3,2,3,3,2,2,3,4,2,3,2,3,3,2,2,3,3,3,3,3,2,3,3,3,2,2,2,3,2,3,3,2,3,3,3,3,4,2,4,4,3,3,2,2,2,3,2,3,3,3,3,3,3,3,2,2,4,3,2,3,3,2,3,2,2,2,2,3,3,2,3,2,3,3,2,3,2,2,2,2,3,2,3,3,3,3,2,3,2,3,3,2,3,2,3,3,3,2,2,2,3,3,3,3,1,2,2,3,2,2,3,3,3,2,2,3,3,3,3,3,2,2,4,2,2,2,2,3,2,3,2,3,3,3,2,3,3,3,2,3,2,3,4,3,3,3,2,3,3,3,2,3,3,2,3,2,2,1,3,3,3,3,3,1,1,3,3,2,2,3,2,1,2,4,3,2,3,3,2,2,3,2,2,2,3,2,2,3,2,3,3,3,3,3,3,2,3,3,2,3,3,2,3,3,3,3,3,3,3,2,2,3,3,3,3,3,3,2,3,4,3,3,3,3,2,2,3,2,3,3,3,2,3,2,2,3,3,3,3,2,3,2,2,2,3,2,3,2,2,3,3,3,3,3,1,2,3,3,3,3,2,2,2,3,2,2,3,3,2,1,3,3,3,2,3,3,3,3,3,3,3,3,3,4,2,3,1,3,2,3,2,1,3,3,3,4,3,3,3,3,3,2,3,3,3,3,3,4,2,2,2,2,2,2,2,2,3,3,2,2,2,3,3,2,3,3,3,3,3,3],\"xaxis\":\"x\",\"yaxis\":\"y\",\"type\":\"histogram\"},{\"alignmentgroup\":\"True\",\"bingroup\":\"x\",\"hovertemplate\":\"Categoria=Casas<br>Quartos=%{x}<br>count=%{y}<extra></extra>\",\"legendgroup\":\"Casas\",\"marker\":{\"color\":\"#EF553B\",\"pattern\":{\"shape\":\"\"}},\"name\":\"Casas\",\"offsetgroup\":\"Casas\",\"orientation\":\"v\",\"showlegend\":true,\"x\":[4,2,3,3,4,4,3,3,3,5,2,4,3,4,5,2,3,4,3,3,4,3,3,3,4,4,5,4,3,3,2,2,3,3,2,4,4,4,3,4,4,4,3,4,4,3,2,4,3,3,4,3,3,5,4,3,4,3,4,3,2,3,2,4,4,3,3,3,4,4,4,3,3,2,4,4,3,4,3,3,4,4,4,3,4,4,4,3,3,3,3,4,4,3,3,4,3,3,4,3,3,5,4,3,3,4,2,3,2,4,4,2,3,2,4,3,4,3,3,2,4,2,4,3,3,3,3,4,4,3,3,2,4,3,3,3,1,3,2,3,3,4,2,4,3,3,2,3,4,4,2,3,2,5,4,3,3,2,3,3,3,3,3,3,3,2,3,3,3,3,3,3,3,4,2,3,3,3,3,3,5,3,3,2,4,3,2,4,4,3,3,3,5,3,4,4,3,3,3,3,4,3,4,4,3,3,4,3,4,3,4,4,4,4,4,3,3,3,2,3,2,5,3,5,3,3,3,2,3,3,2,4,3,4,4,4,2,4,4,4,4,4,4,3,2,5,4,3,2,2,3,3,4,3,3,3,1,4,4,4,3,2,3,3,3,3,4,4,5,3,5,4,3,4,2,3,1,3,3,4,3,4,3,4,4,2,2,4,4,3,5,2,3,4,3,4,2,2,2,4,3,3,2,2,3,2,1,4,3,2,3,3,3,4,3,3,4,4,4,2,5,3,3,2,3,4,4,1,4,3,3,2,3,2,3,3,3,4,3,4,2,3,4,5,3,3,3,3,3,5,3,4,3,2,2,3,3,2,2,4,4,3,3,4,3,4,4,2,3,3,2,5,4,3,3,4,3,4,3,3,2,2,3,4,3,2,4,3,4,3,5,2,3,5,4,3,4,2,1,4,5,5,3,2,2,3,2,4,3,3,4,4,4,2,4,3,3,3,3,5,2,5,3,4,3,4,4,2,2,4,5,5,3,3,4,3,3,3,2,2,3,4,4,3,4,3,3,3,2,4,2,4,3,2,4,4,2,2,2,4,4,4,3,4,4,4,2,4,4,3,3,4,4,3,3,4,4,3,4,2,3,3,4,4,4,4,3,2,4,4,4,3,4,5,4,2,4,4,4,4,3,3,5,4,4,3,2,4,2,3,2,3,2,3,4,4,4,2,4,3,4,2,4,3,3,2,2,3,2,3,3,3,3,3,4,3,3,3,3,4,4,4,3,4,4,4,3,3,4,4,4,3,4,4,5,4,5,4,4,4,4,3,4,3,3,2,4,2,3,3,2,4,2,3,4,5,3,2,3,3,3,4,3,2,4,4,3,3,2,3,4,3,4,2,3,3,3,3,3,2,4,2,3,5,3,3,4,3,3,4,4,4,4,4,3,3,3,3,3,3,3,3,3,2,3,4,3,5,4,4,4,3,3,3,2,3,4,2,3,3,4,3,2,3,4,3,4,4,4,3,3,3,2,2,4,3,3,3,3,4,3,4,2,2,4,3,4,3,4,2,4,4,3,2,4,4,4,5,4,4,3,4,4,3,4,2,4,3,2,2,2,1,3,3,3,4,3,4,3,4,3,2,5,4,3,3,3,4,4,3,3,3,2,4,3,2,1,3,5,3,4,4,3,4,3,4,3,4,2,4,3,3,3,4,3,3,3,3,4,3,3,3,3,4,4,5,3,3,3,3,4,4,3,5,4,3,4,5,3,4,4,3,4,4,4,3,4,3,4,3,4,3,3,4,3,3,4,4,3,2,2,4,3,4,2,3,3,3,2,3,2,2,3,3,3,4,2,4,4,3,2,5,4,3,3,2,2,3,3,4,4,3,3,3,3,4,4,3,3,2,2,2,4,2,4,3,3,2,4,4,4,4,4,2,3,3,3,4],\"xaxis\":\"x\",\"yaxis\":\"y\",\"type\":\"histogram\"}],                        {\"template\":{\"data\":{\"bar\":[{\"error_x\":{\"color\":\"#2a3f5f\"},\"error_y\":{\"color\":\"#2a3f5f\"},\"marker\":{\"line\":{\"color\":\"#E5ECF6\",\"width\":0.5},\"pattern\":{\"fillmode\":\"overlay\",\"size\":10,\"solidity\":0.2}},\"type\":\"bar\"}],\"barpolar\":[{\"marker\":{\"line\":{\"color\":\"#E5ECF6\",\"width\":0.5},\"pattern\":{\"fillmode\":\"overlay\",\"size\":10,\"solidity\":0.2}},\"type\":\"barpolar\"}],\"carpet\":[{\"aaxis\":{\"endlinecolor\":\"#2a3f5f\",\"gridcolor\":\"white\",\"linecolor\":\"white\",\"minorgridcolor\":\"white\",\"startlinecolor\":\"#2a3f5f\"},\"baxis\":{\"endlinecolor\":\"#2a3f5f\",\"gridcolor\":\"white\",\"linecolor\":\"white\",\"minorgridcolor\":\"white\",\"startlinecolor\":\"#2a3f5f\"},\"type\":\"carpet\"}],\"choropleth\":[{\"colorbar\":{\"outlinewidth\":0,\"ticks\":\"\"},\"type\":\"choropleth\"}],\"contour\":[{\"colorbar\":{\"outlinewidth\":0,\"ticks\":\"\"},\"colorscale\":[[0.0,\"#0d0887\"],[0.1111111111111111,\"#46039f\"],[0.2222222222222222,\"#7201a8\"],[0.3333333333333333,\"#9c179e\"],[0.4444444444444444,\"#bd3786\"],[0.5555555555555556,\"#d8576b\"],[0.6666666666666666,\"#ed7953\"],[0.7777777777777778,\"#fb9f3a\"],[0.8888888888888888,\"#fdca26\"],[1.0,\"#f0f921\"]],\"type\":\"contour\"}],\"contourcarpet\":[{\"colorbar\":{\"outlinewidth\":0,\"ticks\":\"\"},\"type\":\"contourcarpet\"}],\"heatmap\":[{\"colorbar\":{\"outlinewidth\":0,\"ticks\":\"\"},\"colorscale\":[[0.0,\"#0d0887\"],[0.1111111111111111,\"#46039f\"],[0.2222222222222222,\"#7201a8\"],[0.3333333333333333,\"#9c179e\"],[0.4444444444444444,\"#bd3786\"],[0.5555555555555556,\"#d8576b\"],[0.6666666666666666,\"#ed7953\"],[0.7777777777777778,\"#fb9f3a\"],[0.8888888888888888,\"#fdca26\"],[1.0,\"#f0f921\"]],\"type\":\"heatmap\"}],\"heatmapgl\":[{\"colorbar\":{\"outlinewidth\":0,\"ticks\":\"\"},\"colorscale\":[[0.0,\"#0d0887\"],[0.1111111111111111,\"#46039f\"],[0.2222222222222222,\"#7201a8\"],[0.3333333333333333,\"#9c179e\"],[0.4444444444444444,\"#bd3786\"],[0.5555555555555556,\"#d8576b\"],[0.6666666666666666,\"#ed7953\"],[0.7777777777777778,\"#fb9f3a\"],[0.8888888888888888,\"#fdca26\"],[1.0,\"#f0f921\"]],\"type\":\"heatmapgl\"}],\"histogram\":[{\"marker\":{\"pattern\":{\"fillmode\":\"overlay\",\"size\":10,\"solidity\":0.2}},\"type\":\"histogram\"}],\"histogram2d\":[{\"colorbar\":{\"outlinewidth\":0,\"ticks\":\"\"},\"colorscale\":[[0.0,\"#0d0887\"],[0.1111111111111111,\"#46039f\"],[0.2222222222222222,\"#7201a8\"],[0.3333333333333333,\"#9c179e\"],[0.4444444444444444,\"#bd3786\"],[0.5555555555555556,\"#d8576b\"],[0.6666666666666666,\"#ed7953\"],[0.7777777777777778,\"#fb9f3a\"],[0.8888888888888888,\"#fdca26\"],[1.0,\"#f0f921\"]],\"type\":\"histogram2d\"}],\"histogram2dcontour\":[{\"colorbar\":{\"outlinewidth\":0,\"ticks\":\"\"},\"colorscale\":[[0.0,\"#0d0887\"],[0.1111111111111111,\"#46039f\"],[0.2222222222222222,\"#7201a8\"],[0.3333333333333333,\"#9c179e\"],[0.4444444444444444,\"#bd3786\"],[0.5555555555555556,\"#d8576b\"],[0.6666666666666666,\"#ed7953\"],[0.7777777777777778,\"#fb9f3a\"],[0.8888888888888888,\"#fdca26\"],[1.0,\"#f0f921\"]],\"type\":\"histogram2dcontour\"}],\"mesh3d\":[{\"colorbar\":{\"outlinewidth\":0,\"ticks\":\"\"},\"type\":\"mesh3d\"}],\"parcoords\":[{\"line\":{\"colorbar\":{\"outlinewidth\":0,\"ticks\":\"\"}},\"type\":\"parcoords\"}],\"pie\":[{\"automargin\":true,\"type\":\"pie\"}],\"scatter\":[{\"marker\":{\"colorbar\":{\"outlinewidth\":0,\"ticks\":\"\"}},\"type\":\"scatter\"}],\"scatter3d\":[{\"line\":{\"colorbar\":{\"outlinewidth\":0,\"ticks\":\"\"}},\"marker\":{\"colorbar\":{\"outlinewidth\":0,\"ticks\":\"\"}},\"type\":\"scatter3d\"}],\"scattercarpet\":[{\"marker\":{\"colorbar\":{\"outlinewidth\":0,\"ticks\":\"\"}},\"type\":\"scattercarpet\"}],\"scattergeo\":[{\"marker\":{\"colorbar\":{\"outlinewidth\":0,\"ticks\":\"\"}},\"type\":\"scattergeo\"}],\"scattergl\":[{\"marker\":{\"colorbar\":{\"outlinewidth\":0,\"ticks\":\"\"}},\"type\":\"scattergl\"}],\"scattermapbox\":[{\"marker\":{\"colorbar\":{\"outlinewidth\":0,\"ticks\":\"\"}},\"type\":\"scattermapbox\"}],\"scatterpolar\":[{\"marker\":{\"colorbar\":{\"outlinewidth\":0,\"ticks\":\"\"}},\"type\":\"scatterpolar\"}],\"scatterpolargl\":[{\"marker\":{\"colorbar\":{\"outlinewidth\":0,\"ticks\":\"\"}},\"type\":\"scatterpolargl\"}],\"scatterternary\":[{\"marker\":{\"colorbar\":{\"outlinewidth\":0,\"ticks\":\"\"}},\"type\":\"scatterternary\"}],\"surface\":[{\"colorbar\":{\"outlinewidth\":0,\"ticks\":\"\"},\"colorscale\":[[0.0,\"#0d0887\"],[0.1111111111111111,\"#46039f\"],[0.2222222222222222,\"#7201a8\"],[0.3333333333333333,\"#9c179e\"],[0.4444444444444444,\"#bd3786\"],[0.5555555555555556,\"#d8576b\"],[0.6666666666666666,\"#ed7953\"],[0.7777777777777778,\"#fb9f3a\"],[0.8888888888888888,\"#fdca26\"],[1.0,\"#f0f921\"]],\"type\":\"surface\"}],\"table\":[{\"cells\":{\"fill\":{\"color\":\"#EBF0F8\"},\"line\":{\"color\":\"white\"}},\"header\":{\"fill\":{\"color\":\"#C8D4E3\"},\"line\":{\"color\":\"white\"}},\"type\":\"table\"}]},\"layout\":{\"annotationdefaults\":{\"arrowcolor\":\"#2a3f5f\",\"arrowhead\":0,\"arrowwidth\":1},\"autotypenumbers\":\"strict\",\"coloraxis\":{\"colorbar\":{\"outlinewidth\":0,\"ticks\":\"\"}},\"colorscale\":{\"diverging\":[[0,\"#8e0152\"],[0.1,\"#c51b7d\"],[0.2,\"#de77ae\"],[0.3,\"#f1b6da\"],[0.4,\"#fde0ef\"],[0.5,\"#f7f7f7\"],[0.6,\"#e6f5d0\"],[0.7,\"#b8e186\"],[0.8,\"#7fbc41\"],[0.9,\"#4d9221\"],[1,\"#276419\"]],\"sequential\":[[0.0,\"#0d0887\"],[0.1111111111111111,\"#46039f\"],[0.2222222222222222,\"#7201a8\"],[0.3333333333333333,\"#9c179e\"],[0.4444444444444444,\"#bd3786\"],[0.5555555555555556,\"#d8576b\"],[0.6666666666666666,\"#ed7953\"],[0.7777777777777778,\"#fb9f3a\"],[0.8888888888888888,\"#fdca26\"],[1.0,\"#f0f921\"]],\"sequentialminus\":[[0.0,\"#0d0887\"],[0.1111111111111111,\"#46039f\"],[0.2222222222222222,\"#7201a8\"],[0.3333333333333333,\"#9c179e\"],[0.4444444444444444,\"#bd3786\"],[0.5555555555555556,\"#d8576b\"],[0.6666666666666666,\"#ed7953\"],[0.7777777777777778,\"#fb9f3a\"],[0.8888888888888888,\"#fdca26\"],[1.0,\"#f0f921\"]]},\"colorway\":[\"#636efa\",\"#EF553B\",\"#00cc96\",\"#ab63fa\",\"#FFA15A\",\"#19d3f3\",\"#FF6692\",\"#B6E880\",\"#FF97FF\",\"#FECB52\"],\"font\":{\"color\":\"#2a3f5f\"},\"geo\":{\"bgcolor\":\"white\",\"lakecolor\":\"white\",\"landcolor\":\"#E5ECF6\",\"showlakes\":true,\"showland\":true,\"subunitcolor\":\"white\"},\"hoverlabel\":{\"align\":\"left\"},\"hovermode\":\"closest\",\"mapbox\":{\"style\":\"light\"},\"paper_bgcolor\":\"white\",\"plot_bgcolor\":\"#E5ECF6\",\"polar\":{\"angularaxis\":{\"gridcolor\":\"white\",\"linecolor\":\"white\",\"ticks\":\"\"},\"bgcolor\":\"#E5ECF6\",\"radialaxis\":{\"gridcolor\":\"white\",\"linecolor\":\"white\",\"ticks\":\"\"}},\"scene\":{\"xaxis\":{\"backgroundcolor\":\"#E5ECF6\",\"gridcolor\":\"white\",\"gridwidth\":2,\"linecolor\":\"white\",\"showbackground\":true,\"ticks\":\"\",\"zerolinecolor\":\"white\"},\"yaxis\":{\"backgroundcolor\":\"#E5ECF6\",\"gridcolor\":\"white\",\"gridwidth\":2,\"linecolor\":\"white\",\"showbackground\":true,\"ticks\":\"\",\"zerolinecolor\":\"white\"},\"zaxis\":{\"backgroundcolor\":\"#E5ECF6\",\"gridcolor\":\"white\",\"gridwidth\":2,\"linecolor\":\"white\",\"showbackground\":true,\"ticks\":\"\",\"zerolinecolor\":\"white\"}},\"shapedefaults\":{\"line\":{\"color\":\"#2a3f5f\"}},\"ternary\":{\"aaxis\":{\"gridcolor\":\"white\",\"linecolor\":\"white\",\"ticks\":\"\"},\"baxis\":{\"gridcolor\":\"white\",\"linecolor\":\"white\",\"ticks\":\"\"},\"bgcolor\":\"#E5ECF6\",\"caxis\":{\"gridcolor\":\"white\",\"linecolor\":\"white\",\"ticks\":\"\"}},\"title\":{\"x\":0.05},\"xaxis\":{\"automargin\":true,\"gridcolor\":\"white\",\"linecolor\":\"white\",\"ticks\":\"\",\"title\":{\"standoff\":15},\"zerolinecolor\":\"white\",\"zerolinewidth\":2},\"yaxis\":{\"automargin\":true,\"gridcolor\":\"white\",\"linecolor\":\"white\",\"ticks\":\"\",\"title\":{\"standoff\":15},\"zerolinecolor\":\"white\",\"zerolinewidth\":2}}},\"xaxis\":{\"anchor\":\"y\",\"domain\":[0.0,1.0],\"title\":{\"text\":\"Quartos\"}},\"yaxis\":{\"anchor\":\"x\",\"domain\":[0.0,1.0],\"title\":{\"text\":\"count\"}},\"legend\":{\"title\":{\"text\":\"Categoria\"},\"tracegroupgap\":0},\"margin\":{\"t\":60},\"barmode\":\"relative\"},                        {\"responsive\": true}                    ).then(function(){\n",
              "                            \n",
              "var gd = document.getElementById('5d40dd9f-095c-4d40-acbe-995a99e3c632');\n",
              "var x = new MutationObserver(function (mutations, observer) {{\n",
              "        var display = window.getComputedStyle(gd).display;\n",
              "        if (!display || display === 'none') {{\n",
              "            console.log([gd, 'removed!']);\n",
              "            Plotly.purge(gd);\n",
              "            observer.disconnect();\n",
              "        }}\n",
              "}});\n",
              "\n",
              "// Listen for the removal of the full notebook cells\n",
              "var notebookContainer = gd.closest('#notebook-container');\n",
              "if (notebookContainer) {{\n",
              "    x.observe(notebookContainer, {childList: true});\n",
              "}}\n",
              "\n",
              "// Listen for the clearing of the current output cell\n",
              "var outputEl = gd.closest('.output');\n",
              "if (outputEl) {{\n",
              "    x.observe(outputEl, {childList: true});\n",
              "}}\n",
              "\n",
              "                        })                };                            </script>        </div>\n",
              "</body>\n",
              "</html>"
            ]
          },
          "metadata": {}
        },
        {
          "output_type": "stream",
          "name": "stdout",
          "text": [
            "BANHEIROS\n"
          ]
        },
        {
          "output_type": "display_data",
          "data": {
            "text/html": [
              "<html>\n",
              "<head><meta charset=\"utf-8\" /></head>\n",
              "<body>\n",
              "    <div>            <script src=\"https://cdnjs.cloudflare.com/ajax/libs/mathjax/2.7.5/MathJax.js?config=TeX-AMS-MML_SVG\"></script><script type=\"text/javascript\">if (window.MathJax) {MathJax.Hub.Config({SVG: {font: \"STIX-Web\"}});}</script>                <script type=\"text/javascript\">window.PlotlyConfig = {MathJaxConfig: 'local'};</script>\n",
              "        <script src=\"https://cdn.plot.ly/plotly-2.8.3.min.js\"></script>                <div id=\"d206f0f7-9d28-4648-b7b8-0dfc469788e1\" class=\"plotly-graph-div\" style=\"height:525px; width:100%;\"></div>            <script type=\"text/javascript\">                                    window.PLOTLYENV=window.PLOTLYENV || {};                                    if (document.getElementById(\"d206f0f7-9d28-4648-b7b8-0dfc469788e1\")) {                    Plotly.newPlot(                        \"d206f0f7-9d28-4648-b7b8-0dfc469788e1\",                        [{\"alignmentgroup\":\"True\",\"bingroup\":\"x\",\"hovertemplate\":\"Categoria=Apartamentos<br>Banheiros=%{x}<br>count=%{y}<extra></extra>\",\"legendgroup\":\"Apartamentos\",\"marker\":{\"color\":\"#636efa\",\"pattern\":{\"shape\":\"\"}},\"name\":\"Apartamentos\",\"offsetgroup\":\"Apartamentos\",\"orientation\":\"v\",\"showlegend\":true,\"x\":[1,3,1,2,1,1,2,1,3,2,1,1,1,2,2,2,1,1,2,2,2,2,2,3,2,2,2,2,2,2,2,1,2,2,1,3,2,2,2,4,2,4,3,1,3,2,2,2,2,2,2,2,4,1,2,3,1,4,3,2,4,1,1,2,1,3,2,2,2,2,2,2,2,1,3,2,1,4,4,1,1,3,1,2,2,2,3,1,2,2,3,2,1,2,2,2,1,2,2,2,2,2,2,1,1,2,2,2,2,2,2,3,1,2,1,2,1,2,1,2,2,1,4,2,1,2,3,1,1,2,3,2,3,2,2,1,3,1,2,1,2,2,1,1,1,2,1,1,1,2,2,3,2,2,3,2,2,2,1,2,4,1,1,1,2,2,3,1,1,1,1,2,3,1,2,1,1,1,1,4,2,1,1,1,2,3,2,1,3,1,2,2,2,3,1,2,2,3,2,1,2,2,2,1,2,2,2,2,2,3,2,2,2,2,2,3,1,2,1,2,1,2,1,2,2,1,4,2,1,1,1,1,4,2,1,1,2,2,2,2,3,2,2,1,3,1,2,1,2,2,1,1,1,2,1,1,1,2,2,4,4,3,3,2,1,2,2,1,2,4,1,1,1,2,2,3,1,1,1,1,1,2,2,3,1,2,3,1,3,2,3,1,1,3,2,2,1,3,1,1,1,2,1,2,2,2,3,3,2,1,2,2,2,3,1,1,2,2,3,3,3,1,1,1,3,3,4,3,2,1,2,1,1,1,3,1,2,3,3,3,2,2,2,2,2,2,1,1,1,4,3,2,1,1,1,1,4,3,2,2,1,1,2,2,1,4,3,2,2,1,2,3,1,2,3,3,2,2,2,2,2,1,3,2,3,2,1,3,2,2,1,2,2,2,2,2,1,1,1,3,1,2,1,2,1,2,2,4,2,1,1,2,2,2,3,1,1,2,3,3,1,1,2,2,3,2,3,1,1,2,2,2,2,2,1,2,1,1,1,3,2,3,3,1,2,3,2,3,2,1,3,1,1,1,1,3,3,2,2,1,1,2,1,3,3,2,2,2,1,2,2,2,2,3,4,3,4,2,1,1,2,2,2,3,1,1,3,2,5,3,4,2,1,2,3,2,1,1,1,4,3,1,1,1,1,3,1,1,1,1,1,2,2,2,1,1,1,1,1,1,1,2,4,2,2,3,1,1,2,2,3,1,2,1,1,1,1,1,2,1,1,1,1,2,1,2,1,1,1,3,2,1,2,2,1,1,2,2,4,4,2,1,2,2,3,1,2,1,2,1,1,1,1,1,2,2,2,2,1,2,3,1,1,1,1,2,2,3,1,1,2,2,1,1,2,2,1,1,1,1,3,2,2,2,1,1,1,2,1,3,2,3,1,2,2,3,1,1,1,1,1,1,3,2,2,1,3,1,2,2,2,2,3,2,2,4,2,2,4,1,2,2,2,4,4,2,1,2,2,2,1,3,4,3,2,2,2,3,2,2,2,2,1,2,1,2,2,4,2,1,3,4,4,3,1,2,3,2,2,4,2,1,2,4,2,1,1,2,1,1,2,2,2,2,4,2,2,5,2,2,2,1,2,2,1,1,1,1,3,2,2,1,2,2,1,2,1,2,2,5,1,1,2,2,1,2,1,4,1,2,3,1,1,1,2,2,1,2,4,2,2,2,2,2,2,3,2,2,2,1,3,2,1,2,3,1,1,1,1,3,1,1,2,1,3,2,5,2,4,3,1,2,4,2,2,1,2,2,4,4,2,3,2,1,2,2,2,2,3,2,3,2,4,1,2,4,2,4,2,2,1,3,4,2,2,2,1,3,2,1,2,2,1,2,3,1,4,1,2,2,2,3,1,3,3,2,2,2,4,2,1,3,2,2,2,1,3,2,2,1,1,2,2,2,1,1,3,1,2,2,1,3,3,2,3,2,2,5,2,2,3,3,5,4,1,1,1,2,1,2,2,2,2,2,4,2,2,4,4,2,3,3,2,2,4,3,1,2,3,3,1,2,2,2,1,5,2,2,1,2,4,3,3,1,3,1,1,1,2,4,2,1,2,2,2,3,2,3,2,2,2,2,3,2,2,3,3,2,2,1,1,3,1,4,3,2,1,1,4,2,2,2,1,2,2,2,4,1,2,3,1,1,2,4,1,1,2,3,2,2,2,2,2,2,2,2,2,2,2,2,2,3,2,2,3,1,2,1,1,1,2,1,1,1,3,3,2,2,1,5,2,4,4,2,1,1,3,2,2,2,2,2,2,2,2,3,2,3,2,1,1,1,1,2,1,3,1,2,3,3,1,1,1,1,1,2,1,2,2,2,2,3,2,2,4,4,1,3,1,3,1,2,1,3,2,2,2,1,3,2,1,1,5,1,2,2,2,1,4,1,1,1,2,3,2,2,2,1,4,2,1,2,2,2,1,2,2,2,2,2,2,2,2,2,3,2,2,2,2,2,2,2,2,1,2,1,1,3,1,3,1,1,1,4,2,2,2,2,3,2,2,3,3,2,2,2,2,2,3,3,1,3,1,2,2,2,3,2,2,3,2,2,2,3,2,2,2,2,5,2,2,2,1,4,2,2,1,2,3,2,2,1,2,1,3,3,1,2,3,1,1,2,5,2,3,2,2,2,2,4,2,2,1,4,2,2,2,1,1,1,1,1,1,2,3,2,2,2,3,2,3,2,2,3,3,2,1,2,2,3,2,2,3,2,3,2,3,2,2,3,2,4,4,2,2,3,2,3,2,3,2,2,2,2,4,2,2,2,2,2,2,2,2,2,2,2,1,1,1,1,4,1,1,1,3,3,1,1,3,3,2,1,2,3,2,2,1,1,2,3,2,2,1,4,3,1,2,2,2,3,2,3,4,2,2,3,4,2,3,3,1,4,1,2,2,1,1,1,4,2,2,3,4,3,4,3,2,1,1,1,2,4,3,3,1,2,1,3,1,2,2,1,2,2,2,2,1,2,2,3,3,3,4,3,3,2],\"xaxis\":\"x\",\"yaxis\":\"y\",\"type\":\"histogram\"},{\"alignmentgroup\":\"True\",\"bingroup\":\"x\",\"hovertemplate\":\"Categoria=Casas<br>Banheiros=%{x}<br>count=%{y}<extra></extra>\",\"legendgroup\":\"Casas\",\"marker\":{\"color\":\"#EF553B\",\"pattern\":{\"shape\":\"\"}},\"name\":\"Casas\",\"offsetgroup\":\"Casas\",\"orientation\":\"v\",\"showlegend\":true,\"x\":[4,2,4,3,4,5,3,2,3,5,1,5,2,5,5,1,1,5,3,3,4,3,2,3,1,2,5,2,1,3,1,2,3,2,2,4,5,4,3,5,4,5,3,4,5,1,1,1,3,2,4,4,3,1,1,1,5,1,4,4,1,2,1,1,4,3,4,3,5,4,3,3,1,2,2,5,1,4,4,1,4,5,4,3,5,4,5,3,3,4,3,5,4,3,2,1,3,2,4,4,3,1,2,1,1,5,1,2,1,1,4,1,2,1,2,2,3,3,1,2,5,2,4,2,2,2,3,3,2,2,3,1,1,2,3,2,1,2,2,2,2,2,1,5,4,3,1,2,5,4,2,3,1,4,5,2,1,3,3,2,3,2,4,2,3,1,4,1,3,4,2,3,3,4,1,2,2,2,1,1,4,3,1,1,4,2,1,4,5,2,1,1,1,3,2,2,3,3,3,3,5,2,4,4,2,3,3,2,4,2,5,3,5,5,5,1,2,1,1,1,1,5,1,5,1,1,3,2,4,2,1,4,2,4,2,4,1,4,4,4,4,1,1,3,2,5,1,2,2,2,2,3,3,4,2,3,1,4,3,5,2,1,2,2,2,2,4,2,5,3,5,2,2,2,1,2,1,2,2,4,2,5,2,4,5,1,1,4,1,2,2,1,2,5,4,2,1,1,1,2,1,2,1,1,1,1,1,2,2,1,3,2,1,5,2,3,4,3,1,1,5,3,2,1,1,1,1,1,1,1,1,1,1,1,1,1,2,1,2,1,2,3,4,5,1,2,1,1,2,1,2,2,3,2,1,1,1,1,2,2,1,1,3,4,4,5,4,3,1,1,3,4,1,1,3,3,2,5,2,2,1,1,2,1,2,1,3,1,4,3,5,1,1,5,4,1,3,1,1,5,4,4,3,1,1,3,1,4,3,3,4,4,3,1,1,2,3,1,2,4,1,2,3,3,4,4,2,3,1,5,5,5,3,3,4,3,3,1,1,2,2,4,3,4,1,3,4,2,2,4,1,4,2,1,4,4,1,1,1,5,4,4,4,5,5,4,1,5,4,3,2,2,4,2,4,1,4,4,5,1,4,2,5,3,3,2,2,1,4,3,5,1,3,3,4,1,2,4,4,5,3,3,5,3,4,3,2,5,1,3,2,2,1,3,2,2,3,1,4,2,4,1,3,2,1,1,5,4,2,2,1,1,3,1,4,3,2,3,3,3,2,5,3,3,5,5,4,3,5,5,5,2,5,4,5,4,5,3,5,5,1,1,3,2,3,2,3,2,1,1,2,3,1,3,4,2,1,2,4,2,4,5,4,1,5,4,2,2,2,4,4,4,4,1,2,5,3,2,2,1,4,2,1,2,3,2,5,3,1,2,3,5,4,5,2,2,3,3,4,4,2,5,4,1,2,4,4,4,4,4,5,3,3,2,1,2,4,1,2,4,4,2,1,2,5,1,5,2,2,3,3,3,1,1,4,3,3,3,3,4,1,3,1,2,3,3,5,2,3,1,4,4,3,1,4,4,4,5,4,5,3,5,4,1,1,1,5,3,1,1,1,1,2,1,2,3,3,5,2,5,3,1,5,4,4,2,2,5,4,2,3,3,1,4,2,1,1,3,5,2,3,4,4,4,2,4,1,2,1,4,2,1,2,5,4,3,4,1,5,3,3,3,3,5,3,5,3,3,1,2,3,3,2,5,5,2,4,5,2,5,5,3,1,5,4,1,2,3,3,1,2,4,2,2,2,2,4,2,3,1,1,5,1,5,1,1,2,3,1,1,2,2,4,1,2,5,2,3,4,1,2,5,5,1,4,1,1,4,2,4,5,4,2,2,2,5,4,4,4,1,1,1,4,1,5,3,2,1,5,4,3,2,5,2,2,3,3,5],\"xaxis\":\"x\",\"yaxis\":\"y\",\"type\":\"histogram\"}],                        {\"template\":{\"data\":{\"bar\":[{\"error_x\":{\"color\":\"#2a3f5f\"},\"error_y\":{\"color\":\"#2a3f5f\"},\"marker\":{\"line\":{\"color\":\"#E5ECF6\",\"width\":0.5},\"pattern\":{\"fillmode\":\"overlay\",\"size\":10,\"solidity\":0.2}},\"type\":\"bar\"}],\"barpolar\":[{\"marker\":{\"line\":{\"color\":\"#E5ECF6\",\"width\":0.5},\"pattern\":{\"fillmode\":\"overlay\",\"size\":10,\"solidity\":0.2}},\"type\":\"barpolar\"}],\"carpet\":[{\"aaxis\":{\"endlinecolor\":\"#2a3f5f\",\"gridcolor\":\"white\",\"linecolor\":\"white\",\"minorgridcolor\":\"white\",\"startlinecolor\":\"#2a3f5f\"},\"baxis\":{\"endlinecolor\":\"#2a3f5f\",\"gridcolor\":\"white\",\"linecolor\":\"white\",\"minorgridcolor\":\"white\",\"startlinecolor\":\"#2a3f5f\"},\"type\":\"carpet\"}],\"choropleth\":[{\"colorbar\":{\"outlinewidth\":0,\"ticks\":\"\"},\"type\":\"choropleth\"}],\"contour\":[{\"colorbar\":{\"outlinewidth\":0,\"ticks\":\"\"},\"colorscale\":[[0.0,\"#0d0887\"],[0.1111111111111111,\"#46039f\"],[0.2222222222222222,\"#7201a8\"],[0.3333333333333333,\"#9c179e\"],[0.4444444444444444,\"#bd3786\"],[0.5555555555555556,\"#d8576b\"],[0.6666666666666666,\"#ed7953\"],[0.7777777777777778,\"#fb9f3a\"],[0.8888888888888888,\"#fdca26\"],[1.0,\"#f0f921\"]],\"type\":\"contour\"}],\"contourcarpet\":[{\"colorbar\":{\"outlinewidth\":0,\"ticks\":\"\"},\"type\":\"contourcarpet\"}],\"heatmap\":[{\"colorbar\":{\"outlinewidth\":0,\"ticks\":\"\"},\"colorscale\":[[0.0,\"#0d0887\"],[0.1111111111111111,\"#46039f\"],[0.2222222222222222,\"#7201a8\"],[0.3333333333333333,\"#9c179e\"],[0.4444444444444444,\"#bd3786\"],[0.5555555555555556,\"#d8576b\"],[0.6666666666666666,\"#ed7953\"],[0.7777777777777778,\"#fb9f3a\"],[0.8888888888888888,\"#fdca26\"],[1.0,\"#f0f921\"]],\"type\":\"heatmap\"}],\"heatmapgl\":[{\"colorbar\":{\"outlinewidth\":0,\"ticks\":\"\"},\"colorscale\":[[0.0,\"#0d0887\"],[0.1111111111111111,\"#46039f\"],[0.2222222222222222,\"#7201a8\"],[0.3333333333333333,\"#9c179e\"],[0.4444444444444444,\"#bd3786\"],[0.5555555555555556,\"#d8576b\"],[0.6666666666666666,\"#ed7953\"],[0.7777777777777778,\"#fb9f3a\"],[0.8888888888888888,\"#fdca26\"],[1.0,\"#f0f921\"]],\"type\":\"heatmapgl\"}],\"histogram\":[{\"marker\":{\"pattern\":{\"fillmode\":\"overlay\",\"size\":10,\"solidity\":0.2}},\"type\":\"histogram\"}],\"histogram2d\":[{\"colorbar\":{\"outlinewidth\":0,\"ticks\":\"\"},\"colorscale\":[[0.0,\"#0d0887\"],[0.1111111111111111,\"#46039f\"],[0.2222222222222222,\"#7201a8\"],[0.3333333333333333,\"#9c179e\"],[0.4444444444444444,\"#bd3786\"],[0.5555555555555556,\"#d8576b\"],[0.6666666666666666,\"#ed7953\"],[0.7777777777777778,\"#fb9f3a\"],[0.8888888888888888,\"#fdca26\"],[1.0,\"#f0f921\"]],\"type\":\"histogram2d\"}],\"histogram2dcontour\":[{\"colorbar\":{\"outlinewidth\":0,\"ticks\":\"\"},\"colorscale\":[[0.0,\"#0d0887\"],[0.1111111111111111,\"#46039f\"],[0.2222222222222222,\"#7201a8\"],[0.3333333333333333,\"#9c179e\"],[0.4444444444444444,\"#bd3786\"],[0.5555555555555556,\"#d8576b\"],[0.6666666666666666,\"#ed7953\"],[0.7777777777777778,\"#fb9f3a\"],[0.8888888888888888,\"#fdca26\"],[1.0,\"#f0f921\"]],\"type\":\"histogram2dcontour\"}],\"mesh3d\":[{\"colorbar\":{\"outlinewidth\":0,\"ticks\":\"\"},\"type\":\"mesh3d\"}],\"parcoords\":[{\"line\":{\"colorbar\":{\"outlinewidth\":0,\"ticks\":\"\"}},\"type\":\"parcoords\"}],\"pie\":[{\"automargin\":true,\"type\":\"pie\"}],\"scatter\":[{\"marker\":{\"colorbar\":{\"outlinewidth\":0,\"ticks\":\"\"}},\"type\":\"scatter\"}],\"scatter3d\":[{\"line\":{\"colorbar\":{\"outlinewidth\":0,\"ticks\":\"\"}},\"marker\":{\"colorbar\":{\"outlinewidth\":0,\"ticks\":\"\"}},\"type\":\"scatter3d\"}],\"scattercarpet\":[{\"marker\":{\"colorbar\":{\"outlinewidth\":0,\"ticks\":\"\"}},\"type\":\"scattercarpet\"}],\"scattergeo\":[{\"marker\":{\"colorbar\":{\"outlinewidth\":0,\"ticks\":\"\"}},\"type\":\"scattergeo\"}],\"scattergl\":[{\"marker\":{\"colorbar\":{\"outlinewidth\":0,\"ticks\":\"\"}},\"type\":\"scattergl\"}],\"scattermapbox\":[{\"marker\":{\"colorbar\":{\"outlinewidth\":0,\"ticks\":\"\"}},\"type\":\"scattermapbox\"}],\"scatterpolar\":[{\"marker\":{\"colorbar\":{\"outlinewidth\":0,\"ticks\":\"\"}},\"type\":\"scatterpolar\"}],\"scatterpolargl\":[{\"marker\":{\"colorbar\":{\"outlinewidth\":0,\"ticks\":\"\"}},\"type\":\"scatterpolargl\"}],\"scatterternary\":[{\"marker\":{\"colorbar\":{\"outlinewidth\":0,\"ticks\":\"\"}},\"type\":\"scatterternary\"}],\"surface\":[{\"colorbar\":{\"outlinewidth\":0,\"ticks\":\"\"},\"colorscale\":[[0.0,\"#0d0887\"],[0.1111111111111111,\"#46039f\"],[0.2222222222222222,\"#7201a8\"],[0.3333333333333333,\"#9c179e\"],[0.4444444444444444,\"#bd3786\"],[0.5555555555555556,\"#d8576b\"],[0.6666666666666666,\"#ed7953\"],[0.7777777777777778,\"#fb9f3a\"],[0.8888888888888888,\"#fdca26\"],[1.0,\"#f0f921\"]],\"type\":\"surface\"}],\"table\":[{\"cells\":{\"fill\":{\"color\":\"#EBF0F8\"},\"line\":{\"color\":\"white\"}},\"header\":{\"fill\":{\"color\":\"#C8D4E3\"},\"line\":{\"color\":\"white\"}},\"type\":\"table\"}]},\"layout\":{\"annotationdefaults\":{\"arrowcolor\":\"#2a3f5f\",\"arrowhead\":0,\"arrowwidth\":1},\"autotypenumbers\":\"strict\",\"coloraxis\":{\"colorbar\":{\"outlinewidth\":0,\"ticks\":\"\"}},\"colorscale\":{\"diverging\":[[0,\"#8e0152\"],[0.1,\"#c51b7d\"],[0.2,\"#de77ae\"],[0.3,\"#f1b6da\"],[0.4,\"#fde0ef\"],[0.5,\"#f7f7f7\"],[0.6,\"#e6f5d0\"],[0.7,\"#b8e186\"],[0.8,\"#7fbc41\"],[0.9,\"#4d9221\"],[1,\"#276419\"]],\"sequential\":[[0.0,\"#0d0887\"],[0.1111111111111111,\"#46039f\"],[0.2222222222222222,\"#7201a8\"],[0.3333333333333333,\"#9c179e\"],[0.4444444444444444,\"#bd3786\"],[0.5555555555555556,\"#d8576b\"],[0.6666666666666666,\"#ed7953\"],[0.7777777777777778,\"#fb9f3a\"],[0.8888888888888888,\"#fdca26\"],[1.0,\"#f0f921\"]],\"sequentialminus\":[[0.0,\"#0d0887\"],[0.1111111111111111,\"#46039f\"],[0.2222222222222222,\"#7201a8\"],[0.3333333333333333,\"#9c179e\"],[0.4444444444444444,\"#bd3786\"],[0.5555555555555556,\"#d8576b\"],[0.6666666666666666,\"#ed7953\"],[0.7777777777777778,\"#fb9f3a\"],[0.8888888888888888,\"#fdca26\"],[1.0,\"#f0f921\"]]},\"colorway\":[\"#636efa\",\"#EF553B\",\"#00cc96\",\"#ab63fa\",\"#FFA15A\",\"#19d3f3\",\"#FF6692\",\"#B6E880\",\"#FF97FF\",\"#FECB52\"],\"font\":{\"color\":\"#2a3f5f\"},\"geo\":{\"bgcolor\":\"white\",\"lakecolor\":\"white\",\"landcolor\":\"#E5ECF6\",\"showlakes\":true,\"showland\":true,\"subunitcolor\":\"white\"},\"hoverlabel\":{\"align\":\"left\"},\"hovermode\":\"closest\",\"mapbox\":{\"style\":\"light\"},\"paper_bgcolor\":\"white\",\"plot_bgcolor\":\"#E5ECF6\",\"polar\":{\"angularaxis\":{\"gridcolor\":\"white\",\"linecolor\":\"white\",\"ticks\":\"\"},\"bgcolor\":\"#E5ECF6\",\"radialaxis\":{\"gridcolor\":\"white\",\"linecolor\":\"white\",\"ticks\":\"\"}},\"scene\":{\"xaxis\":{\"backgroundcolor\":\"#E5ECF6\",\"gridcolor\":\"white\",\"gridwidth\":2,\"linecolor\":\"white\",\"showbackground\":true,\"ticks\":\"\",\"zerolinecolor\":\"white\"},\"yaxis\":{\"backgroundcolor\":\"#E5ECF6\",\"gridcolor\":\"white\",\"gridwidth\":2,\"linecolor\":\"white\",\"showbackground\":true,\"ticks\":\"\",\"zerolinecolor\":\"white\"},\"zaxis\":{\"backgroundcolor\":\"#E5ECF6\",\"gridcolor\":\"white\",\"gridwidth\":2,\"linecolor\":\"white\",\"showbackground\":true,\"ticks\":\"\",\"zerolinecolor\":\"white\"}},\"shapedefaults\":{\"line\":{\"color\":\"#2a3f5f\"}},\"ternary\":{\"aaxis\":{\"gridcolor\":\"white\",\"linecolor\":\"white\",\"ticks\":\"\"},\"baxis\":{\"gridcolor\":\"white\",\"linecolor\":\"white\",\"ticks\":\"\"},\"bgcolor\":\"#E5ECF6\",\"caxis\":{\"gridcolor\":\"white\",\"linecolor\":\"white\",\"ticks\":\"\"}},\"title\":{\"x\":0.05},\"xaxis\":{\"automargin\":true,\"gridcolor\":\"white\",\"linecolor\":\"white\",\"ticks\":\"\",\"title\":{\"standoff\":15},\"zerolinecolor\":\"white\",\"zerolinewidth\":2},\"yaxis\":{\"automargin\":true,\"gridcolor\":\"white\",\"linecolor\":\"white\",\"ticks\":\"\",\"title\":{\"standoff\":15},\"zerolinecolor\":\"white\",\"zerolinewidth\":2}}},\"xaxis\":{\"anchor\":\"y\",\"domain\":[0.0,1.0],\"title\":{\"text\":\"Banheiros\"}},\"yaxis\":{\"anchor\":\"x\",\"domain\":[0.0,1.0],\"title\":{\"text\":\"count\"}},\"legend\":{\"title\":{\"text\":\"Categoria\"},\"tracegroupgap\":0},\"margin\":{\"t\":60},\"barmode\":\"relative\"},                        {\"responsive\": true}                    ).then(function(){\n",
              "                            \n",
              "var gd = document.getElementById('d206f0f7-9d28-4648-b7b8-0dfc469788e1');\n",
              "var x = new MutationObserver(function (mutations, observer) {{\n",
              "        var display = window.getComputedStyle(gd).display;\n",
              "        if (!display || display === 'none') {{\n",
              "            console.log([gd, 'removed!']);\n",
              "            Plotly.purge(gd);\n",
              "            observer.disconnect();\n",
              "        }}\n",
              "}});\n",
              "\n",
              "// Listen for the removal of the full notebook cells\n",
              "var notebookContainer = gd.closest('#notebook-container');\n",
              "if (notebookContainer) {{\n",
              "    x.observe(notebookContainer, {childList: true});\n",
              "}}\n",
              "\n",
              "// Listen for the clearing of the current output cell\n",
              "var outputEl = gd.closest('.output');\n",
              "if (outputEl) {{\n",
              "    x.observe(outputEl, {childList: true});\n",
              "}}\n",
              "\n",
              "                        })                };                            </script>        </div>\n",
              "</body>\n",
              "</html>"
            ]
          },
          "metadata": {}
        },
        {
          "output_type": "stream",
          "name": "stdout",
          "text": [
            "VAGAS\n"
          ]
        },
        {
          "output_type": "display_data",
          "data": {
            "text/html": [
              "<html>\n",
              "<head><meta charset=\"utf-8\" /></head>\n",
              "<body>\n",
              "    <div>            <script src=\"https://cdnjs.cloudflare.com/ajax/libs/mathjax/2.7.5/MathJax.js?config=TeX-AMS-MML_SVG\"></script><script type=\"text/javascript\">if (window.MathJax) {MathJax.Hub.Config({SVG: {font: \"STIX-Web\"}});}</script>                <script type=\"text/javascript\">window.PlotlyConfig = {MathJaxConfig: 'local'};</script>\n",
              "        <script src=\"https://cdn.plot.ly/plotly-2.8.3.min.js\"></script>                <div id=\"85c8b20e-2c34-4930-b4a0-7e45638d914e\" class=\"plotly-graph-div\" style=\"height:525px; width:100%;\"></div>            <script type=\"text/javascript\">                                    window.PLOTLYENV=window.PLOTLYENV || {};                                    if (document.getElementById(\"85c8b20e-2c34-4930-b4a0-7e45638d914e\")) {                    Plotly.newPlot(                        \"85c8b20e-2c34-4930-b4a0-7e45638d914e\",                        [{\"alignmentgroup\":\"True\",\"bingroup\":\"x\",\"hovertemplate\":\"Categoria=Apartamentos<br>Vagas=%{x}<br>count=%{y}<extra></extra>\",\"legendgroup\":\"Apartamentos\",\"marker\":{\"color\":\"#636efa\",\"pattern\":{\"shape\":\"\"}},\"name\":\"Apartamentos\",\"offsetgroup\":\"Apartamentos\",\"orientation\":\"v\",\"showlegend\":true,\"x\":[1,2,1,1,1,2,1,1,2,1,1,1,1,1,2,1,1,1,1,2,1,2,1,2,2,1,1,1,1,1,2,2,1,1,1,1,1,1,2,2,1,2,2,1,1,2,1,1,2,1,1,2,2,1,1,2,1,2,2,2,2,1,2,2,2,1,2,2,1,2,2,2,1,1,1,1,1,2,2,1,1,1,1,2,1,1,2,2,1,1,2,2,1,1,2,2,2,1,1,1,2,0,1,1,1,1,2,1,1,1,1,1,1,1,0,1,1,2,1,2,1,1,2,2,1,1,1,2,1,1,2,2,2,2,1,1,2,1,1,1,1,2,2,1,2,2,1,1,2,1,1,0,2,2,1,1,1,2,1,2,2,1,1,1,1,1,2,1,1,1,1,1,2,1,1,1,1,1,1,2,2,1,2,1,1,2,1,1,1,1,2,1,1,2,2,1,1,2,2,1,1,2,2,2,1,1,1,2,2,1,1,1,2,1,1,1,1,1,0,1,1,2,1,2,1,1,2,1,1,1,1,1,2,2,1,1,2,1,1,2,2,2,1,1,2,1,1,1,1,2,2,1,2,2,1,1,2,2,2,1,3,2,2,2,1,1,2,1,2,2,1,1,1,1,1,2,1,1,1,1,1,1,1,1,1,1,2,1,2,1,2,1,1,1,2,2,1,2,1,1,2,2,1,1,2,1,3,2,1,1,1,1,1,2,1,1,1,2,2,2,2,1,2,2,2,1,2,1,1,1,2,1,2,1,1,2,2,1,2,2,1,1,2,1,1,2,1,1,1,2,2,2,1,1,2,2,2,1,1,2,1,1,2,2,2,2,2,1,1,0,1,2,1,1,2,2,1,1,2,2,1,1,1,1,2,1,1,2,1,1,2,2,1,1,1,1,2,1,1,1,1,2,2,1,1,1,1,2,2,1,1,1,1,2,1,1,1,2,2,2,2,1,2,1,2,1,1,1,1,2,2,1,1,2,1,1,1,1,1,1,1,2,2,1,2,2,1,2,1,1,2,1,1,1,1,2,2,1,2,1,1,2,1,2,2,1,2,1,1,1,1,2,1,1,2,2,2,1,2,2,1,1,2,1,3,1,1,1,2,1,2,1,1,1,2,1,2,1,1,2,1,1,1,1,1,2,2,2,1,1,1,2,2,1,2,1,2,1,2,1,2,1,2,1,1,1,2,1,2,1,1,2,1,1,1,1,1,1,1,2,1,1,1,2,1,1,1,2,1,1,2,1,2,1,1,1,1,2,3,2,1,1,1,1,2,1,2,1,1,2,2,1,1,2,1,1,1,2,2,1,2,1,1,1,1,1,1,2,1,1,2,2,1,1,2,2,1,1,1,1,1,1,1,2,1,1,1,1,1,2,1,2,1,1,1,1,1,1,2,1,1,1,2,1,2,1,1,1,1,1,2,2,2,2,2,2,2,2,2,2,2,2,2,2,2,2,2,2,2,2,2,2,2,2,2,1,2,2,1,1,1,1,1,1,1,2,1,2,1,1,1,2,2,2,2,2,1,2,1,2,1,2,1,2,2,1,1,1,2,1,2,2,2,2,2,1,1,2,2,2,2,1,1,2,1,1,1,1,1,2,2,2,2,2,1,1,1,1,1,2,1,1,1,2,1,1,1,2,1,1,2,2,2,2,1,1,1,1,2,1,1,2,1,2,2,1,1,2,1,2,2,1,1,2,3,1,2,1,1,2,1,1,1,2,1,1,2,1,2,2,1,1,2,1,1,2,2,1,2,2,1,1,1,1,2,1,2,1,2,1,2,1,2,1,3,2,2,2,1,1,1,1,2,2,1,1,1,2,2,1,1,2,1,2,1,1,2,1,1,2,1,2,1,2,2,2,1,1,2,2,1,1,2,2,2,1,2,1,1,1,1,1,2,2,2,2,1,1,1,1,1,3,2,1,2,1,1,2,2,1,1,2,3,2,1,1,1,1,1,1,1,1,1,2,2,2,2,2,2,1,2,1,2,2,2,2,2,1,2,2,1,1,1,1,1,2,1,1,1,1,2,2,2,1,1,2,1,1,2,2,1,1,1,2,1,1,2,1,2,2,2,2,2,2,1,1,1,1,1,1,1,1,1,2,2,2,2,1,3,2,2,2,1,1,1,4,3,1,2,1,1,1,1,2,1,1,2,2,2,2,2,2,1,1,2,2,1,1,2,1,2,1,1,1,1,1,1,1,1,1,1,2,1,1,2,2,1,5,1,2,1,2,2,1,1,1,2,1,1,1,2,1,1,2,1,2,1,2,2,1,1,2,1,1,1,1,1,1,2,1,1,1,1,2,1,1,2,1,2,2,1,2,2,2,4,4,2,2,1,2,1,1,1,2,1,2,1,2,1,2,1,1,3,1,1,2,1,1,1,1,1,1,1,1,2,1,1,1,1,2,1,2,1,2,1,1,2,1,1,1,1,1,1,2,2,1,2,1,2,1,2,1,1,1,1,1,1,2,2,1,1,1,1,2,1,1,1,1,1,1,1,2,2,1,1,2,1,1,2,1,1,1,1,1,1,2,1,2,2,1,1,1,2,1,1,1,1,1,2,1,2,2,1,2,2,2,1,2,2,1,2,1,2,2,2,2,1,1,2,1,1,2,2,1,1,2,1,1,1,2,1,1,2,2,1,1,1,1,1,1,2,1,1,1,2,2,1,2,1,1,2,1,2,2,1,1,1,1,1,2,2,2,2,2,2,1,2,2,2,1,1,2,2,3,2,2,2,1,2,1,1,1,1,1,2,1,2,1,2,1,1,1,2,2,1,1,1,1,1,1,3,1,1,2,1,2,1,1,2,1,1,1,2,3,2,2,1,1,1,2,1,1,2,2,1,1,2,2,1,1,1,2,2,2,1,2,2,1,1,2,1,1,1,1,1,1,1,1,2,2,2,1,2,1,2,2,1,0,1,1,2,2,2,2,2,1,1,1,1,1,1,1,1,2,1,1,1,1,2,1,2,1,2,1,1,1],\"xaxis\":\"x\",\"yaxis\":\"y\",\"type\":\"histogram\"},{\"alignmentgroup\":\"True\",\"bingroup\":\"x\",\"hovertemplate\":\"Categoria=Casas<br>Vagas=%{x}<br>count=%{y}<extra></extra>\",\"legendgroup\":\"Casas\",\"marker\":{\"color\":\"#EF553B\",\"pattern\":{\"shape\":\"\"}},\"name\":\"Casas\",\"offsetgroup\":\"Casas\",\"orientation\":\"v\",\"showlegend\":true,\"x\":[2,1,2,4,5,5,4,1,2,5,1,2,2,2,5,1,3,4,2,0,4,4,2,4,5,5,4,1,2,2,2,2,2,2,2,5,3,3,2,4,2,2,2,2,3,1,1,4,2,2,2,3,2,2,2,2,2,4,3,4,2,1,1,2,3,2,2,2,4,4,4,1,2,2,4,2,4,3,4,3,5,3,3,2,4,2,2,2,2,2,2,4,4,2,2,4,2,2,2,3,2,2,4,2,5,3,2,1,1,2,3,5,3,2,3,2,4,1,2,2,4,1,2,2,3,1,4,2,4,5,2,1,4,2,1,1,2,1,2,4,2,4,2,4,5,4,2,3,4,4,3,1,4,5,4,2,2,2,3,2,4,4,4,3,2,1,5,2,4,3,2,2,4,2,2,2,2,1,5,2,4,2,2,2,2,2,2,5,4,3,1,1,2,2,4,1,2,3,2,2,2,4,5,2,3,2,3,2,3,2,3,2,3,5,5,4,2,5,0,1,2,4,1,4,2,2,2,3,4,1,2,2,3,2,3,2,2,2,5,2,5,4,5,2,3,0,3,2,2,3,3,2,3,3,2,4,1,2,2,2,3,2,2,2,3,2,2,4,3,2,3,2,2,5,2,2,0,2,2,4,4,3,2,5,2,2,2,2,2,2,2,2,0,4,2,2,2,3,1,2,2,2,1,1,3,1,3,2,4,2,3,4,2,3,2,1,2,3,2,2,4,2,3,2,5,2,2,2,1,4,2,2,1,2,2,2,5,4,2,3,1,4,2,2,2,2,2,3,2,4,2,3,4,1,2,2,1,2,1,2,3,5,2,5,5,4,2,2,2,3,2,1,1,4,3,4,2,5,2,4,1,1,1,2,2,2,2,2,2,2,2,2,2,2,2,2,2,2,2,2,2,2,4,2,1,4,2,2,1,3,2,4,4,4,2,2,1,2,3,4,1,5,2,1,2,4,3,3,1,2,2,1,2,2,2,3,2,1,1,2,3,2,4,4,4,2,2,1,3,4,2,2,2,2,5,5,0,1,1,2,2,2,4,2,2,5,1,4,2,2,2,3,2,2,4,1,5,2,5,1,2,2,2,4,3,2,2,2,5,4,5,2,2,5,4,2,3,2,4,4,4,1,4,4,2,2,1,3,2,2,2,2,2,2,2,2,4,3,4,2,2,0,3,4,2,2,5,2,1,1,1,4,2,2,4,2,2,2,2,5,2,2,4,2,3,5,2,4,3,5,5,3,3,3,4,2,4,4,5,3,2,3,2,2,2,2,3,1,2,2,2,4,2,4,2,2,2,2,5,1,2,5,2,1,2,2,1,5,1,2,1,2,4,1,2,3,2,2,2,2,2,2,2,2,2,2,4,2,2,2,2,3,2,4,1,3,2,2,4,3,2,5,4,2,2,5,2,2,2,5,5,3,2,2,0,1,2,2,1,5,2,2,2,2,3,2,5,4,3,2,4,2,2,2,2,2,2,2,2,2,3,4,2,1,4,2,3,2,4,2,2,2,2,1,2,5,2,4,4,5,2,5,2,2,5,2,2,2,4,2,1,3,4,2,3,4,4,4,2,4,4,2,4,2,2,2,2,5,5,2,2,1,3,2,1,1,2,3,5,3,1,2,5,2,1,2,1,3,2,2,4,2,4,5,4,2,2,3,3,2,2,2,2,5,2,4,2,4,2,4,4,4,2,3,4,2,4,4,4,5,5,2,2,5,4,2,4,4,1,1,3,2,2,3,3,2,2,2,2,2,2,5,1,4,1,2,3,2,3,1,1,2,2,1,2,5,1,1,2,2,1,3,2,2,4,2,2,5,2,2,2,2,4,1,2,4,2,2,2,1,1,1,2,0,2,3,4,1,4,2,2,3,2,1,4,3,4,3],\"xaxis\":\"x\",\"yaxis\":\"y\",\"type\":\"histogram\"}],                        {\"template\":{\"data\":{\"bar\":[{\"error_x\":{\"color\":\"#2a3f5f\"},\"error_y\":{\"color\":\"#2a3f5f\"},\"marker\":{\"line\":{\"color\":\"#E5ECF6\",\"width\":0.5},\"pattern\":{\"fillmode\":\"overlay\",\"size\":10,\"solidity\":0.2}},\"type\":\"bar\"}],\"barpolar\":[{\"marker\":{\"line\":{\"color\":\"#E5ECF6\",\"width\":0.5},\"pattern\":{\"fillmode\":\"overlay\",\"size\":10,\"solidity\":0.2}},\"type\":\"barpolar\"}],\"carpet\":[{\"aaxis\":{\"endlinecolor\":\"#2a3f5f\",\"gridcolor\":\"white\",\"linecolor\":\"white\",\"minorgridcolor\":\"white\",\"startlinecolor\":\"#2a3f5f\"},\"baxis\":{\"endlinecolor\":\"#2a3f5f\",\"gridcolor\":\"white\",\"linecolor\":\"white\",\"minorgridcolor\":\"white\",\"startlinecolor\":\"#2a3f5f\"},\"type\":\"carpet\"}],\"choropleth\":[{\"colorbar\":{\"outlinewidth\":0,\"ticks\":\"\"},\"type\":\"choropleth\"}],\"contour\":[{\"colorbar\":{\"outlinewidth\":0,\"ticks\":\"\"},\"colorscale\":[[0.0,\"#0d0887\"],[0.1111111111111111,\"#46039f\"],[0.2222222222222222,\"#7201a8\"],[0.3333333333333333,\"#9c179e\"],[0.4444444444444444,\"#bd3786\"],[0.5555555555555556,\"#d8576b\"],[0.6666666666666666,\"#ed7953\"],[0.7777777777777778,\"#fb9f3a\"],[0.8888888888888888,\"#fdca26\"],[1.0,\"#f0f921\"]],\"type\":\"contour\"}],\"contourcarpet\":[{\"colorbar\":{\"outlinewidth\":0,\"ticks\":\"\"},\"type\":\"contourcarpet\"}],\"heatmap\":[{\"colorbar\":{\"outlinewidth\":0,\"ticks\":\"\"},\"colorscale\":[[0.0,\"#0d0887\"],[0.1111111111111111,\"#46039f\"],[0.2222222222222222,\"#7201a8\"],[0.3333333333333333,\"#9c179e\"],[0.4444444444444444,\"#bd3786\"],[0.5555555555555556,\"#d8576b\"],[0.6666666666666666,\"#ed7953\"],[0.7777777777777778,\"#fb9f3a\"],[0.8888888888888888,\"#fdca26\"],[1.0,\"#f0f921\"]],\"type\":\"heatmap\"}],\"heatmapgl\":[{\"colorbar\":{\"outlinewidth\":0,\"ticks\":\"\"},\"colorscale\":[[0.0,\"#0d0887\"],[0.1111111111111111,\"#46039f\"],[0.2222222222222222,\"#7201a8\"],[0.3333333333333333,\"#9c179e\"],[0.4444444444444444,\"#bd3786\"],[0.5555555555555556,\"#d8576b\"],[0.6666666666666666,\"#ed7953\"],[0.7777777777777778,\"#fb9f3a\"],[0.8888888888888888,\"#fdca26\"],[1.0,\"#f0f921\"]],\"type\":\"heatmapgl\"}],\"histogram\":[{\"marker\":{\"pattern\":{\"fillmode\":\"overlay\",\"size\":10,\"solidity\":0.2}},\"type\":\"histogram\"}],\"histogram2d\":[{\"colorbar\":{\"outlinewidth\":0,\"ticks\":\"\"},\"colorscale\":[[0.0,\"#0d0887\"],[0.1111111111111111,\"#46039f\"],[0.2222222222222222,\"#7201a8\"],[0.3333333333333333,\"#9c179e\"],[0.4444444444444444,\"#bd3786\"],[0.5555555555555556,\"#d8576b\"],[0.6666666666666666,\"#ed7953\"],[0.7777777777777778,\"#fb9f3a\"],[0.8888888888888888,\"#fdca26\"],[1.0,\"#f0f921\"]],\"type\":\"histogram2d\"}],\"histogram2dcontour\":[{\"colorbar\":{\"outlinewidth\":0,\"ticks\":\"\"},\"colorscale\":[[0.0,\"#0d0887\"],[0.1111111111111111,\"#46039f\"],[0.2222222222222222,\"#7201a8\"],[0.3333333333333333,\"#9c179e\"],[0.4444444444444444,\"#bd3786\"],[0.5555555555555556,\"#d8576b\"],[0.6666666666666666,\"#ed7953\"],[0.7777777777777778,\"#fb9f3a\"],[0.8888888888888888,\"#fdca26\"],[1.0,\"#f0f921\"]],\"type\":\"histogram2dcontour\"}],\"mesh3d\":[{\"colorbar\":{\"outlinewidth\":0,\"ticks\":\"\"},\"type\":\"mesh3d\"}],\"parcoords\":[{\"line\":{\"colorbar\":{\"outlinewidth\":0,\"ticks\":\"\"}},\"type\":\"parcoords\"}],\"pie\":[{\"automargin\":true,\"type\":\"pie\"}],\"scatter\":[{\"marker\":{\"colorbar\":{\"outlinewidth\":0,\"ticks\":\"\"}},\"type\":\"scatter\"}],\"scatter3d\":[{\"line\":{\"colorbar\":{\"outlinewidth\":0,\"ticks\":\"\"}},\"marker\":{\"colorbar\":{\"outlinewidth\":0,\"ticks\":\"\"}},\"type\":\"scatter3d\"}],\"scattercarpet\":[{\"marker\":{\"colorbar\":{\"outlinewidth\":0,\"ticks\":\"\"}},\"type\":\"scattercarpet\"}],\"scattergeo\":[{\"marker\":{\"colorbar\":{\"outlinewidth\":0,\"ticks\":\"\"}},\"type\":\"scattergeo\"}],\"scattergl\":[{\"marker\":{\"colorbar\":{\"outlinewidth\":0,\"ticks\":\"\"}},\"type\":\"scattergl\"}],\"scattermapbox\":[{\"marker\":{\"colorbar\":{\"outlinewidth\":0,\"ticks\":\"\"}},\"type\":\"scattermapbox\"}],\"scatterpolar\":[{\"marker\":{\"colorbar\":{\"outlinewidth\":0,\"ticks\":\"\"}},\"type\":\"scatterpolar\"}],\"scatterpolargl\":[{\"marker\":{\"colorbar\":{\"outlinewidth\":0,\"ticks\":\"\"}},\"type\":\"scatterpolargl\"}],\"scatterternary\":[{\"marker\":{\"colorbar\":{\"outlinewidth\":0,\"ticks\":\"\"}},\"type\":\"scatterternary\"}],\"surface\":[{\"colorbar\":{\"outlinewidth\":0,\"ticks\":\"\"},\"colorscale\":[[0.0,\"#0d0887\"],[0.1111111111111111,\"#46039f\"],[0.2222222222222222,\"#7201a8\"],[0.3333333333333333,\"#9c179e\"],[0.4444444444444444,\"#bd3786\"],[0.5555555555555556,\"#d8576b\"],[0.6666666666666666,\"#ed7953\"],[0.7777777777777778,\"#fb9f3a\"],[0.8888888888888888,\"#fdca26\"],[1.0,\"#f0f921\"]],\"type\":\"surface\"}],\"table\":[{\"cells\":{\"fill\":{\"color\":\"#EBF0F8\"},\"line\":{\"color\":\"white\"}},\"header\":{\"fill\":{\"color\":\"#C8D4E3\"},\"line\":{\"color\":\"white\"}},\"type\":\"table\"}]},\"layout\":{\"annotationdefaults\":{\"arrowcolor\":\"#2a3f5f\",\"arrowhead\":0,\"arrowwidth\":1},\"autotypenumbers\":\"strict\",\"coloraxis\":{\"colorbar\":{\"outlinewidth\":0,\"ticks\":\"\"}},\"colorscale\":{\"diverging\":[[0,\"#8e0152\"],[0.1,\"#c51b7d\"],[0.2,\"#de77ae\"],[0.3,\"#f1b6da\"],[0.4,\"#fde0ef\"],[0.5,\"#f7f7f7\"],[0.6,\"#e6f5d0\"],[0.7,\"#b8e186\"],[0.8,\"#7fbc41\"],[0.9,\"#4d9221\"],[1,\"#276419\"]],\"sequential\":[[0.0,\"#0d0887\"],[0.1111111111111111,\"#46039f\"],[0.2222222222222222,\"#7201a8\"],[0.3333333333333333,\"#9c179e\"],[0.4444444444444444,\"#bd3786\"],[0.5555555555555556,\"#d8576b\"],[0.6666666666666666,\"#ed7953\"],[0.7777777777777778,\"#fb9f3a\"],[0.8888888888888888,\"#fdca26\"],[1.0,\"#f0f921\"]],\"sequentialminus\":[[0.0,\"#0d0887\"],[0.1111111111111111,\"#46039f\"],[0.2222222222222222,\"#7201a8\"],[0.3333333333333333,\"#9c179e\"],[0.4444444444444444,\"#bd3786\"],[0.5555555555555556,\"#d8576b\"],[0.6666666666666666,\"#ed7953\"],[0.7777777777777778,\"#fb9f3a\"],[0.8888888888888888,\"#fdca26\"],[1.0,\"#f0f921\"]]},\"colorway\":[\"#636efa\",\"#EF553B\",\"#00cc96\",\"#ab63fa\",\"#FFA15A\",\"#19d3f3\",\"#FF6692\",\"#B6E880\",\"#FF97FF\",\"#FECB52\"],\"font\":{\"color\":\"#2a3f5f\"},\"geo\":{\"bgcolor\":\"white\",\"lakecolor\":\"white\",\"landcolor\":\"#E5ECF6\",\"showlakes\":true,\"showland\":true,\"subunitcolor\":\"white\"},\"hoverlabel\":{\"align\":\"left\"},\"hovermode\":\"closest\",\"mapbox\":{\"style\":\"light\"},\"paper_bgcolor\":\"white\",\"plot_bgcolor\":\"#E5ECF6\",\"polar\":{\"angularaxis\":{\"gridcolor\":\"white\",\"linecolor\":\"white\",\"ticks\":\"\"},\"bgcolor\":\"#E5ECF6\",\"radialaxis\":{\"gridcolor\":\"white\",\"linecolor\":\"white\",\"ticks\":\"\"}},\"scene\":{\"xaxis\":{\"backgroundcolor\":\"#E5ECF6\",\"gridcolor\":\"white\",\"gridwidth\":2,\"linecolor\":\"white\",\"showbackground\":true,\"ticks\":\"\",\"zerolinecolor\":\"white\"},\"yaxis\":{\"backgroundcolor\":\"#E5ECF6\",\"gridcolor\":\"white\",\"gridwidth\":2,\"linecolor\":\"white\",\"showbackground\":true,\"ticks\":\"\",\"zerolinecolor\":\"white\"},\"zaxis\":{\"backgroundcolor\":\"#E5ECF6\",\"gridcolor\":\"white\",\"gridwidth\":2,\"linecolor\":\"white\",\"showbackground\":true,\"ticks\":\"\",\"zerolinecolor\":\"white\"}},\"shapedefaults\":{\"line\":{\"color\":\"#2a3f5f\"}},\"ternary\":{\"aaxis\":{\"gridcolor\":\"white\",\"linecolor\":\"white\",\"ticks\":\"\"},\"baxis\":{\"gridcolor\":\"white\",\"linecolor\":\"white\",\"ticks\":\"\"},\"bgcolor\":\"#E5ECF6\",\"caxis\":{\"gridcolor\":\"white\",\"linecolor\":\"white\",\"ticks\":\"\"}},\"title\":{\"x\":0.05},\"xaxis\":{\"automargin\":true,\"gridcolor\":\"white\",\"linecolor\":\"white\",\"ticks\":\"\",\"title\":{\"standoff\":15},\"zerolinecolor\":\"white\",\"zerolinewidth\":2},\"yaxis\":{\"automargin\":true,\"gridcolor\":\"white\",\"linecolor\":\"white\",\"ticks\":\"\",\"title\":{\"standoff\":15},\"zerolinecolor\":\"white\",\"zerolinewidth\":2}}},\"xaxis\":{\"anchor\":\"y\",\"domain\":[0.0,1.0],\"title\":{\"text\":\"Vagas\"}},\"yaxis\":{\"anchor\":\"x\",\"domain\":[0.0,1.0],\"title\":{\"text\":\"count\"}},\"legend\":{\"title\":{\"text\":\"Categoria\"},\"tracegroupgap\":0},\"margin\":{\"t\":60},\"barmode\":\"relative\"},                        {\"responsive\": true}                    ).then(function(){\n",
              "                            \n",
              "var gd = document.getElementById('85c8b20e-2c34-4930-b4a0-7e45638d914e');\n",
              "var x = new MutationObserver(function (mutations, observer) {{\n",
              "        var display = window.getComputedStyle(gd).display;\n",
              "        if (!display || display === 'none') {{\n",
              "            console.log([gd, 'removed!']);\n",
              "            Plotly.purge(gd);\n",
              "            observer.disconnect();\n",
              "        }}\n",
              "}});\n",
              "\n",
              "// Listen for the removal of the full notebook cells\n",
              "var notebookContainer = gd.closest('#notebook-container');\n",
              "if (notebookContainer) {{\n",
              "    x.observe(notebookContainer, {childList: true});\n",
              "}}\n",
              "\n",
              "// Listen for the clearing of the current output cell\n",
              "var outputEl = gd.closest('.output');\n",
              "if (outputEl) {{\n",
              "    x.observe(outputEl, {childList: true});\n",
              "}}\n",
              "\n",
              "                        })                };                            </script>        </div>\n",
              "</body>\n",
              "</html>"
            ]
          },
          "metadata": {}
        },
        {
          "output_type": "stream",
          "name": "stdout",
          "text": [
            "BAIRRO\n"
          ]
        },
        {
          "output_type": "display_data",
          "data": {
            "text/html": [
              "<html>\n",
              "<head><meta charset=\"utf-8\" /></head>\n",
              "<body>\n",
              "    <div>            <script src=\"https://cdnjs.cloudflare.com/ajax/libs/mathjax/2.7.5/MathJax.js?config=TeX-AMS-MML_SVG\"></script><script type=\"text/javascript\">if (window.MathJax) {MathJax.Hub.Config({SVG: {font: \"STIX-Web\"}});}</script>                <script type=\"text/javascript\">window.PlotlyConfig = {MathJaxConfig: 'local'};</script>\n",
              "        <script src=\"https://cdn.plot.ly/plotly-2.8.3.min.js\"></script>                <div id=\"d454bf05-c9b5-4f50-b57f-ee9b1815294d\" class=\"plotly-graph-div\" style=\"height:525px; width:100%;\"></div>            <script type=\"text/javascript\">                                    window.PLOTLYENV=window.PLOTLYENV || {};                                    if (document.getElementById(\"d454bf05-c9b5-4f50-b57f-ee9b1815294d\")) {                    Plotly.newPlot(                        \"d454bf05-c9b5-4f50-b57f-ee9b1815294d\",                        [{\"alignmentgroup\":\"True\",\"bingroup\":\"x\",\"hovertemplate\":\"Categoria=Apartamentos<br>Bairro=%{x}<br>count=%{y}<extra></extra>\",\"legendgroup\":\"Apartamentos\",\"marker\":{\"color\":\"#636efa\",\"pattern\":{\"shape\":\"\"}},\"name\":\"Apartamentos\",\"offsetgroup\":\"Apartamentos\",\"orientation\":\"v\",\"showlegend\":true,\"x\":[\"Vale do Gavi\\u00e3o\",\"Frei Serafim\",\"Cidade Nova\",\"Primavera\",\"F\\u00e1tima\",\"J\\u00f3quei\",\"Memorare\",\"Triunfo\",\"S\\u00e3o Jo\\u00e3o\",\"Uruguai\",\"Cristo Rei\",\"Santa Isabel\",\"J\\u00f3quei\",\"Gurupi\",\"Gurupi\",\"J\\u00f3quei\",\"Morros\",\"Vale do Gavi\\u00e3o\",\"Santa Isabel\",\"Ilhotas\",\"Pi\\u00e7arreira\",\"J\\u00f3quei\",\"Santa Isabel\",\"F\\u00e1tima\",\"F\\u00e1tima\",\"Uruguai\",\"Aeroporto\",\"J\\u00f3quei\",\"Santa Luzia\",\"Horto\",\"Horto\",\"Santa Isabel\",\"Gurupi\",\"Gurupi\",\"Aroeiras\",\"J\\u00f3quei\",\"Horto\",\"Vale Quem Tem\",\"F\\u00e1tima\",\"J\\u00f3quei\",\"Pi\\u00e7arreira\",\"Horto\",\"Noivos\",\"Novo Horizonte\",\"Campestre\",\"F\\u00e1tima\",\"Santa Isabel\",\"Gurupi\",\"S\\u00e3o Jo\\u00e3o\",\"Uruguai\",\"Parque Ideal\",\"Gurupi\",\"Horto\",\"Ininga\",\"Novo Horizonte\",\"S\\u00e3o Crist\\u00f3v\\u00e3o\",\"Campestre\",\"S\\u00e3o Crist\\u00f3v\\u00e3o\",\"Morada do Sol\",\"Gurupi\",\"J\\u00f3quei\",\"Santa Isabel\",\"Primavera\",\"Uruguai\",\"Gurupi\",\"Santa Isabel\",\"Morada do Sol\",\"Morada do Sol\",\"Horto\",\"Gurupi\",\"J\\u00f3quei\",\"F\\u00e1tima\",\"S\\u00e3o Crist\\u00f3v\\u00e3o\",\"S\\u00e3o Crist\\u00f3v\\u00e3o\",\"Morada do Sol\",\"Santa Isabel\",\"Bom Princ\\u00edpio\",\"S\\u00e3o Crist\\u00f3v\\u00e3o\",\"S\\u00e3o Crist\\u00f3v\\u00e3o\",\"S\\u00e3o Sebasti\\u00e3o\",\"Vale Quem Tem\",\"Porto do Centro\",\"Uruguai\",\"Noivos\",\"Ininga\",\"Colorado\",\"J\\u00f3quei\",\"Uruguai\",\"Noivos\",\"Santa Isabel\",\"S\\u00e3o Pedro\",\"S\\u00e3o Crist\\u00f3v\\u00e3o\",\"Cabral\",\"Novo Horizonte\",\"Cristo Rei\",\"Recanto das Palmeiras\",\"Ininga\",\"Uruguai\",\"Cidade Nova\",\"Ininga\",\"Monte Castelo\",\"Frei Serafim\",\"Uruguai\",\"Lourival Parente\",\"Todos os Santos\",\"Todos os Santos\",\"Nossa Senhora das Gra\\u00e7as\",\"S\\u00e3o Crist\\u00f3v\\u00e3o\",\"Santa Isabel\",\"Uruguai\",\"J\\u00f3quei\",\"Campestre\",\"Morada do Sol\",\"Angelim\",\"Novo Horizonte\",\"Nossa Senhora das Gra\\u00e7as\",\"Vale do Gavi\\u00e3o\",\"Pi\\u00e7arreira\",\"Uruguai\",\"Uruguai\",\"J\\u00f3quei\",\"Aroeiras\",\"Horto\",\"Monte Castelo\",\"Uruguai\",\"Santa Isabel\",\"S\\u00e3o Jo\\u00e3o\",\"S\\u00e3o Crist\\u00f3v\\u00e3o\",\"Noivos\",null,\"Horto\",\"Uruguai\",\"Ininga\",\"S\\u00e3o Crist\\u00f3v\\u00e3o\",\"Centro\",\"Santa Maria\",\"Horto\",\"Gurupi\",\"Horto\",\"Pi\\u00e7arreira\",\"Gurupi\",\"Horto\",\"Frei Serafim\",\"Aeroporto\",\"Aeroporto\",\"Noivos\",\"Vale do Gavi\\u00e3o\",\"Cidade Jardim\",\"Noivos\",\"Tr\\u00eas Andares\",\"Pi\\u00e7arreira\",\"S\\u00e3o Crist\\u00f3v\\u00e3o\",\"Recanto das Palmeiras\",\"S\\u00e3o Jo\\u00e3o\",\"Campestre\",\"Cristo Rei\",\"Porenquanto\",\"J\\u00f3quei\",\"Morros\",\"Morros\",\"J\\u00f3quei\",\"Vale do Gavi\\u00e3o\",\"Uruguai\",\"Pi\\u00e7arreira\",\"Pi\\u00e7arreira\",\"Uruguai\",\"Monte Castelo\",\"Aeroporto\",\"Cristo Rei\",\"Santa Isabel\",\"Recanto das Palmeiras\",\"F\\u00e1tima\",\"Noivos\",\"Cidade Jardim\",\"Novo Horizonte\",\"Santa Isabel\",\"Novo Horizonte\",\"Uruguai\",\"Nova Bras\\u00edlia\",\"Horto\",\"Morros\",\"Morada Nova\",\"S\\u00e3o Crist\\u00f3v\\u00e3o\",\"Noivos\",null,\"Horto\",\"Parque Ideal\",\"Vale Quem Tem\",\"Porto do Centro\",\"Uruguai\",\"Noivos\",\"Ininga\",\"Colorado\",\"J\\u00f3quei\",\"Uruguai\",\"Noivos\",\"Santa Isabel\",\"S\\u00e3o Pedro\",\"S\\u00e3o Crist\\u00f3v\\u00e3o\",\"Cabral\",\"Novo Horizonte\",\"Cristo Rei\",\"Recanto das Palmeiras\",\"Ininga\",\"Uruguai\",\"Cidade Nova\",\"Ininga\",\"Recanto das Palmeiras\",\"S\\u00e3o Jo\\u00e3o\",\"Campestre\",\"Cristo Rei\",\"Porenquanto\",\"J\\u00f3quei\",\"Uruguai\",\"J\\u00f3quei\",\"Campestre\",\"Morada do Sol\",\"Angelim\",\"Novo Horizonte\",\"Nossa Senhora das Gra\\u00e7as\",\"Vale do Gavi\\u00e3o\",\"Pi\\u00e7arreira\",\"Uruguai\",\"Uruguai\",\"J\\u00f3quei\",\"Aroeiras\",\"Horto\",\"Novo Horizonte\",\"Santa Isabel\",\"Novo Horizonte\",\"Uruguai\",\"Nova Bras\\u00edlia\",\"Horto\",\"Morros\",\"Morada Nova\",\"Morada do Sol\",\"Planalto\",\"Parque Piau\\u00ed\",\"Lourival Parente\",\"Uruguai\",\"Ininga\",\"S\\u00e3o Crist\\u00f3v\\u00e3o\",\"Centro\",\"Santa Maria\",\"Horto\",\"Gurupi\",\"Horto\",\"Pi\\u00e7arreira\",\"Gurupi\",\"Horto\",\"Frei Serafim\",\"Aeroporto\",\"Aeroporto\",\"Noivos\",\"Vale do Gavi\\u00e3o\",\"Cidade Jardim\",\"Noivos\",\"Uruguai\",\"J\\u00f3quei\",\"F\\u00e1tima\",\"S\\u00e3o Crist\\u00f3v\\u00e3o\",\"Campestre\",\"Ininga\",\"F\\u00e1tima\",\"Ilhotas\",\"Uruguai\",\"Primavera\",\"Morros\",\"Morros\",\"J\\u00f3quei\",\"Vale do Gavi\\u00e3o\",\"Uruguai\",\"Pi\\u00e7arreira\",\"Pi\\u00e7arreira\",\"Uruguai\",\"Monte Castelo\",\"Aeroporto\",\"Cristo Rei\",\"Santa Isabel\",\"Todos os Santos\",\"S\\u00e3o Crist\\u00f3v\\u00e3o\",\"S\\u00e3o Jo\\u00e3o\",\"Uruguai\",\"J\\u00f3quei\",\"Cidade Jardim\",\"Uruguai\",\"Ininga\",\"Vale do Gavi\\u00e3o\",\"Horto\",\"Uruguai\",\"J\\u00f3quei\",\"Renascen\\u00e7a\",\"Cidade Jardim\",\"Campestre\",\"S\\u00e3o Crist\\u00f3v\\u00e3o\",\"Tr\\u00eas Andares\",\"Cabral\",\"F\\u00e1tima\",\"Ininga\",\"Cidade Nova\",\"Monte Castelo\",\"Morros\",\"Uruguai\",\"Vale Quem Tem\",\"Campestre\",\"Planalto\",\"Santa Isabel\",\"Horto\",\"Santa Isabel\",\"Horto\",\"Gurupi\",\"Uruguai\",\"S\\u00e3o Crist\\u00f3v\\u00e3o\",\"Santa Isabel\",null,\"Vale do Gavi\\u00e3o\",\"S\\u00e3o Crist\\u00f3v\\u00e3o\",\"Pi\\u00e7arreira\",\"S\\u00e3o Crist\\u00f3v\\u00e3o\",\"S\\u00e3o Jo\\u00e3o\",\"Ilhotas\",\"Itarar\\u00e9\",\"Centro\",\"J\\u00f3quei\",\"Morada do Sol\",\"F\\u00e1tima\",\"Ininga\",\"Ininga\",\"Horto\",\"Uruguai\",\"Recanto das Palmeiras\",\"Pi\\u00e7arreira\",\"Morros\",\"Noivos\",\"Morada do Sol\",\"J\\u00f3quei\",\"Ilhotas\",\"Morada do Sol\",\"Cristo Rei\",\"F\\u00e1tima\",\"Centro\",\"Morros\",\"F\\u00e1tima\",\"Campestre\",\"Vale Quem Tem\",\"Pi\\u00e7arreira\",\"Vale do Gavi\\u00e3o\",\"Cristo Rei\",\"Vale do Gavi\\u00e3o\",\"F\\u00e1tima\",\"F\\u00e1tima\",\"Morada do Sol\",\"Tabajaras\",\"Cabral\",\"S\\u00e3o Crist\\u00f3v\\u00e3o\",\"Morros\",\"F\\u00e1tima\",\"Campestre\",\"Santa Isabel\",\"Ininga\",\"Morada do Sol\",\"Santa Isabel\",\"F\\u00e1tima\",\"Ininga\",\"Morada do Sol\",\"Recanto das Palmeiras\",\"J\\u00f3quei\",\"Pi\\u00e7arreira\",\"Recanto das Palmeiras\",\"S\\u00e3o Crist\\u00f3v\\u00e3o\",\"Gurupi\",\"J\\u00f3quei\",\"Pi\\u00e7arra\",\"Cristo Rei\",\"Horto\",\"Monte Castelo\",\"S\\u00e3o Crist\\u00f3v\\u00e3o\",\"Gurupi\",\"Noivos\",\"Monte Castelo\",\"Monte Castelo\",\"Nossa Senhora das Gra\\u00e7as\",\"Pi\\u00e7arra\",\"Uruguai\",\"F\\u00e1tima\",\"Primavera\",\"Gurupi\",\"Campestre\",\"Colorado\",\"Santa Isabel\",\"F\\u00e1tima\",\"Recanto das Palmeiras\",\"S\\u00e3o Sebasti\\u00e3o\",\"Noivos\",\"Cristo Rei\",\"Uruguai\",\"Morros\",\"Cidade Jardim\",\"S\\u00e3o Crist\\u00f3v\\u00e3o\",\"Pi\\u00e7arra\",\"Pi\\u00e7arreira\",\"J\\u00f3quei\",\"Santa Lia\",\"Morada do Sol\",\"Santa Lia\",\"Ininga\",\"Vale do Gavi\\u00e3o\",\"Morros\",\"Uruguai\",\"Gurupi\",\"Parque Ideal\",\"Cristo Rei\",\"J\\u00f3quei\",\"Horto\",\"Horto\",\"Santa Isabel\",\"Itarar\\u00e9\",\"Noivos\",\"Horto\",\"Horto\",\"Ininga\",\"Cristo Rei\",null,\"Santa Isabel\",\"J\\u00f3quei\",\"F\\u00e1tima\",\"Horto\",\"Aeroporto\",\"Morada do Sol\",\"Ininga\",\"S\\u00e3o Crist\\u00f3v\\u00e3o\",\"Santa Isabel\",\"Colorado\",\"Morros\",\"Uruguai\",\"Ilhotas\",\"Gurupi\",\"Livramento\",\"Morada do Sol\",\"S\\u00e3o Crist\\u00f3v\\u00e3o\",\"Ininga\",\"F\\u00e1tima\",\"Horto\",\"Zoobot\\u00e2nico\",\"Morros\",\"S\\u00e3o Crist\\u00f3v\\u00e3o\",\"Uruguai\",\"F\\u00e1tima\",\"Uruguai\",\"Santa Isabel\",\"Horto\",\"Gurupi\",\"Uruguai\",\"Tancredo Neves\",\"Noivos\",\"Horto\",\"J\\u00f3quei\",\"Santa Isabel\",\"Recanto das Palmeiras\",\"Parque Ideal\",\"F\\u00e1tima\",\"Ininga\",\"Aeroporto\",\"Nossa Senhora das Gra\\u00e7as\",\"Frei Serafim\",\"Uruguai\",\"Noivos\",\"Noivos\",\"Cabral\",\"Tabuleta\",\"Parque Ideal\",\"S\\u00e3o Jo\\u00e3o\",\"Gurupi\",\"Santa Isabel\",\"F\\u00e1tima\",\"Ininga\",\"J\\u00f3quei\",\"Cristo Rei\",\"Ininga\",\"Morada do Sol\",\"F\\u00e1tima\",\"Recanto das Palmeiras\",\"Morros\",\"Santa Isabel\",\"Recanto das Palmeiras\",\"Aeroporto\",\"Noivos\",\"Uruguai\",\"Ininga\",\"Ilhotas\",\"Noivos\",\"Uruguai\",\"Campestre\",\"S\\u00e3o Sebasti\\u00e3o\",\"S\\u00e3o Crist\\u00f3v\\u00e3o\",\"S\\u00e3o Jo\\u00e3o\",\"Uruguai\",\"Porto do Centro\",\"Uruguai\",\"J\\u00f3quei\",\"Campestre\",\"Uruguai\",\"Noivos\",\"Campestre\",\"Vale do Gavi\\u00e3o\",\"J\\u00f3quei\",\"Centro\",\"Centro\",\"J\\u00f3quei\",\"Planalto\",\"J\\u00f3quei\",\"J\\u00f3quei\",\"Vale Quem Tem\",\"Cristo Rei\",\"Cristo Rei\",\"Santa Isabel\",\"Santa Isabel\",\"Uruguai\",\"Campestre\",\"Vale do Gavi\\u00e3o\",\"S\\u00e3o Jo\\u00e3o\",\"Uruguai\",\"Ininga\",\"Santa Isabel\",\"Gurupi\",\"Santa Isabel\",\"Ininga\",\"Pi\\u00e7arreira\",\"S\\u00e3o Crist\\u00f3v\\u00e3o\",\"S\\u00e3o Crist\\u00f3v\\u00e3o\",\"Marqu\\u00eas\",null,\"Santa Isabel\",\"Todos os Santos\",\"Santa Isabel\",\"Vale do Gavi\\u00e3o\",\"Itarar\\u00e9\",\"Tancredo Neves\",\"Cristo Rei\",\"Vale Quem Tem\",\"F\\u00e1tima\",\"Ilhotas\",\"Campestre\",\"Cristo Rei\",\"Pi\\u00e7arreira\",\"Uruguai\",\"Aeroporto\",\"Primavera\",\"Vale do Gavi\\u00e3o\",\"Horto\",\"Aeroporto\",\"Vale do Gavi\\u00e3o\",\"Santa Isabel\",\"Uruguai\",\"Frei Serafim\",\"F\\u00e1tima\",\"Pi\\u00e7arreira\",\"Ininga\",\"Horto\",\"Horto\",\"Santa Isabel\",\"Cidade Nova\",\"Cristo Rei\",\"Santa Lia\",\"Recanto das Palmeiras\",\"F\\u00e1tima\",\"Uruguai\",\"Gurupi\",\"Vale Quem Tem\",\"Noivos\",\"Horto\",\"Santa Lia\",\"J\\u00f3quei\",\"F\\u00e1tima\",\"Campestre\",\"Santa Isabel\",\"Gurupi\",\"Santa Isabel\",\"Horto\",\"S\\u00e3o Crist\\u00f3v\\u00e3o\",\"F\\u00e1tima\",\"Zoobot\\u00e2nico\",\"Planalto\",\"Uruguai\",\"Centro\",\"Santa Isabel\",\"Horto\",\"J\\u00f3quei\",\"Ininga\",\"Morros\",\"F\\u00e1tima\",\"J\\u00f3quei\",\"Cidade Jardim\",\"Vale Quem Tem\",\"F\\u00e1tima\",\"J\\u00f3quei\",\"Frei Serafim\",\"S\\u00e3o Crist\\u00f3v\\u00e3o\",\"Gurupi\",\"Santa Isabel\",\"Horto\",\"S\\u00e3o Crist\\u00f3v\\u00e3o\",\"Recanto das Palmeiras\",\"Ilhotas\",\"Centro\",\"Horto\",\"Gurupi\",\"Uruguai\",\"Sat\\u00e9lite\",\"F\\u00e1tima\",\"Gurupi\",\"S\\u00e3o Crist\\u00f3v\\u00e3o\",\"Uruguai\",\"Parque Sul\",\"Santa Isabel\",\"Uruguai\",\"Morros\",\"S\\u00e3o Crist\\u00f3v\\u00e3o\",\"F\\u00e1tima\",\"F\\u00e1tima\",\"Parque Poti\",\"Parque Ideal\",\"Recanto das Palmeiras\",\"Cristo Rei\",\"Centro\",\"Horto\",\"Campestre\",\"Santa Maria\",\"Pi\\u00e7arreira\",\"Santa Luzia\",\"Triunfo\",\"F\\u00e1tima\",\"Santa Isabel\",\"Santa Isabel\",\"Cristo Rei\",\"J\\u00f3quei\",\"S\\u00e3o Jo\\u00e3o\",\"Horto\",\"J\\u00f3quei\",\"Uruguai\",\"J\\u00f3quei\",\"Ininga\",\"S\\u00e3o Jo\\u00e3o\",\"Horto\",\"Horto\",\"Horto\",\"Uruguai\",\"S\\u00e3o Pedro\",\"Vale Quem Tem\",\"Colorado\",\"Centro\",\"F\\u00e1tima\",\"Horto\",\"F\\u00e1tima\",\"Santa Lia\",\"Uruguai\",\"Horto\",\"Noivos\",\"Planalto\",\"Pi\\u00e7arreira\",\"Gurupi\",\"Noivos\",\"J\\u00f3quei\",\"Vale Quem Tem\",\"Ininga\",\"S\\u00e3o Jo\\u00e3o\",\"Nossa Senhora das Gra\\u00e7as\",\"J\\u00f3quei\",\"Uruguai\",\"Colorado\",\"Campestre\",\"Horto\",\"Horto\",\"S\\u00e3o Crist\\u00f3v\\u00e3o\",\"F\\u00e1tima\",\"F\\u00e1tima\",\"Santa Isabel\",\"S\\u00e3o Pedro\",\"Campestre\",\"Ininga\",\"Ininga\",\"Aeroporto\",\"J\\u00f3quei\",\"Ininga\",\"F\\u00e1tima\",\"Uruguai\",\"Santa Maria\",\"Santa Isabel\",\"F\\u00e1tima\",\"Itarar\\u00e9\",\"Ilhotas\",\"Ilhotas\",\"J\\u00f3quei\",\"F\\u00e1tima\",\"J\\u00f3quei\",\"Uruguai\",\"Maca\\u00faba\",\"F\\u00e1tima\",\"J\\u00f3quei\",\"Ininga\",\"Ininga\",\"Horto\",\"Horto\",\"J\\u00f3quei\",\"Aeroporto\",\"S\\u00e3o Jo\\u00e3o\",\"Santa Isabel\",\"Cidade Jardim\",\"Santa Isabel\",\"Frei Serafim\",\"Morros\",\"Cidade Nova\",\"Sat\\u00e9lite\",\"Uruguai\",\"Cristo Rei\",\"S\\u00e3o Crist\\u00f3v\\u00e3o\",\"Parque Ideal\",\"Uruguai\",\"Morada do Sol\",\"S\\u00e3o Crist\\u00f3v\\u00e3o\",\"Gurupi\",\"Pi\\u00e7arreira\",\"Vale Quem Tem\",\"Monte Castelo\",\"J\\u00f3quei\",\"Recanto das Palmeiras\",\"Vale do Gavi\\u00e3o\",\"J\\u00f3quei\",\"J\\u00f3quei\",\"Morros\",\"Porto do Centro\",\"J\\u00f3quei\",\"Cidade Nova\",\"Uruguai\",\"S\\u00e3o Crist\\u00f3v\\u00e3o\",\"Noivos\",\"Morada do Sol\",\"Cidade Nova\",\"J\\u00f3quei\",\"Pi\\u00e7arreira\",\"S\\u00e3o Crist\\u00f3v\\u00e3o\",\"Cabral\",\"Gurupi\",\"Noivos\",\"Santa Isabel\",\"F\\u00e1tima\",\"Ininga\",\"Ininga\",\"Santa Isabel\",\"Ininga\",\"Horto\",\"Frei Serafim\",\"Parque Ideal\",\"Recanto das Palmeiras\",\"J\\u00f3quei\",\"S\\u00e3o Sebasti\\u00e3o\",\"S\\u00e3o Sebasti\\u00e3o\",\"Noivos\",\"Ininga\",\"Centro\",\"Cidade Jardim\",\"Primavera\",\"Samapi\",\"Gurupi\",\"Aeroporto\",\"Campestre\",\"J\\u00f3quei\",\"Morros\",\"Zoobot\\u00e2nico\",\"Horto\",\"Cristo Rei\",\"Campestre\",\"J\\u00f3quei\",\"S\\u00e3o Crist\\u00f3v\\u00e3o\",\"Santa Isabel\",\"J\\u00f3quei\",\"J\\u00f3quei\",\"Santa Isabel\",\"J\\u00f3quei\",\"J\\u00f3quei\",\"Santa Isabel\",\"Cristo Rei\",\"Santa Isabel\",\"Aeroporto\",\"S\\u00e3o Jo\\u00e3o\",\"S\\u00e3o Jo\\u00e3o\",\"Parque Ideal\",\"Morros\",\"F\\u00e1tima\",\"Santa Isabel\",\"S\\u00e3o Crist\\u00f3v\\u00e3o\",\"Colorado\",\"Horto\",\"Alto Alegre\",\"Noivos\",\"S\\u00e3o Crist\\u00f3v\\u00e3o\",\"Ininga\",\"Aeroporto\",\"Aeroporto\",\"S\\u00e3o Crist\\u00f3v\\u00e3o\",\"Centro\",\"Morada do Sol\",\"Pi\\u00e7arreira\",\"F\\u00e1tima\",\"Horto\",\"Horto\",\"Cidade Nova\",\"S\\u00e3o Crist\\u00f3v\\u00e3o\",\"J\\u00f3quei\",\"Uruguai\",\"Santa Isabel\",\"Cristo Rei\",\"Uruguai\",\"Recanto das Palmeiras\",\"Santa Isabel\",\"Gurupi\",\"Horto\",\"Primavera\",\"Ininga\",\"Uruguai\",\"Gurupi\",null,\"Angelim\",\"Ininga\",\"Morada do Sol\",\"J\\u00f3quei\",\"S\\u00e3o Jo\\u00e3o\",\"Novo Horizonte\",\"Horto\",\"Morada do Sol\",\"Uruguai\",\"Santa Isabel\",\"J\\u00f3quei\",\"S\\u00e3o Jo\\u00e3o\",\"S\\u00e3o Crist\\u00f3v\\u00e3o\",\"Gurupi\",\"J\\u00f3quei\",\"Bela Vista\",\"Aeroporto\",\"Vale Quem Tem\",\"S\\u00e3o Crist\\u00f3v\\u00e3o\",\"Santa Isabel\",\"J\\u00f3quei\",\"Santa Isabel\",\"Vale Quem Tem\",\"J\\u00f3quei\",\"S\\u00e3o Crist\\u00f3v\\u00e3o\",\"Horto\",\"Morros\",\"Santa Isabel\",\"Uruguai\",\"J\\u00f3quei\",\"Centro\",\"Ininga\",\"J\\u00f3quei\",\"Pi\\u00e7arreira\",\"Gurupi\",\"Ilhotas\",\"Recanto das Palmeiras\",\"Morros\",\"Campestre\",\"Ininga\",\"F\\u00e1tima\",\"F\\u00e1tima\",\"Pi\\u00e7arreira\",\"Cristo Rei\",\"Ininga\",\"Santa Lia\",\"Campestre\",\"Novo Horizonte\",\"S\\u00e3o Jo\\u00e3o\",\"S\\u00e3o Crist\\u00f3v\\u00e3o\",\"Santa Isabel\",\"Ilhotas\",\"J\\u00f3quei\",\"F\\u00e1tima\",\"F\\u00e1tima\",\"Horto\",\"J\\u00f3quei\",\"Santa Isabel\",\"Noivos\",\"Campestre\",\"S\\u00e3o Crist\\u00f3v\\u00e3o\",\"S\\u00e3o Jo\\u00e3o\",\"Horto\",\"S\\u00e3o Crist\\u00f3v\\u00e3o\",\"Cristo Rei\",\"Pi\\u00e7arra\",\"Horto\",\"Morada do Sol\",\"Cristo Rei\",\"Ilhotas\",\"Uruguai\",\"F\\u00e1tima\",\"Uruguai\",\"Ininga\",\"Santa Isabel\",\"Vale Quem Tem\",\"Campestre\",\"Uruguai\",\"S\\u00e3o Crist\\u00f3v\\u00e3o\",\"Uruguai\",\"Frei Serafim\",\"Vale do Gavi\\u00e3o\",\"S\\u00e3o Crist\\u00f3v\\u00e3o\",\"J\\u00f3quei\",\"Uruguai\",\"Morros\",\"F\\u00e1tima\",\"J\\u00f3quei\",\"Ininga\",\"Uruguai\",\"Uruguai\",\"Ininga\",\"Cidade Nova\",\"Campestre\",\"J\\u00f3quei\",\"Santa Isabel\",\"S\\u00e3o Pedro\",\"Ininga\",\"Ilhotas\",\"F\\u00e1tima\",\"F\\u00e1tima\",\"Ilhotas\",\"Pi\\u00e7arreira\",\"Campestre\",\"Ininga\",\"Cidade Nova\",\"S\\u00e3o Crist\\u00f3v\\u00e3o\",\"Gurupi\",\"Cidade Jardim\",\"Recanto das Palmeiras\",\"Campestre\",\"Horto\",\"Recanto das Palmeiras\",\"Ilhotas\",\"Uruguai\",\"Marqu\\u00eas\",\"Horto\",\"Tr\\u00eas Andares\",\"S\\u00e3o Crist\\u00f3v\\u00e3o\",\"Monte Castelo\",\"Morada do Sol\",\"Pi\\u00e7arra\",\"Uruguai\",\"S\\u00e3o Crist\\u00f3v\\u00e3o\",\"F\\u00e1tima\",\"Vale do Gavi\\u00e3o\",\"Recanto das Palmeiras\",\"S\\u00e3o Crist\\u00f3v\\u00e3o\",\"Zoobot\\u00e2nico\",\"Cristo Rei\",\"Novo Horizonte\",\"Santa Isabel\",\"Uruguai\",\"Uruguai\",\"Ilhotas\",\"J\\u00f3quei\",\"F\\u00e1tima\",\"S\\u00e3o Crist\\u00f3v\\u00e3o\",\"Monte Castelo\",\"Recanto das Palmeiras\",\"Santa Isabel\",\"Santa Isabel\",\"Noivos\",\"Cristo Rei\",\"Novo Horizonte\",\"Monte Castelo\",\"J\\u00f3quei\",\"Ininga\",\"Ininga\",\"F\\u00e1tima\",\"Real Copagri\",\"Bela Vista\",\"Centro\",\"Recanto das Palmeiras\",\"Colorado\",\"Uruguai\",\"Gurupi\",\"Vale do Gavi\\u00e3o\",\"Recanto das Palmeiras\",\"Horto\",\"Santa Maria\",\"J\\u00f3quei\",\"J\\u00f3quei\",\"Uruguai\",\"Ininga\",\"Uruguai\",\"Uruguai\",\"J\\u00f3quei\",\"Morros\",\"Horto\",\"J\\u00f3quei\",\"Marqu\\u00eas\",\"Itarar\\u00e9\",\"Tabajaras\",\"J\\u00f3quei\",\"Uruguai\",\"Gurupi\",\"Santa Isabel\",\"S\\u00e3o Crist\\u00f3v\\u00e3o\",\"Novo Horizonte\",\"S\\u00e3o Crist\\u00f3v\\u00e3o\",\"S\\u00e3o Jo\\u00e3o\",\"Uruguai\",\"F\\u00e1tima\",\"Uruguai\",\"Uruguai\",\"Monte Castelo\",\"Tabuleta\",\"Santa Rosa\",\"Noivos\",\"Recanto das Palmeiras\",\"Cabral\",\"Cristo Rei\",\"Campestre\",\"Uruguai\",\"Santa Isabel\",\"Ilhotas\",\"Planalto\",\"Novo Horizonte\",\"Vale do Gavi\\u00e3o\",\"Uruguai\",null,\"Morada do Sol\",\"Cristo Rei\",\"J\\u00f3quei\",\"Uruguai\",\"J\\u00f3quei\",\"Noivos\",\"Santa Isabel\",\"F\\u00e1tima\",\"F\\u00e1tima\",\"Noivos\",\"F\\u00e1tima\",\"F\\u00e1tima\",\"Ilhotas\",\"F\\u00e1tima\",\"Uruguai\",\"J\\u00f3quei\",\"Tabajaras\",\"Horto\",\"Itarar\\u00e9\",\"Ininga\",\"Triunfo\",\"Santa Lia\",\"Vale Quem Tem\",\"Horto\",\"Frei Serafim\",\"Recanto das Palmeiras\",\"Uruguai\",\"Vale Quem Tem\",\"F\\u00e1tima\",\"Gurupi\",\"Horto\",\"S\\u00e3o Crist\\u00f3v\\u00e3o\",\"Ilhotas\",\"Vale Quem Tem\",\"Santa Lia\",\"Uruguai\",\"Uruguai\",\"Centro\",\"Cristo Rei\",\"Campestre\",\"Morros\",\"Vale Quem Tem\",\"Cristo Rei\",\"Parque Ideal\",\"Vale do Gavi\\u00e3o\",\"S\\u00e3o Crist\\u00f3v\\u00e3o\",\"Nossa Senhora das Gra\\u00e7as\",\"Horto\",\"Vale Quem Tem\",\"S\\u00e3o Crist\\u00f3v\\u00e3o\",\"Cidade Nova\",\"S\\u00e3o Crist\\u00f3v\\u00e3o\",\"Ilhotas\",\"Maca\\u00faba\",\"Santa Isabel\",\"Gurupi\",\"Gurupi\",\"Gurupi\",\"Colorado\",\"Horto\",\"F\\u00e1tima\",\"Vermelha\",\"Ininga\",\"Uruguai\",\"Ilhotas\",\"Cristo Rei\",\"Santa Lia\",\"J\\u00f3quei\",\"Gurupi\",\"Centro\",\"Gurupi\",\"Todos os Santos\",\"Santa Isabel\",\"Ilhotas\",\"Horto\",\"Noivos\",\"J\\u00f3quei\",\"Morros\",\"Aeroporto\",\"J\\u00f3quei\",\"Maca\\u00faba\",\"Maca\\u00faba\",\"Santa Isabel\",\"Gurupi\",\"Ininga\",\"Maca\\u00faba\",\"Maca\\u00faba\",\"J\\u00f3quei\",\"Ininga\",\"Vermelha\",\"Recanto das Palmeiras\",\"Uruguai\",\"F\\u00e1tima\",\"Vale Quem Tem\",\"Ilhotas\",\"Uruguai\",\"Gurupi\",\"Aeroporto\",\"Gurupi\",\"Noivos\",\"S\\u00e3o Crist\\u00f3v\\u00e3o\",\"Gurupi\",\"Recanto das Palmeiras\",\"J\\u00f3quei\",\"F\\u00e1tima\",\"Morada do Sol\",\"Campestre\",\"Santa Isabel\",\"F\\u00e1tima\",\"Morada do Sol\",\"Maca\\u00faba\",\"Planalto\",\"Campestre\",\"Santa Isabel\",\"Samapi\",\"Santa Isabel\",\"Uruguai\",\"Uruguai\",\"Lourival Parente\",\"J\\u00f3quei\",\"Recanto das Palmeiras\",\"Cristo Rei\",\"Uruguai\",\"Gurupi\",\"Monte Castelo\",\"Gurupi\",\"Tr\\u00eas Andares\",\"Uruguai\",null,\"F\\u00e1tima\",\"Ininga\",\"Noivos\",\"Recanto das Palmeiras\",\"Horto\",\"J\\u00f3quei\",null,null,\"J\\u00f3quei\",\"J\\u00f3quei\",\"Santa Isabel\",\"Recanto das Palmeiras\",\"J\\u00f3quei\",\"S\\u00e3o Crist\\u00f3v\\u00e3o\",\"Horto\",\"Ininga\",\"J\\u00f3quei\",\"Santa Isabel\",\"S\\u00e3o Crist\\u00f3v\\u00e3o\",\"S\\u00e3o Jo\\u00e3o\",\"J\\u00f3quei\",\"Santa Isabel\",\"Campestre\",\"Recanto das Palmeiras\",\"Lourival Parente\",\"Santa Maria\",\"Santa Isabel\",\"Cristo Rei\",\"Santa Maria\",\"Santa Isabel\",\"Noivos\",\"S\\u00e3o Crist\\u00f3v\\u00e3o\",\"S\\u00e3o Jo\\u00e3o\",\"Parque Ideal\",\"S\\u00e3o Jo\\u00e3o\",\"Santa Isabel\",\"Gurupi\",\"Morada do Sol\",\"Uruguai\",\"J\\u00f3quei\",\"Campestre\",\"Santa Isabel\",\"Vale Quem Tem\",\"Santa Isabel\",\"Cristo Rei\",\"Recanto das Palmeiras\",\"F\\u00e1tima\",\"S\\u00e3o Pedro\",\"J\\u00f3quei\",\"J\\u00f3quei\",\"Planalto\",\"Morada do Sol\",\"Maca\\u00faba\",\"S\\u00e3o Crist\\u00f3v\\u00e3o\",\"S\\u00e3o Jo\\u00e3o\",\"Morros\",\"Frei Serafim\",\"J\\u00f3quei\",\"J\\u00f3quei\",\"J\\u00f3quei\",\"J\\u00f3quei\",\"Gurupi\",\"Campestre\",\"Morada do Sol\",\"Morada do Sol\",\"Cristo Rei\",\"Cristo Rei\",\"Campestre\",\"Uruguai\",\"Novo Horizonte\",\"S\\u00e3o Jo\\u00e3o\",\"S\\u00e3o Crist\\u00f3v\\u00e3o\",\"Santa Isabel\",\"Recanto das Palmeiras\",\"F\\u00e1tima\",\"Horto\",\"Uruguai\",\"S\\u00e3o Crist\\u00f3v\\u00e3o\",\"F\\u00e1tima\",\"F\\u00e1tima\",\"Horto\",\"Triunfo\",\"Uruguai\",\"Recanto das Palmeiras\",\"Pi\\u00e7arra\",null,\"Santa Maria\",\"Recanto das Palmeiras\",\"S\\u00e3o Crist\\u00f3v\\u00e3o\",\"Ininga\",\"Uruguai\",\"Recanto das Palmeiras\",\"Ininga\",\"Ininga\",\"S\\u00e3o Crist\\u00f3v\\u00e3o\",\"Ilhotas\",\"Vila Oper\\u00e1ria\",\"Noivos\",\"Itarar\\u00e9\",\"F\\u00e1tima\",\"Santa Isabel\",null,\"Cristo Rei\",\"Gurupi\",\"Cidade Nova\",\"Ininga\",\"Frei Serafim\",\"Morada do Sol\",\"Uruguai\",\"Morada do Sol\",\"Horto\",\"S\\u00e3o Crist\\u00f3v\\u00e3o\",null,\"F\\u00e1tima\",\"S\\u00e3o Jo\\u00e3o\",\"Parque Ideal\",\"Campestre\",\"Santa Isabel\",\"Frei Serafim\",\"J\\u00f3quei\",\"F\\u00e1tima\",\"Vale Quem Tem\",\"Noivos\",\"J\\u00f3quei\",\"Pi\\u00e7arreira\",\"Santa Isabel\",\"S\\u00e3o Crist\\u00f3v\\u00e3o\",\"Uruguai\",\"Noivos\",null,\"Gurupi\",\"Recanto das Palmeiras\",\"Uruguai\",null,null,\"Frei Serafim\",\"Cristo Rei\",\"F\\u00e1tima\",\"Santa Isabel\",\"Ilhotas\",\"Pi\\u00e7arra\",\"Horto\",\"Noivos\",\"Vale Quem Tem\",\"Santo Ant\\u00f4nio\",\"Ininga\",\"Morada do Sol\",\"Horto\",\"J\\u00f3quei\",\"Horto\",\"F\\u00e1tima\",\"Cristo Rei\",\"Santa Isabel\",\"Santa Maria\",\"F\\u00e1tima\",\"Santa Maria\",\"Cristo Rei\",\"Uruguai\",\"Santa Maria\",\"Santa Isabel\",\"F\\u00e1tima\",\"Vale do Gavi\\u00e3o\",\"J\\u00f3quei\",\"Campestre\",\"Santa Isabel\",\"F\\u00e1tima\",\"Horto\",\"Noivos\",\"Uruguai\",\"Horto\",\"Campestre\",\"Pi\\u00e7arra\",\"Pi\\u00e7arreira\"],\"xaxis\":\"x\",\"yaxis\":\"y\",\"type\":\"histogram\"},{\"alignmentgroup\":\"True\",\"bingroup\":\"x\",\"hovertemplate\":\"Categoria=Casas<br>Bairro=%{x}<br>count=%{y}<extra></extra>\",\"legendgroup\":\"Casas\",\"marker\":{\"color\":\"#EF553B\",\"pattern\":{\"shape\":\"\"}},\"name\":\"Casas\",\"offsetgroup\":\"Casas\",\"orientation\":\"v\",\"showlegend\":true,\"x\":[\"Zoobot\\u00e2nico\",null,\"Santa Lia\",\"Santa Isabel\",null,\"Santa Lia\",\"Santa Isabel\",\"Real Copagri\",\"Uruguai\",\"Ininga\",\"Mocambinho\",\"Morros\",\"Rodovi\\u00e1ria\",\"Morros\",\"Centro\",\"Pi\\u00e7arreira\",\"Morros\",\"S\\u00e3o Crist\\u00f3v\\u00e3o\",\"Parque Ideal\",\"S\\u00e3o Crist\\u00f3v\\u00e3o\",\"F\\u00e1tima\",\"Santa Isabel\",\"Gurupi\",\"Santa Isabel\",\"Parque Ideal\",\"Lourival Parente\",\"Ininga\",null,\"Morros\",\"Gurupi\",\"Aroeiras\",\"Vale Quem Tem\",\"Vale Quem Tem\",\"Aroeiras\",\"Mocambinho\",\"Ininga\",\"Horto\",\"Morros\",\"Pi\\u00e7arreira\",\"Santa Isabel\",\"Morada do Sol\",\"Socopo\",\"Morros\",\"Centro\",\"Morros\",\"Parque Piau\\u00ed\",\"Parque Ideal\",\"Marqu\\u00eas\",\"Gurupi\",\"Gurupi\",\"Zoobot\\u00e2nico\",\"J\\u00f3quei\",\"Gurupi\",\"Pi\\u00e7arreira\",\"Gurupi\",\"Gurupi\",\"Zoobot\\u00e2nico\",\"Morada do Sol\",\"Saci\",\"Morros\",\"Itarar\\u00e9\",\"Morro da Esperan\\u00e7a\",\"Santa Maria\",\"Samapi\",\"Morros\",\"Parque S\\u00e3o Jo\\u00e3o\",\"Morros\",\"Novo Uruguai\",\"Gurupi\",\"Morros\",\"S\\u00e3o Jo\\u00e3o\",\"Mocambinho\",\"Vale Quem Tem\",null,null,\"Zoobot\\u00e2nico\",\"Morada do Sol\",\"Saci\",\"Morros\",null,\"Ininga\",\"Horto\",\"Morros\",\"Pi\\u00e7arreira\",\"Santa Isabel\",\"Morada do Sol\",\"Socopo\",\"Morros\",\"Parque S\\u00e3o Jo\\u00e3o\",\"Morros\",\"Novo Uruguai\",\"Gurupi\",\"Morros\",\"Pi\\u00e7arreira\",\"Morros\",\"Marqu\\u00eas\",\"Gurupi\",\"Gurupi\",\"Zoobot\\u00e2nico\",\"J\\u00f3quei\",\"Gurupi\",\"Pi\\u00e7arreira\",null,\"Parque Ideal\",\"Santa Isabel\",\"Gurupi\",\"Itarar\\u00e9\",\"Morro da Esperan\\u00e7a\",\"Santa Maria\",\"Samapi\",\"Morros\",null,\"Morada do Sol\",\"Memorare\",\"Itarar\\u00e9\",\"Ininga\",\"S\\u00e3o Jo\\u00e3o\",\"Mocambinho\",\"Vale Quem Tem\",null,\"Morada do Sol\",\"Parque Brasil\",\"Gurupi\",\"Gurupi\",\"Esplanada\",\"Verde Lar\",\"Tabajaras\",\"Ininga\",\"Centro\",\"Vale Quem Tem\",\"Morros\",\"Esplanada\",null,\"Gurupi\",\"Pedra Mole\",\"Pedra Mi\\u00fada\",null,\"Lourival Parente\",\"Pi\\u00e7arreira\",\"Buenos Aires\",\"Porto do Centro\",\"Santa Isabel\",\"Verde Lar\",\"Gurupi\",\"Ininga\",\"Morada do Sol\",\"Vale Quem Tem\",\"Itarar\\u00e9\",\"Planalto\",\"Ininga\",\"Aroeiras\",\"Parque Piau\\u00ed\",\"Jo\\u00e3o XXIII\",null,\"Centro\",\"Pi\\u00e7arreira\",\"Gurupi\",\"Bela Vista\",\"Horto\",\"Tabajaras\",\"Recanto das Palmeiras\",\"S\\u00e3o Crist\\u00f3v\\u00e3o\",\"Campestre\",\"Morada do Sol\",\"Morros\",null,\"Ininga\",\"Santa Isabel\",\"Morros\",\"Santa Isabel\",\"Santa Rosa\",\"Ininga\",\"Morros\",\"Mocambinho\",\"S\\u00e3o Sebasti\\u00e3o\",\"Pi\\u00e7arreira\",\"Porto do Centro\",\"Vale Quem Tem\",\"S\\u00e3o Pedro\",\"Pi\\u00e7arreira\",\"Santa Isabel\",\"Porto do Centro\",\"Primavera\",\"Lourival Parente\",\"Gurupi\",\"Gurupi\",\"Vale Quem Tem\",\"Noivos\",\"Santa Isabel\",\"Pi\\u00e7arreira\",\"Centro\",\"Vale Quem Tem\",\"Gurupi\",\"Campestre\",null,\"Memorare\",\"Porto do Centro\",\"Morada do Sol\",\"Morros\",\"Ininga\",\"Zoobot\\u00e2nico\",\"S\\u00e3o Pedro\",\"S\\u00e3o Crist\\u00f3v\\u00e3o\",\"Gurupi\",\"Centro\",\"Morros\",\"Jo\\u00e3o XXIII\",\"Novo Horizonte\",\"Santa Isabel\",\"Gurupi\",\"Morros\",\"Santa Cruz\",\"Morros\",\"F\\u00e1tima\",\"Ininga\",\"Pi\\u00e7arreira\",\"Gurupi\",\"F\\u00e1tima\",\"Tabajaras\",\"Porto do Centro\",null,\"S\\u00e3o Jo\\u00e3o\",\"Cidade Jardim\",\"S\\u00e3o Jo\\u00e3o\",\"Gurupi\",\"Vale Quem Tem\",\"Vale Quem Tem\",\"Centro\",\"Morros\",\"Primavera\",null,\"Santa Isabel\",\"Santa Isabel\",\"Santa Isabel\",\"Morada do Sol\",\"Morros\",null,\"Horto\",\"Morada do Sol\",\"Horto\",\"Morada do Sol\",\"Gurupi\",\"Primavera\",\"Parque S\\u00e3o Jo\\u00e3o\",\"Jo\\u00e3o XXIII\",\"Bela Vista\",\"Alto Alegre\",\"Parque Piau\\u00ed\",\"Planalto\",null,\"Centro\",\"Morros\",\"Jo\\u00e3o XXIII\",\"Morros\",\"Gurupi\",\"Ilhotas\",\"Sat\\u00e9lite\",\"Gurupi\",\"Centro\",\"Zoobot\\u00e2nico\",\"Centro\",null,null,\"Buenos Aires\",\"Morada do Sol\",\"Promorar\",\"Morros\",\"Acarape\",\"Santa Isabel\",\"Morros\",\"Samapi\",\"Gurupi\",\"Bela Vista\",\"J\\u00f3quei\",null,\"Comprida\",\"Santa Maria\",\"Aeroporto\",\"Vale Quem Tem\",\"Ininga\",\"Renascen\\u00e7a\",\"S\\u00e3o Crist\\u00f3v\\u00e3o\",\"Centro\",\"Santa Isabel\",\"Pedra Mole\",null,null,\"Gurupi\",\"Gurupi\",\"S\\u00e3o Sebasti\\u00e3o\",\"Tr\\u00eas Andares\",null,\"Angelim\",\"Sat\\u00e9lite\",\"Gurupi\",\"Morada do Sol\",\"Lourival Parente\",\"Mocambinho\",\"Vale Quem Tem\",\"S\\u00e3o Crist\\u00f3v\\u00e3o\",\"Pi\\u00e7arra\",\"Marqu\\u00eas\",\"Pi\\u00e7arreira\",\"Vale Quem Tem\",\"Ininga\",\"Angelim\",\"Buenos Aires\",\"Ininga\",\"Vale Quem Tem\",\"Pi\\u00e7arreira\",\"Campestre\",\"Acarape\",\"Mafu\\u00e1\",\"Ininga\",\"Vale Quem Tem\",\"Pedra Mole\",\"Zoobot\\u00e2nico\",\"Recanto das Palmeiras\",\"Santa Isabel\",\"Centro\",\"Planalto\",\"Centro\",\"Vale Quem Tem\",\"Portal da Alegria\",\"Horto\",\"Morros\",\"Morros\",\"Aeroporto\",\"Tabuleta\",\"Vale Quem Tem\",\"Monte Castelo\",\"Vale Quem Tem\",\"Vale Quem Tem\",\"Monte Castelo\",\"Bela Vista\",\"Vale Quem Tem\",\"Vale Quem Tem\",\"Vermelha\",\"F\\u00e1tima\",\"Morada do Sol\",\"Vale do Gavi\\u00e3o\",\"Zoobot\\u00e2nico\",\"Morros\",\"Monte Castelo\",\"Vale Quem Tem\",\"Aroeiras\",\"Tr\\u00eas Andares\",\"Morada do Sol\",\"Parque Piau\\u00ed\",\"Centro\",\"Gurupi\",\"Planalto\",\"Centro\",\"Aeroporto\",\"Vale Quem Tem\",\"Portal da Alegria\",\"Vale Quem Tem\",\"S\\u00e3o Jo\\u00e3o\",\"Santa Maria\",\"Horto\",\"Vale Quem Tem\",\"Santa Isabel\",\"Sabiazal\",\"Tabuleta\",\"Horto\",\"S\\u00e3o Crist\\u00f3v\\u00e3o\",\"Socopo\",\"Lourival Parente\",\"Vale Quem Tem\",\"Vila Oper\\u00e1ria\",\"Morada Nova\",\"Vale Quem Tem\",\"Bela Vista\",\"Santa Isabel\",\"Saci\",\"Sat\\u00e9lite\",\"Mocambinho\",\"Centro\",\"Aroeiras\",\"S\\u00e3o Sebasti\\u00e3o\",\"Aroeiras\",\"Todos os Santos\",\"Uruguai\",null,\"Uruguai\",\"Morros\",\"Ininga\",\"Santa Isabel\",\"Morros\",\"Vale Quem Tem\",\"S\\u00e3o Jo\\u00e3o\",\"Vale Quem Tem\",\"Itarar\\u00e9\",\"S\\u00e3o Jo\\u00e3o\",\"Ininga\",\"Aeroporto\",\"Sat\\u00e9lite\",\"Memorare\",null,\"Gurupi\",\"Ininga\",\"Ininga\",\"Noivos\",\"Itarar\\u00e9\",\"Aeroporto\",\"Horto\",null,\"Morros\",\"Pi\\u00e7arra\",\"Bela Vista\",\"Samapi\",\"Sat\\u00e9lite\",\"Ininga\",\"Jo\\u00e3o XXIII\",\"Ininga\",\"Porto do Centro\",\"Centro\",\"Porto do Centro\",\"Horto\",\"Itarar\\u00e9\",\"Verdecap\",\"Santa Isabel\",\"Uruguai\",\"Saci\",\"N\\u00facleo Urbano Fazenda Real\",\"Ininga\",\"Porto do Centro\",\"Frei Higino\",null,\"Morros\",\"Samapi\",\"Santa Isabel\",\"Morros\",\"Morros\",\"Pi\\u00e7arreira\",\"Verde Lar\",\"Porto do Centro\",\"Extrema\",\"Verde Lar\",\"Parque Poti\",\"Itarar\\u00e9\",\"Morros\",\"S\\u00e3o Crist\\u00f3v\\u00e3o\",\"Santa Isabel\",\"Sat\\u00e9lite\",\"Porto do Centro\",\"Morros\",\"Mafu\\u00e1\",\"Buenos Aires\",\"Ininga\",\"Vale Quem Tem\",\"Socopo\",\"Centro\",\"S\\u00e3o Sebasti\\u00e3o\",\"Santa Isabel\",\"F\\u00e1tima\",\"Tr\\u00eas Andares\",\"Mocambinho\",\"Vale do Gavi\\u00e3o\",\"Samapi\",\"Santa Isabel\",\"Santa Isabel\",\"S\\u00e3o Crist\\u00f3v\\u00e3o\",\"Morros\",\"Samapi\",\"Morada do Sol\",\"Vale do Gavi\\u00e3o\",\"Gurupi\",\"Horto\",\"Uruguai\",\"Memorare\",\"Aeroporto\",\"Gurupi\",\"Pedra Mole\",\"Catarina\",\"Sat\\u00e9lite\",\"Morada do Sol\",null,\"Ininga\",null,null,\"Vale Quem Tem\",\"Gurupi\",\"Sat\\u00e9lite\",\"Sat\\u00e9lite\",\"Saci\",\"Campestre\",\"Vale do Gavi\\u00e3o\",\"Santa Isabel\",\"Sat\\u00e9lite\",\"F\\u00e1tima\",\"Esplanada\",\"Parque Piau\\u00ed\",\"Ininga\",\"Ininga\",null,\"Gurupi\",\"Samapi\",\"Santa Isabel\",\"Gurupi\",\"Morada Nova\",\"Morros\",\"S\\u00e3o Jo\\u00e3o\",\"Sat\\u00e9lite\",\"Gurupi\",\"Morros\",\"Santa Maria\",\"S\\u00e3o Crist\\u00f3v\\u00e3o\",null,\"Uruguai\",\"Sat\\u00e9lite\",\"Vale Quem Tem\",null,\"Vale Quem Tem\",\"Vale Quem Tem\",\"Saci\",\"Novo Uruguai\",\"Vale do Gavi\\u00e3o\",\"S\\u00e3o Crist\\u00f3v\\u00e3o\",\"Gurupi\",null,\"Mocambinho\",\"F\\u00e1tima\",\"Lourival Parente\",\"Centro\",null,\"Gurupi\",\"Lourival Parente\",\"Saci\",\"Pedra Mole\",\"Santa Maria\",\"Vale Quem Tem\",\"Pedra Mole\",\"Parque Alvorada\",\"Ininga\",\"Morros\",\"Gurupi\",\"Morros\",\"Tabajaras\",\"Ininga\",\"Reis Veloso\",\"F\\u00e1tima\",\"Buenos Aires\",\"Morros\",\"Morros\",\"F\\u00e1tima\",\"Morros\",\"Buenos Aires\",\"Morros\",\"Ininga\",\"F\\u00e1tima\",\"Pi\\u00e7arreira\",\"Morros\",\"Morros\",\"S\\u00e3o Jo\\u00e3o\",\"Morros\",\"S\\u00e3o Jo\\u00e3o\",\"Santa Isabel\",\"Ininga\",\"Morros\",\"Horto\",\"Gurupi\",\"Morros\",\"Pi\\u00e7arreira\",\"Pi\\u00e7arra\",\"Jacinta Andrade\",\"Planalto\",\"Morros\",\"Morros\",\"Vale Quem Tem\",\"Renascen\\u00e7a\",\"Sat\\u00e9lite\",\"Santo Ant\\u00f4nio\",\"Vale Quem Tem\",\"Morros\",\"Esplanada\",\"S\\u00e3o Pedro\",\"Morros\",\"Memorare\",\"Cidade Jardim\",\"Morros\",\"F\\u00e1tima\",\"Pi\\u00e7arreira\",\"Vale Quem Tem\",\"Morros\",\"Morros\",\"Centro\",\"Esplanada\",null,\"Morros\",\"F\\u00e1tima\",null,\"Cidade Jardim\",\"Parque Poti\",\"Renascen\\u00e7a\",\"Santa Isabel\",\"Cidade Jardim\",\"Alto Alegre\",\"Saci\",null,\"Gurupi\",\"Vale Quem Tem\",\"Morros\",\"Saci\",\"Morros\",\"Parque Sul\",\"S\\u00e3o Crist\\u00f3v\\u00e3o\",\"Vale Quem Tem\",\"Itarar\\u00e9\",\"Lourival Parente\",\"Horto\",\"Morros\",\"Morros\",\"J\\u00f3quei\",\"Pedra Mi\\u00fada\",\"Vale do Gavi\\u00e3o\",\"J\\u00f3quei\",\"Morros\",\"S\\u00e3o Crist\\u00f3v\\u00e3o\",\"Aeroporto\",\"Tabajaras\",\"Planalto\",\"Campestre\",\"Campestre\",\"Socopo\",\"Morada do Sol\",\"Morros\",\"Ininga\",\"Santa Lia\",\"Santa Isabel\",\"F\\u00e1tima\",\"Campestre\",\"Centro\",null,\"Tabajaras\",\"Boa Esperan\\u00e7a\",\"Gurupi\",\"Vale Quem Tem\",\"Santa Cruz\",\"Verde Lar\",\"Gurupi\",\"Vermelha\",\"Saci\",\"Mocambinho\",\"Santa Isabel\",\"Primavera\",\"Cristo Rei\",null,\"Primavera\",\"Gurupi\",\"Maca\\u00faba\",\"Memorare\",\"Santo Ant\\u00f4nio\",null,\"Horto\",\"Morros\",\"Morros\",\"Morros\",\"Morros\",\"Gurupi\",\"Saci\",\"Sat\\u00e9lite\",null,\"Cidade Jardim\",\"Santa Isabel\",\"Morros\",\"Centro\",\"Morros\",\"Vermelha\",\"Lourival Parente\",\"Morros\",\"Horto\",\"Itarar\\u00e9\",\"Santa Maria\",\"Santa Isabel\",\"Morada do Sol\",\"Gurupi\",\"S\\u00e3o Jo\\u00e3o\",\"Santa Isabel\",\"Ininga\",\"Ininga\",\"F\\u00e1tima\",\"Morros\",\"Ininga\",\"Santa Cruz\",\"Recanto das Palmeiras\",\"Morros\",\"Morros\",null,\"Novo Horizonte\",\"Itarar\\u00e9\",\"Santa Cruz\",\"Itarar\\u00e9\",\"Morros\",\"S\\u00e3o Crist\\u00f3v\\u00e3o\",\"Sat\\u00e9lite\",\"Vale Quem Tem\",\"S\\u00e3o Crist\\u00f3v\\u00e3o\",\"Campestre\",\"Gurupi\",\"Morros\",\"Vale Quem Tem\",\"Horto\",\"Horto\",\"Morros\",\"Gurupi\",\"Ininga\",\"Ininga\",\"Morada do Sol\",\"Gurupi\",\"Morros\",\"Morros\",\"Vale do Gavi\\u00e3o\",\"Horto\",null,\"Itarar\\u00e9\",\"Buenos Aires\",\"Pi\\u00e7arreira\",null,\"Saci\",\"Saci\",\"J\\u00f3quei\",\"S\\u00e3o Pedro\",\"Aroeiras\",\"Verde Lar\",\"Gurupi\",\"Vale do Gavi\\u00e3o\",\"Morada do Sol\",null,\"Morros\",null,\"Morada do Sol\",\"Santa Isabel\",\"F\\u00e1tima\",\"Ininga\",\"Morros\",\"Morros\",\"Horto\",\"Morros\",\"Morros\",\"Morros\",\"Morros\",\"Morros\",\"Ininga\",\"Pi\\u00e7arreira\",\"S\\u00e3o Jo\\u00e3o\",\"Morros\",\"Vale Quem Tem\",\"Primavera\",\"S\\u00e3o Crist\\u00f3v\\u00e3o\",\"Sat\\u00e9lite\",\"Sat\\u00e9lite\",\"Campestre\",\"Verde Lar\",\"S\\u00e3o Crist\\u00f3v\\u00e3o\",null,\"Noivos\",\"S\\u00e3o Jo\\u00e3o\",\"F\\u00e1tima\",\"Ininga\",\"Ininga\",\"Morros\",\"Matadouro\",\"F\\u00e1tima\",\"F\\u00e1tima\",\"Saci\",null,\"J\\u00f3quei\",\"Saci\",\"Itarar\\u00e9\",\"Horto\",\"Pi\\u00e7arreira\",\"Morros\",\"Gurupi\",\"J\\u00f3quei\",\"Mocambinho\",\"Morros\",\"Santa Isabel\",\"Morros\",null,\"Vale do Gavi\\u00e3o\",\"Ininga\",\"Parque Brasil\",\"J\\u00f3quei\",\"Angelim\",\"Alto Alegre\",\"Parque Brasil\",\"Ininga\",\"Recanto das Palmeiras\",\"Centro\",\"Santo Ant\\u00f4nio\",\"Bela Vista\",\"Gurupi\",\"Pedra Mole\",\"Parque Alvorada\",\"Planalto\",\"Vale Quem Tem\",\"Cabral\",\"Horto\",\"Morros\",\"F\\u00e1tima\",\"Samapi\",\"Pi\\u00e7arreira\",\"S\\u00e3o Jo\\u00e3o\",\"Ininga\",\"Parque Sul\",\"S\\u00e3o Sebasti\\u00e3o\",\"Gurupi\",null,\"Uruguai\",\"Uruguai\",\"Santa Lia\",\"Morada do Sol\",\"Pedra Mole\",\"Campestre\",\"Gurupi\",\"Itarar\\u00e9\",\"Bela Vista\",\"Pedra Mole\",null,\"Santa Maria\",\"Santa Maria\",\"Morros\",\"Parque Brasil\",\"Samapi\",\"F\\u00e1tima\",\"Lourival Parente\",\"Vale do Gavi\\u00e3o\",\"Gurupi\",\"Zoobot\\u00e2nico\",\"Ininga\",\"Gurupi\",\"Samapi\",null,\"S\\u00e3o Crist\\u00f3v\\u00e3o\",\"Ininga\",\"Morada Nova\",\"Samapi\"],\"xaxis\":\"x\",\"yaxis\":\"y\",\"type\":\"histogram\"}],                        {\"template\":{\"data\":{\"bar\":[{\"error_x\":{\"color\":\"#2a3f5f\"},\"error_y\":{\"color\":\"#2a3f5f\"},\"marker\":{\"line\":{\"color\":\"#E5ECF6\",\"width\":0.5},\"pattern\":{\"fillmode\":\"overlay\",\"size\":10,\"solidity\":0.2}},\"type\":\"bar\"}],\"barpolar\":[{\"marker\":{\"line\":{\"color\":\"#E5ECF6\",\"width\":0.5},\"pattern\":{\"fillmode\":\"overlay\",\"size\":10,\"solidity\":0.2}},\"type\":\"barpolar\"}],\"carpet\":[{\"aaxis\":{\"endlinecolor\":\"#2a3f5f\",\"gridcolor\":\"white\",\"linecolor\":\"white\",\"minorgridcolor\":\"white\",\"startlinecolor\":\"#2a3f5f\"},\"baxis\":{\"endlinecolor\":\"#2a3f5f\",\"gridcolor\":\"white\",\"linecolor\":\"white\",\"minorgridcolor\":\"white\",\"startlinecolor\":\"#2a3f5f\"},\"type\":\"carpet\"}],\"choropleth\":[{\"colorbar\":{\"outlinewidth\":0,\"ticks\":\"\"},\"type\":\"choropleth\"}],\"contour\":[{\"colorbar\":{\"outlinewidth\":0,\"ticks\":\"\"},\"colorscale\":[[0.0,\"#0d0887\"],[0.1111111111111111,\"#46039f\"],[0.2222222222222222,\"#7201a8\"],[0.3333333333333333,\"#9c179e\"],[0.4444444444444444,\"#bd3786\"],[0.5555555555555556,\"#d8576b\"],[0.6666666666666666,\"#ed7953\"],[0.7777777777777778,\"#fb9f3a\"],[0.8888888888888888,\"#fdca26\"],[1.0,\"#f0f921\"]],\"type\":\"contour\"}],\"contourcarpet\":[{\"colorbar\":{\"outlinewidth\":0,\"ticks\":\"\"},\"type\":\"contourcarpet\"}],\"heatmap\":[{\"colorbar\":{\"outlinewidth\":0,\"ticks\":\"\"},\"colorscale\":[[0.0,\"#0d0887\"],[0.1111111111111111,\"#46039f\"],[0.2222222222222222,\"#7201a8\"],[0.3333333333333333,\"#9c179e\"],[0.4444444444444444,\"#bd3786\"],[0.5555555555555556,\"#d8576b\"],[0.6666666666666666,\"#ed7953\"],[0.7777777777777778,\"#fb9f3a\"],[0.8888888888888888,\"#fdca26\"],[1.0,\"#f0f921\"]],\"type\":\"heatmap\"}],\"heatmapgl\":[{\"colorbar\":{\"outlinewidth\":0,\"ticks\":\"\"},\"colorscale\":[[0.0,\"#0d0887\"],[0.1111111111111111,\"#46039f\"],[0.2222222222222222,\"#7201a8\"],[0.3333333333333333,\"#9c179e\"],[0.4444444444444444,\"#bd3786\"],[0.5555555555555556,\"#d8576b\"],[0.6666666666666666,\"#ed7953\"],[0.7777777777777778,\"#fb9f3a\"],[0.8888888888888888,\"#fdca26\"],[1.0,\"#f0f921\"]],\"type\":\"heatmapgl\"}],\"histogram\":[{\"marker\":{\"pattern\":{\"fillmode\":\"overlay\",\"size\":10,\"solidity\":0.2}},\"type\":\"histogram\"}],\"histogram2d\":[{\"colorbar\":{\"outlinewidth\":0,\"ticks\":\"\"},\"colorscale\":[[0.0,\"#0d0887\"],[0.1111111111111111,\"#46039f\"],[0.2222222222222222,\"#7201a8\"],[0.3333333333333333,\"#9c179e\"],[0.4444444444444444,\"#bd3786\"],[0.5555555555555556,\"#d8576b\"],[0.6666666666666666,\"#ed7953\"],[0.7777777777777778,\"#fb9f3a\"],[0.8888888888888888,\"#fdca26\"],[1.0,\"#f0f921\"]],\"type\":\"histogram2d\"}],\"histogram2dcontour\":[{\"colorbar\":{\"outlinewidth\":0,\"ticks\":\"\"},\"colorscale\":[[0.0,\"#0d0887\"],[0.1111111111111111,\"#46039f\"],[0.2222222222222222,\"#7201a8\"],[0.3333333333333333,\"#9c179e\"],[0.4444444444444444,\"#bd3786\"],[0.5555555555555556,\"#d8576b\"],[0.6666666666666666,\"#ed7953\"],[0.7777777777777778,\"#fb9f3a\"],[0.8888888888888888,\"#fdca26\"],[1.0,\"#f0f921\"]],\"type\":\"histogram2dcontour\"}],\"mesh3d\":[{\"colorbar\":{\"outlinewidth\":0,\"ticks\":\"\"},\"type\":\"mesh3d\"}],\"parcoords\":[{\"line\":{\"colorbar\":{\"outlinewidth\":0,\"ticks\":\"\"}},\"type\":\"parcoords\"}],\"pie\":[{\"automargin\":true,\"type\":\"pie\"}],\"scatter\":[{\"marker\":{\"colorbar\":{\"outlinewidth\":0,\"ticks\":\"\"}},\"type\":\"scatter\"}],\"scatter3d\":[{\"line\":{\"colorbar\":{\"outlinewidth\":0,\"ticks\":\"\"}},\"marker\":{\"colorbar\":{\"outlinewidth\":0,\"ticks\":\"\"}},\"type\":\"scatter3d\"}],\"scattercarpet\":[{\"marker\":{\"colorbar\":{\"outlinewidth\":0,\"ticks\":\"\"}},\"type\":\"scattercarpet\"}],\"scattergeo\":[{\"marker\":{\"colorbar\":{\"outlinewidth\":0,\"ticks\":\"\"}},\"type\":\"scattergeo\"}],\"scattergl\":[{\"marker\":{\"colorbar\":{\"outlinewidth\":0,\"ticks\":\"\"}},\"type\":\"scattergl\"}],\"scattermapbox\":[{\"marker\":{\"colorbar\":{\"outlinewidth\":0,\"ticks\":\"\"}},\"type\":\"scattermapbox\"}],\"scatterpolar\":[{\"marker\":{\"colorbar\":{\"outlinewidth\":0,\"ticks\":\"\"}},\"type\":\"scatterpolar\"}],\"scatterpolargl\":[{\"marker\":{\"colorbar\":{\"outlinewidth\":0,\"ticks\":\"\"}},\"type\":\"scatterpolargl\"}],\"scatterternary\":[{\"marker\":{\"colorbar\":{\"outlinewidth\":0,\"ticks\":\"\"}},\"type\":\"scatterternary\"}],\"surface\":[{\"colorbar\":{\"outlinewidth\":0,\"ticks\":\"\"},\"colorscale\":[[0.0,\"#0d0887\"],[0.1111111111111111,\"#46039f\"],[0.2222222222222222,\"#7201a8\"],[0.3333333333333333,\"#9c179e\"],[0.4444444444444444,\"#bd3786\"],[0.5555555555555556,\"#d8576b\"],[0.6666666666666666,\"#ed7953\"],[0.7777777777777778,\"#fb9f3a\"],[0.8888888888888888,\"#fdca26\"],[1.0,\"#f0f921\"]],\"type\":\"surface\"}],\"table\":[{\"cells\":{\"fill\":{\"color\":\"#EBF0F8\"},\"line\":{\"color\":\"white\"}},\"header\":{\"fill\":{\"color\":\"#C8D4E3\"},\"line\":{\"color\":\"white\"}},\"type\":\"table\"}]},\"layout\":{\"annotationdefaults\":{\"arrowcolor\":\"#2a3f5f\",\"arrowhead\":0,\"arrowwidth\":1},\"autotypenumbers\":\"strict\",\"coloraxis\":{\"colorbar\":{\"outlinewidth\":0,\"ticks\":\"\"}},\"colorscale\":{\"diverging\":[[0,\"#8e0152\"],[0.1,\"#c51b7d\"],[0.2,\"#de77ae\"],[0.3,\"#f1b6da\"],[0.4,\"#fde0ef\"],[0.5,\"#f7f7f7\"],[0.6,\"#e6f5d0\"],[0.7,\"#b8e186\"],[0.8,\"#7fbc41\"],[0.9,\"#4d9221\"],[1,\"#276419\"]],\"sequential\":[[0.0,\"#0d0887\"],[0.1111111111111111,\"#46039f\"],[0.2222222222222222,\"#7201a8\"],[0.3333333333333333,\"#9c179e\"],[0.4444444444444444,\"#bd3786\"],[0.5555555555555556,\"#d8576b\"],[0.6666666666666666,\"#ed7953\"],[0.7777777777777778,\"#fb9f3a\"],[0.8888888888888888,\"#fdca26\"],[1.0,\"#f0f921\"]],\"sequentialminus\":[[0.0,\"#0d0887\"],[0.1111111111111111,\"#46039f\"],[0.2222222222222222,\"#7201a8\"],[0.3333333333333333,\"#9c179e\"],[0.4444444444444444,\"#bd3786\"],[0.5555555555555556,\"#d8576b\"],[0.6666666666666666,\"#ed7953\"],[0.7777777777777778,\"#fb9f3a\"],[0.8888888888888888,\"#fdca26\"],[1.0,\"#f0f921\"]]},\"colorway\":[\"#636efa\",\"#EF553B\",\"#00cc96\",\"#ab63fa\",\"#FFA15A\",\"#19d3f3\",\"#FF6692\",\"#B6E880\",\"#FF97FF\",\"#FECB52\"],\"font\":{\"color\":\"#2a3f5f\"},\"geo\":{\"bgcolor\":\"white\",\"lakecolor\":\"white\",\"landcolor\":\"#E5ECF6\",\"showlakes\":true,\"showland\":true,\"subunitcolor\":\"white\"},\"hoverlabel\":{\"align\":\"left\"},\"hovermode\":\"closest\",\"mapbox\":{\"style\":\"light\"},\"paper_bgcolor\":\"white\",\"plot_bgcolor\":\"#E5ECF6\",\"polar\":{\"angularaxis\":{\"gridcolor\":\"white\",\"linecolor\":\"white\",\"ticks\":\"\"},\"bgcolor\":\"#E5ECF6\",\"radialaxis\":{\"gridcolor\":\"white\",\"linecolor\":\"white\",\"ticks\":\"\"}},\"scene\":{\"xaxis\":{\"backgroundcolor\":\"#E5ECF6\",\"gridcolor\":\"white\",\"gridwidth\":2,\"linecolor\":\"white\",\"showbackground\":true,\"ticks\":\"\",\"zerolinecolor\":\"white\"},\"yaxis\":{\"backgroundcolor\":\"#E5ECF6\",\"gridcolor\":\"white\",\"gridwidth\":2,\"linecolor\":\"white\",\"showbackground\":true,\"ticks\":\"\",\"zerolinecolor\":\"white\"},\"zaxis\":{\"backgroundcolor\":\"#E5ECF6\",\"gridcolor\":\"white\",\"gridwidth\":2,\"linecolor\":\"white\",\"showbackground\":true,\"ticks\":\"\",\"zerolinecolor\":\"white\"}},\"shapedefaults\":{\"line\":{\"color\":\"#2a3f5f\"}},\"ternary\":{\"aaxis\":{\"gridcolor\":\"white\",\"linecolor\":\"white\",\"ticks\":\"\"},\"baxis\":{\"gridcolor\":\"white\",\"linecolor\":\"white\",\"ticks\":\"\"},\"bgcolor\":\"#E5ECF6\",\"caxis\":{\"gridcolor\":\"white\",\"linecolor\":\"white\",\"ticks\":\"\"}},\"title\":{\"x\":0.05},\"xaxis\":{\"automargin\":true,\"gridcolor\":\"white\",\"linecolor\":\"white\",\"ticks\":\"\",\"title\":{\"standoff\":15},\"zerolinecolor\":\"white\",\"zerolinewidth\":2},\"yaxis\":{\"automargin\":true,\"gridcolor\":\"white\",\"linecolor\":\"white\",\"ticks\":\"\",\"title\":{\"standoff\":15},\"zerolinecolor\":\"white\",\"zerolinewidth\":2}}},\"xaxis\":{\"anchor\":\"y\",\"domain\":[0.0,1.0],\"title\":{\"text\":\"Bairro\"}},\"yaxis\":{\"anchor\":\"x\",\"domain\":[0.0,1.0],\"title\":{\"text\":\"count\"}},\"legend\":{\"title\":{\"text\":\"Categoria\"},\"tracegroupgap\":0},\"margin\":{\"t\":60},\"barmode\":\"relative\"},                        {\"responsive\": true}                    ).then(function(){\n",
              "                            \n",
              "var gd = document.getElementById('d454bf05-c9b5-4f50-b57f-ee9b1815294d');\n",
              "var x = new MutationObserver(function (mutations, observer) {{\n",
              "        var display = window.getComputedStyle(gd).display;\n",
              "        if (!display || display === 'none') {{\n",
              "            console.log([gd, 'removed!']);\n",
              "            Plotly.purge(gd);\n",
              "            observer.disconnect();\n",
              "        }}\n",
              "}});\n",
              "\n",
              "// Listen for the removal of the full notebook cells\n",
              "var notebookContainer = gd.closest('#notebook-container');\n",
              "if (notebookContainer) {{\n",
              "    x.observe(notebookContainer, {childList: true});\n",
              "}}\n",
              "\n",
              "// Listen for the clearing of the current output cell\n",
              "var outputEl = gd.closest('.output');\n",
              "if (outputEl) {{\n",
              "    x.observe(outputEl, {childList: true});\n",
              "}}\n",
              "\n",
              "                        })                };                            </script>        </div>\n",
              "</body>\n",
              "</html>"
            ]
          },
          "metadata": {}
        }
      ],
      "source": [
        "for coluna in df1.columns:\n",
        "    print(coluna.upper())\n",
        "    grafico = px.histogram(df1, x=coluna, color=\"Categoria\");\n",
        "    grafico.show()"
      ]
    },
    {
      "cell_type": "markdown",
      "id": "89fa8faa",
      "metadata": {
        "id": "89fa8faa"
      },
      "source": [
        "### 3.2.1 H. Preços de imóveis  variam de dependendo do bairro\n",
        "**VERDADEIRA**"
      ]
    },
    {
      "cell_type": "code",
      "execution_count": null,
      "id": "a837424a",
      "metadata": {
        "id": "a837424a",
        "outputId": "4afa1c35-c97c-4fec-87ba-09f93130711e",
        "colab": {
          "base_uri": "https://localhost:8080/",
          "height": 687
        }
      },
      "outputs": [
        {
          "output_type": "display_data",
          "data": {
            "text/plain": [
              "<Figure size 1296x648 with 1 Axes>"
            ],
            "image/png": "[encoded data removed]"
          },
          "metadata": {}
        }
      ],
      "source": [
        "fig = plt.subplots(figsize = (18,9))\n",
        "\n",
        "sns.barplot( x='Bairro', y='Preço', data=df1);\n",
        "plt.title(\" Bairros X Preço\");\n",
        "plt.xticks(rotation=90);"
      ]
    },
    {
      "cell_type": "markdown",
      "id": "1193ef0f",
      "metadata": {
        "id": "1193ef0f"
      },
      "source": [
        "### 3.3.2 H. - Quanto mais quartos, mais caro o imóvel?\n",
        "**FALSO** Imóveis de 1 dorm são mais caros que de 2 dorm , imóveis de 4 e 5 dorm menor variação de preço"
      ]
    },
    {
      "cell_type": "code",
      "execution_count": null,
      "id": "a0095cc9",
      "metadata": {
        "id": "a0095cc9",
        "outputId": "64310c7f-122c-4e14-88ed-f6c01a69ce8c",
        "colab": {
          "base_uri": "https://localhost:8080/",
          "height": 508
        }
      },
      "outputs": [
        {
          "output_type": "display_data",
          "data": {
            "text/plain": [
              "<Figure size 1296x576 with 1 Axes>"
            ],
            "image/png": "[encoded data removed]"
          },
          "metadata": {}
        }
      ],
      "source": [
        "fig = plt.subplots(figsize = (18,8))\n",
        "\n",
        "sns.boxplot( x='Quartos', y='Preço', data=df1);\n"
      ]
    },
    {
      "cell_type": "markdown",
      "id": "cdb2e5a1",
      "metadata": {
        "id": "cdb2e5a1"
      },
      "source": [
        "### 3.3.3 H.- Quanto mais banheiros, mais caro o imóvel?\n",
        "**VERDADEIRO**\n"
      ]
    },
    {
      "cell_type": "code",
      "execution_count": null,
      "id": "8beed070",
      "metadata": {
        "id": "8beed070",
        "outputId": "e8a222d1-1448-45e8-b647-e99296d9050e",
        "colab": {
          "base_uri": "https://localhost:8080/",
          "height": 399
        }
      },
      "outputs": [
        {
          "output_type": "display_data",
          "data": {
            "text/plain": [
              "<Figure size 1008x432 with 1 Axes>"
            ],
            "image/png": "[encoded data removed]"
          },
          "metadata": {}
        }
      ],
      "source": [
        "fig = plt.subplots(figsize = (14,6))\n",
        "sns.boxplot( x='Banheiros', y='Preço', data=df1);\n"
      ]
    },
    {
      "cell_type": "markdown",
      "id": "ab1cbb82",
      "metadata": {
        "id": "ab1cbb82"
      },
      "source": [
        "### 3.3.4 H. - Quanto maior a área construída, maior o preço?\n",
        "**FALSO**\n"
      ]
    },
    {
      "cell_type": "code",
      "execution_count": null,
      "id": "54157eca",
      "metadata": {
        "id": "54157eca",
        "outputId": "3020c0cf-82bb-42dd-9ea0-39c67005a88c",
        "colab": {
          "base_uri": "https://localhost:8080/",
          "height": 399
        }
      },
      "outputs": [
        {
          "output_type": "display_data",
          "data": {
            "text/plain": [
              "<Figure size 1008x432 with 1 Axes>"
            ],
            "image/png": "[encoded data removed]"
          },
          "metadata": {}
        }
      ],
      "source": [
        "fig = plt.subplots(figsize = (14,6))\n",
        "sns.regplot( x ='Area construida', y='Preço', data=df1);"
      ]
    },
    {
      "cell_type": "markdown",
      "id": "6b6857cc",
      "metadata": {
        "id": "6b6857cc"
      },
      "source": [
        "### 3.3.4 H. - Casas são mais caras que apartamentos?\n",
        "**VERDADEIRO**\n"
      ]
    },
    {
      "cell_type": "code",
      "execution_count": null,
      "id": "14b6efba",
      "metadata": {
        "id": "14b6efba",
        "outputId": "05c35891-cb68-4311-d00b-1f99405cc62c",
        "colab": {
          "base_uri": "https://localhost:8080/"
        }
      },
      "outputs": [
        {
          "output_type": "display_data",
          "data": {
            "text/plain": [
              "<Figure size 1008x432 with 1 Axes>"
            ],
            "image/png": "[encoded data removed]"
          },
          "metadata": {}
        }
      ],
      "source": [
        "fig = plt.subplots(figsize = (14,6))\n",
        "\n",
        "sns.boxplot( x='Categoria', y='Preço', data=df1 );"
      ]
    },
    {
      "cell_type": "markdown",
      "id": "469a9cd1",
      "metadata": {
        "id": "469a9cd1"
      },
      "source": [
        "# DÚVIDAS, GALERA:\n",
        "\n",
        "## SERÁ QUE É NECESSÁRIO FAZER A VALIDAÇÂO ESTATÌSTICA????\n",
        "\n",
        "## A PREPARAÇÃO (transofrmação) ANTES OU DEPOIS DA SEPARACAO ? para não ´passar` info \n",
        "\n",
        "# se depois separar em treino, teste e validation antes "
      ]
    },
    {
      "cell_type": "markdown",
      "id": "2ab9a08e",
      "metadata": {
        "id": "2ab9a08e"
      },
      "source": [
        "# 4. DATA PREPARATION"
      ]
    },
    {
      "cell_type": "code",
      "execution_count": null,
      "id": "68a0d913",
      "metadata": {
        "id": "68a0d913"
      },
      "outputs": [],
      "source": [
        "df2 = df1.copy()"
      ]
    },
    {
      "cell_type": "markdown",
      "id": "ea2b301d",
      "metadata": {
        "id": "ea2b301d"
      },
      "source": [
        "## 4.1 Normalização"
      ]
    },
    {
      "cell_type": "code",
      "execution_count": null,
      "id": "874cbaa1",
      "metadata": {
        "id": "874cbaa1"
      },
      "outputs": [],
      "source": []
    },
    {
      "cell_type": "markdown",
      "id": "522ecebd",
      "metadata": {
        "id": "522ecebd"
      },
      "source": [
        "## 4.2 Rescalling"
      ]
    },
    {
      "cell_type": "code",
      "execution_count": null,
      "id": "2b9a7d35",
      "metadata": {
        "id": "2b9a7d35"
      },
      "outputs": [],
      "source": []
    },
    {
      "cell_type": "markdown",
      "id": "c9f970e4",
      "metadata": {
        "id": "c9f970e4"
      },
      "source": [
        "## 4.3 Transformation\n"
      ]
    },
    {
      "cell_type": "markdown",
      "id": "a142abdd",
      "metadata": {
        "id": "a142abdd"
      },
      "source": [
        "### 4.3.1 Encoding"
      ]
    },
    {
      "cell_type": "code",
      "execution_count": 72,
      "id": "99baac17",
      "metadata": {
        "id": "99baac17",
        "outputId": "2a4b3bd4-b703-43dd-9427-6f75e59808de",
        "colab": {
          "base_uri": "https://localhost:8080/",
          "height": 165
        }
      },
      "outputs": [
        {
          "output_type": "error",
          "ename": "NameError",
          "evalue": "ignored",
          "traceback": [
            "\u001b[0;31m---------------------------------------------------------------------------\u001b[0m",
            "\u001b[0;31mNameError\u001b[0m                                 Traceback (most recent call last)",
            "\u001b[0;32m<ipython-input-72-2f294114292f>\u001b[0m in \u001b[0;36m<module>\u001b[0;34m\u001b[0m\n\u001b[0;32m----> 1\u001b[0;31m \u001b[0mdf2\u001b[0m\u001b[0;34m.\u001b[0m\u001b[0mhead\u001b[0m\u001b[0;34m(\u001b[0m\u001b[0;36m2\u001b[0m\u001b[0;34m)\u001b[0m\u001b[0;34m\u001b[0m\u001b[0;34m\u001b[0m\u001b[0m\n\u001b[0m",
            "\u001b[0;31mNameError\u001b[0m: name 'df2' is not defined"
          ]
        }
      ],
      "source": [
        "df2.head(2)"
      ]
    },
    {
      "cell_type": "code",
      "execution_count": 73,
      "id": "81a929c4",
      "metadata": {
        "id": "81a929c4",
        "colab": {
          "base_uri": "https://localhost:8080/",
          "height": 235
        },
        "outputId": "a42c524a-366b-439c-f9f7-d82da2dcc332"
      },
      "outputs": [
        {
          "output_type": "error",
          "ename": "NameError",
          "evalue": "ignored",
          "traceback": [
            "\u001b[0;31m---------------------------------------------------------------------------\u001b[0m",
            "\u001b[0;31mNameError\u001b[0m                                 Traceback (most recent call last)",
            "\u001b[0;32m<ipython-input-73-a8d7bc9a588e>\u001b[0m in \u001b[0;36m<module>\u001b[0;34m\u001b[0m\n\u001b[1;32m      1\u001b[0m \u001b[0;31m# BAirro e Categoria - Label Encoding\u001b[0m\u001b[0;34m\u001b[0m\u001b[0;34m\u001b[0m\u001b[0;34m\u001b[0m\u001b[0m\n\u001b[1;32m      2\u001b[0m \u001b[0mle\u001b[0m \u001b[0;34m=\u001b[0m \u001b[0mLabelEncoder\u001b[0m\u001b[0;34m(\u001b[0m\u001b[0;34m)\u001b[0m\u001b[0;34m\u001b[0m\u001b[0;34m\u001b[0m\u001b[0m\n\u001b[0;32m----> 3\u001b[0;31m \u001b[0mdf2\u001b[0m\u001b[0;34m[\u001b[0m\u001b[0;34m'Bairro'\u001b[0m\u001b[0;34m]\u001b[0m \u001b[0;34m=\u001b[0m \u001b[0mle\u001b[0m\u001b[0;34m.\u001b[0m\u001b[0mfit_transform\u001b[0m\u001b[0;34m(\u001b[0m \u001b[0mdf2\u001b[0m\u001b[0;34m[\u001b[0m\u001b[0;34m'Bairro'\u001b[0m\u001b[0;34m]\u001b[0m \u001b[0;34m)\u001b[0m\u001b[0;34m\u001b[0m\u001b[0;34m\u001b[0m\u001b[0m\n\u001b[0m\u001b[1;32m      4\u001b[0m \u001b[0mpickle\u001b[0m\u001b[0;34m.\u001b[0m\u001b[0mdump\u001b[0m\u001b[0;34m(\u001b[0m \u001b[0mle\u001b[0m\u001b[0;34m,\u001b[0m \u001b[0mopen\u001b[0m\u001b[0;34m(\u001b[0m \u001b[0;34m'parametros/bairro_scaler.pkl'\u001b[0m\u001b[0;34m,\u001b[0m \u001b[0;34m'wb'\u001b[0m\u001b[0;34m)\u001b[0m \u001b[0;34m)\u001b[0m\u001b[0;34m\u001b[0m\u001b[0;34m\u001b[0m\u001b[0m\n\u001b[1;32m      5\u001b[0m \u001b[0;34m\u001b[0m\u001b[0m\n",
            "\u001b[0;31mNameError\u001b[0m: name 'df2' is not defined"
          ]
        }
      ],
      "source": [
        "# BAirro e Categoria - Label Encoding\n",
        "le = LabelEncoder()\n",
        "df2['Bairro'] = le.fit_transform( df2['Bairro'] )\n",
        "pickle.dump( le, open( 'parametros/bairro_scaler.pkl', 'wb') )\n",
        "                                      \n",
        "df2['Categoria'] = le.fit_transform(df2.Categoria)   \n",
        "pickle.dump( le, open( 'parametros/categoria_scaler.pkl', 'wb') )\n",
        "                                     \n"
      ]
    },
    {
      "cell_type": "markdown",
      "id": "68946aaa",
      "metadata": {
        "id": "68946aaa"
      },
      "source": [
        "### 4.3.2 Response Variable Transformation"
      ]
    },
    {
      "cell_type": "code",
      "execution_count": null,
      "id": "3004fe74",
      "metadata": {
        "id": "3004fe74"
      },
      "outputs": [],
      "source": [
        "#transf. logarítma 0 grande variação (range) de preço\n",
        "df2['Preço'] = np.log1p( df2.Preço)"
      ]
    },
    {
      "cell_type": "code",
      "execution_count": null,
      "id": "fa516524",
      "metadata": {
        "id": "fa516524"
      },
      "outputs": [],
      "source": [
        "df2.sample(1)"
      ]
    },
    {
      "cell_type": "markdown",
      "id": "8b223b59",
      "metadata": {
        "id": "8b223b59"
      },
      "source": [
        "# 5. FEATURE SELECTION"
      ]
    },
    {
      "cell_type": "code",
      "execution_count": null,
      "id": "f0fdcfd9",
      "metadata": {
        "id": "f0fdcfd9"
      },
      "outputs": [],
      "source": [
        "df3 = df2.copy()"
      ]
    },
    {
      "cell_type": "code",
      "execution_count": null,
      "id": "451abb8c",
      "metadata": {
        "id": "451abb8c"
      },
      "outputs": [],
      "source": []
    },
    {
      "cell_type": "code",
      "execution_count": null,
      "id": "f990c05f",
      "metadata": {
        "id": "f990c05f"
      },
      "outputs": [],
      "source": [
        "# TODO\n",
        "#Peguei todas só para testar, mas vale analisar melhor\n"
      ]
    },
    {
      "cell_type": "markdown",
      "id": "9e78a9bb",
      "metadata": {
        "id": "9e78a9bb"
      },
      "source": [
        "## 5.1. Split dataframe into training and test dataset"
      ]
    },
    {
      "cell_type": "code",
      "execution_count": null,
      "id": "c50c3556",
      "metadata": {
        "id": "c50c3556"
      },
      "outputs": [],
      "source": [
        "X = df3.drop(\"Preço\", axis=1)\n",
        "y = df3.Preço"
      ]
    },
    {
      "cell_type": "code",
      "execution_count": null,
      "id": "1d449666",
      "metadata": {
        "id": "1d449666"
      },
      "outputs": [],
      "source": [
        "# dividindo em treino, teste e validation\n",
        "X_train, X_test, y_train, y_test = train_test_split(X, y, test_size=0.2, random_state=1)\n",
        "\n",
        "X_train, X_val, y_train, y_val = train_test_split(X_train, y_train, test_size=0.25, random_state=1) # 0.25 x 0.8 = 0.2"
      ]
    },
    {
      "cell_type": "markdown",
      "id": "752fa400",
      "metadata": {
        "id": "752fa400"
      },
      "source": [
        "## 5.2 Feature Importance\n"
      ]
    },
    {
      "cell_type": "code",
      "execution_count": null,
      "id": "bbc1c9be",
      "metadata": {
        "id": "bbc1c9be"
      },
      "outputs": [],
      "source": [
        "visualizer = Rank1D(algorithm='shapiro')\n",
        "\n",
        "visualizer.fit(X_train, y_train)           \n",
        "visualizer.transform(X_train)        \n",
        "visualizer.show();"
      ]
    },
    {
      "cell_type": "markdown",
      "id": "9e0d666c",
      "metadata": {
        "id": "9e0d666c"
      },
      "source": [
        "### 5.3 Boruta as Feature Selector"
      ]
    },
    {
      "cell_type": "code",
      "execution_count": null,
      "id": "836457cb",
      "metadata": {
        "id": "836457cb"
      },
      "outputs": [],
      "source": [
        "# TODO - ???\n"
      ]
    },
    {
      "cell_type": "markdown",
      "id": "828022c8",
      "metadata": {
        "id": "828022c8"
      },
      "source": [
        "### 5.4 Final Feature Selection"
      ]
    },
    {
      "cell_type": "code",
      "execution_count": null,
      "id": "984a4568",
      "metadata": {
        "id": "984a4568"
      },
      "outputs": [],
      "source": [
        "# TODO"
      ]
    },
    {
      "cell_type": "markdown",
      "id": "58991696",
      "metadata": {
        "id": "58991696"
      },
      "source": [
        "# 6. MACHINE LEARNING MODELLIG"
      ]
    },
    {
      "cell_type": "code",
      "execution_count": null,
      "id": "5a3a4113",
      "metadata": {
        "id": "5a3a4113"
      },
      "outputs": [],
      "source": []
    },
    {
      "cell_type": "code",
      "execution_count": null,
      "id": "f7fa9fff",
      "metadata": {
        "id": "f7fa9fff"
      },
      "outputs": [],
      "source": []
    }
  ],
  "metadata": {
    "kernelspec": {
      "display_name": "Python 3 (ipykernel)",
      "language": "python",
      "name": "python3"
    },
    "language_info": {
      "codemirror_mode": {
        "name": "ipython",
        "version": 3
      },
      "file_extension": ".py",
      "mimetype": "text/x-python",
      "name": "python",
      "nbconvert_exporter": "python",
      "pygments_lexer": "ipython3",
      "version": "3.9.12"
    },
    "toc": {
      "base_numbering": 1,
      "nav_menu": {},
      "number_sections": true,
      "sideBar": true,
      "skip_h1_title": false,
      "title_cell": "Table of Contents",
      "title_sidebar": "Contents",
      "toc_cell": false,
      "toc_position": {},
      "toc_section_display": true,
      "toc_window_display": false
    },
    "colab": {
      "provenance": [],
      "collapsed_sections": [
        "11d1da26",
        "88b2b5e7",
        "b20631d3",
        "4544ea75",
        "69ac7a83",
        "653c77c5",
        "b79f32d3",
        "7e78b2fd",
        "7ab146a0",
        "ca043d78",
        "f54003d6",
        "89fa8faa",
        "1193ef0f",
        "cdb2e5a1",
        "ab1cbb82",
        "6b6857cc",
        "ea2b301d",
        "522ecebd",
        "68946aaa",
        "9e78a9bb",
        "752fa400",
        "9e0d666c",
        "828022c8"
      ]
    }
  },
  "nbformat": 4,
  "nbformat_minor": 5
}